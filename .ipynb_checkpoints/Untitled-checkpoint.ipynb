{
 "cells": [
  {
   "cell_type": "code",
   "execution_count": 36,
   "id": "0dd6974a-79aa-402f-b474-1c8faa46fe44",
   "metadata": {
    "tags": []
   },
   "outputs": [],
   "source": [
    "import json\n",
    "import math\n",
    "import networkx as nx\n",
    "import pandas as pd\n",
    "import altair as alt\n",
    "import numpy as np\n",
    "from scipy import stats\n",
    "from scipy.optimize import curve_fit\n",
    "import distfit\n",
    "\n",
    "from generator_v2 import Generator"
   ]
  },
  {
   "cell_type": "code",
   "execution_count": 27,
   "id": "24e2f49c-26d3-492e-b1d9-6594e8c2d340",
   "metadata": {
    "tags": []
   },
   "outputs": [
    {
     "data": {
      "text/plain": [
       "DataTransformerRegistry.enable('vegafusion')"
      ]
     },
     "execution_count": 27,
     "metadata": {},
     "output_type": "execute_result"
    }
   ],
   "source": [
    "alt.data_transformers.enable(\"vegafusion\")"
   ]
  },
  {
   "cell_type": "code",
   "execution_count": 28,
   "id": "2bb64ce8-04a7-4fde-8248-5939dbdeb088",
   "metadata": {
    "tags": []
   },
   "outputs": [],
   "source": [
    "COLOR = \"#99d8c9\""
   ]
  },
  {
   "cell_type": "code",
   "execution_count": 29,
   "id": "5a227afe-303a-43da-8583-e377e99a6efe",
   "metadata": {
    "tags": []
   },
   "outputs": [
    {
     "data": {
      "text/plain": [
       "'5.1.2'"
      ]
     },
     "execution_count": 29,
     "metadata": {},
     "output_type": "execute_result"
    }
   ],
   "source": [
    "alt.__version__"
   ]
  },
  {
   "cell_type": "code",
   "execution_count": 30,
   "id": "600173db-fff0-4485-8e98-d81cf3eb39c3",
   "metadata": {
    "tags": []
   },
   "outputs": [],
   "source": [
    "# Essayer avec 1000 pour voir max(n1, n2) / n1 + n2\"\n",
    "N = 1000\n",
    "# N_edges = N // 2\n",
    "# Tester plusierus valeurs d'aretes (50, 100, 200), pour la fraction des hyperaretes\n",
    "N_edges = 200\n",
    "\n",
    "\n",
    "N_coms = 2\n",
    "sampling_strat = \"weighted\"\n",
    "# sampling_strat = \"max\"\n",
    "p = 20/N\n",
    "q = 3/N"
   ]
  },
  {
   "cell_type": "code",
   "execution_count": 31,
   "id": "f04fce51-9ee6-405f-818f-4abdc6587d18",
   "metadata": {},
   "outputs": [],
   "source": [
    "community_array = [0 for x in range(N//2)]  + [1 for x in range(N//2)]"
   ]
  },
  {
   "cell_type": "code",
   "execution_count": 33,
   "id": "bf7c6f67-9fc3-4668-895a-e1ee613a7815",
   "metadata": {},
   "outputs": [
    {
     "data": {
      "text/plain": [
       "1000"
      ]
     },
     "execution_count": 33,
     "metadata": {},
     "output_type": "execute_result"
    }
   ],
   "source": [
    "len(community_array)"
   ]
  },
  {
   "cell_type": "markdown",
   "id": "2e32c6be-829f-43cd-9872-3867cbcdf34e",
   "metadata": {
    "tags": []
   },
   "source": [
    "# Node Degree"
   ]
  },
  {
   "cell_type": "code",
   "execution_count": 7,
   "id": "1bfb08a4-1f5c-4934-b7ee-67960ffdb94a",
   "metadata": {},
   "outputs": [],
   "source": [
    "gen = Generator(N, N_edges, N_coms, p, q, community_array, sampling_strat)\n",
    "gen.run()"
   ]
  },
  {
   "cell_type": "code",
   "execution_count": 8,
   "id": "9c72b608-3eb3-4412-8a8e-f87f87f69348",
   "metadata": {},
   "outputs": [],
   "source": [
    "degrees = dict(gen.degrees()).values()"
   ]
  },
  {
   "cell_type": "code",
   "execution_count": 9,
   "id": "00fd2e26-6059-4dc8-97ae-b8798aac5989",
   "metadata": {
    "tags": []
   },
   "outputs": [],
   "source": [
    "degrees_df = pd.DataFrame(degrees, columns=[\"degree\"])"
   ]
  },
  {
   "cell_type": "code",
   "execution_count": 10,
   "id": "9f2fbdbd-4198-4210-aa6c-5761f2125d82",
   "metadata": {
    "tags": []
   },
   "outputs": [
    {
     "data": {
      "text/html": [
       "<div>\n",
       "<style scoped>\n",
       "    .dataframe tbody tr th:only-of-type {\n",
       "        vertical-align: middle;\n",
       "    }\n",
       "\n",
       "    .dataframe tbody tr th {\n",
       "        vertical-align: top;\n",
       "    }\n",
       "\n",
       "    .dataframe thead th {\n",
       "        text-align: right;\n",
       "    }\n",
       "</style>\n",
       "<table border=\"1\" class=\"dataframe\">\n",
       "  <thead>\n",
       "    <tr style=\"text-align: right;\">\n",
       "      <th></th>\n",
       "      <th>degree</th>\n",
       "    </tr>\n",
       "  </thead>\n",
       "  <tbody>\n",
       "    <tr>\n",
       "      <th>0</th>\n",
       "      <td>1</td>\n",
       "    </tr>\n",
       "    <tr>\n",
       "      <th>1</th>\n",
       "      <td>3</td>\n",
       "    </tr>\n",
       "    <tr>\n",
       "      <th>2</th>\n",
       "      <td>2</td>\n",
       "    </tr>\n",
       "    <tr>\n",
       "      <th>3</th>\n",
       "      <td>1</td>\n",
       "    </tr>\n",
       "    <tr>\n",
       "      <th>4</th>\n",
       "      <td>4</td>\n",
       "    </tr>\n",
       "    <tr>\n",
       "      <th>...</th>\n",
       "      <td>...</td>\n",
       "    </tr>\n",
       "    <tr>\n",
       "      <th>995</th>\n",
       "      <td>3</td>\n",
       "    </tr>\n",
       "    <tr>\n",
       "      <th>996</th>\n",
       "      <td>2</td>\n",
       "    </tr>\n",
       "    <tr>\n",
       "      <th>997</th>\n",
       "      <td>1</td>\n",
       "    </tr>\n",
       "    <tr>\n",
       "      <th>998</th>\n",
       "      <td>3</td>\n",
       "    </tr>\n",
       "    <tr>\n",
       "      <th>999</th>\n",
       "      <td>2</td>\n",
       "    </tr>\n",
       "  </tbody>\n",
       "</table>\n",
       "<p>1000 rows × 1 columns</p>\n",
       "</div>"
      ],
      "text/plain": [
       "     degree\n",
       "0         1\n",
       "1         3\n",
       "2         2\n",
       "3         1\n",
       "4         4\n",
       "..      ...\n",
       "995       3\n",
       "996       2\n",
       "997       1\n",
       "998       3\n",
       "999       2\n",
       "\n",
       "[1000 rows x 1 columns]"
      ]
     },
     "execution_count": 10,
     "metadata": {},
     "output_type": "execute_result"
    }
   ],
   "source": [
    "degrees_df"
   ]
  },
  {
   "cell_type": "code",
   "execution_count": 11,
   "id": "2c971ba9-5c0c-47f8-81c3-dca69a8240af",
   "metadata": {},
   "outputs": [
    {
     "ename": "ImportError",
     "evalue": "The \"vegafusion\" data transformer and chart.transformed_data feature requires\nversion 1.4.0 or greater of the 'vegafusion-python-embed' and 'vegafusion' packages.\nThese can be installed with pip using:\n    pip install \"vegafusion[embed]>=1.4.0\"\nOr with conda using:\n    conda install -c conda-forge \"vegafusion-python-embed>=1.4.0\" \"vegafusion>=1.4.0\"\n\nImportError: The vegafusion package must be version 1.4.0 or greater. Found version 1.1.3",
     "output_type": "error",
     "traceback": [
      "\u001b[0;31m---------------------------------------------------------------------------\u001b[0m",
      "\u001b[0;31mImportError\u001b[0m                               Traceback (most recent call last)",
      "\u001b[0;32m~/anaconda3/lib/python3.9/site-packages/altair/utils/_importers.py\u001b[0m in \u001b[0;36mimport_vegafusion\u001b[0;34m()\u001b[0m\n\u001b[1;32m     10\u001b[0m         \u001b[0;32mif\u001b[0m \u001b[0mVersion\u001b[0m\u001b[0;34m(\u001b[0m\u001b[0mversion\u001b[0m\u001b[0;34m)\u001b[0m \u001b[0;34m<\u001b[0m \u001b[0mVersion\u001b[0m\u001b[0;34m(\u001b[0m\u001b[0mmin_version\u001b[0m\u001b[0;34m)\u001b[0m\u001b[0;34m:\u001b[0m\u001b[0;34m\u001b[0m\u001b[0;34m\u001b[0m\u001b[0m\n\u001b[0;32m---> 11\u001b[0;31m             raise ImportError(\n\u001b[0m\u001b[1;32m     12\u001b[0m                 \u001b[0;34mf\"The vegafusion package must be version {min_version} or greater. \"\u001b[0m\u001b[0;34m\u001b[0m\u001b[0;34m\u001b[0m\u001b[0m\n",
      "\u001b[0;31mImportError\u001b[0m: The vegafusion package must be version 1.4.0 or greater. Found version 1.1.3",
      "\nThe above exception was the direct cause of the following exception:\n",
      "\u001b[0;31mImportError\u001b[0m                               Traceback (most recent call last)",
      "\u001b[0;32m~/anaconda3/lib/python3.9/site-packages/IPython/core/formatters.py\u001b[0m in \u001b[0;36m__call__\u001b[0;34m(self, obj, include, exclude)\u001b[0m\n\u001b[1;32m    968\u001b[0m \u001b[0;34m\u001b[0m\u001b[0m\n\u001b[1;32m    969\u001b[0m             \u001b[0;32mif\u001b[0m \u001b[0mmethod\u001b[0m \u001b[0;32mis\u001b[0m \u001b[0;32mnot\u001b[0m \u001b[0;32mNone\u001b[0m\u001b[0;34m:\u001b[0m\u001b[0;34m\u001b[0m\u001b[0;34m\u001b[0m\u001b[0m\n\u001b[0;32m--> 970\u001b[0;31m                 \u001b[0;32mreturn\u001b[0m \u001b[0mmethod\u001b[0m\u001b[0;34m(\u001b[0m\u001b[0minclude\u001b[0m\u001b[0;34m=\u001b[0m\u001b[0minclude\u001b[0m\u001b[0;34m,\u001b[0m \u001b[0mexclude\u001b[0m\u001b[0;34m=\u001b[0m\u001b[0mexclude\u001b[0m\u001b[0;34m)\u001b[0m\u001b[0;34m\u001b[0m\u001b[0;34m\u001b[0m\u001b[0m\n\u001b[0m\u001b[1;32m    971\u001b[0m             \u001b[0;32mreturn\u001b[0m \u001b[0;32mNone\u001b[0m\u001b[0;34m\u001b[0m\u001b[0;34m\u001b[0m\u001b[0m\n\u001b[1;32m    972\u001b[0m         \u001b[0;32melse\u001b[0m\u001b[0;34m:\u001b[0m\u001b[0;34m\u001b[0m\u001b[0;34m\u001b[0m\u001b[0m\n",
      "\u001b[0;32m~/anaconda3/lib/python3.9/site-packages/altair/vegalite/v5/api.py\u001b[0m in \u001b[0;36m_repr_mimebundle_\u001b[0;34m(self, include, exclude)\u001b[0m\n\u001b[1;32m   2313\u001b[0m             \u001b[0;32mreturn\u001b[0m \u001b[0;34m{\u001b[0m\u001b[0;34m}\u001b[0m\u001b[0;34m\u001b[0m\u001b[0;34m\u001b[0m\u001b[0m\n\u001b[1;32m   2314\u001b[0m         \u001b[0;32melse\u001b[0m\u001b[0;34m:\u001b[0m\u001b[0;34m\u001b[0m\u001b[0;34m\u001b[0m\u001b[0m\n\u001b[0;32m-> 2315\u001b[0;31m             \u001b[0;32mreturn\u001b[0m \u001b[0mrenderers\u001b[0m\u001b[0;34m.\u001b[0m\u001b[0mget\u001b[0m\u001b[0;34m(\u001b[0m\u001b[0;34m)\u001b[0m\u001b[0;34m(\u001b[0m\u001b[0mdct\u001b[0m\u001b[0;34m)\u001b[0m\u001b[0;34m\u001b[0m\u001b[0;34m\u001b[0m\u001b[0m\n\u001b[0m\u001b[1;32m   2316\u001b[0m \u001b[0;34m\u001b[0m\u001b[0m\n\u001b[1;32m   2317\u001b[0m     \u001b[0;32mdef\u001b[0m \u001b[0mdisplay\u001b[0m\u001b[0;34m(\u001b[0m\u001b[0mself\u001b[0m\u001b[0;34m,\u001b[0m \u001b[0mrenderer\u001b[0m\u001b[0;34m=\u001b[0m\u001b[0mUndefined\u001b[0m\u001b[0;34m,\u001b[0m \u001b[0mtheme\u001b[0m\u001b[0;34m=\u001b[0m\u001b[0mUndefined\u001b[0m\u001b[0;34m,\u001b[0m \u001b[0mactions\u001b[0m\u001b[0;34m=\u001b[0m\u001b[0mUndefined\u001b[0m\u001b[0;34m,\u001b[0m \u001b[0;34m**\u001b[0m\u001b[0mkwargs\u001b[0m\u001b[0;34m)\u001b[0m\u001b[0;34m:\u001b[0m\u001b[0;34m\u001b[0m\u001b[0;34m\u001b[0m\u001b[0m\n",
      "\u001b[0;32m~/anaconda3/lib/python3.9/site-packages/altair/utils/display.py\u001b[0m in \u001b[0;36m__call__\u001b[0;34m(self, spec, **metadata)\u001b[0m\n\u001b[1;32m    211\u001b[0m         \u001b[0mkwargs\u001b[0m \u001b[0;34m=\u001b[0m \u001b[0mself\u001b[0m\u001b[0;34m.\u001b[0m\u001b[0mkwargs\u001b[0m\u001b[0;34m.\u001b[0m\u001b[0mcopy\u001b[0m\u001b[0;34m(\u001b[0m\u001b[0;34m)\u001b[0m\u001b[0;34m\u001b[0m\u001b[0;34m\u001b[0m\u001b[0m\n\u001b[1;32m    212\u001b[0m         \u001b[0mkwargs\u001b[0m\u001b[0;34m.\u001b[0m\u001b[0mupdate\u001b[0m\u001b[0;34m(\u001b[0m\u001b[0mmetadata\u001b[0m\u001b[0;34m)\u001b[0m\u001b[0;34m\u001b[0m\u001b[0;34m\u001b[0m\u001b[0m\n\u001b[0;32m--> 213\u001b[0;31m         return spec_to_mimebundle(\n\u001b[0m\u001b[1;32m    214\u001b[0m             \u001b[0mspec\u001b[0m\u001b[0;34m,\u001b[0m \u001b[0mformat\u001b[0m\u001b[0;34m=\u001b[0m\u001b[0;34m\"html\"\u001b[0m\u001b[0;34m,\u001b[0m \u001b[0moutput_div\u001b[0m\u001b[0;34m=\u001b[0m\u001b[0mself\u001b[0m\u001b[0;34m.\u001b[0m\u001b[0moutput_div\u001b[0m\u001b[0;34m,\u001b[0m \u001b[0;34m**\u001b[0m\u001b[0mkwargs\u001b[0m\u001b[0;34m\u001b[0m\u001b[0;34m\u001b[0m\u001b[0m\n\u001b[1;32m    215\u001b[0m         )\n",
      "\u001b[0;32m~/anaconda3/lib/python3.9/site-packages/altair/utils/mimebundle.py\u001b[0m in \u001b[0;36mspec_to_mimebundle\u001b[0;34m(spec, format, mode, vega_version, vegaembed_version, vegalite_version, engine, **kwargs)\u001b[0m\n\u001b[1;32m     54\u001b[0m \u001b[0;34m\u001b[0m\u001b[0m\n\u001b[1;32m     55\u001b[0m     \u001b[0;32mif\u001b[0m \u001b[0musing_vegafusion\u001b[0m\u001b[0;34m(\u001b[0m\u001b[0;34m)\u001b[0m\u001b[0;34m:\u001b[0m\u001b[0;34m\u001b[0m\u001b[0;34m\u001b[0m\u001b[0m\n\u001b[0;32m---> 56\u001b[0;31m         \u001b[0mspec\u001b[0m \u001b[0;34m=\u001b[0m \u001b[0mcompile_with_vegafusion\u001b[0m\u001b[0;34m(\u001b[0m\u001b[0mspec\u001b[0m\u001b[0;34m)\u001b[0m\u001b[0;34m\u001b[0m\u001b[0;34m\u001b[0m\u001b[0m\n\u001b[0m\u001b[1;32m     57\u001b[0m         \u001b[0mmode\u001b[0m \u001b[0;34m=\u001b[0m \u001b[0;34m\"vega\"\u001b[0m\u001b[0;34m\u001b[0m\u001b[0;34m\u001b[0m\u001b[0m\n\u001b[1;32m     58\u001b[0m \u001b[0;34m\u001b[0m\u001b[0m\n",
      "\u001b[0;32m~/anaconda3/lib/python3.9/site-packages/altair/utils/_vegafusion_data.py\u001b[0m in \u001b[0;36mcompile_with_vegafusion\u001b[0;34m(vegalite_spec)\u001b[0m\n\u001b[1;32m    147\u001b[0m     \u001b[0;32mfrom\u001b[0m \u001b[0maltair\u001b[0m \u001b[0;32mimport\u001b[0m \u001b[0mvegalite_compilers\u001b[0m\u001b[0;34m,\u001b[0m \u001b[0mdata_transformers\u001b[0m\u001b[0;34m\u001b[0m\u001b[0;34m\u001b[0m\u001b[0m\n\u001b[1;32m    148\u001b[0m \u001b[0;34m\u001b[0m\u001b[0m\n\u001b[0;32m--> 149\u001b[0;31m     \u001b[0mvf\u001b[0m \u001b[0;34m=\u001b[0m \u001b[0mimport_vegafusion\u001b[0m\u001b[0;34m(\u001b[0m\u001b[0;34m)\u001b[0m\u001b[0;34m\u001b[0m\u001b[0;34m\u001b[0m\u001b[0m\n\u001b[0m\u001b[1;32m    150\u001b[0m \u001b[0;34m\u001b[0m\u001b[0m\n\u001b[1;32m    151\u001b[0m     \u001b[0;31m# Compile Vega-Lite spec to Vega\u001b[0m\u001b[0;34m\u001b[0m\u001b[0;34m\u001b[0m\u001b[0m\n",
      "\u001b[0;32m~/anaconda3/lib/python3.9/site-packages/altair/utils/_importers.py\u001b[0m in \u001b[0;36mimport_vegafusion\u001b[0;34m()\u001b[0m\n\u001b[1;32m     17\u001b[0m         \u001b[0;32mreturn\u001b[0m \u001b[0mvf\u001b[0m\u001b[0;34m\u001b[0m\u001b[0;34m\u001b[0m\u001b[0m\n\u001b[1;32m     18\u001b[0m     \u001b[0;32mexcept\u001b[0m \u001b[0mImportError\u001b[0m \u001b[0;32mas\u001b[0m \u001b[0merr\u001b[0m\u001b[0;34m:\u001b[0m\u001b[0;34m\u001b[0m\u001b[0;34m\u001b[0m\u001b[0m\n\u001b[0;32m---> 19\u001b[0;31m         raise ImportError(\n\u001b[0m\u001b[1;32m     20\u001b[0m             \u001b[0;34m'The \"vegafusion\" data transformer and chart.transformed_data feature requires\\n'\u001b[0m\u001b[0;34m\u001b[0m\u001b[0;34m\u001b[0m\u001b[0m\n\u001b[1;32m     21\u001b[0m             \u001b[0;34mf\"version {min_version} or greater of the 'vegafusion-python-embed' and 'vegafusion' packages.\\n\"\u001b[0m\u001b[0;34m\u001b[0m\u001b[0;34m\u001b[0m\u001b[0m\n",
      "\u001b[0;31mImportError\u001b[0m: The \"vegafusion\" data transformer and chart.transformed_data feature requires\nversion 1.4.0 or greater of the 'vegafusion-python-embed' and 'vegafusion' packages.\nThese can be installed with pip using:\n    pip install \"vegafusion[embed]>=1.4.0\"\nOr with conda using:\n    conda install -c conda-forge \"vegafusion-python-embed>=1.4.0\" \"vegafusion>=1.4.0\"\n\nImportError: The vegafusion package must be version 1.4.0 or greater. Found version 1.1.3"
     ]
    },
    {
     "data": {
      "text/plain": [
       "alt.Chart(...)"
      ]
     },
     "execution_count": 11,
     "metadata": {},
     "output_type": "execute_result"
    }
   ],
   "source": [
    "alt.Chart(degrees_df).mark_bar().encode(\n",
    "    alt.X(\"degree:Q\"),\n",
    "    y='count()',\n",
    ")"
   ]
  },
  {
   "cell_type": "markdown",
   "id": "dc6363fe-ac54-4a23-a955-64a9382f4119",
   "metadata": {},
   "source": [
    "# Node Degree Multi Simulation"
   ]
  },
  {
   "cell_type": "code",
   "execution_count": 12,
   "id": "6200de54-af55-4767-85df-83bda437c47c",
   "metadata": {},
   "outputs": [],
   "source": [
    "N_sim = 20"
   ]
  },
  {
   "cell_type": "code",
   "execution_count": 13,
   "id": "4218c4e8-f9c2-419e-ab70-117505d87d85",
   "metadata": {
    "tags": []
   },
   "outputs": [],
   "source": [
    "df_sim = pd.DataFrame(columns=[\"count\", \"simNumber\"], dtype=int)\n",
    "for i in range(N_sim):\n",
    "    gen = Generator(N, N // 2, N_coms, 20/N, 3/N, community_array, sampling_strat)\n",
    "    gen.run()\n",
    "    degrees = dict(gen.degrees()).values()\n",
    "    degrees_df = pd.DataFrame(degrees, columns=[\"degree\"])\n",
    "\n",
    "    countdf = degrees_df.groupby(['degree'])['degree'].count()\n",
    "    countdf = countdf.to_frame().rename(columns={\"degree\": \"count\"})\n",
    "    countdf[\"simNumber\"] = i\n",
    "    \n",
    "    df_sim = pd.concat([df_sim, countdf])"
   ]
  },
  {
   "cell_type": "code",
   "execution_count": 14,
   "id": "0bc81b3f-6891-43ee-bbb6-4afa87e3d1e6",
   "metadata": {
    "tags": []
   },
   "outputs": [],
   "source": [
    "df_sim = df_sim.reset_index(names=\"degree\")\n",
    "# df_sim.rename(columns={}"
   ]
  },
  {
   "cell_type": "code",
   "execution_count": 15,
   "id": "80c92f85-c0b1-4b3d-97b3-1ef24d673564",
   "metadata": {
    "tags": []
   },
   "outputs": [
    {
     "data": {
      "text/html": [
       "<div>\n",
       "<style scoped>\n",
       "    .dataframe tbody tr th:only-of-type {\n",
       "        vertical-align: middle;\n",
       "    }\n",
       "\n",
       "    .dataframe tbody tr th {\n",
       "        vertical-align: top;\n",
       "    }\n",
       "\n",
       "    .dataframe thead th {\n",
       "        text-align: right;\n",
       "    }\n",
       "</style>\n",
       "<table border=\"1\" class=\"dataframe\">\n",
       "  <thead>\n",
       "    <tr style=\"text-align: right;\">\n",
       "      <th></th>\n",
       "      <th>degree</th>\n",
       "      <th>count</th>\n",
       "      <th>simNumber</th>\n",
       "    </tr>\n",
       "  </thead>\n",
       "  <tbody>\n",
       "    <tr>\n",
       "      <th>0</th>\n",
       "      <td>1</td>\n",
       "      <td>13</td>\n",
       "      <td>0</td>\n",
       "    </tr>\n",
       "    <tr>\n",
       "      <th>1</th>\n",
       "      <td>2</td>\n",
       "      <td>32</td>\n",
       "      <td>0</td>\n",
       "    </tr>\n",
       "    <tr>\n",
       "      <th>2</th>\n",
       "      <td>3</td>\n",
       "      <td>76</td>\n",
       "      <td>0</td>\n",
       "    </tr>\n",
       "    <tr>\n",
       "      <th>3</th>\n",
       "      <td>4</td>\n",
       "      <td>127</td>\n",
       "      <td>0</td>\n",
       "    </tr>\n",
       "    <tr>\n",
       "      <th>4</th>\n",
       "      <td>5</td>\n",
       "      <td>151</td>\n",
       "      <td>0</td>\n",
       "    </tr>\n",
       "    <tr>\n",
       "      <th>...</th>\n",
       "      <td>...</td>\n",
       "      <td>...</td>\n",
       "      <td>...</td>\n",
       "    </tr>\n",
       "    <tr>\n",
       "      <th>318</th>\n",
       "      <td>11</td>\n",
       "      <td>24</td>\n",
       "      <td>19</td>\n",
       "    </tr>\n",
       "    <tr>\n",
       "      <th>319</th>\n",
       "      <td>12</td>\n",
       "      <td>10</td>\n",
       "      <td>19</td>\n",
       "    </tr>\n",
       "    <tr>\n",
       "      <th>320</th>\n",
       "      <td>13</td>\n",
       "      <td>7</td>\n",
       "      <td>19</td>\n",
       "    </tr>\n",
       "    <tr>\n",
       "      <th>321</th>\n",
       "      <td>14</td>\n",
       "      <td>5</td>\n",
       "      <td>19</td>\n",
       "    </tr>\n",
       "    <tr>\n",
       "      <th>322</th>\n",
       "      <td>15</td>\n",
       "      <td>1</td>\n",
       "      <td>19</td>\n",
       "    </tr>\n",
       "  </tbody>\n",
       "</table>\n",
       "<p>323 rows × 3 columns</p>\n",
       "</div>"
      ],
      "text/plain": [
       "     degree  count  simNumber\n",
       "0         1     13          0\n",
       "1         2     32          0\n",
       "2         3     76          0\n",
       "3         4    127          0\n",
       "4         5    151          0\n",
       "..      ...    ...        ...\n",
       "318      11     24         19\n",
       "319      12     10         19\n",
       "320      13      7         19\n",
       "321      14      5         19\n",
       "322      15      1         19\n",
       "\n",
       "[323 rows x 3 columns]"
      ]
     },
     "execution_count": 15,
     "metadata": {},
     "output_type": "execute_result"
    }
   ],
   "source": [
    "df_sim"
   ]
  },
  {
   "cell_type": "code",
   "execution_count": 16,
   "id": "36720d31-24e5-44b7-b37f-0213c33eccd3",
   "metadata": {},
   "outputs": [],
   "source": [
    "bars = alt.Chart(df_sim).mark_bar(color=COLOR).encode(\n",
    "    alt.X(\"degree:Q\", scale=alt.Scale(domain=[0, 18])),\n",
    "    alt.Y(\"mean(count):Q\"),\n",
    ")"
   ]
  },
  {
   "cell_type": "code",
   "execution_count": 17,
   "id": "55662947-c864-4a9e-b274-3453601ac0e0",
   "metadata": {},
   "outputs": [],
   "source": [
    "error = alt.Chart(df_sim).mark_errorbar(extent=\"ci\", rule=True).encode(\n",
    "    x=alt.X(\"degree:Q\", scale=alt.Scale(domain=[0, 18])),\n",
    "    y=alt.Y(\n",
    "        \"count:Q\",\n",
    "        scale=alt.Scale(zero=False),\n",
    "        title=\"Absolute Frequency\"\n",
    "    ),\n",
    ")"
   ]
  },
  {
   "cell_type": "code",
   "execution_count": 18,
   "id": "b1c2aee7-901a-4c93-9fc1-75f553b518bd",
   "metadata": {},
   "outputs": [
    {
     "ename": "ImportError",
     "evalue": "The \"vegafusion\" data transformer and chart.transformed_data feature requires\nversion 1.4.0 or greater of the 'vegafusion-python-embed' and 'vegafusion' packages.\nThese can be installed with pip using:\n    pip install \"vegafusion[embed]>=1.4.0\"\nOr with conda using:\n    conda install -c conda-forge \"vegafusion-python-embed>=1.4.0\" \"vegafusion>=1.4.0\"\n\nImportError: The vegafusion package must be version 1.4.0 or greater. Found version 1.1.3",
     "output_type": "error",
     "traceback": [
      "\u001b[0;31m---------------------------------------------------------------------------\u001b[0m",
      "\u001b[0;31mImportError\u001b[0m                               Traceback (most recent call last)",
      "\u001b[0;32m~/anaconda3/lib/python3.9/site-packages/altair/utils/_importers.py\u001b[0m in \u001b[0;36mimport_vegafusion\u001b[0;34m()\u001b[0m\n\u001b[1;32m     10\u001b[0m         \u001b[0;32mif\u001b[0m \u001b[0mVersion\u001b[0m\u001b[0;34m(\u001b[0m\u001b[0mversion\u001b[0m\u001b[0;34m)\u001b[0m \u001b[0;34m<\u001b[0m \u001b[0mVersion\u001b[0m\u001b[0;34m(\u001b[0m\u001b[0mmin_version\u001b[0m\u001b[0;34m)\u001b[0m\u001b[0;34m:\u001b[0m\u001b[0;34m\u001b[0m\u001b[0;34m\u001b[0m\u001b[0m\n\u001b[0;32m---> 11\u001b[0;31m             raise ImportError(\n\u001b[0m\u001b[1;32m     12\u001b[0m                 \u001b[0;34mf\"The vegafusion package must be version {min_version} or greater. \"\u001b[0m\u001b[0;34m\u001b[0m\u001b[0;34m\u001b[0m\u001b[0m\n",
      "\u001b[0;31mImportError\u001b[0m: The vegafusion package must be version 1.4.0 or greater. Found version 1.1.3",
      "\nThe above exception was the direct cause of the following exception:\n",
      "\u001b[0;31mImportError\u001b[0m                               Traceback (most recent call last)",
      "\u001b[0;32m~/anaconda3/lib/python3.9/site-packages/IPython/core/formatters.py\u001b[0m in \u001b[0;36m__call__\u001b[0;34m(self, obj, include, exclude)\u001b[0m\n\u001b[1;32m    968\u001b[0m \u001b[0;34m\u001b[0m\u001b[0m\n\u001b[1;32m    969\u001b[0m             \u001b[0;32mif\u001b[0m \u001b[0mmethod\u001b[0m \u001b[0;32mis\u001b[0m \u001b[0;32mnot\u001b[0m \u001b[0;32mNone\u001b[0m\u001b[0;34m:\u001b[0m\u001b[0;34m\u001b[0m\u001b[0;34m\u001b[0m\u001b[0m\n\u001b[0;32m--> 970\u001b[0;31m                 \u001b[0;32mreturn\u001b[0m \u001b[0mmethod\u001b[0m\u001b[0;34m(\u001b[0m\u001b[0minclude\u001b[0m\u001b[0;34m=\u001b[0m\u001b[0minclude\u001b[0m\u001b[0;34m,\u001b[0m \u001b[0mexclude\u001b[0m\u001b[0;34m=\u001b[0m\u001b[0mexclude\u001b[0m\u001b[0;34m)\u001b[0m\u001b[0;34m\u001b[0m\u001b[0;34m\u001b[0m\u001b[0m\n\u001b[0m\u001b[1;32m    971\u001b[0m             \u001b[0;32mreturn\u001b[0m \u001b[0;32mNone\u001b[0m\u001b[0;34m\u001b[0m\u001b[0;34m\u001b[0m\u001b[0m\n\u001b[1;32m    972\u001b[0m         \u001b[0;32melse\u001b[0m\u001b[0;34m:\u001b[0m\u001b[0;34m\u001b[0m\u001b[0;34m\u001b[0m\u001b[0m\n",
      "\u001b[0;32m~/anaconda3/lib/python3.9/site-packages/altair/vegalite/v5/api.py\u001b[0m in \u001b[0;36m_repr_mimebundle_\u001b[0;34m(self, include, exclude)\u001b[0m\n\u001b[1;32m   2295\u001b[0m             \u001b[0;32mreturn\u001b[0m \u001b[0;34m{\u001b[0m\u001b[0;34m}\u001b[0m\u001b[0;34m\u001b[0m\u001b[0;34m\u001b[0m\u001b[0m\n\u001b[1;32m   2296\u001b[0m         \u001b[0;32melse\u001b[0m\u001b[0;34m:\u001b[0m\u001b[0;34m\u001b[0m\u001b[0;34m\u001b[0m\u001b[0m\n\u001b[0;32m-> 2297\u001b[0;31m             \u001b[0;32mreturn\u001b[0m \u001b[0mrenderers\u001b[0m\u001b[0;34m.\u001b[0m\u001b[0mget\u001b[0m\u001b[0;34m(\u001b[0m\u001b[0;34m)\u001b[0m\u001b[0;34m(\u001b[0m\u001b[0mdct\u001b[0m\u001b[0;34m)\u001b[0m\u001b[0;34m\u001b[0m\u001b[0;34m\u001b[0m\u001b[0m\n\u001b[0m\u001b[1;32m   2298\u001b[0m \u001b[0;34m\u001b[0m\u001b[0m\n\u001b[1;32m   2299\u001b[0m     \u001b[0;32mdef\u001b[0m \u001b[0mdisplay\u001b[0m\u001b[0;34m(\u001b[0m\u001b[0mself\u001b[0m\u001b[0;34m,\u001b[0m \u001b[0mrenderer\u001b[0m\u001b[0;34m=\u001b[0m\u001b[0mUndefined\u001b[0m\u001b[0;34m,\u001b[0m \u001b[0mtheme\u001b[0m\u001b[0;34m=\u001b[0m\u001b[0mUndefined\u001b[0m\u001b[0;34m,\u001b[0m \u001b[0mactions\u001b[0m\u001b[0;34m=\u001b[0m\u001b[0mUndefined\u001b[0m\u001b[0;34m,\u001b[0m \u001b[0;34m**\u001b[0m\u001b[0mkwargs\u001b[0m\u001b[0;34m)\u001b[0m\u001b[0;34m:\u001b[0m\u001b[0;34m\u001b[0m\u001b[0;34m\u001b[0m\u001b[0m\n",
      "\u001b[0;32m~/anaconda3/lib/python3.9/site-packages/altair/utils/display.py\u001b[0m in \u001b[0;36m__call__\u001b[0;34m(self, spec, **metadata)\u001b[0m\n\u001b[1;32m    211\u001b[0m         \u001b[0mkwargs\u001b[0m \u001b[0;34m=\u001b[0m \u001b[0mself\u001b[0m\u001b[0;34m.\u001b[0m\u001b[0mkwargs\u001b[0m\u001b[0;34m.\u001b[0m\u001b[0mcopy\u001b[0m\u001b[0;34m(\u001b[0m\u001b[0;34m)\u001b[0m\u001b[0;34m\u001b[0m\u001b[0;34m\u001b[0m\u001b[0m\n\u001b[1;32m    212\u001b[0m         \u001b[0mkwargs\u001b[0m\u001b[0;34m.\u001b[0m\u001b[0mupdate\u001b[0m\u001b[0;34m(\u001b[0m\u001b[0mmetadata\u001b[0m\u001b[0;34m)\u001b[0m\u001b[0;34m\u001b[0m\u001b[0;34m\u001b[0m\u001b[0m\n\u001b[0;32m--> 213\u001b[0;31m         return spec_to_mimebundle(\n\u001b[0m\u001b[1;32m    214\u001b[0m             \u001b[0mspec\u001b[0m\u001b[0;34m,\u001b[0m \u001b[0mformat\u001b[0m\u001b[0;34m=\u001b[0m\u001b[0;34m\"html\"\u001b[0m\u001b[0;34m,\u001b[0m \u001b[0moutput_div\u001b[0m\u001b[0;34m=\u001b[0m\u001b[0mself\u001b[0m\u001b[0;34m.\u001b[0m\u001b[0moutput_div\u001b[0m\u001b[0;34m,\u001b[0m \u001b[0;34m**\u001b[0m\u001b[0mkwargs\u001b[0m\u001b[0;34m\u001b[0m\u001b[0;34m\u001b[0m\u001b[0m\n\u001b[1;32m    215\u001b[0m         )\n",
      "\u001b[0;32m~/anaconda3/lib/python3.9/site-packages/altair/utils/mimebundle.py\u001b[0m in \u001b[0;36mspec_to_mimebundle\u001b[0;34m(spec, format, mode, vega_version, vegaembed_version, vegalite_version, engine, **kwargs)\u001b[0m\n\u001b[1;32m     54\u001b[0m \u001b[0;34m\u001b[0m\u001b[0m\n\u001b[1;32m     55\u001b[0m     \u001b[0;32mif\u001b[0m \u001b[0musing_vegafusion\u001b[0m\u001b[0;34m(\u001b[0m\u001b[0;34m)\u001b[0m\u001b[0;34m:\u001b[0m\u001b[0;34m\u001b[0m\u001b[0;34m\u001b[0m\u001b[0m\n\u001b[0;32m---> 56\u001b[0;31m         \u001b[0mspec\u001b[0m \u001b[0;34m=\u001b[0m \u001b[0mcompile_with_vegafusion\u001b[0m\u001b[0;34m(\u001b[0m\u001b[0mspec\u001b[0m\u001b[0;34m)\u001b[0m\u001b[0;34m\u001b[0m\u001b[0;34m\u001b[0m\u001b[0m\n\u001b[0m\u001b[1;32m     57\u001b[0m         \u001b[0mmode\u001b[0m \u001b[0;34m=\u001b[0m \u001b[0;34m\"vega\"\u001b[0m\u001b[0;34m\u001b[0m\u001b[0;34m\u001b[0m\u001b[0m\n\u001b[1;32m     58\u001b[0m \u001b[0;34m\u001b[0m\u001b[0m\n",
      "\u001b[0;32m~/anaconda3/lib/python3.9/site-packages/altair/utils/_vegafusion_data.py\u001b[0m in \u001b[0;36mcompile_with_vegafusion\u001b[0;34m(vegalite_spec)\u001b[0m\n\u001b[1;32m    147\u001b[0m     \u001b[0;32mfrom\u001b[0m \u001b[0maltair\u001b[0m \u001b[0;32mimport\u001b[0m \u001b[0mvegalite_compilers\u001b[0m\u001b[0;34m,\u001b[0m \u001b[0mdata_transformers\u001b[0m\u001b[0;34m\u001b[0m\u001b[0;34m\u001b[0m\u001b[0m\n\u001b[1;32m    148\u001b[0m \u001b[0;34m\u001b[0m\u001b[0m\n\u001b[0;32m--> 149\u001b[0;31m     \u001b[0mvf\u001b[0m \u001b[0;34m=\u001b[0m \u001b[0mimport_vegafusion\u001b[0m\u001b[0;34m(\u001b[0m\u001b[0;34m)\u001b[0m\u001b[0;34m\u001b[0m\u001b[0;34m\u001b[0m\u001b[0m\n\u001b[0m\u001b[1;32m    150\u001b[0m \u001b[0;34m\u001b[0m\u001b[0m\n\u001b[1;32m    151\u001b[0m     \u001b[0;31m# Compile Vega-Lite spec to Vega\u001b[0m\u001b[0;34m\u001b[0m\u001b[0;34m\u001b[0m\u001b[0m\n",
      "\u001b[0;32m~/anaconda3/lib/python3.9/site-packages/altair/utils/_importers.py\u001b[0m in \u001b[0;36mimport_vegafusion\u001b[0;34m()\u001b[0m\n\u001b[1;32m     17\u001b[0m         \u001b[0;32mreturn\u001b[0m \u001b[0mvf\u001b[0m\u001b[0;34m\u001b[0m\u001b[0;34m\u001b[0m\u001b[0m\n\u001b[1;32m     18\u001b[0m     \u001b[0;32mexcept\u001b[0m \u001b[0mImportError\u001b[0m \u001b[0;32mas\u001b[0m \u001b[0merr\u001b[0m\u001b[0;34m:\u001b[0m\u001b[0;34m\u001b[0m\u001b[0;34m\u001b[0m\u001b[0m\n\u001b[0;32m---> 19\u001b[0;31m         raise ImportError(\n\u001b[0m\u001b[1;32m     20\u001b[0m             \u001b[0;34m'The \"vegafusion\" data transformer and chart.transformed_data feature requires\\n'\u001b[0m\u001b[0;34m\u001b[0m\u001b[0;34m\u001b[0m\u001b[0m\n\u001b[1;32m     21\u001b[0m             \u001b[0;34mf\"version {min_version} or greater of the 'vegafusion-python-embed' and 'vegafusion' packages.\\n\"\u001b[0m\u001b[0;34m\u001b[0m\u001b[0;34m\u001b[0m\u001b[0m\n",
      "\u001b[0;31mImportError\u001b[0m: The \"vegafusion\" data transformer and chart.transformed_data feature requires\nversion 1.4.0 or greater of the 'vegafusion-python-embed' and 'vegafusion' packages.\nThese can be installed with pip using:\n    pip install \"vegafusion[embed]>=1.4.0\"\nOr with conda using:\n    conda install -c conda-forge \"vegafusion-python-embed>=1.4.0\" \"vegafusion>=1.4.0\"\n\nImportError: The vegafusion package must be version 1.4.0 or greater. Found version 1.1.3"
     ]
    },
    {
     "data": {
      "text/plain": [
       "alt.LayerChart(...)"
      ]
     },
     "execution_count": 18,
     "metadata": {},
     "output_type": "execute_result"
    }
   ],
   "source": [
    "bars + error"
   ]
  },
  {
   "cell_type": "markdown",
   "id": "0121f300-0d8a-4b5e-abba-0c257ecf8000",
   "metadata": {
    "tags": []
   },
   "source": [
    "# Hyperedge Size"
   ]
  },
  {
   "cell_type": "code",
   "execution_count": 19,
   "id": "aa2c2536-c15e-4dfd-8208-fdf54379d5cb",
   "metadata": {},
   "outputs": [],
   "source": [
    "hsizes = dict(gen.hyperedge_sizes()).values()"
   ]
  },
  {
   "cell_type": "code",
   "execution_count": 20,
   "id": "4e985924-a716-41b7-b979-0b90b86b88e0",
   "metadata": {
    "tags": []
   },
   "outputs": [
    {
     "data": {
      "text/plain": [
       "dict_values([14, 8, 13, 10, 8, 15, 14, 9, 18, 9, 12, 9, 15, 12, 10, 16, 15, 15, 12, 13, 16, 12, 15, 11, 18, 11, 16, 9, 11, 17, 12, 11, 9, 13, 20, 14, 18, 14, 12, 11, 16, 9, 14, 9, 13, 13, 16, 14, 16, 13, 12, 14, 11, 14, 11, 11, 10, 12, 17, 14, 7, 10, 13, 14, 11, 11, 13, 12, 9, 11, 14, 13, 18, 9, 9, 13, 8, 11, 7, 8, 11, 14, 5, 14, 16, 7, 10, 8, 9, 14, 12, 13, 8, 14, 12, 11, 9, 15, 13, 10, 13, 14, 13, 12, 11, 9, 8, 15, 13, 15, 17, 10, 13, 14, 12, 19, 9, 12, 11, 16, 9, 11, 11, 7, 8, 13, 14, 11, 12, 19, 13, 10, 14, 13, 10, 12, 12, 6, 9, 11, 16, 13, 8, 10, 14, 10, 6, 10, 15, 10, 10, 13, 13, 10, 18, 10, 12, 14, 10, 9, 12, 10, 9, 16, 9, 10, 17, 9, 13, 10, 19, 6, 15, 17, 13, 11, 8, 11, 21, 11, 10, 13, 16, 18, 13, 11, 12, 14, 12, 15, 8, 15, 12, 15, 12, 12, 14, 15, 10, 11, 11, 15, 9, 12, 15, 10, 11, 8, 10, 10, 12, 13, 13, 17, 15, 17, 15, 15, 12, 14, 13, 11, 12, 11, 12, 12, 10, 6, 7, 12, 13, 17, 8, 10, 12, 7, 14, 16, 15, 15, 18, 17, 15, 13, 15, 9, 16, 9, 6, 13, 14, 16, 13, 11, 12, 13, 12, 15, 10, 19, 11, 9, 15, 12, 10, 13, 11, 17, 9, 19, 11, 13, 11, 15, 9, 12, 12, 10, 13, 9, 15, 13, 13, 11, 15, 8, 12, 8, 6, 11, 13, 9, 11, 8, 11, 14, 12, 8, 8, 14, 11, 16, 13, 15, 13, 13, 14, 13, 9, 16, 14, 10, 14, 11, 16, 8, 14, 12, 13, 18, 20, 18, 8, 12, 9, 10, 11, 13, 10, 16, 14, 11, 10, 14, 15, 12, 7, 8, 9, 11, 7, 14, 10, 11, 15, 16, 10, 15, 15, 9, 6, 20, 11, 12, 7, 14, 15, 15, 17, 7, 11, 15, 13, 11, 15, 11, 15, 13, 10, 17, 9, 12, 11, 20, 6, 10, 12, 21, 10, 17, 11, 12, 7, 17, 17, 18, 16, 12, 10, 16, 17, 12, 7, 18, 11, 7, 18, 14, 16, 11, 13, 15, 12, 12, 6, 11, 19, 16, 15, 14, 8, 15, 10, 15, 11, 12, 14, 10, 17, 13, 20, 11, 15, 10, 12, 16, 11, 13, 10, 10, 12, 12, 6, 13, 8, 14, 12, 17, 14, 16, 14, 11, 17, 14, 14, 9, 12, 19, 15, 9, 18, 6, 8, 16, 15, 11, 13, 9, 13, 14, 16, 11, 15, 14, 11, 15, 12, 10, 15, 11, 9, 13, 8, 16, 15, 12, 12, 13, 8, 14, 13, 11, 13, 15, 10, 14, 8, 14, 10, 12, 16, 14, 4, 14, 16, 12, 12, 18, 13, 16])"
      ]
     },
     "execution_count": 20,
     "metadata": {},
     "output_type": "execute_result"
    }
   ],
   "source": [
    "hsizes"
   ]
  },
  {
   "cell_type": "code",
   "execution_count": 21,
   "id": "3273368c-6b8f-4030-b235-d8a68cbcc014",
   "metadata": {},
   "outputs": [],
   "source": [
    "hsizes_df = pd.DataFrame(hsizes, columns=[\"hsize\"])"
   ]
  },
  {
   "cell_type": "code",
   "execution_count": 22,
   "id": "88b3daff-c360-49d1-be88-10d4f32224c6",
   "metadata": {
    "tags": []
   },
   "outputs": [
    {
     "ename": "ImportError",
     "evalue": "The \"vegafusion\" data transformer and chart.transformed_data feature requires\nversion 1.4.0 or greater of the 'vegafusion-python-embed' and 'vegafusion' packages.\nThese can be installed with pip using:\n    pip install \"vegafusion[embed]>=1.4.0\"\nOr with conda using:\n    conda install -c conda-forge \"vegafusion-python-embed>=1.4.0\" \"vegafusion>=1.4.0\"\n\nImportError: The vegafusion package must be version 1.4.0 or greater. Found version 1.1.3",
     "output_type": "error",
     "traceback": [
      "\u001b[0;31m---------------------------------------------------------------------------\u001b[0m",
      "\u001b[0;31mImportError\u001b[0m                               Traceback (most recent call last)",
      "\u001b[0;32m~/anaconda3/lib/python3.9/site-packages/altair/utils/_importers.py\u001b[0m in \u001b[0;36mimport_vegafusion\u001b[0;34m()\u001b[0m\n\u001b[1;32m     10\u001b[0m         \u001b[0;32mif\u001b[0m \u001b[0mVersion\u001b[0m\u001b[0;34m(\u001b[0m\u001b[0mversion\u001b[0m\u001b[0;34m)\u001b[0m \u001b[0;34m<\u001b[0m \u001b[0mVersion\u001b[0m\u001b[0;34m(\u001b[0m\u001b[0mmin_version\u001b[0m\u001b[0;34m)\u001b[0m\u001b[0;34m:\u001b[0m\u001b[0;34m\u001b[0m\u001b[0;34m\u001b[0m\u001b[0m\n\u001b[0;32m---> 11\u001b[0;31m             raise ImportError(\n\u001b[0m\u001b[1;32m     12\u001b[0m                 \u001b[0;34mf\"The vegafusion package must be version {min_version} or greater. \"\u001b[0m\u001b[0;34m\u001b[0m\u001b[0;34m\u001b[0m\u001b[0m\n",
      "\u001b[0;31mImportError\u001b[0m: The vegafusion package must be version 1.4.0 or greater. Found version 1.1.3",
      "\nThe above exception was the direct cause of the following exception:\n",
      "\u001b[0;31mImportError\u001b[0m                               Traceback (most recent call last)",
      "\u001b[0;32m~/anaconda3/lib/python3.9/site-packages/IPython/core/formatters.py\u001b[0m in \u001b[0;36m__call__\u001b[0;34m(self, obj, include, exclude)\u001b[0m\n\u001b[1;32m    968\u001b[0m \u001b[0;34m\u001b[0m\u001b[0m\n\u001b[1;32m    969\u001b[0m             \u001b[0;32mif\u001b[0m \u001b[0mmethod\u001b[0m \u001b[0;32mis\u001b[0m \u001b[0;32mnot\u001b[0m \u001b[0;32mNone\u001b[0m\u001b[0;34m:\u001b[0m\u001b[0;34m\u001b[0m\u001b[0;34m\u001b[0m\u001b[0m\n\u001b[0;32m--> 970\u001b[0;31m                 \u001b[0;32mreturn\u001b[0m \u001b[0mmethod\u001b[0m\u001b[0;34m(\u001b[0m\u001b[0minclude\u001b[0m\u001b[0;34m=\u001b[0m\u001b[0minclude\u001b[0m\u001b[0;34m,\u001b[0m \u001b[0mexclude\u001b[0m\u001b[0;34m=\u001b[0m\u001b[0mexclude\u001b[0m\u001b[0;34m)\u001b[0m\u001b[0;34m\u001b[0m\u001b[0;34m\u001b[0m\u001b[0m\n\u001b[0m\u001b[1;32m    971\u001b[0m             \u001b[0;32mreturn\u001b[0m \u001b[0;32mNone\u001b[0m\u001b[0;34m\u001b[0m\u001b[0;34m\u001b[0m\u001b[0m\n\u001b[1;32m    972\u001b[0m         \u001b[0;32melse\u001b[0m\u001b[0;34m:\u001b[0m\u001b[0;34m\u001b[0m\u001b[0;34m\u001b[0m\u001b[0m\n",
      "\u001b[0;32m~/anaconda3/lib/python3.9/site-packages/altair/vegalite/v5/api.py\u001b[0m in \u001b[0;36m_repr_mimebundle_\u001b[0;34m(self, include, exclude)\u001b[0m\n\u001b[1;32m   2295\u001b[0m             \u001b[0;32mreturn\u001b[0m \u001b[0;34m{\u001b[0m\u001b[0;34m}\u001b[0m\u001b[0;34m\u001b[0m\u001b[0;34m\u001b[0m\u001b[0m\n\u001b[1;32m   2296\u001b[0m         \u001b[0;32melse\u001b[0m\u001b[0;34m:\u001b[0m\u001b[0;34m\u001b[0m\u001b[0;34m\u001b[0m\u001b[0m\n\u001b[0;32m-> 2297\u001b[0;31m             \u001b[0;32mreturn\u001b[0m \u001b[0mrenderers\u001b[0m\u001b[0;34m.\u001b[0m\u001b[0mget\u001b[0m\u001b[0;34m(\u001b[0m\u001b[0;34m)\u001b[0m\u001b[0;34m(\u001b[0m\u001b[0mdct\u001b[0m\u001b[0;34m)\u001b[0m\u001b[0;34m\u001b[0m\u001b[0;34m\u001b[0m\u001b[0m\n\u001b[0m\u001b[1;32m   2298\u001b[0m \u001b[0;34m\u001b[0m\u001b[0m\n\u001b[1;32m   2299\u001b[0m     \u001b[0;32mdef\u001b[0m \u001b[0mdisplay\u001b[0m\u001b[0;34m(\u001b[0m\u001b[0mself\u001b[0m\u001b[0;34m,\u001b[0m \u001b[0mrenderer\u001b[0m\u001b[0;34m=\u001b[0m\u001b[0mUndefined\u001b[0m\u001b[0;34m,\u001b[0m \u001b[0mtheme\u001b[0m\u001b[0;34m=\u001b[0m\u001b[0mUndefined\u001b[0m\u001b[0;34m,\u001b[0m \u001b[0mactions\u001b[0m\u001b[0;34m=\u001b[0m\u001b[0mUndefined\u001b[0m\u001b[0;34m,\u001b[0m \u001b[0;34m**\u001b[0m\u001b[0mkwargs\u001b[0m\u001b[0;34m)\u001b[0m\u001b[0;34m:\u001b[0m\u001b[0;34m\u001b[0m\u001b[0;34m\u001b[0m\u001b[0m\n",
      "\u001b[0;32m~/anaconda3/lib/python3.9/site-packages/altair/utils/display.py\u001b[0m in \u001b[0;36m__call__\u001b[0;34m(self, spec, **metadata)\u001b[0m\n\u001b[1;32m    211\u001b[0m         \u001b[0mkwargs\u001b[0m \u001b[0;34m=\u001b[0m \u001b[0mself\u001b[0m\u001b[0;34m.\u001b[0m\u001b[0mkwargs\u001b[0m\u001b[0;34m.\u001b[0m\u001b[0mcopy\u001b[0m\u001b[0;34m(\u001b[0m\u001b[0;34m)\u001b[0m\u001b[0;34m\u001b[0m\u001b[0;34m\u001b[0m\u001b[0m\n\u001b[1;32m    212\u001b[0m         \u001b[0mkwargs\u001b[0m\u001b[0;34m.\u001b[0m\u001b[0mupdate\u001b[0m\u001b[0;34m(\u001b[0m\u001b[0mmetadata\u001b[0m\u001b[0;34m)\u001b[0m\u001b[0;34m\u001b[0m\u001b[0;34m\u001b[0m\u001b[0m\n\u001b[0;32m--> 213\u001b[0;31m         return spec_to_mimebundle(\n\u001b[0m\u001b[1;32m    214\u001b[0m             \u001b[0mspec\u001b[0m\u001b[0;34m,\u001b[0m \u001b[0mformat\u001b[0m\u001b[0;34m=\u001b[0m\u001b[0;34m\"html\"\u001b[0m\u001b[0;34m,\u001b[0m \u001b[0moutput_div\u001b[0m\u001b[0;34m=\u001b[0m\u001b[0mself\u001b[0m\u001b[0;34m.\u001b[0m\u001b[0moutput_div\u001b[0m\u001b[0;34m,\u001b[0m \u001b[0;34m**\u001b[0m\u001b[0mkwargs\u001b[0m\u001b[0;34m\u001b[0m\u001b[0;34m\u001b[0m\u001b[0m\n\u001b[1;32m    215\u001b[0m         )\n",
      "\u001b[0;32m~/anaconda3/lib/python3.9/site-packages/altair/utils/mimebundle.py\u001b[0m in \u001b[0;36mspec_to_mimebundle\u001b[0;34m(spec, format, mode, vega_version, vegaembed_version, vegalite_version, engine, **kwargs)\u001b[0m\n\u001b[1;32m     54\u001b[0m \u001b[0;34m\u001b[0m\u001b[0m\n\u001b[1;32m     55\u001b[0m     \u001b[0;32mif\u001b[0m \u001b[0musing_vegafusion\u001b[0m\u001b[0;34m(\u001b[0m\u001b[0;34m)\u001b[0m\u001b[0;34m:\u001b[0m\u001b[0;34m\u001b[0m\u001b[0;34m\u001b[0m\u001b[0m\n\u001b[0;32m---> 56\u001b[0;31m         \u001b[0mspec\u001b[0m \u001b[0;34m=\u001b[0m \u001b[0mcompile_with_vegafusion\u001b[0m\u001b[0;34m(\u001b[0m\u001b[0mspec\u001b[0m\u001b[0;34m)\u001b[0m\u001b[0;34m\u001b[0m\u001b[0;34m\u001b[0m\u001b[0m\n\u001b[0m\u001b[1;32m     57\u001b[0m         \u001b[0mmode\u001b[0m \u001b[0;34m=\u001b[0m \u001b[0;34m\"vega\"\u001b[0m\u001b[0;34m\u001b[0m\u001b[0;34m\u001b[0m\u001b[0m\n\u001b[1;32m     58\u001b[0m \u001b[0;34m\u001b[0m\u001b[0m\n",
      "\u001b[0;32m~/anaconda3/lib/python3.9/site-packages/altair/utils/_vegafusion_data.py\u001b[0m in \u001b[0;36mcompile_with_vegafusion\u001b[0;34m(vegalite_spec)\u001b[0m\n\u001b[1;32m    147\u001b[0m     \u001b[0;32mfrom\u001b[0m \u001b[0maltair\u001b[0m \u001b[0;32mimport\u001b[0m \u001b[0mvegalite_compilers\u001b[0m\u001b[0;34m,\u001b[0m \u001b[0mdata_transformers\u001b[0m\u001b[0;34m\u001b[0m\u001b[0;34m\u001b[0m\u001b[0m\n\u001b[1;32m    148\u001b[0m \u001b[0;34m\u001b[0m\u001b[0m\n\u001b[0;32m--> 149\u001b[0;31m     \u001b[0mvf\u001b[0m \u001b[0;34m=\u001b[0m \u001b[0mimport_vegafusion\u001b[0m\u001b[0;34m(\u001b[0m\u001b[0;34m)\u001b[0m\u001b[0;34m\u001b[0m\u001b[0;34m\u001b[0m\u001b[0m\n\u001b[0m\u001b[1;32m    150\u001b[0m \u001b[0;34m\u001b[0m\u001b[0m\n\u001b[1;32m    151\u001b[0m     \u001b[0;31m# Compile Vega-Lite spec to Vega\u001b[0m\u001b[0;34m\u001b[0m\u001b[0;34m\u001b[0m\u001b[0m\n",
      "\u001b[0;32m~/anaconda3/lib/python3.9/site-packages/altair/utils/_importers.py\u001b[0m in \u001b[0;36mimport_vegafusion\u001b[0;34m()\u001b[0m\n\u001b[1;32m     17\u001b[0m         \u001b[0;32mreturn\u001b[0m \u001b[0mvf\u001b[0m\u001b[0;34m\u001b[0m\u001b[0;34m\u001b[0m\u001b[0m\n\u001b[1;32m     18\u001b[0m     \u001b[0;32mexcept\u001b[0m \u001b[0mImportError\u001b[0m \u001b[0;32mas\u001b[0m \u001b[0merr\u001b[0m\u001b[0;34m:\u001b[0m\u001b[0;34m\u001b[0m\u001b[0;34m\u001b[0m\u001b[0m\n\u001b[0;32m---> 19\u001b[0;31m         raise ImportError(\n\u001b[0m\u001b[1;32m     20\u001b[0m             \u001b[0;34m'The \"vegafusion\" data transformer and chart.transformed_data feature requires\\n'\u001b[0m\u001b[0;34m\u001b[0m\u001b[0;34m\u001b[0m\u001b[0m\n\u001b[1;32m     21\u001b[0m             \u001b[0;34mf\"version {min_version} or greater of the 'vegafusion-python-embed' and 'vegafusion' packages.\\n\"\u001b[0m\u001b[0;34m\u001b[0m\u001b[0;34m\u001b[0m\u001b[0m\n",
      "\u001b[0;31mImportError\u001b[0m: The \"vegafusion\" data transformer and chart.transformed_data feature requires\nversion 1.4.0 or greater of the 'vegafusion-python-embed' and 'vegafusion' packages.\nThese can be installed with pip using:\n    pip install \"vegafusion[embed]>=1.4.0\"\nOr with conda using:\n    conda install -c conda-forge \"vegafusion-python-embed>=1.4.0\" \"vegafusion>=1.4.0\"\n\nImportError: The vegafusion package must be version 1.4.0 or greater. Found version 1.1.3"
     ]
    },
    {
     "data": {
      "text/plain": [
       "alt.Chart(...)"
      ]
     },
     "execution_count": 22,
     "metadata": {},
     "output_type": "execute_result"
    }
   ],
   "source": [
    "alt.Chart(hsizes_df).mark_bar().encode(\n",
    "    alt.X(\"hsize:Q\"),\n",
    "    y='count()',\n",
    ")"
   ]
  },
  {
   "cell_type": "markdown",
   "id": "56b6d95c-2d72-4744-a8d9-aea68f0c0dc0",
   "metadata": {
    "tags": []
   },
   "source": [
    "## Hyperedge Sim"
   ]
  },
  {
   "cell_type": "code",
   "execution_count": 23,
   "id": "d52e1106-d174-4b7a-84d5-9c52327938d2",
   "metadata": {},
   "outputs": [],
   "source": [
    "df_sim = pd.DataFrame(columns=[\"count\", \"simNumber\"], dtype=int)\n",
    "for i in range(N_sim):\n",
    "    gen = Generator(N, N_edges, N_coms, p, q, community_array, sampling_strat)\n",
    "    gen.run()\n",
    "    hsizes = dict(gen.hyperedge_sizes()).values()\n",
    "    hsizes_df = pd.DataFrame(hsizes, columns=[\"hsize\"])\n",
    "\n",
    "    countdf = hsizes_df.groupby(['hsize'])['hsize'].count()\n",
    "    countdf = countdf.to_frame().rename(columns={\"hsize\": \"count\"})\n",
    "    countdf[\"simNumber\"] = i\n",
    "    \n",
    "    df_sim = pd.concat([df_sim, countdf])"
   ]
  },
  {
   "cell_type": "code",
   "execution_count": 24,
   "id": "bda2bf55-5fc7-4b59-9372-2631a378a5f0",
   "metadata": {},
   "outputs": [],
   "source": [
    "df_sim = df_sim.reset_index(names=\"hsize\")"
   ]
  },
  {
   "cell_type": "code",
   "execution_count": 25,
   "id": "884e67fa-e42d-4e68-9183-9a6426ed7aee",
   "metadata": {},
   "outputs": [
    {
     "data": {
      "text/html": [
       "<div>\n",
       "<style scoped>\n",
       "    .dataframe tbody tr th:only-of-type {\n",
       "        vertical-align: middle;\n",
       "    }\n",
       "\n",
       "    .dataframe tbody tr th {\n",
       "        vertical-align: top;\n",
       "    }\n",
       "\n",
       "    .dataframe thead th {\n",
       "        text-align: right;\n",
       "    }\n",
       "</style>\n",
       "<table border=\"1\" class=\"dataframe\">\n",
       "  <thead>\n",
       "    <tr style=\"text-align: right;\">\n",
       "      <th></th>\n",
       "      <th>hsize</th>\n",
       "      <th>count</th>\n",
       "      <th>simNumber</th>\n",
       "    </tr>\n",
       "  </thead>\n",
       "  <tbody>\n",
       "    <tr>\n",
       "      <th>0</th>\n",
       "      <td>4</td>\n",
       "      <td>1</td>\n",
       "      <td>0</td>\n",
       "    </tr>\n",
       "    <tr>\n",
       "      <th>1</th>\n",
       "      <td>6</td>\n",
       "      <td>10</td>\n",
       "      <td>0</td>\n",
       "    </tr>\n",
       "    <tr>\n",
       "      <th>2</th>\n",
       "      <td>7</td>\n",
       "      <td>6</td>\n",
       "      <td>0</td>\n",
       "    </tr>\n",
       "    <tr>\n",
       "      <th>3</th>\n",
       "      <td>8</td>\n",
       "      <td>7</td>\n",
       "      <td>0</td>\n",
       "    </tr>\n",
       "    <tr>\n",
       "      <th>4</th>\n",
       "      <td>9</td>\n",
       "      <td>12</td>\n",
       "      <td>0</td>\n",
       "    </tr>\n",
       "  </tbody>\n",
       "</table>\n",
       "</div>"
      ],
      "text/plain": [
       "   hsize  count  simNumber\n",
       "0      4      1          0\n",
       "1      6     10          0\n",
       "2      7      6          0\n",
       "3      8      7          0\n",
       "4      9     12          0"
      ]
     },
     "execution_count": 25,
     "metadata": {},
     "output_type": "execute_result"
    }
   ],
   "source": [
    "df_sim.head()"
   ]
  },
  {
   "cell_type": "code",
   "execution_count": 26,
   "id": "edd8cc06-adfc-4d02-acd8-ab5d8dba1073",
   "metadata": {},
   "outputs": [],
   "source": [
    "bars = alt.Chart(df_sim).mark_bar(color=COLOR).encode(\n",
    "    alt.X(\"hsize:Q\", scale=alt.Scale(domain=[0, 25]), title=\"Hyperedge Size\"),\n",
    "    alt.Y(\"mean(count):Q\"),\n",
    ")\n",
    "\n",
    "error = alt.Chart(df_sim).mark_errorbar(extent=\"ci\", rule=True).encode(\n",
    "    x=alt.X(\"hsize:Q\", scale=alt.Scale(domain=[0, 25])),\n",
    "    y=alt.Y(\n",
    "        \"count:Q\",\n",
    "        scale=alt.Scale(zero=False),\n",
    "        title=\"Absolute Frequency\"\n",
    "    ),\n",
    ")"
   ]
  },
  {
   "cell_type": "code",
   "execution_count": 27,
   "id": "4ead9432-7487-43ef-9f04-ecfea155625a",
   "metadata": {},
   "outputs": [
    {
     "ename": "ImportError",
     "evalue": "The \"vegafusion\" data transformer and chart.transformed_data feature requires\nversion 1.4.0 or greater of the 'vegafusion-python-embed' and 'vegafusion' packages.\nThese can be installed with pip using:\n    pip install \"vegafusion[embed]>=1.4.0\"\nOr with conda using:\n    conda install -c conda-forge \"vegafusion-python-embed>=1.4.0\" \"vegafusion>=1.4.0\"\n\nImportError: The vegafusion package must be version 1.4.0 or greater. Found version 1.1.3",
     "output_type": "error",
     "traceback": [
      "\u001b[0;31m---------------------------------------------------------------------------\u001b[0m",
      "\u001b[0;31mImportError\u001b[0m                               Traceback (most recent call last)",
      "\u001b[0;32m~/anaconda3/lib/python3.9/site-packages/altair/utils/_importers.py\u001b[0m in \u001b[0;36mimport_vegafusion\u001b[0;34m()\u001b[0m\n\u001b[1;32m     10\u001b[0m         \u001b[0;32mif\u001b[0m \u001b[0mVersion\u001b[0m\u001b[0;34m(\u001b[0m\u001b[0mversion\u001b[0m\u001b[0;34m)\u001b[0m \u001b[0;34m<\u001b[0m \u001b[0mVersion\u001b[0m\u001b[0;34m(\u001b[0m\u001b[0mmin_version\u001b[0m\u001b[0;34m)\u001b[0m\u001b[0;34m:\u001b[0m\u001b[0;34m\u001b[0m\u001b[0;34m\u001b[0m\u001b[0m\n\u001b[0;32m---> 11\u001b[0;31m             raise ImportError(\n\u001b[0m\u001b[1;32m     12\u001b[0m                 \u001b[0;34mf\"The vegafusion package must be version {min_version} or greater. \"\u001b[0m\u001b[0;34m\u001b[0m\u001b[0;34m\u001b[0m\u001b[0m\n",
      "\u001b[0;31mImportError\u001b[0m: The vegafusion package must be version 1.4.0 or greater. Found version 1.1.3",
      "\nThe above exception was the direct cause of the following exception:\n",
      "\u001b[0;31mImportError\u001b[0m                               Traceback (most recent call last)",
      "\u001b[0;32m~/anaconda3/lib/python3.9/site-packages/IPython/core/formatters.py\u001b[0m in \u001b[0;36m__call__\u001b[0;34m(self, obj, include, exclude)\u001b[0m\n\u001b[1;32m    968\u001b[0m \u001b[0;34m\u001b[0m\u001b[0m\n\u001b[1;32m    969\u001b[0m             \u001b[0;32mif\u001b[0m \u001b[0mmethod\u001b[0m \u001b[0;32mis\u001b[0m \u001b[0;32mnot\u001b[0m \u001b[0;32mNone\u001b[0m\u001b[0;34m:\u001b[0m\u001b[0;34m\u001b[0m\u001b[0;34m\u001b[0m\u001b[0m\n\u001b[0;32m--> 970\u001b[0;31m                 \u001b[0;32mreturn\u001b[0m \u001b[0mmethod\u001b[0m\u001b[0;34m(\u001b[0m\u001b[0minclude\u001b[0m\u001b[0;34m=\u001b[0m\u001b[0minclude\u001b[0m\u001b[0;34m,\u001b[0m \u001b[0mexclude\u001b[0m\u001b[0;34m=\u001b[0m\u001b[0mexclude\u001b[0m\u001b[0;34m)\u001b[0m\u001b[0;34m\u001b[0m\u001b[0;34m\u001b[0m\u001b[0m\n\u001b[0m\u001b[1;32m    971\u001b[0m             \u001b[0;32mreturn\u001b[0m \u001b[0;32mNone\u001b[0m\u001b[0;34m\u001b[0m\u001b[0;34m\u001b[0m\u001b[0m\n\u001b[1;32m    972\u001b[0m         \u001b[0;32melse\u001b[0m\u001b[0;34m:\u001b[0m\u001b[0;34m\u001b[0m\u001b[0;34m\u001b[0m\u001b[0m\n",
      "\u001b[0;32m~/anaconda3/lib/python3.9/site-packages/altair/vegalite/v5/api.py\u001b[0m in \u001b[0;36m_repr_mimebundle_\u001b[0;34m(self, include, exclude)\u001b[0m\n\u001b[1;32m   2295\u001b[0m             \u001b[0;32mreturn\u001b[0m \u001b[0;34m{\u001b[0m\u001b[0;34m}\u001b[0m\u001b[0;34m\u001b[0m\u001b[0;34m\u001b[0m\u001b[0m\n\u001b[1;32m   2296\u001b[0m         \u001b[0;32melse\u001b[0m\u001b[0;34m:\u001b[0m\u001b[0;34m\u001b[0m\u001b[0;34m\u001b[0m\u001b[0m\n\u001b[0;32m-> 2297\u001b[0;31m             \u001b[0;32mreturn\u001b[0m \u001b[0mrenderers\u001b[0m\u001b[0;34m.\u001b[0m\u001b[0mget\u001b[0m\u001b[0;34m(\u001b[0m\u001b[0;34m)\u001b[0m\u001b[0;34m(\u001b[0m\u001b[0mdct\u001b[0m\u001b[0;34m)\u001b[0m\u001b[0;34m\u001b[0m\u001b[0;34m\u001b[0m\u001b[0m\n\u001b[0m\u001b[1;32m   2298\u001b[0m \u001b[0;34m\u001b[0m\u001b[0m\n\u001b[1;32m   2299\u001b[0m     \u001b[0;32mdef\u001b[0m \u001b[0mdisplay\u001b[0m\u001b[0;34m(\u001b[0m\u001b[0mself\u001b[0m\u001b[0;34m,\u001b[0m \u001b[0mrenderer\u001b[0m\u001b[0;34m=\u001b[0m\u001b[0mUndefined\u001b[0m\u001b[0;34m,\u001b[0m \u001b[0mtheme\u001b[0m\u001b[0;34m=\u001b[0m\u001b[0mUndefined\u001b[0m\u001b[0;34m,\u001b[0m \u001b[0mactions\u001b[0m\u001b[0;34m=\u001b[0m\u001b[0mUndefined\u001b[0m\u001b[0;34m,\u001b[0m \u001b[0;34m**\u001b[0m\u001b[0mkwargs\u001b[0m\u001b[0;34m)\u001b[0m\u001b[0;34m:\u001b[0m\u001b[0;34m\u001b[0m\u001b[0;34m\u001b[0m\u001b[0m\n",
      "\u001b[0;32m~/anaconda3/lib/python3.9/site-packages/altair/utils/display.py\u001b[0m in \u001b[0;36m__call__\u001b[0;34m(self, spec, **metadata)\u001b[0m\n\u001b[1;32m    211\u001b[0m         \u001b[0mkwargs\u001b[0m \u001b[0;34m=\u001b[0m \u001b[0mself\u001b[0m\u001b[0;34m.\u001b[0m\u001b[0mkwargs\u001b[0m\u001b[0;34m.\u001b[0m\u001b[0mcopy\u001b[0m\u001b[0;34m(\u001b[0m\u001b[0;34m)\u001b[0m\u001b[0;34m\u001b[0m\u001b[0;34m\u001b[0m\u001b[0m\n\u001b[1;32m    212\u001b[0m         \u001b[0mkwargs\u001b[0m\u001b[0;34m.\u001b[0m\u001b[0mupdate\u001b[0m\u001b[0;34m(\u001b[0m\u001b[0mmetadata\u001b[0m\u001b[0;34m)\u001b[0m\u001b[0;34m\u001b[0m\u001b[0;34m\u001b[0m\u001b[0m\n\u001b[0;32m--> 213\u001b[0;31m         return spec_to_mimebundle(\n\u001b[0m\u001b[1;32m    214\u001b[0m             \u001b[0mspec\u001b[0m\u001b[0;34m,\u001b[0m \u001b[0mformat\u001b[0m\u001b[0;34m=\u001b[0m\u001b[0;34m\"html\"\u001b[0m\u001b[0;34m,\u001b[0m \u001b[0moutput_div\u001b[0m\u001b[0;34m=\u001b[0m\u001b[0mself\u001b[0m\u001b[0;34m.\u001b[0m\u001b[0moutput_div\u001b[0m\u001b[0;34m,\u001b[0m \u001b[0;34m**\u001b[0m\u001b[0mkwargs\u001b[0m\u001b[0;34m\u001b[0m\u001b[0;34m\u001b[0m\u001b[0m\n\u001b[1;32m    215\u001b[0m         )\n",
      "\u001b[0;32m~/anaconda3/lib/python3.9/site-packages/altair/utils/mimebundle.py\u001b[0m in \u001b[0;36mspec_to_mimebundle\u001b[0;34m(spec, format, mode, vega_version, vegaembed_version, vegalite_version, engine, **kwargs)\u001b[0m\n\u001b[1;32m     54\u001b[0m \u001b[0;34m\u001b[0m\u001b[0m\n\u001b[1;32m     55\u001b[0m     \u001b[0;32mif\u001b[0m \u001b[0musing_vegafusion\u001b[0m\u001b[0;34m(\u001b[0m\u001b[0;34m)\u001b[0m\u001b[0;34m:\u001b[0m\u001b[0;34m\u001b[0m\u001b[0;34m\u001b[0m\u001b[0m\n\u001b[0;32m---> 56\u001b[0;31m         \u001b[0mspec\u001b[0m \u001b[0;34m=\u001b[0m \u001b[0mcompile_with_vegafusion\u001b[0m\u001b[0;34m(\u001b[0m\u001b[0mspec\u001b[0m\u001b[0;34m)\u001b[0m\u001b[0;34m\u001b[0m\u001b[0;34m\u001b[0m\u001b[0m\n\u001b[0m\u001b[1;32m     57\u001b[0m         \u001b[0mmode\u001b[0m \u001b[0;34m=\u001b[0m \u001b[0;34m\"vega\"\u001b[0m\u001b[0;34m\u001b[0m\u001b[0;34m\u001b[0m\u001b[0m\n\u001b[1;32m     58\u001b[0m \u001b[0;34m\u001b[0m\u001b[0m\n",
      "\u001b[0;32m~/anaconda3/lib/python3.9/site-packages/altair/utils/_vegafusion_data.py\u001b[0m in \u001b[0;36mcompile_with_vegafusion\u001b[0;34m(vegalite_spec)\u001b[0m\n\u001b[1;32m    147\u001b[0m     \u001b[0;32mfrom\u001b[0m \u001b[0maltair\u001b[0m \u001b[0;32mimport\u001b[0m \u001b[0mvegalite_compilers\u001b[0m\u001b[0;34m,\u001b[0m \u001b[0mdata_transformers\u001b[0m\u001b[0;34m\u001b[0m\u001b[0;34m\u001b[0m\u001b[0m\n\u001b[1;32m    148\u001b[0m \u001b[0;34m\u001b[0m\u001b[0m\n\u001b[0;32m--> 149\u001b[0;31m     \u001b[0mvf\u001b[0m \u001b[0;34m=\u001b[0m \u001b[0mimport_vegafusion\u001b[0m\u001b[0;34m(\u001b[0m\u001b[0;34m)\u001b[0m\u001b[0;34m\u001b[0m\u001b[0;34m\u001b[0m\u001b[0m\n\u001b[0m\u001b[1;32m    150\u001b[0m \u001b[0;34m\u001b[0m\u001b[0m\n\u001b[1;32m    151\u001b[0m     \u001b[0;31m# Compile Vega-Lite spec to Vega\u001b[0m\u001b[0;34m\u001b[0m\u001b[0;34m\u001b[0m\u001b[0m\n",
      "\u001b[0;32m~/anaconda3/lib/python3.9/site-packages/altair/utils/_importers.py\u001b[0m in \u001b[0;36mimport_vegafusion\u001b[0;34m()\u001b[0m\n\u001b[1;32m     17\u001b[0m         \u001b[0;32mreturn\u001b[0m \u001b[0mvf\u001b[0m\u001b[0;34m\u001b[0m\u001b[0;34m\u001b[0m\u001b[0m\n\u001b[1;32m     18\u001b[0m     \u001b[0;32mexcept\u001b[0m \u001b[0mImportError\u001b[0m \u001b[0;32mas\u001b[0m \u001b[0merr\u001b[0m\u001b[0;34m:\u001b[0m\u001b[0;34m\u001b[0m\u001b[0;34m\u001b[0m\u001b[0m\n\u001b[0;32m---> 19\u001b[0;31m         raise ImportError(\n\u001b[0m\u001b[1;32m     20\u001b[0m             \u001b[0;34m'The \"vegafusion\" data transformer and chart.transformed_data feature requires\\n'\u001b[0m\u001b[0;34m\u001b[0m\u001b[0;34m\u001b[0m\u001b[0m\n\u001b[1;32m     21\u001b[0m             \u001b[0;34mf\"version {min_version} or greater of the 'vegafusion-python-embed' and 'vegafusion' packages.\\n\"\u001b[0m\u001b[0;34m\u001b[0m\u001b[0;34m\u001b[0m\u001b[0m\n",
      "\u001b[0;31mImportError\u001b[0m: The \"vegafusion\" data transformer and chart.transformed_data feature requires\nversion 1.4.0 or greater of the 'vegafusion-python-embed' and 'vegafusion' packages.\nThese can be installed with pip using:\n    pip install \"vegafusion[embed]>=1.4.0\"\nOr with conda using:\n    conda install -c conda-forge \"vegafusion-python-embed>=1.4.0\" \"vegafusion>=1.4.0\"\n\nImportError: The vegafusion package must be version 1.4.0 or greater. Found version 1.1.3"
     ]
    },
    {
     "data": {
      "text/plain": [
       "alt.LayerChart(...)"
      ]
     },
     "execution_count": 27,
     "metadata": {},
     "output_type": "execute_result"
    }
   ],
   "source": [
    "bars + error"
   ]
  },
  {
   "cell_type": "markdown",
   "id": "3577318a-4ce0-4889-bc9a-579727c27a62",
   "metadata": {},
   "source": [
    "# p effectif tests"
   ]
  },
  {
   "cell_type": "code",
   "execution_count": 28,
   "id": "ac47401a-e0cc-42ec-80c1-bdf86179cfc6",
   "metadata": {},
   "outputs": [],
   "source": [
    "# Bounds of n and p effectif\n",
    "bounds = [(N / 2, N), (q, p)]\n",
    "dist = stats.binom\n",
    "res = stats.fit(dist, list(degrees), bounds)"
   ]
  },
  {
   "cell_type": "code",
   "execution_count": 29,
   "id": "41a1a815-62bb-466f-8e57-f55c6202fcd3",
   "metadata": {},
   "outputs": [
    {
     "data": {
      "text/plain": [
       "  params: FitParams(n=642.0, p=0.00965420382768277, loc=0.0)\n",
       " success: True\n",
       " message: 'Optimization terminated successfully.'"
      ]
     },
     "execution_count": 29,
     "metadata": {},
     "output_type": "execute_result"
    }
   ],
   "source": [
    "res"
   ]
  },
  {
   "cell_type": "code",
   "execution_count": 30,
   "id": "9d1a7f6b-f9bd-453d-92c2-80c6e44dd608",
   "metadata": {},
   "outputs": [
    {
     "data": {
      "text/plain": [
       "0.00965420382768277"
      ]
     },
     "execution_count": 30,
     "metadata": {},
     "output_type": "execute_result"
    }
   ],
   "source": [
    "res.params[1]"
   ]
  },
  {
   "cell_type": "code",
   "execution_count": 31,
   "id": "a97a8648-9a1c-4438-99fc-6551e00557e2",
   "metadata": {},
   "outputs": [
    {
     "data": {
      "text/plain": [
       "0.02"
      ]
     },
     "execution_count": 31,
     "metadata": {},
     "output_type": "execute_result"
    }
   ],
   "source": [
    "p"
   ]
  },
  {
   "cell_type": "markdown",
   "id": "837e2f3f-71b2-4a26-923a-b67b091b6afc",
   "metadata": {},
   "source": [
    "# Fraction Dist"
   ]
  },
  {
   "cell_type": "code",
   "execution_count": 13,
   "id": "45d82bbc-e047-49fd-9821-414bd4c94f8a",
   "metadata": {},
   "outputs": [],
   "source": [
    "# Faire pareil sur 100/1000 réseaux\n",
    "# Accumuler la liste des degrées/hsize\n",
    "# Une value de p/q => plusieurs simulations => faire le fit la dessus"
   ]
  },
  {
   "cell_type": "code",
   "execution_count": 14,
   "id": "a618dba0-c59f-4193-ad68-7ab13a538a60",
   "metadata": {},
   "outputs": [],
   "source": [
    "p_init = 30 / N\n",
    "q_init = 30 / N"
   ]
  },
  {
   "cell_type": "code",
   "execution_count": 34,
   "id": "afe99831-cabe-49e1-820e-64e6915df881",
   "metadata": {},
   "outputs": [
    {
     "data": {
      "text/plain": [
       "0.03"
      ]
     },
     "execution_count": 34,
     "metadata": {},
     "output_type": "execute_result"
    }
   ],
   "source": [
    "q_init"
   ]
  },
  {
   "cell_type": "code",
   "execution_count": 38,
   "id": "3806ea8d-1473-4a54-8776-bb137dc97956",
   "metadata": {},
   "outputs": [],
   "source": [
    "def fit_function(x, n, p):\n",
    "    return stats.binom.pmf(x, n, p)"
   ]
  },
  {
   "cell_type": "code",
   "execution_count": null,
   "id": "cfb6896c-a3e1-41d1-aed5-998f5b5dc869",
   "metadata": {
    "tags": []
   },
   "outputs": [
    {
     "name": "stdout",
     "output_type": "stream",
     "text": [
      "0 0.03 0.03\n",
      "131.73760273827924 0.04738586303564263\n",
      "200.0 0.03\n",
      "[1. 1.]\n",
      "1 0.03 0.0285\n",
      "229.04736009873162 0.026599302421009385\n",
      "200.0 0.03\n",
      "[1. 1.]\n",
      "2 0.03 0.027\n",
      "-853.4703702970514 -0.00693609316271826\n",
      "200.0 0.02959874669174541\n",
      "[1. 1.]\n",
      "3 0.03 0.0255\n"
     ]
    }
   ],
   "source": [
    "p = p_init\n",
    "q = q_init \n",
    "\n",
    "df_degrees = pd.DataFrame(columns=[\"degree\"], dtype=int)\n",
    "df_hsizes = pd.DataFrame(columns=[\"hsize\"], dtype=int)\n",
    "\n",
    "df_sim = pd.DataFrame(columns=[\"sim\", \"type\", \"count\"], dtype=int)\n",
    "df_fraction = pd.DataFrame(columns=[\"sim\", \"count\", \"fraction0\"], dtype=int)\n",
    "df_fraction2 = pd.DataFrame(columns=[\"sim\", \"value\"])\n",
    "\n",
    "# df_peff = pd.DataFrame(columns=[\"peff\", \"p\", \"q\", \"q_frac\"], dtype=int)\n",
    "\n",
    "df_fits = pd.DataFrame(columns=[\"peff\", \"Neff\", \"p_hsize_eff\", \"n_eff_hsize\", \"p\", \"q\", \"q_frac\"], dtype=int)\n",
    "\n",
    "\n",
    "increment = 0.05\n",
    "N_sim = int(1 / increment) + 1\n",
    "q_frac_order = []\n",
    "N_graphs = 4\n",
    "\n",
    "q_to_degreefit = {}\n",
    "q_to_hsizefit = {}\n",
    "\n",
    "for i in range(N_sim):\n",
    "    q = round(q_init - (p * increment * i), 4)\n",
    "    print(i, p, q)\n",
    "    \n",
    "    q_frac = f\"{round(1 - (increment * (i)), 3)}p\"\n",
    "    q_frac_order.append(q_frac)\n",
    "    \n",
    "#     We can fit on several graphs at the same time\n",
    "    all_degrees = []\n",
    "    all_hsizes = []    \n",
    "    \n",
    "    for n_graph in range(N_graphs):\n",
    "        gen = Generator(N, N_edges, N_coms, p, q, community_array, sampling_strat)\n",
    "        gen.run()\n",
    "        comp = gen.hyperedges_types()\n",
    "        n_pure = comp.count(\"pure\")\n",
    "        n_mixed = comp.count(\"mixed\")\n",
    "    \n",
    "        df = pd.DataFrame({\"sim\": [i, i], \"q\": [q_frac, q_frac], \"type\": [\"pure\", \"mixed\"], \"count\": [n_pure, n_mixed]})\n",
    "        df_sim = pd.concat([df_sim, df])\n",
    "    \n",
    "    #     For fraction distribution of mixed edges\n",
    "        comp = gen.mixed_he_fraction_to_count()\n",
    "        for fraction, count in comp.items():\n",
    "            df = pd.DataFrame({\"sim\": [i], \"q\": [q_frac], \"count\": [count], \"fraction0\": fraction})\n",
    "            df_fraction = pd.concat([df_fraction, df])\n",
    "            \n",
    "            \n",
    "        #     For com distrib of hyperedges\n",
    "        comp = gen.hyperedges_nmax()\n",
    "        # for fraction in comp:\n",
    "        df = pd.DataFrame({\"q\": [q] * len(comp), \"value\": comp})\n",
    "        df_fraction2 = pd.concat([df_fraction2, df])\n",
    "        \n",
    "        # for peffectif computation\n",
    "        degrees = dict(gen.degrees()).values()\n",
    "        hsizes = dict(gen.hyperedge_sizes()).values()\n",
    "        \n",
    "        all_degrees = all_degrees + list(degrees)\n",
    "        all_hsizes = all_hsizes + list(hsizes)\n",
    "    \n",
    "    \n",
    "    df = pd.DataFrame({\"degree\": all_degrees, \"q\": q_frac})\n",
    "    df_degrees = pd.concat([df_degrees, df])\n",
    "                          \n",
    "    df = pd.DataFrame({\"hsize\": all_hsizes, \"q\": q_frac})\n",
    "    df_hsizes = pd.concat([df_hsizes, df])\n",
    "    \n",
    "    # Distrib of degree\n",
    "    # Bounds of n and p effectif\n",
    "    # bounds = [(N_edges, N_edges), (q, p)]\n",
    "    bounds = [(0, N_edges), (q, p)]\n",
    "    \n",
    "    dist = stats.binom\n",
    "    res = stats.fit(dist, all_degrees, bounds)\n",
    "    \n",
    "    peff = res.params[1]\n",
    "    neff = res.params[0]\n",
    "    # df = pd.DataFrame({\"peff\": [peff], \"p\": [p], \"q\": [q], \"q_frac\": [q_frac]})\n",
    "    # df_peff = pd.concat([df_peff, df])\n",
    "    q_to_degreefit[q] = res\n",
    "    \n",
    "    # Other fit\n",
    "    # dfit = distfit.distfit(method='discrete')\n",
    "    # dfit.fit_transform(np.array(all_degrees))\n",
    "    # print(dfit.model[\"n\"], dfit.model[\"p\"])\n",
    "    \n",
    "    # params, covmat = curve_fit(fit_function, np.arange(len(all_degrees)),  all_degrees, bounds=([0, q], [N_edges, p + 0.0001]))\n",
    "    # params, covmat = curve_fit(fit_function, 10,  all_degrees)\n",
    "    \n",
    "    \n",
    "    # marc says:p=1-v/m \n",
    "# marc says:E=m/(1-v/m) \n",
    "    mean = np.mean(all_degrees)\n",
    "    variance = np.var(all_degrees)\n",
    "    \n",
    "    pForm = 1 - variance / mean\n",
    "    NForm = mean / (1 -  (variance / mean))\n",
    "    print(NForm, pForm)\n",
    "    \n",
    "    # print(np.arange(len(all_degrees)))\n",
    "    \n",
    "    # params, covariance = curve_fit(binomial_pmf, np.arange(len(observed_data)), observed_data, p0=initial_guess)\n",
    "    \n",
    "    print(neff, peff)\n",
    "    print(params)\n",
    "    \n",
    "    # Distrib of hsizes\n",
    "    bounds = [(N / N_coms, N), (q, p)]\n",
    "    dist = stats.binom\n",
    "    res = stats.fit(dist, all_hsizes, bounds)\n",
    "    peffhsize = res.params[1]\n",
    "    neff_hsize = res.params[0]\n",
    "    q_to_hsizefit[q] = res\n",
    "    \n",
    "    df = pd.DataFrame({\"p\": [p], \"q\": [q], \"q_frac\": [q_frac], \"peff\": [peff], \"Neff\": [neff], \"p_hsize_eff\": [peffhsize], \"n_eff_hsize\": [neff_hsize]})\n",
    "    df_fits = pd.concat([df_fits, df])\n",
    "    # df_peff = pd.concat([df_peff, df])\n",
    "    \n",
    "    # print(\"PEFF \", peff, peffhsize)"
   ]
  },
  {
   "cell_type": "markdown",
   "id": "cff5fca3-2939-4671-a5f2-a82e261fd827",
   "metadata": {},
   "source": [
    "## Degree histograms with fit"
   ]
  },
  {
   "cell_type": "code",
   "execution_count": null,
   "id": "567ecffa-0d58-402d-aadc-4a49f6931785",
   "metadata": {
    "tags": []
   },
   "outputs": [],
   "source": [
    "df_degrees"
   ]
  },
  {
   "cell_type": "code",
   "execution_count": null,
   "id": "81fcaa43-c6c6-4cee-a408-2ca0c6c337bd",
   "metadata": {
    "tags": []
   },
   "outputs": [],
   "source": [
    "qs = [0.2, 0.4, 0.6, 0.8]\n",
    "for q in qs:\n",
    "    df = df_degrees[df_degrees[\"q\"] == f\"{q}p\"]   \n",
    "    fit = q_to_degreefit[q * p]\n",
    "    \n",
    "    chart = alt.Chart(df)\n",
    "\n",
    "    # Create a density plot using transform_density\n",
    "    density = chart.transform_density(\n",
    "        density='degree',\n",
    "        as_=['values', 'density'],  # Output field names\n",
    "    ).mark_line(  # You can use mark_line() for a line plot\n",
    "        opacity=0.6,  # Adjust the opacity of the area plot\n",
    "    ).encode(\n",
    "        x=alt.X('values:Q'),  # Set the X-axis label\n",
    "        y=alt.Y('density:Q', title='Density'),  # Set the Y-axis label\n",
    "    )\n",
    "    \n",
    "    \n",
    "    # Calculate the binomial PDF values for a range of x values\n",
    "    x_values = range(30)  # Assuming a range from 0 to 10\n",
    "    binomial_pmf = [stats.binom.pmf(x, fit.params[0], fit.params[1]) for x in x_values]\n",
    "\n",
    "    # Create a DataFrame for the binomial PDF\n",
    "    binomial_df = pd.DataFrame({\n",
    "        'values': x_values,\n",
    "        'binomial_pmf': binomial_pmf\n",
    "    })\n",
    "\n",
    "    # Create a line plot for the binomial PDF\n",
    "    binomial = alt.Chart(binomial_df).mark_line(color='red').encode(\n",
    "        x=alt.X('values:Q', title=\"Node Degree\"),\n",
    "        y=alt.Y('binomial_pmf:Q'),\n",
    "    )\n",
    "    \n",
    "    chart = density + binomial\n",
    "    chart.display()"
   ]
  },
  {
   "cell_type": "markdown",
   "id": "5d185dd3-34a5-4ddc-82f8-f69470c1b8e9",
   "metadata": {},
   "source": [
    "## Normalize"
   ]
  },
  {
   "cell_type": "code",
   "execution_count": null,
   "id": "5d2b5f31-267c-428c-96c6-6bdb984feec6",
   "metadata": {
    "tags": []
   },
   "outputs": [],
   "source": [
    "qs = [0, 0.2, 0.4, 0.6, 0.8, 1]\n",
    "for q in qs:\n",
    "    df = df_degrees[df_degrees[\"q\"] == f\"{q}p\"]   \n",
    "    fit = q_to_degreefit[q * p]\n",
    "    \n",
    "    chart = alt.Chart(df)\n",
    "    \n",
    "    chart = alt.Chart(df).transform_joinaggregate(\n",
    "    total='count(*)'\n",
    "    ).transform_calculate(\n",
    "        pct='1 / datum.total'\n",
    "    ).mark_bar(opacity=0.7).encode(\n",
    "        alt.X('degree:O'),\n",
    "        alt.Y('sum(pct):Q')\n",
    "    )\n",
    "    \n",
    "    # Calculate the binomial PDF values for a range of x values\n",
    "    x_values = range(22)  # Assuming a range from 0 to 10\n",
    "    binomial_pmf = [stats.binom.pmf(x, fit.params[0], fit.params[1]) for x in x_values]\n",
    "\n",
    "    # Create a DataFrame for the binomial PDF\n",
    "    binomial_df = pd.DataFrame({\n",
    "        'values': x_values,\n",
    "        'binomial_pmf': binomial_pmf\n",
    "    })\n",
    "\n",
    "    # Create a line plot for the binomial PDF\n",
    "    binomial = alt.Chart(binomial_df).mark_bar(color='red', opacity=0.3, width=2).encode(\n",
    "        x=alt.X('values:O', title=\"Node Degree\"),\n",
    "        y=alt.Y('binomial_pmf:Q'),\n",
    "    )\n",
    "    \n",
    "    (chart + binomial).display()\n",
    "    \n",
    "    # normalized_chart.display()"
   ]
  },
  {
   "cell_type": "code",
   "execution_count": null,
   "id": "8cda9a89-b258-4084-b6bc-2eae77a57f2a",
   "metadata": {
    "tags": []
   },
   "outputs": [],
   "source": [
    "df_degrees"
   ]
  },
  {
   "cell_type": "code",
   "execution_count": null,
   "id": "3278f298-0b35-40ca-9f1d-1a591e819c20",
   "metadata": {
    "tags": []
   },
   "outputs": [],
   "source": [
    "qs = [0.0, 0.2, 0.4, 0.6, 0.8, 1.0]\n",
    "for q in qs:\n",
    "    df = df_degrees[df_degrees[\"q\"] == f\"{q}p\"]   \n",
    "    fit = q_to_degreefit[q * p]\n",
    "    \n",
    "    chart = alt.Chart(df)\n",
    "    \n",
    "    chart = alt.Chart(df).transform_joinaggregate(\n",
    "    total='count(*)'\n",
    "    ).transform_calculate(\n",
    "        pct='1 / datum.total'\n",
    "    ).mark_bar(opacity=0.7).encode(\n",
    "        alt.X('degree:O'),\n",
    "        alt.Y('sum(pct):Q')\n",
    "    )\n",
    "    \n",
    "    # Calculate the binomial PDF values for a range of x values\n",
    "    x_values = range(22)  # Assuming a range from 0 to 10\n",
    "    binomial_pmf = [stats.binom.pmf(x, fit.params[0], fit.params[1]) for x in x_values]\n",
    "\n",
    "    # Create a DataFrame for the binomial PDF\n",
    "    binomial_df = pd.DataFrame({\n",
    "        'values': x_values,\n",
    "        'binomial_pmf': binomial_pmf\n",
    "    })\n",
    "\n",
    "    # Create a line plot for the binomial PDF\n",
    "    binomial = alt.Chart(binomial_df).mark_bar(color='red', opacity=0.3, width=2).encode(\n",
    "        x=alt.X('values:O', title=\"Node Degree\"),\n",
    "        y=alt.Y('binomial_pmf:Q'),\n",
    "    )\n",
    "    \n",
    "    (chart + binomial).display()\n",
    "    \n",
    "    # normalized_chart.display()"
   ]
  },
  {
   "cell_type": "code",
   "execution_count": null,
   "id": "be6454e3-7a24-4007-b312-e1f311d46d7e",
   "metadata": {
    "tags": []
   },
   "outputs": [],
   "source": [
    "for q in qs:\n",
    "    df = df_hsizes[df_hsizes[\"q\"] == f\"{q}p\"]   \n",
    "    fit = q_to_hsizefit[q * p]\n",
    "    \n",
    "    chart = alt.Chart(df)\n",
    "\n",
    "    chart = alt.Chart(df).transform_joinaggregate(\n",
    "    total='count(*)'\n",
    "    ).transform_calculate(\n",
    "        pct='1 / datum.total'\n",
    "    ).mark_bar(opacity=0.7).encode(\n",
    "        alt.X('hsize:O'),\n",
    "        alt.Y('sum(pct):Q')\n",
    "    )\n",
    "    \n",
    "    # Calculate the binomial PDF values for a range of x values\n",
    "    x_values = range(50)  # Assuming a range from 0 to 10\n",
    "    binomial_pmf = [stats.binom.pmf(x, fit.params[0], fit.params[1]) for x in x_values]\n",
    "\n",
    "    # Create a DataFrame for the binomial PDF\n",
    "    binomial_df = pd.DataFrame({\n",
    "        'values': x_values,\n",
    "        'binomial_pmf': binomial_pmf\n",
    "    })\n",
    "\n",
    "    # Create a line plot for the binomial PDF\n",
    "    binomial = alt.Chart(binomial_df).mark_bar(color='red', opacity=0.3, width=2).encode(\n",
    "        x=alt.X('values:O', title=\"Hyperedge Size\"),\n",
    "        y=alt.Y('binomial_pmf:Q'),\n",
    "    )\n",
    "    \n",
    "    (chart + binomial).display()"
   ]
  },
  {
   "cell_type": "markdown",
   "id": "efc8c802-4a6d-4a2a-ac2b-7a70878187a9",
   "metadata": {},
   "source": [
    "## Distribution of types of edges"
   ]
  },
  {
   "cell_type": "code",
   "execution_count": null,
   "id": "e154f7c2-75cf-4ea2-8a9a-79c728216767",
   "metadata": {},
   "outputs": [],
   "source": [
    "alt.Chart(df_sim).mark_bar().encode(\n",
    "    x=alt.X('q:O', sort=q_frac_order),\n",
    "    y=alt.Y('count', title=\"Number of hyperedges\"),\n",
    "    color=alt.Color('type', \n",
    "    scale = alt.Scale(domain=['mixed', \"pure\"], range=['#9ebcda', '#e0ecf4']))\n",
    ").properties(\n",
    "    width=800,\n",
    "    height=300\n",
    ")"
   ]
  },
  {
   "cell_type": "code",
   "execution_count": null,
   "id": "0425d7a2-4088-42e2-9f41-fbbc19cae541",
   "metadata": {
    "tags": []
   },
   "outputs": [],
   "source": [
    "alt.Chart(df_fraction).mark_bar().encode(\n",
    "    x=alt.X('q:O', sort=q_frac_order),\n",
    "    y=alt.Y('count'),\n",
    "    color=alt.Color('fraction0').scale(scheme=\"lightgreyteal\"),\n",
    "    order=alt.Order(\n",
    "      # Sort the segments of the bars by this field\n",
    "      'fraction0',\n",
    "      sort='descending'\n",
    "    )\n",
    "    # scale = alt.Scale(domain=['mixed', \"pure\"], range=['#9ebcda', '#e0ecf4']))\n",
    ").properties(\n",
    "    width=800,\n",
    "    height=300\n",
    ")"
   ]
  },
  {
   "cell_type": "code",
   "execution_count": null,
   "id": "2c919374-893f-4143-9286-43dacd90d360",
   "metadata": {},
   "outputs": [],
   "source": [
    "# Tracer la meme chose avec des histogrammes (+ nouvelle quantité) (pour quelques valuers de q, une proche de 0, de p, et vers 0.4)\n",
    "# Regarder la fraction moyenne, variance (max(n1, n2) / n1 + n2), a moyenne sur l'ensemble des hyperliens. à tracer sur q\n",
    "\n",
    "# Calculer le GINI pour ncom = 4 ?"
   ]
  },
  {
   "cell_type": "code",
   "execution_count": null,
   "id": "233d86a7-34e3-4a84-93fc-5433fb5b78fc",
   "metadata": {
    "tags": []
   },
   "outputs": [],
   "source": [
    "df_fraction2.head()"
   ]
  },
  {
   "cell_type": "code",
   "execution_count": null,
   "id": "c739a73f-b735-450e-b52c-02c27e10dfbe",
   "metadata": {
    "tags": []
   },
   "outputs": [],
   "source": [
    "df_fraction2[\"q / p\"] = df_fraction2[\"q\"] / p"
   ]
  },
  {
   "cell_type": "code",
   "execution_count": null,
   "id": "a7162f4b-c580-4318-8217-0982842084d2",
   "metadata": {
    "tags": []
   },
   "outputs": [],
   "source": [
    "# Calculer la variance a la place, tester avec plusieurs valeurs de E = 50, 100, 200\n",
    "error = alt.Chart(df_fraction2).mark_errorband(extent=\"ci\", borders=True).encode(\n",
    "    x=\"q / p\",\n",
    "    y=alt.Y(\n",
    "        \"value:Q\",\n",
    "        # scale=alt.Scale(zero=False),\n",
    "        # title=\"Miles per Gallon (95% CIs)\",\n",
    "        title=\"max(n1, n2) / n1 + n2\"\n",
    "    ),\n",
    ")\n",
    "\n",
    "mean_line = alt.Chart(df_fraction2).mark_line(color=\"black\").encode(\n",
    "    x=\"q / p\",\n",
    "    y=alt.Y(\n",
    "        \"mean(value)\",\n",
    "        # title=\"Hyperedge Purity\"\n",
    "        title=\"max(n1, n2) / n1 + n2\"\n",
    "    ),\n",
    ")\n",
    "\n",
    "error + mean_line"
   ]
  },
  {
   "cell_type": "code",
   "execution_count": null,
   "id": "672a557c-fafa-4cbe-b35f-25554388a506",
   "metadata": {},
   "outputs": [],
   "source": [
    "# Pour quelques valeurs de q /p, tracer la distribution de la valeur\n",
    "# Tracer la variance de la quantite vs q/p"
   ]
  },
  {
   "cell_type": "markdown",
   "id": "b22d82b6-bcf1-4353-b9e6-f45dab3ead67",
   "metadata": {},
   "source": [
    "# Distrib effectives"
   ]
  },
  {
   "cell_type": "code",
   "execution_count": null,
   "id": "c600c620-e040-4919-b7f6-5ca4248ddb5c",
   "metadata": {},
   "outputs": [],
   "source": [
    "df_fits"
   ]
  },
  {
   "cell_type": "markdown",
   "id": "57817257-8c32-4f33-a0ec-575438f34a49",
   "metadata": {},
   "source": [
    "## Degree distrib fit"
   ]
  },
  {
   "cell_type": "code",
   "execution_count": null,
   "id": "e5aece92-364d-40d0-893d-7900cbdac89c",
   "metadata": {},
   "outputs": [],
   "source": [
    "## Essayer avec curve fit pour les parametres\n",
    "def fit_function(x, n, p):\n",
    "    return binom.pmf(x, n, p)\n",
    "\n",
    "num_bins = 10\n",
    "\n",
    "params, covmat = curve_fit(fit_function, 10,  data) \n",
    "marc says:rom scipy.optimize import curve_fit\n",
    "from scipy.stats import binom "
   ]
  },
  {
   "cell_type": "code",
   "execution_count": null,
   "id": "f58a39ba-f89c-4906-bf0d-1bd5a99c5f79",
   "metadata": {},
   "outputs": [],
   "source": [
    "points = alt.Chart(df_fits).mark_point().encode(\n",
    "    x=alt.X('q', sort=q_frac_order),\n",
    "    # x=alt.X('q', sort=q_frac_order, axis=alt.Axis(labelExpr=q_frac_order)),\n",
    "    y=alt.Y('peff', title=\"p_eff\"),\n",
    ").properties(\n",
    "    width=800,\n",
    "    height=300\n",
    ")"
   ]
  },
  {
   "cell_type": "code",
   "execution_count": null,
   "id": "45b375da-2f25-4294-a2d1-fd1d798ce088",
   "metadata": {},
   "outputs": [],
   "source": [
    "regresssion = points.transform_regression('q', 'peff', method=\"poly\").mark_line(color=\"black\")"
   ]
  },
  {
   "cell_type": "code",
   "execution_count": null,
   "id": "64c4a344-3d48-4a7a-ba48-d56835f494e3",
   "metadata": {},
   "outputs": [],
   "source": [
    "line = alt.Chart(pd.DataFrame({'y': [p]})).mark_rule().encode(y='y')"
   ]
  },
  {
   "cell_type": "code",
   "execution_count": null,
   "id": "33eb8ac3-10c4-4301-9c59-fb6fef6d595e",
   "metadata": {
    "tags": []
   },
   "outputs": [],
   "source": [
    "# points + regresssion + line\n",
    "# Pour plusieurs valeur de N\n",
    "points + line"
   ]
  },
  {
   "cell_type": "markdown",
   "id": "440aefaa-a6b8-4a78-858a-43e54dc3a582",
   "metadata": {},
   "source": [
    "### Normalize"
   ]
  },
  {
   "cell_type": "code",
   "execution_count": null,
   "id": "9256a438-99ed-494a-9f3d-1afc584650b0",
   "metadata": {},
   "outputs": [],
   "source": [
    "df_fits[\"peff / p\"] = df_fits[\"peff\"] / df_fits[\"p\"] \n",
    "df_fits[\"p_h_eff / p\"] = df_fits[\"p_hsize_eff\"] / df_fits[\"p\"] \n",
    "df_fits[\"q / p\"] = df_fits[\"q\"] / df_fits[\"p\"] \n",
    "\n",
    "df_fits[\"Neff / Nedges\"] = df_fits[\"Neff\"] / N_edges\n",
    "df_fits[\"NeffHsize / N\"] = df_fits[\"n_eff_hsize\"] / N"
   ]
  },
  {
   "cell_type": "code",
   "execution_count": null,
   "id": "a7298dd6-7a46-4819-934a-800ed6dcfe1b",
   "metadata": {},
   "outputs": [],
   "source": [
    "points = alt.Chart(df_fits).mark_point().encode(\n",
    "    x=alt.X('q / p', sort=q_frac_order),\n",
    "    # x=alt.X('q', sort=q_frac_order, axis=alt.Axis(labelExpr=q_frac_order)),\n",
    "    y=alt.Y('peff / p'),\n",
    ").properties(\n",
    "    width=800,\n",
    "    height=300\n",
    ")\n",
    "\n",
    "points"
   ]
  },
  {
   "cell_type": "code",
   "execution_count": null,
   "id": "3aad3714-8bac-430c-b420-c51d475e21a3",
   "metadata": {
    "tags": []
   },
   "outputs": [],
   "source": [
    "points_Neff = alt.Chart(df_fits).mark_point().encode(\n",
    "    x=alt.X('q / p', sort=q_frac_order),\n",
    "    # x=alt.X('q', sort=q_frac_order, axis=alt.Axis(labelExpr=q_frac_order)),\n",
    "    y=alt.Y('Neff / Nedges'),\n",
    ").properties(\n",
    "    width=800,\n",
    "    height=300\n",
    ")\n",
    "\n",
    "points_Neff"
   ]
  },
  {
   "cell_type": "markdown",
   "id": "1448e8c1-fb97-4997-8d0e-2374b9d4b90c",
   "metadata": {},
   "source": [
    "## Hsize fits"
   ]
  },
  {
   "cell_type": "code",
   "execution_count": null,
   "id": "14e162d3-66e2-469b-9b7a-60652d6d2a35",
   "metadata": {
    "tags": []
   },
   "outputs": [],
   "source": [
    "points = alt.Chart(df_fits).mark_point().encode(\n",
    "    x=alt.X('q / p', sort=q_frac_order),\n",
    "    # x=alt.X('q', sort=q_frac_order, axis=alt.Axis(labelExpr=q_frac_order)),\n",
    "    y=alt.Y('p_h_eff / p'),\n",
    ").properties(\n",
    "    width=800,\n",
    "    height=300\n",
    ")\n",
    "\n",
    "points"
   ]
  },
  {
   "cell_type": "code",
   "execution_count": null,
   "id": "7f8d7ad9-dc53-4166-8145-0ec2ab6e13c2",
   "metadata": {
    "tags": []
   },
   "outputs": [],
   "source": [
    "points_Neff = alt.Chart(df_fits).mark_point().encode(\n",
    "    x=alt.X('q / p', sort=q_frac_order),\n",
    "    # x=alt.X('q', sort=q_frac_order, axis=alt.Axis(labelExpr=q_frac_order)),\n",
    "    y=alt.Y(\"NeffHsize / N\"),\n",
    ").properties(\n",
    "    width=800,\n",
    "    height=300\n",
    ")\n",
    "\n",
    "points_Neff"
   ]
  },
  {
   "cell_type": "code",
   "execution_count": null,
   "id": "b0fa8a66-2255-49ee-a646-4dbc03615332",
   "metadata": {},
   "outputs": [],
   "source": [
    "# Tracer peff / p, en fonction de q / p\n",
    "\n",
    "# Tracer Neff / N, en fonction de q / p\n",
    "# Tracer Eeff / N, en fonction de q / p\n",
    "\n",
    "\n",
    "# Plotter la distribution sous jacente pour certaines valeurs de q (à la milieu de la distrib, pour le plateau)\n",
    "# Essayer de visualiser l'erreur de peff et Neff"
   ]
  },
  {
   "cell_type": "code",
   "execution_count": null,
   "id": "7c414448-f1f1-44e9-93ae-a6338e3a5e70",
   "metadata": {},
   "outputs": [],
   "source": [
    "# Tester curve fit\n",
    "# https://stackoverflow.com/questions/63710757/fitting-a-binomial-distribution-to-a-curve-with-python "
   ]
  },
  {
   "cell_type": "code",
   "execution_count": null,
   "id": "d57401e1-ac52-464d-abf9-4b0e0a95040c",
   "metadata": {},
   "outputs": [],
   "source": [
    "# marc says:binomial: m=Ep; v=Ep(1-p) \n",
    "# marc says:E=m/p => v=m(1-p) =>1-p=v/m \n",
    "# marc says:p=1-v/m \n",
    "# marc says:E=m/(1-v/m) \n",
    "\n",
    "# Tracer moyenne est variance en fct de p/q"
   ]
  }
 ],
 "metadata": {
  "kernelspec": {
   "display_name": "Python 3 (ipykernel)",
   "language": "python",
   "name": "python3"
  },
  "language_info": {
   "codemirror_mode": {
    "name": "ipython",
    "version": 3
   },
   "file_extension": ".py",
   "mimetype": "text/x-python",
   "name": "python",
   "nbconvert_exporter": "python",
   "pygments_lexer": "ipython3",
   "version": "3.9.16"
  }
 },
 "nbformat": 4,
 "nbformat_minor": 5
}
