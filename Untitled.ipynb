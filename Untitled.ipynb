{
 "cells": [
  {
   "cell_type": "code",
   "execution_count": 1,
   "id": "0dd6974a-79aa-402f-b474-1c8faa46fe44",
   "metadata": {},
   "outputs": [],
   "source": [
    "import json\n",
    "import math\n",
    "import networkx as nx\n",
    "import pandas as pd\n",
    "import altair as alt\n",
    "import numpy as np\n",
    "from scipy import stats\n",
    "\n",
    "from generator_v2 import Generator"
   ]
  },
  {
   "cell_type": "code",
   "execution_count": 2,
   "id": "2bb64ce8-04a7-4fde-8248-5939dbdeb088",
   "metadata": {},
   "outputs": [],
   "source": [
    "COLOR = \"#99d8c9\""
   ]
  },
  {
   "cell_type": "code",
   "execution_count": 3,
   "id": "5a227afe-303a-43da-8583-e377e99a6efe",
   "metadata": {},
   "outputs": [
    {
     "data": {
      "text/plain": [
       "'5.1.1'"
      ]
     },
     "execution_count": 3,
     "metadata": {},
     "output_type": "execute_result"
    }
   ],
   "source": [
    "alt.__version__"
   ]
  },
  {
   "cell_type": "code",
   "execution_count": 4,
   "id": "600173db-fff0-4485-8e98-d81cf3eb39c3",
   "metadata": {},
   "outputs": [],
   "source": [
    "N = 500\n",
    "N_edges = N // 2\n",
    "N_coms = 2\n",
    "sampling_strat = \"weighted\"\n",
    "# sampling_strat = \"max\"\n",
    "p = 20/N\n",
    "q = 3/N"
   ]
  },
  {
   "cell_type": "code",
   "execution_count": 5,
   "id": "f04fce51-9ee6-405f-818f-4abdc6587d18",
   "metadata": {},
   "outputs": [],
   "source": [
    "community_array = [0 for x in range(N//2)]  + [1 for x in range(N//2)]"
   ]
  },
  {
   "cell_type": "markdown",
   "id": "2e32c6be-829f-43cd-9872-3867cbcdf34e",
   "metadata": {
    "tags": []
   },
   "source": [
    "# Node Degree"
   ]
  },
  {
   "cell_type": "code",
   "execution_count": 6,
   "id": "1bfb08a4-1f5c-4934-b7ee-67960ffdb94a",
   "metadata": {},
   "outputs": [],
   "source": [
    "gen = Generator(N, N_edges, N_coms, p, q, community_array, sampling_strat)\n",
    "gen.run()"
   ]
  },
  {
   "cell_type": "code",
   "execution_count": 7,
   "id": "9c72b608-3eb3-4412-8a8e-f87f87f69348",
   "metadata": {},
   "outputs": [],
   "source": [
    "degrees = dict(gen.degrees()).values()"
   ]
  },
  {
   "cell_type": "code",
   "execution_count": 8,
   "id": "00fd2e26-6059-4dc8-97ae-b8798aac5989",
   "metadata": {
    "tags": []
   },
   "outputs": [],
   "source": [
    "degrees_df = pd.DataFrame(degrees, columns=[\"degree\"])"
   ]
  },
  {
   "cell_type": "code",
   "execution_count": 9,
   "id": "9f2fbdbd-4198-4210-aa6c-5761f2125d82",
   "metadata": {
    "tags": []
   },
   "outputs": [
    {
     "data": {
      "text/html": [
       "<div>\n",
       "<style scoped>\n",
       "    .dataframe tbody tr th:only-of-type {\n",
       "        vertical-align: middle;\n",
       "    }\n",
       "\n",
       "    .dataframe tbody tr th {\n",
       "        vertical-align: top;\n",
       "    }\n",
       "\n",
       "    .dataframe thead th {\n",
       "        text-align: right;\n",
       "    }\n",
       "</style>\n",
       "<table border=\"1\" class=\"dataframe\">\n",
       "  <thead>\n",
       "    <tr style=\"text-align: right;\">\n",
       "      <th></th>\n",
       "      <th>degree</th>\n",
       "    </tr>\n",
       "  </thead>\n",
       "  <tbody>\n",
       "    <tr>\n",
       "      <th>0</th>\n",
       "      <td>9</td>\n",
       "    </tr>\n",
       "    <tr>\n",
       "      <th>1</th>\n",
       "      <td>4</td>\n",
       "    </tr>\n",
       "    <tr>\n",
       "      <th>2</th>\n",
       "      <td>12</td>\n",
       "    </tr>\n",
       "    <tr>\n",
       "      <th>3</th>\n",
       "      <td>7</td>\n",
       "    </tr>\n",
       "    <tr>\n",
       "      <th>4</th>\n",
       "      <td>6</td>\n",
       "    </tr>\n",
       "    <tr>\n",
       "      <th>...</th>\n",
       "      <td>...</td>\n",
       "    </tr>\n",
       "    <tr>\n",
       "      <th>495</th>\n",
       "      <td>5</td>\n",
       "    </tr>\n",
       "    <tr>\n",
       "      <th>496</th>\n",
       "      <td>3</td>\n",
       "    </tr>\n",
       "    <tr>\n",
       "      <th>497</th>\n",
       "      <td>8</td>\n",
       "    </tr>\n",
       "    <tr>\n",
       "      <th>498</th>\n",
       "      <td>7</td>\n",
       "    </tr>\n",
       "    <tr>\n",
       "      <th>499</th>\n",
       "      <td>5</td>\n",
       "    </tr>\n",
       "  </tbody>\n",
       "</table>\n",
       "<p>500 rows × 1 columns</p>\n",
       "</div>"
      ],
      "text/plain": [
       "     degree\n",
       "0         9\n",
       "1         4\n",
       "2        12\n",
       "3         7\n",
       "4         6\n",
       "..      ...\n",
       "495       5\n",
       "496       3\n",
       "497       8\n",
       "498       7\n",
       "499       5\n",
       "\n",
       "[500 rows x 1 columns]"
      ]
     },
     "execution_count": 9,
     "metadata": {},
     "output_type": "execute_result"
    }
   ],
   "source": [
    "degrees_df"
   ]
  },
  {
   "cell_type": "code",
   "execution_count": 10,
   "id": "2c971ba9-5c0c-47f8-81c3-dca69a8240af",
   "metadata": {},
   "outputs": [
    {
     "data": {
      "text/html": [
       "\n",
       "<style>\n",
       "  #altair-viz-82f8ebbf025f497abc3d3442435fbf36.vega-embed {\n",
       "    width: 100%;\n",
       "    display: flex;\n",
       "  }\n",
       "\n",
       "  #altair-viz-82f8ebbf025f497abc3d3442435fbf36.vega-embed details,\n",
       "  #altair-viz-82f8ebbf025f497abc3d3442435fbf36.vega-embed details summary {\n",
       "    position: relative;\n",
       "  }\n",
       "</style>\n",
       "<div id=\"altair-viz-82f8ebbf025f497abc3d3442435fbf36\"></div>\n",
       "<script type=\"text/javascript\">\n",
       "  var VEGA_DEBUG = (typeof VEGA_DEBUG == \"undefined\") ? {} : VEGA_DEBUG;\n",
       "  (function(spec, embedOpt){\n",
       "    let outputDiv = document.currentScript.previousElementSibling;\n",
       "    if (outputDiv.id !== \"altair-viz-82f8ebbf025f497abc3d3442435fbf36\") {\n",
       "      outputDiv = document.getElementById(\"altair-viz-82f8ebbf025f497abc3d3442435fbf36\");\n",
       "    }\n",
       "    const paths = {\n",
       "      \"vega\": \"https://cdn.jsdelivr.net/npm/vega@5?noext\",\n",
       "      \"vega-lib\": \"https://cdn.jsdelivr.net/npm/vega-lib?noext\",\n",
       "      \"vega-lite\": \"https://cdn.jsdelivr.net/npm/vega-lite@5.14.1?noext\",\n",
       "      \"vega-embed\": \"https://cdn.jsdelivr.net/npm/vega-embed@6?noext\",\n",
       "    };\n",
       "\n",
       "    function maybeLoadScript(lib, version) {\n",
       "      var key = `${lib.replace(\"-\", \"\")}_version`;\n",
       "      return (VEGA_DEBUG[key] == version) ?\n",
       "        Promise.resolve(paths[lib]) :\n",
       "        new Promise(function(resolve, reject) {\n",
       "          var s = document.createElement('script');\n",
       "          document.getElementsByTagName(\"head\")[0].appendChild(s);\n",
       "          s.async = true;\n",
       "          s.onload = () => {\n",
       "            VEGA_DEBUG[key] = version;\n",
       "            return resolve(paths[lib]);\n",
       "          };\n",
       "          s.onerror = () => reject(`Error loading script: ${paths[lib]}`);\n",
       "          s.src = paths[lib];\n",
       "        });\n",
       "    }\n",
       "\n",
       "    function showError(err) {\n",
       "      outputDiv.innerHTML = `<div class=\"error\" style=\"color:red;\">${err}</div>`;\n",
       "      throw err;\n",
       "    }\n",
       "\n",
       "    function displayChart(vegaEmbed) {\n",
       "      vegaEmbed(outputDiv, spec, embedOpt)\n",
       "        .catch(err => showError(`Javascript Error: ${err.message}<br>This usually means there's a typo in your chart specification. See the javascript console for the full traceback.`));\n",
       "    }\n",
       "\n",
       "    if(typeof define === \"function\" && define.amd) {\n",
       "      requirejs.config({paths});\n",
       "      require([\"vega-embed\"], displayChart, err => showError(`Error loading script: ${err.message}`));\n",
       "    } else {\n",
       "      maybeLoadScript(\"vega\", \"5\")\n",
       "        .then(() => maybeLoadScript(\"vega-lite\", \"5.14.1\"))\n",
       "        .then(() => maybeLoadScript(\"vega-embed\", \"6\"))\n",
       "        .catch(showError)\n",
       "        .then(() => displayChart(vegaEmbed));\n",
       "    }\n",
       "  })({\"config\": {\"view\": {\"continuousWidth\": 300, \"continuousHeight\": 300}}, \"data\": {\"name\": \"data-2b1a109987731d567ac9bf8016790853\"}, \"mark\": {\"type\": \"bar\"}, \"encoding\": {\"x\": {\"field\": \"degree\", \"type\": \"quantitative\"}, \"y\": {\"aggregate\": \"count\", \"type\": \"quantitative\"}}, \"$schema\": \"https://vega.github.io/schema/vega-lite/v5.14.1.json\", \"datasets\": {\"data-2b1a109987731d567ac9bf8016790853\": [{\"degree\": 9}, {\"degree\": 4}, {\"degree\": 12}, {\"degree\": 7}, {\"degree\": 6}, {\"degree\": 8}, {\"degree\": 7}, {\"degree\": 16}, {\"degree\": 7}, {\"degree\": 5}, {\"degree\": 7}, {\"degree\": 3}, {\"degree\": 7}, {\"degree\": 9}, {\"degree\": 2}, {\"degree\": 3}, {\"degree\": 6}, {\"degree\": 10}, {\"degree\": 3}, {\"degree\": 5}, {\"degree\": 4}, {\"degree\": 5}, {\"degree\": 2}, {\"degree\": 5}, {\"degree\": 6}, {\"degree\": 3}, {\"degree\": 5}, {\"degree\": 9}, {\"degree\": 6}, {\"degree\": 5}, {\"degree\": 7}, {\"degree\": 12}, {\"degree\": 3}, {\"degree\": 8}, {\"degree\": 4}, {\"degree\": 5}, {\"degree\": 4}, {\"degree\": 7}, {\"degree\": 8}, {\"degree\": 6}, {\"degree\": 6}, {\"degree\": 7}, {\"degree\": 7}, {\"degree\": 8}, {\"degree\": 9}, {\"degree\": 10}, {\"degree\": 2}, {\"degree\": 5}, {\"degree\": 1}, {\"degree\": 10}, {\"degree\": 7}, {\"degree\": 4}, {\"degree\": 6}, {\"degree\": 6}, {\"degree\": 3}, {\"degree\": 8}, {\"degree\": 7}, {\"degree\": 6}, {\"degree\": 6}, {\"degree\": 4}, {\"degree\": 6}, {\"degree\": 10}, {\"degree\": 10}, {\"degree\": 7}, {\"degree\": 8}, {\"degree\": 5}, {\"degree\": 3}, {\"degree\": 8}, {\"degree\": 4}, {\"degree\": 12}, {\"degree\": 4}, {\"degree\": 8}, {\"degree\": 4}, {\"degree\": 8}, {\"degree\": 2}, {\"degree\": 4}, {\"degree\": 10}, {\"degree\": 7}, {\"degree\": 4}, {\"degree\": 7}, {\"degree\": 3}, {\"degree\": 8}, {\"degree\": 8}, {\"degree\": 4}, {\"degree\": 7}, {\"degree\": 7}, {\"degree\": 12}, {\"degree\": 9}, {\"degree\": 9}, {\"degree\": 7}, {\"degree\": 4}, {\"degree\": 5}, {\"degree\": 7}, {\"degree\": 4}, {\"degree\": 3}, {\"degree\": 5}, {\"degree\": 8}, {\"degree\": 7}, {\"degree\": 9}, {\"degree\": 9}, {\"degree\": 6}, {\"degree\": 2}, {\"degree\": 3}, {\"degree\": 4}, {\"degree\": 8}, {\"degree\": 1}, {\"degree\": 5}, {\"degree\": 5}, {\"degree\": 6}, {\"degree\": 3}, {\"degree\": 7}, {\"degree\": 11}, {\"degree\": 8}, {\"degree\": 8}, {\"degree\": 13}, {\"degree\": 8}, {\"degree\": 3}, {\"degree\": 6}, {\"degree\": 4}, {\"degree\": 6}, {\"degree\": 11}, {\"degree\": 10}, {\"degree\": 8}, {\"degree\": 7}, {\"degree\": 9}, {\"degree\": 4}, {\"degree\": 4}, {\"degree\": 4}, {\"degree\": 7}, {\"degree\": 8}, {\"degree\": 7}, {\"degree\": 9}, {\"degree\": 4}, {\"degree\": 8}, {\"degree\": 6}, {\"degree\": 5}, {\"degree\": 6}, {\"degree\": 2}, {\"degree\": 9}, {\"degree\": 6}, {\"degree\": 6}, {\"degree\": 4}, {\"degree\": 11}, {\"degree\": 7}, {\"degree\": 7}, {\"degree\": 3}, {\"degree\": 9}, {\"degree\": 2}, {\"degree\": 4}, {\"degree\": 9}, {\"degree\": 6}, {\"degree\": 3}, {\"degree\": 5}, {\"degree\": 13}, {\"degree\": 3}, {\"degree\": 8}, {\"degree\": 9}, {\"degree\": 4}, {\"degree\": 3}, {\"degree\": 5}, {\"degree\": 8}, {\"degree\": 9}, {\"degree\": 6}, {\"degree\": 4}, {\"degree\": 11}, {\"degree\": 5}, {\"degree\": 6}, {\"degree\": 7}, {\"degree\": 10}, {\"degree\": 6}, {\"degree\": 11}, {\"degree\": 4}, {\"degree\": 7}, {\"degree\": 7}, {\"degree\": 10}, {\"degree\": 7}, {\"degree\": 5}, {\"degree\": 4}, {\"degree\": 5}, {\"degree\": 3}, {\"degree\": 4}, {\"degree\": 10}, {\"degree\": 5}, {\"degree\": 10}, {\"degree\": 7}, {\"degree\": 8}, {\"degree\": 6}, {\"degree\": 6}, {\"degree\": 4}, {\"degree\": 8}, {\"degree\": 8}, {\"degree\": 5}, {\"degree\": 4}, {\"degree\": 8}, {\"degree\": 7}, {\"degree\": 4}, {\"degree\": 2}, {\"degree\": 5}, {\"degree\": 8}, {\"degree\": 7}, {\"degree\": 7}, {\"degree\": 7}, {\"degree\": 6}, {\"degree\": 7}, {\"degree\": 5}, {\"degree\": 7}, {\"degree\": 8}, {\"degree\": 6}, {\"degree\": 11}, {\"degree\": 6}, {\"degree\": 8}, {\"degree\": 6}, {\"degree\": 6}, {\"degree\": 7}, {\"degree\": 7}, {\"degree\": 7}, {\"degree\": 7}, {\"degree\": 5}, {\"degree\": 3}, {\"degree\": 6}, {\"degree\": 3}, {\"degree\": 7}, {\"degree\": 4}, {\"degree\": 5}, {\"degree\": 5}, {\"degree\": 5}, {\"degree\": 4}, {\"degree\": 3}, {\"degree\": 3}, {\"degree\": 5}, {\"degree\": 3}, {\"degree\": 5}, {\"degree\": 8}, {\"degree\": 4}, {\"degree\": 7}, {\"degree\": 8}, {\"degree\": 5}, {\"degree\": 10}, {\"degree\": 7}, {\"degree\": 5}, {\"degree\": 8}, {\"degree\": 12}, {\"degree\": 7}, {\"degree\": 9}, {\"degree\": 9}, {\"degree\": 5}, {\"degree\": 7}, {\"degree\": 9}, {\"degree\": 7}, {\"degree\": 6}, {\"degree\": 5}, {\"degree\": 5}, {\"degree\": 8}, {\"degree\": 5}, {\"degree\": 4}, {\"degree\": 4}, {\"degree\": 9}, {\"degree\": 7}, {\"degree\": 2}, {\"degree\": 6}, {\"degree\": 3}, {\"degree\": 10}, {\"degree\": 6}, {\"degree\": 14}, {\"degree\": 6}, {\"degree\": 7}, {\"degree\": 6}, {\"degree\": 6}, {\"degree\": 8}, {\"degree\": 5}, {\"degree\": 9}, {\"degree\": 2}, {\"degree\": 5}, {\"degree\": 8}, {\"degree\": 4}, {\"degree\": 6}, {\"degree\": 8}, {\"degree\": 6}, {\"degree\": 6}, {\"degree\": 3}, {\"degree\": 4}, {\"degree\": 3}, {\"degree\": 3}, {\"degree\": 4}, {\"degree\": 7}, {\"degree\": 6}, {\"degree\": 9}, {\"degree\": 6}, {\"degree\": 5}, {\"degree\": 7}, {\"degree\": 6}, {\"degree\": 10}, {\"degree\": 0}, {\"degree\": 7}, {\"degree\": 9}, {\"degree\": 7}, {\"degree\": 7}, {\"degree\": 3}, {\"degree\": 4}, {\"degree\": 12}, {\"degree\": 10}, {\"degree\": 3}, {\"degree\": 4}, {\"degree\": 6}, {\"degree\": 4}, {\"degree\": 5}, {\"degree\": 6}, {\"degree\": 10}, {\"degree\": 10}, {\"degree\": 6}, {\"degree\": 5}, {\"degree\": 7}, {\"degree\": 10}, {\"degree\": 6}, {\"degree\": 4}, {\"degree\": 6}, {\"degree\": 6}, {\"degree\": 6}, {\"degree\": 8}, {\"degree\": 4}, {\"degree\": 4}, {\"degree\": 5}, {\"degree\": 7}, {\"degree\": 8}, {\"degree\": 4}, {\"degree\": 6}, {\"degree\": 3}, {\"degree\": 6}, {\"degree\": 7}, {\"degree\": 10}, {\"degree\": 7}, {\"degree\": 5}, {\"degree\": 8}, {\"degree\": 3}, {\"degree\": 6}, {\"degree\": 5}, {\"degree\": 6}, {\"degree\": 4}, {\"degree\": 5}, {\"degree\": 8}, {\"degree\": 9}, {\"degree\": 9}, {\"degree\": 10}, {\"degree\": 7}, {\"degree\": 4}, {\"degree\": 4}, {\"degree\": 5}, {\"degree\": 6}, {\"degree\": 5}, {\"degree\": 7}, {\"degree\": 12}, {\"degree\": 9}, {\"degree\": 11}, {\"degree\": 6}, {\"degree\": 7}, {\"degree\": 6}, {\"degree\": 3}, {\"degree\": 7}, {\"degree\": 5}, {\"degree\": 2}, {\"degree\": 7}, {\"degree\": 4}, {\"degree\": 4}, {\"degree\": 4}, {\"degree\": 9}, {\"degree\": 6}, {\"degree\": 7}, {\"degree\": 6}, {\"degree\": 8}, {\"degree\": 5}, {\"degree\": 10}, {\"degree\": 2}, {\"degree\": 9}, {\"degree\": 4}, {\"degree\": 6}, {\"degree\": 9}, {\"degree\": 8}, {\"degree\": 4}, {\"degree\": 5}, {\"degree\": 7}, {\"degree\": 7}, {\"degree\": 3}, {\"degree\": 7}, {\"degree\": 4}, {\"degree\": 10}, {\"degree\": 7}, {\"degree\": 5}, {\"degree\": 7}, {\"degree\": 8}, {\"degree\": 8}, {\"degree\": 7}, {\"degree\": 7}, {\"degree\": 6}, {\"degree\": 5}, {\"degree\": 7}, {\"degree\": 5}, {\"degree\": 5}, {\"degree\": 8}, {\"degree\": 6}, {\"degree\": 9}, {\"degree\": 6}, {\"degree\": 4}, {\"degree\": 1}, {\"degree\": 9}, {\"degree\": 9}, {\"degree\": 7}, {\"degree\": 4}, {\"degree\": 6}, {\"degree\": 4}, {\"degree\": 3}, {\"degree\": 10}, {\"degree\": 9}, {\"degree\": 8}, {\"degree\": 7}, {\"degree\": 5}, {\"degree\": 8}, {\"degree\": 9}, {\"degree\": 3}, {\"degree\": 4}, {\"degree\": 7}, {\"degree\": 3}, {\"degree\": 3}, {\"degree\": 3}, {\"degree\": 3}, {\"degree\": 6}, {\"degree\": 3}, {\"degree\": 10}, {\"degree\": 7}, {\"degree\": 11}, {\"degree\": 10}, {\"degree\": 1}, {\"degree\": 9}, {\"degree\": 6}, {\"degree\": 5}, {\"degree\": 8}, {\"degree\": 5}, {\"degree\": 6}, {\"degree\": 6}, {\"degree\": 5}, {\"degree\": 6}, {\"degree\": 9}, {\"degree\": 1}, {\"degree\": 7}, {\"degree\": 9}, {\"degree\": 5}, {\"degree\": 4}, {\"degree\": 9}, {\"degree\": 6}, {\"degree\": 9}, {\"degree\": 8}, {\"degree\": 10}, {\"degree\": 5}, {\"degree\": 5}, {\"degree\": 8}, {\"degree\": 3}, {\"degree\": 6}, {\"degree\": 7}, {\"degree\": 9}, {\"degree\": 7}, {\"degree\": 5}, {\"degree\": 4}, {\"degree\": 3}, {\"degree\": 4}, {\"degree\": 4}, {\"degree\": 6}, {\"degree\": 6}, {\"degree\": 1}, {\"degree\": 8}, {\"degree\": 6}, {\"degree\": 2}, {\"degree\": 12}, {\"degree\": 10}, {\"degree\": 8}, {\"degree\": 4}, {\"degree\": 7}, {\"degree\": 5}, {\"degree\": 6}, {\"degree\": 6}, {\"degree\": 5}, {\"degree\": 2}, {\"degree\": 8}, {\"degree\": 4}, {\"degree\": 9}, {\"degree\": 4}, {\"degree\": 4}, {\"degree\": 8}, {\"degree\": 5}, {\"degree\": 7}, {\"degree\": 4}, {\"degree\": 5}, {\"degree\": 9}, {\"degree\": 9}, {\"degree\": 6}, {\"degree\": 12}, {\"degree\": 7}, {\"degree\": 5}, {\"degree\": 3}, {\"degree\": 8}, {\"degree\": 7}, {\"degree\": 5}]}}, {\"mode\": \"vega-lite\"});\n",
       "</script>"
      ],
      "text/plain": [
       "alt.Chart(...)"
      ]
     },
     "execution_count": 10,
     "metadata": {},
     "output_type": "execute_result"
    }
   ],
   "source": [
    "alt.Chart(degrees_df).mark_bar().encode(\n",
    "    alt.X(\"degree:Q\"),\n",
    "    y='count()',\n",
    ")"
   ]
  },
  {
   "cell_type": "markdown",
   "id": "dc6363fe-ac54-4a23-a955-64a9382f4119",
   "metadata": {},
   "source": [
    "# Node Degree Multi Simulation"
   ]
  },
  {
   "cell_type": "code",
   "execution_count": 11,
   "id": "6200de54-af55-4767-85df-83bda437c47c",
   "metadata": {},
   "outputs": [],
   "source": [
    "N_sim = 20"
   ]
  },
  {
   "cell_type": "code",
   "execution_count": 12,
   "id": "4218c4e8-f9c2-419e-ab70-117505d87d85",
   "metadata": {
    "tags": []
   },
   "outputs": [],
   "source": [
    "df_sim = pd.DataFrame(columns=[\"count\", \"simNumber\"], dtype=int)\n",
    "for i in range(N_sim):\n",
    "    gen = Generator(N, N // 2, N_coms, 20/N, 3/N, community_array, sampling_strat)\n",
    "    gen.run()\n",
    "    degrees = dict(gen.degrees()).values()\n",
    "    degrees_df = pd.DataFrame(degrees, columns=[\"degree\"])\n",
    "\n",
    "    countdf = degrees_df.groupby(['degree'])['degree'].count()\n",
    "    countdf = countdf.to_frame().rename(columns={\"degree\": \"count\"})\n",
    "    countdf[\"simNumber\"] = i\n",
    "    \n",
    "    df_sim = pd.concat([df_sim, countdf])"
   ]
  },
  {
   "cell_type": "code",
   "execution_count": 13,
   "id": "0bc81b3f-6891-43ee-bbb6-4afa87e3d1e6",
   "metadata": {
    "tags": []
   },
   "outputs": [],
   "source": [
    "df_sim = df_sim.reset_index(names=\"degree\")\n",
    "# df_sim.rename(columns={}"
   ]
  },
  {
   "cell_type": "code",
   "execution_count": 14,
   "id": "80c92f85-c0b1-4b3d-97b3-1ef24d673564",
   "metadata": {
    "tags": []
   },
   "outputs": [
    {
     "data": {
      "text/html": [
       "<div>\n",
       "<style scoped>\n",
       "    .dataframe tbody tr th:only-of-type {\n",
       "        vertical-align: middle;\n",
       "    }\n",
       "\n",
       "    .dataframe tbody tr th {\n",
       "        vertical-align: top;\n",
       "    }\n",
       "\n",
       "    .dataframe thead th {\n",
       "        text-align: right;\n",
       "    }\n",
       "</style>\n",
       "<table border=\"1\" class=\"dataframe\">\n",
       "  <thead>\n",
       "    <tr style=\"text-align: right;\">\n",
       "      <th></th>\n",
       "      <th>degree</th>\n",
       "      <th>count</th>\n",
       "      <th>simNumber</th>\n",
       "    </tr>\n",
       "  </thead>\n",
       "  <tbody>\n",
       "    <tr>\n",
       "      <th>0</th>\n",
       "      <td>0</td>\n",
       "      <td>2</td>\n",
       "      <td>0</td>\n",
       "    </tr>\n",
       "    <tr>\n",
       "      <th>1</th>\n",
       "      <td>1</td>\n",
       "      <td>3</td>\n",
       "      <td>0</td>\n",
       "    </tr>\n",
       "    <tr>\n",
       "      <th>2</th>\n",
       "      <td>2</td>\n",
       "      <td>19</td>\n",
       "      <td>0</td>\n",
       "    </tr>\n",
       "    <tr>\n",
       "      <th>3</th>\n",
       "      <td>3</td>\n",
       "      <td>48</td>\n",
       "      <td>0</td>\n",
       "    </tr>\n",
       "    <tr>\n",
       "      <th>4</th>\n",
       "      <td>4</td>\n",
       "      <td>68</td>\n",
       "      <td>0</td>\n",
       "    </tr>\n",
       "    <tr>\n",
       "      <th>...</th>\n",
       "      <td>...</td>\n",
       "      <td>...</td>\n",
       "      <td>...</td>\n",
       "    </tr>\n",
       "    <tr>\n",
       "      <th>292</th>\n",
       "      <td>9</td>\n",
       "      <td>44</td>\n",
       "      <td>19</td>\n",
       "    </tr>\n",
       "    <tr>\n",
       "      <th>293</th>\n",
       "      <td>10</td>\n",
       "      <td>21</td>\n",
       "      <td>19</td>\n",
       "    </tr>\n",
       "    <tr>\n",
       "      <th>294</th>\n",
       "      <td>11</td>\n",
       "      <td>9</td>\n",
       "      <td>19</td>\n",
       "    </tr>\n",
       "    <tr>\n",
       "      <th>295</th>\n",
       "      <td>12</td>\n",
       "      <td>7</td>\n",
       "      <td>19</td>\n",
       "    </tr>\n",
       "    <tr>\n",
       "      <th>296</th>\n",
       "      <td>13</td>\n",
       "      <td>5</td>\n",
       "      <td>19</td>\n",
       "    </tr>\n",
       "  </tbody>\n",
       "</table>\n",
       "<p>297 rows × 3 columns</p>\n",
       "</div>"
      ],
      "text/plain": [
       "     degree  count  simNumber\n",
       "0         0      2          0\n",
       "1         1      3          0\n",
       "2         2     19          0\n",
       "3         3     48          0\n",
       "4         4     68          0\n",
       "..      ...    ...        ...\n",
       "292       9     44         19\n",
       "293      10     21         19\n",
       "294      11      9         19\n",
       "295      12      7         19\n",
       "296      13      5         19\n",
       "\n",
       "[297 rows x 3 columns]"
      ]
     },
     "execution_count": 14,
     "metadata": {},
     "output_type": "execute_result"
    }
   ],
   "source": [
    "df_sim"
   ]
  },
  {
   "cell_type": "code",
   "execution_count": 15,
   "id": "36720d31-24e5-44b7-b37f-0213c33eccd3",
   "metadata": {},
   "outputs": [],
   "source": [
    "bars = alt.Chart(df_sim).mark_bar(color=COLOR).encode(\n",
    "    alt.X(\"degree:Q\", scale=alt.Scale(domain=[0, 18])),\n",
    "    alt.Y(\"mean(count):Q\"),\n",
    ")"
   ]
  },
  {
   "cell_type": "code",
   "execution_count": 16,
   "id": "55662947-c864-4a9e-b274-3453601ac0e0",
   "metadata": {},
   "outputs": [],
   "source": [
    "error = alt.Chart(df_sim).mark_errorbar(extent=\"ci\", rule=True).encode(\n",
    "    x=alt.X(\"degree:Q\", scale=alt.Scale(domain=[0, 18])),\n",
    "    y=alt.Y(\n",
    "        \"count:Q\",\n",
    "        scale=alt.Scale(zero=False),\n",
    "        title=\"Absolute Frequency\"\n",
    "    ),\n",
    ")"
   ]
  },
  {
   "cell_type": "code",
   "execution_count": 17,
   "id": "b1c2aee7-901a-4c93-9fc1-75f553b518bd",
   "metadata": {},
   "outputs": [
    {
     "data": {
      "text/html": [
       "\n",
       "<style>\n",
       "  #altair-viz-54d6350cb37d4785a3e14b8a8f4f48a3.vega-embed {\n",
       "    width: 100%;\n",
       "    display: flex;\n",
       "  }\n",
       "\n",
       "  #altair-viz-54d6350cb37d4785a3e14b8a8f4f48a3.vega-embed details,\n",
       "  #altair-viz-54d6350cb37d4785a3e14b8a8f4f48a3.vega-embed details summary {\n",
       "    position: relative;\n",
       "  }\n",
       "</style>\n",
       "<div id=\"altair-viz-54d6350cb37d4785a3e14b8a8f4f48a3\"></div>\n",
       "<script type=\"text/javascript\">\n",
       "  var VEGA_DEBUG = (typeof VEGA_DEBUG == \"undefined\") ? {} : VEGA_DEBUG;\n",
       "  (function(spec, embedOpt){\n",
       "    let outputDiv = document.currentScript.previousElementSibling;\n",
       "    if (outputDiv.id !== \"altair-viz-54d6350cb37d4785a3e14b8a8f4f48a3\") {\n",
       "      outputDiv = document.getElementById(\"altair-viz-54d6350cb37d4785a3e14b8a8f4f48a3\");\n",
       "    }\n",
       "    const paths = {\n",
       "      \"vega\": \"https://cdn.jsdelivr.net/npm/vega@5?noext\",\n",
       "      \"vega-lib\": \"https://cdn.jsdelivr.net/npm/vega-lib?noext\",\n",
       "      \"vega-lite\": \"https://cdn.jsdelivr.net/npm/vega-lite@5.14.1?noext\",\n",
       "      \"vega-embed\": \"https://cdn.jsdelivr.net/npm/vega-embed@6?noext\",\n",
       "    };\n",
       "\n",
       "    function maybeLoadScript(lib, version) {\n",
       "      var key = `${lib.replace(\"-\", \"\")}_version`;\n",
       "      return (VEGA_DEBUG[key] == version) ?\n",
       "        Promise.resolve(paths[lib]) :\n",
       "        new Promise(function(resolve, reject) {\n",
       "          var s = document.createElement('script');\n",
       "          document.getElementsByTagName(\"head\")[0].appendChild(s);\n",
       "          s.async = true;\n",
       "          s.onload = () => {\n",
       "            VEGA_DEBUG[key] = version;\n",
       "            return resolve(paths[lib]);\n",
       "          };\n",
       "          s.onerror = () => reject(`Error loading script: ${paths[lib]}`);\n",
       "          s.src = paths[lib];\n",
       "        });\n",
       "    }\n",
       "\n",
       "    function showError(err) {\n",
       "      outputDiv.innerHTML = `<div class=\"error\" style=\"color:red;\">${err}</div>`;\n",
       "      throw err;\n",
       "    }\n",
       "\n",
       "    function displayChart(vegaEmbed) {\n",
       "      vegaEmbed(outputDiv, spec, embedOpt)\n",
       "        .catch(err => showError(`Javascript Error: ${err.message}<br>This usually means there's a typo in your chart specification. See the javascript console for the full traceback.`));\n",
       "    }\n",
       "\n",
       "    if(typeof define === \"function\" && define.amd) {\n",
       "      requirejs.config({paths});\n",
       "      require([\"vega-embed\"], displayChart, err => showError(`Error loading script: ${err.message}`));\n",
       "    } else {\n",
       "      maybeLoadScript(\"vega\", \"5\")\n",
       "        .then(() => maybeLoadScript(\"vega-lite\", \"5.14.1\"))\n",
       "        .then(() => maybeLoadScript(\"vega-embed\", \"6\"))\n",
       "        .catch(showError)\n",
       "        .then(() => displayChart(vegaEmbed));\n",
       "    }\n",
       "  })({\"config\": {\"view\": {\"continuousWidth\": 300, \"continuousHeight\": 300}}, \"layer\": [{\"mark\": {\"type\": \"bar\", \"color\": \"#99d8c9\"}, \"encoding\": {\"x\": {\"field\": \"degree\", \"scale\": {\"domain\": [0, 18]}, \"type\": \"quantitative\"}, \"y\": {\"aggregate\": \"mean\", \"field\": \"count\", \"type\": \"quantitative\"}}}, {\"mark\": {\"type\": \"errorbar\", \"extent\": \"ci\", \"rule\": true}, \"encoding\": {\"x\": {\"field\": \"degree\", \"scale\": {\"domain\": [0, 18]}, \"type\": \"quantitative\"}, \"y\": {\"field\": \"count\", \"scale\": {\"zero\": false}, \"title\": \"Absolute Frequency\", \"type\": \"quantitative\"}}}], \"data\": {\"name\": \"data-b0a5daad66a6a27a6dc140d924b1a152\"}, \"$schema\": \"https://vega.github.io/schema/vega-lite/v5.14.1.json\", \"datasets\": {\"data-b0a5daad66a6a27a6dc140d924b1a152\": [{\"degree\": 0, \"count\": 2, \"simNumber\": 0}, {\"degree\": 1, \"count\": 3, \"simNumber\": 0}, {\"degree\": 2, \"count\": 19, \"simNumber\": 0}, {\"degree\": 3, \"count\": 48, \"simNumber\": 0}, {\"degree\": 4, \"count\": 68, \"simNumber\": 0}, {\"degree\": 5, \"count\": 82, \"simNumber\": 0}, {\"degree\": 6, \"count\": 77, \"simNumber\": 0}, {\"degree\": 7, \"count\": 64, \"simNumber\": 0}, {\"degree\": 8, \"count\": 54, \"simNumber\": 0}, {\"degree\": 9, \"count\": 45, \"simNumber\": 0}, {\"degree\": 10, \"count\": 17, \"simNumber\": 0}, {\"degree\": 11, \"count\": 13, \"simNumber\": 0}, {\"degree\": 12, \"count\": 5, \"simNumber\": 0}, {\"degree\": 13, \"count\": 3, \"simNumber\": 0}, {\"degree\": 1, \"count\": 7, \"simNumber\": 1}, {\"degree\": 2, \"count\": 18, \"simNumber\": 1}, {\"degree\": 3, \"count\": 43, \"simNumber\": 1}, {\"degree\": 4, \"count\": 74, \"simNumber\": 1}, {\"degree\": 5, \"count\": 68, \"simNumber\": 1}, {\"degree\": 6, \"count\": 80, \"simNumber\": 1}, {\"degree\": 7, \"count\": 75, \"simNumber\": 1}, {\"degree\": 8, \"count\": 66, \"simNumber\": 1}, {\"degree\": 9, \"count\": 25, \"simNumber\": 1}, {\"degree\": 10, \"count\": 28, \"simNumber\": 1}, {\"degree\": 11, \"count\": 8, \"simNumber\": 1}, {\"degree\": 12, \"count\": 2, \"simNumber\": 1}, {\"degree\": 13, \"count\": 4, \"simNumber\": 1}, {\"degree\": 14, \"count\": 1, \"simNumber\": 1}, {\"degree\": 15, \"count\": 1, \"simNumber\": 1}, {\"degree\": 1, \"count\": 5, \"simNumber\": 2}, {\"degree\": 2, \"count\": 25, \"simNumber\": 2}, {\"degree\": 3, \"count\": 40, \"simNumber\": 2}, {\"degree\": 4, \"count\": 52, \"simNumber\": 2}, {\"degree\": 5, \"count\": 83, \"simNumber\": 2}, {\"degree\": 6, \"count\": 64, \"simNumber\": 2}, {\"degree\": 7, \"count\": 70, \"simNumber\": 2}, {\"degree\": 8, \"count\": 67, \"simNumber\": 2}, {\"degree\": 9, \"count\": 44, \"simNumber\": 2}, {\"degree\": 10, \"count\": 18, \"simNumber\": 2}, {\"degree\": 11, \"count\": 21, \"simNumber\": 2}, {\"degree\": 12, \"count\": 7, \"simNumber\": 2}, {\"degree\": 13, \"count\": 4, \"simNumber\": 2}, {\"degree\": 1, \"count\": 1, \"simNumber\": 3}, {\"degree\": 2, \"count\": 15, \"simNumber\": 3}, {\"degree\": 3, \"count\": 39, \"simNumber\": 3}, {\"degree\": 4, \"count\": 72, \"simNumber\": 3}, {\"degree\": 5, \"count\": 72, \"simNumber\": 3}, {\"degree\": 6, \"count\": 83, \"simNumber\": 3}, {\"degree\": 7, \"count\": 73, \"simNumber\": 3}, {\"degree\": 8, \"count\": 65, \"simNumber\": 3}, {\"degree\": 9, \"count\": 36, \"simNumber\": 3}, {\"degree\": 10, \"count\": 18, \"simNumber\": 3}, {\"degree\": 11, \"count\": 14, \"simNumber\": 3}, {\"degree\": 12, \"count\": 10, \"simNumber\": 3}, {\"degree\": 13, \"count\": 1, \"simNumber\": 3}, {\"degree\": 16, \"count\": 1, \"simNumber\": 3}, {\"degree\": 0, \"count\": 1, \"simNumber\": 4}, {\"degree\": 1, \"count\": 6, \"simNumber\": 4}, {\"degree\": 2, \"count\": 22, \"simNumber\": 4}, {\"degree\": 3, \"count\": 28, \"simNumber\": 4}, {\"degree\": 4, \"count\": 47, \"simNumber\": 4}, {\"degree\": 5, \"count\": 93, \"simNumber\": 4}, {\"degree\": 6, \"count\": 75, \"simNumber\": 4}, {\"degree\": 7, \"count\": 72, \"simNumber\": 4}, {\"degree\": 8, \"count\": 59, \"simNumber\": 4}, {\"degree\": 9, \"count\": 48, \"simNumber\": 4}, {\"degree\": 10, \"count\": 24, \"simNumber\": 4}, {\"degree\": 11, \"count\": 13, \"simNumber\": 4}, {\"degree\": 12, \"count\": 7, \"simNumber\": 4}, {\"degree\": 13, \"count\": 3, \"simNumber\": 4}, {\"degree\": 15, \"count\": 2, \"simNumber\": 4}, {\"degree\": 0, \"count\": 1, \"simNumber\": 5}, {\"degree\": 1, \"count\": 7, \"simNumber\": 5}, {\"degree\": 2, \"count\": 18, \"simNumber\": 5}, {\"degree\": 3, \"count\": 25, \"simNumber\": 5}, {\"degree\": 4, \"count\": 68, \"simNumber\": 5}, {\"degree\": 5, \"count\": 87, \"simNumber\": 5}, {\"degree\": 6, \"count\": 80, \"simNumber\": 5}, {\"degree\": 7, \"count\": 62, \"simNumber\": 5}, {\"degree\": 8, \"count\": 60, \"simNumber\": 5}, {\"degree\": 9, \"count\": 37, \"simNumber\": 5}, {\"degree\": 10, \"count\": 26, \"simNumber\": 5}, {\"degree\": 11, \"count\": 12, \"simNumber\": 5}, {\"degree\": 12, \"count\": 10, \"simNumber\": 5}, {\"degree\": 13, \"count\": 4, \"simNumber\": 5}, {\"degree\": 15, \"count\": 3, \"simNumber\": 5}, {\"degree\": 1, \"count\": 5, \"simNumber\": 6}, {\"degree\": 2, \"count\": 11, \"simNumber\": 6}, {\"degree\": 3, \"count\": 34, \"simNumber\": 6}, {\"degree\": 4, \"count\": 66, \"simNumber\": 6}, {\"degree\": 5, \"count\": 77, \"simNumber\": 6}, {\"degree\": 6, \"count\": 84, \"simNumber\": 6}, {\"degree\": 7, \"count\": 76, \"simNumber\": 6}, {\"degree\": 8, \"count\": 65, \"simNumber\": 6}, {\"degree\": 9, \"count\": 35, \"simNumber\": 6}, {\"degree\": 10, \"count\": 26, \"simNumber\": 6}, {\"degree\": 11, \"count\": 9, \"simNumber\": 6}, {\"degree\": 12, \"count\": 6, \"simNumber\": 6}, {\"degree\": 13, \"count\": 3, \"simNumber\": 6}, {\"degree\": 14, \"count\": 1, \"simNumber\": 6}, {\"degree\": 15, \"count\": 2, \"simNumber\": 6}, {\"degree\": 1, \"count\": 9, \"simNumber\": 7}, {\"degree\": 2, \"count\": 13, \"simNumber\": 7}, {\"degree\": 3, \"count\": 39, \"simNumber\": 7}, {\"degree\": 4, \"count\": 60, \"simNumber\": 7}, {\"degree\": 5, \"count\": 78, \"simNumber\": 7}, {\"degree\": 6, \"count\": 73, \"simNumber\": 7}, {\"degree\": 7, \"count\": 74, \"simNumber\": 7}, {\"degree\": 8, \"count\": 63, \"simNumber\": 7}, {\"degree\": 9, \"count\": 35, \"simNumber\": 7}, {\"degree\": 10, \"count\": 30, \"simNumber\": 7}, {\"degree\": 11, \"count\": 14, \"simNumber\": 7}, {\"degree\": 12, \"count\": 6, \"simNumber\": 7}, {\"degree\": 13, \"count\": 4, \"simNumber\": 7}, {\"degree\": 14, \"count\": 1, \"simNumber\": 7}, {\"degree\": 15, \"count\": 1, \"simNumber\": 7}, {\"degree\": 0, \"count\": 1, \"simNumber\": 8}, {\"degree\": 1, \"count\": 6, \"simNumber\": 8}, {\"degree\": 2, \"count\": 24, \"simNumber\": 8}, {\"degree\": 3, \"count\": 38, \"simNumber\": 8}, {\"degree\": 4, \"count\": 60, \"simNumber\": 8}, {\"degree\": 5, \"count\": 83, \"simNumber\": 8}, {\"degree\": 6, \"count\": 97, \"simNumber\": 8}, {\"degree\": 7, \"count\": 60, \"simNumber\": 8}, {\"degree\": 8, \"count\": 61, \"simNumber\": 8}, {\"degree\": 9, \"count\": 39, \"simNumber\": 8}, {\"degree\": 10, \"count\": 12, \"simNumber\": 8}, {\"degree\": 11, \"count\": 7, \"simNumber\": 8}, {\"degree\": 12, \"count\": 6, \"simNumber\": 8}, {\"degree\": 13, \"count\": 2, \"simNumber\": 8}, {\"degree\": 14, \"count\": 2, \"simNumber\": 8}, {\"degree\": 15, \"count\": 1, \"simNumber\": 8}, {\"degree\": 16, \"count\": 1, \"simNumber\": 8}, {\"degree\": 1, \"count\": 6, \"simNumber\": 9}, {\"degree\": 2, \"count\": 15, \"simNumber\": 9}, {\"degree\": 3, \"count\": 39, \"simNumber\": 9}, {\"degree\": 4, \"count\": 52, \"simNumber\": 9}, {\"degree\": 5, \"count\": 74, \"simNumber\": 9}, {\"degree\": 6, \"count\": 78, \"simNumber\": 9}, {\"degree\": 7, \"count\": 89, \"simNumber\": 9}, {\"degree\": 8, \"count\": 66, \"simNumber\": 9}, {\"degree\": 9, \"count\": 28, \"simNumber\": 9}, {\"degree\": 10, \"count\": 27, \"simNumber\": 9}, {\"degree\": 11, \"count\": 19, \"simNumber\": 9}, {\"degree\": 12, \"count\": 2, \"simNumber\": 9}, {\"degree\": 13, \"count\": 2, \"simNumber\": 9}, {\"degree\": 14, \"count\": 2, \"simNumber\": 9}, {\"degree\": 17, \"count\": 1, \"simNumber\": 9}, {\"degree\": 1, \"count\": 6, \"simNumber\": 10}, {\"degree\": 2, \"count\": 19, \"simNumber\": 10}, {\"degree\": 3, \"count\": 41, \"simNumber\": 10}, {\"degree\": 4, \"count\": 74, \"simNumber\": 10}, {\"degree\": 5, \"count\": 63, \"simNumber\": 10}, {\"degree\": 6, \"count\": 68, \"simNumber\": 10}, {\"degree\": 7, \"count\": 69, \"simNumber\": 10}, {\"degree\": 8, \"count\": 53, \"simNumber\": 10}, {\"degree\": 9, \"count\": 51, \"simNumber\": 10}, {\"degree\": 10, \"count\": 34, \"simNumber\": 10}, {\"degree\": 11, \"count\": 11, \"simNumber\": 10}, {\"degree\": 12, \"count\": 6, \"simNumber\": 10}, {\"degree\": 13, \"count\": 2, \"simNumber\": 10}, {\"degree\": 14, \"count\": 1, \"simNumber\": 10}, {\"degree\": 15, \"count\": 1, \"simNumber\": 10}, {\"degree\": 16, \"count\": 1, \"simNumber\": 10}, {\"degree\": 0, \"count\": 2, \"simNumber\": 11}, {\"degree\": 1, \"count\": 7, \"simNumber\": 11}, {\"degree\": 2, \"count\": 14, \"simNumber\": 11}, {\"degree\": 3, \"count\": 37, \"simNumber\": 11}, {\"degree\": 4, \"count\": 77, \"simNumber\": 11}, {\"degree\": 5, \"count\": 76, \"simNumber\": 11}, {\"degree\": 6, \"count\": 66, \"simNumber\": 11}, {\"degree\": 7, \"count\": 72, \"simNumber\": 11}, {\"degree\": 8, \"count\": 59, \"simNumber\": 11}, {\"degree\": 9, \"count\": 41, \"simNumber\": 11}, {\"degree\": 10, \"count\": 24, \"simNumber\": 11}, {\"degree\": 11, \"count\": 12, \"simNumber\": 11}, {\"degree\": 12, \"count\": 6, \"simNumber\": 11}, {\"degree\": 13, \"count\": 5, \"simNumber\": 11}, {\"degree\": 14, \"count\": 2, \"simNumber\": 11}, {\"degree\": 1, \"count\": 4, \"simNumber\": 12}, {\"degree\": 2, \"count\": 29, \"simNumber\": 12}, {\"degree\": 3, \"count\": 35, \"simNumber\": 12}, {\"degree\": 4, \"count\": 55, \"simNumber\": 12}, {\"degree\": 5, \"count\": 73, \"simNumber\": 12}, {\"degree\": 6, \"count\": 62, \"simNumber\": 12}, {\"degree\": 7, \"count\": 83, \"simNumber\": 12}, {\"degree\": 8, \"count\": 54, \"simNumber\": 12}, {\"degree\": 9, \"count\": 44, \"simNumber\": 12}, {\"degree\": 10, \"count\": 25, \"simNumber\": 12}, {\"degree\": 11, \"count\": 18, \"simNumber\": 12}, {\"degree\": 12, \"count\": 9, \"simNumber\": 12}, {\"degree\": 13, \"count\": 7, \"simNumber\": 12}, {\"degree\": 14, \"count\": 1, \"simNumber\": 12}, {\"degree\": 15, \"count\": 1, \"simNumber\": 12}, {\"degree\": 0, \"count\": 1, \"simNumber\": 13}, {\"degree\": 1, \"count\": 6, \"simNumber\": 13}, {\"degree\": 2, \"count\": 17, \"simNumber\": 13}, {\"degree\": 3, \"count\": 46, \"simNumber\": 13}, {\"degree\": 4, \"count\": 48, \"simNumber\": 13}, {\"degree\": 5, \"count\": 81, \"simNumber\": 13}, {\"degree\": 6, \"count\": 84, \"simNumber\": 13}, {\"degree\": 7, \"count\": 77, \"simNumber\": 13}, {\"degree\": 8, \"count\": 56, \"simNumber\": 13}, {\"degree\": 9, \"count\": 31, \"simNumber\": 13}, {\"degree\": 10, \"count\": 22, \"simNumber\": 13}, {\"degree\": 11, \"count\": 21, \"simNumber\": 13}, {\"degree\": 12, \"count\": 5, \"simNumber\": 13}, {\"degree\": 13, \"count\": 4, \"simNumber\": 13}, {\"degree\": 15, \"count\": 1, \"simNumber\": 13}, {\"degree\": 0, \"count\": 1, \"simNumber\": 14}, {\"degree\": 1, \"count\": 6, \"simNumber\": 14}, {\"degree\": 2, \"count\": 17, \"simNumber\": 14}, {\"degree\": 3, \"count\": 37, \"simNumber\": 14}, {\"degree\": 4, \"count\": 51, \"simNumber\": 14}, {\"degree\": 5, \"count\": 69, \"simNumber\": 14}, {\"degree\": 6, \"count\": 75, \"simNumber\": 14}, {\"degree\": 7, \"count\": 82, \"simNumber\": 14}, {\"degree\": 8, \"count\": 59, \"simNumber\": 14}, {\"degree\": 9, \"count\": 49, \"simNumber\": 14}, {\"degree\": 10, \"count\": 33, \"simNumber\": 14}, {\"degree\": 11, \"count\": 13, \"simNumber\": 14}, {\"degree\": 12, \"count\": 2, \"simNumber\": 14}, {\"degree\": 13, \"count\": 4, \"simNumber\": 14}, {\"degree\": 14, \"count\": 1, \"simNumber\": 14}, {\"degree\": 15, \"count\": 1, \"simNumber\": 14}, {\"degree\": 0, \"count\": 2, \"simNumber\": 15}, {\"degree\": 1, \"count\": 6, \"simNumber\": 15}, {\"degree\": 2, \"count\": 19, \"simNumber\": 15}, {\"degree\": 3, \"count\": 43, \"simNumber\": 15}, {\"degree\": 4, \"count\": 70, \"simNumber\": 15}, {\"degree\": 5, \"count\": 71, \"simNumber\": 15}, {\"degree\": 6, \"count\": 97, \"simNumber\": 15}, {\"degree\": 7, \"count\": 55, \"simNumber\": 15}, {\"degree\": 8, \"count\": 46, \"simNumber\": 15}, {\"degree\": 9, \"count\": 39, \"simNumber\": 15}, {\"degree\": 10, \"count\": 26, \"simNumber\": 15}, {\"degree\": 11, \"count\": 9, \"simNumber\": 15}, {\"degree\": 12, \"count\": 10, \"simNumber\": 15}, {\"degree\": 13, \"count\": 2, \"simNumber\": 15}, {\"degree\": 14, \"count\": 2, \"simNumber\": 15}, {\"degree\": 15, \"count\": 3, \"simNumber\": 15}, {\"degree\": 0, \"count\": 2, \"simNumber\": 16}, {\"degree\": 1, \"count\": 3, \"simNumber\": 16}, {\"degree\": 2, \"count\": 17, \"simNumber\": 16}, {\"degree\": 3, \"count\": 42, \"simNumber\": 16}, {\"degree\": 4, \"count\": 55, \"simNumber\": 16}, {\"degree\": 5, \"count\": 86, \"simNumber\": 16}, {\"degree\": 6, \"count\": 80, \"simNumber\": 16}, {\"degree\": 7, \"count\": 91, \"simNumber\": 16}, {\"degree\": 8, \"count\": 43, \"simNumber\": 16}, {\"degree\": 9, \"count\": 42, \"simNumber\": 16}, {\"degree\": 10, \"count\": 21, \"simNumber\": 16}, {\"degree\": 11, \"count\": 12, \"simNumber\": 16}, {\"degree\": 12, \"count\": 2, \"simNumber\": 16}, {\"degree\": 13, \"count\": 4, \"simNumber\": 16}, {\"degree\": 1, \"count\": 8, \"simNumber\": 17}, {\"degree\": 2, \"count\": 20, \"simNumber\": 17}, {\"degree\": 3, \"count\": 43, \"simNumber\": 17}, {\"degree\": 4, \"count\": 60, \"simNumber\": 17}, {\"degree\": 5, \"count\": 81, \"simNumber\": 17}, {\"degree\": 6, \"count\": 81, \"simNumber\": 17}, {\"degree\": 7, \"count\": 81, \"simNumber\": 17}, {\"degree\": 8, \"count\": 43, \"simNumber\": 17}, {\"degree\": 9, \"count\": 42, \"simNumber\": 17}, {\"degree\": 10, \"count\": 22, \"simNumber\": 17}, {\"degree\": 11, \"count\": 12, \"simNumber\": 17}, {\"degree\": 12, \"count\": 3, \"simNumber\": 17}, {\"degree\": 13, \"count\": 3, \"simNumber\": 17}, {\"degree\": 14, \"count\": 1, \"simNumber\": 17}, {\"degree\": 0, \"count\": 1, \"simNumber\": 18}, {\"degree\": 1, \"count\": 3, \"simNumber\": 18}, {\"degree\": 2, \"count\": 21, \"simNumber\": 18}, {\"degree\": 3, \"count\": 41, \"simNumber\": 18}, {\"degree\": 4, \"count\": 56, \"simNumber\": 18}, {\"degree\": 5, \"count\": 94, \"simNumber\": 18}, {\"degree\": 6, \"count\": 69, \"simNumber\": 18}, {\"degree\": 7, \"count\": 72, \"simNumber\": 18}, {\"degree\": 8, \"count\": 51, \"simNumber\": 18}, {\"degree\": 9, \"count\": 42, \"simNumber\": 18}, {\"degree\": 10, \"count\": 28, \"simNumber\": 18}, {\"degree\": 11, \"count\": 11, \"simNumber\": 18}, {\"degree\": 12, \"count\": 6, \"simNumber\": 18}, {\"degree\": 13, \"count\": 3, \"simNumber\": 18}, {\"degree\": 14, \"count\": 2, \"simNumber\": 18}, {\"degree\": 1, \"count\": 3, \"simNumber\": 19}, {\"degree\": 2, \"count\": 22, \"simNumber\": 19}, {\"degree\": 3, \"count\": 37, \"simNumber\": 19}, {\"degree\": 4, \"count\": 66, \"simNumber\": 19}, {\"degree\": 5, \"count\": 74, \"simNumber\": 19}, {\"degree\": 6, \"count\": 95, \"simNumber\": 19}, {\"degree\": 7, \"count\": 54, \"simNumber\": 19}, {\"degree\": 8, \"count\": 63, \"simNumber\": 19}, {\"degree\": 9, \"count\": 44, \"simNumber\": 19}, {\"degree\": 10, \"count\": 21, \"simNumber\": 19}, {\"degree\": 11, \"count\": 9, \"simNumber\": 19}, {\"degree\": 12, \"count\": 7, \"simNumber\": 19}, {\"degree\": 13, \"count\": 5, \"simNumber\": 19}]}}, {\"mode\": \"vega-lite\"});\n",
       "</script>"
      ],
      "text/plain": [
       "alt.LayerChart(...)"
      ]
     },
     "execution_count": 17,
     "metadata": {},
     "output_type": "execute_result"
    }
   ],
   "source": [
    "bars + error"
   ]
  },
  {
   "cell_type": "markdown",
   "id": "0121f300-0d8a-4b5e-abba-0c257ecf8000",
   "metadata": {
    "tags": []
   },
   "source": [
    "# Hyperedge Size"
   ]
  },
  {
   "cell_type": "code",
   "execution_count": 18,
   "id": "aa2c2536-c15e-4dfd-8208-fdf54379d5cb",
   "metadata": {},
   "outputs": [],
   "source": [
    "hsizes = dict(gen.hyperedge_sizes()).values()"
   ]
  },
  {
   "cell_type": "code",
   "execution_count": 19,
   "id": "4e985924-a716-41b7-b979-0b90b86b88e0",
   "metadata": {
    "tags": []
   },
   "outputs": [
    {
     "data": {
      "text/plain": [
       "dict_values([11, 14, 10, 12, 12, 19, 14, 19, 15, 9, 9, 11, 12, 15, 15, 16, 14, 6, 14, 11, 18, 16, 16, 16, 4, 10, 14, 17, 12, 13, 15, 12, 13, 8, 15, 10, 11, 10, 13, 12, 13, 10, 12, 17, 12, 14, 13, 9, 11, 11, 17, 10, 13, 21, 13, 13, 8, 10, 11, 14, 13, 8, 13, 14, 15, 14, 14, 7, 12, 14, 16, 11, 12, 14, 9, 13, 6, 21, 20, 11, 13, 16, 22, 10, 12, 9, 15, 12, 14, 17, 10, 10, 13, 10, 17, 8, 12, 8, 15, 7, 12, 17, 15, 16, 12, 12, 19, 10, 9, 7, 15, 15, 13, 9, 14, 12, 15, 15, 18, 16, 13, 9, 11, 6, 14, 12, 10, 14, 12, 11, 19, 9, 11, 12, 11, 12, 12, 14, 8, 17, 7, 8, 11, 19, 13, 10, 12, 10, 8, 11, 16, 18, 10, 12, 7, 14, 10, 13, 9, 12, 10, 4, 9, 14, 9, 9, 13, 8, 13, 18, 9, 8, 18, 14, 12, 16, 9, 15, 10, 17, 13, 8, 20, 14, 5, 13, 8, 15, 5, 11, 11, 13, 6, 9, 9, 15, 11, 14, 16, 16, 14, 8, 9, 8, 15, 11, 13, 9, 11, 10, 13, 17, 12, 18, 11, 10, 15, 10, 17, 15, 11, 10, 12, 13, 17, 12, 13, 14, 14, 17, 7, 10, 11, 13, 10, 19, 11, 13, 12, 9, 5, 9, 13, 11, 9, 20, 16, 12, 14, 18])"
      ]
     },
     "execution_count": 19,
     "metadata": {},
     "output_type": "execute_result"
    }
   ],
   "source": [
    "hsizes"
   ]
  },
  {
   "cell_type": "code",
   "execution_count": 20,
   "id": "3273368c-6b8f-4030-b235-d8a68cbcc014",
   "metadata": {},
   "outputs": [],
   "source": [
    "hsizes_df = pd.DataFrame(hsizes, columns=[\"hsize\"])"
   ]
  },
  {
   "cell_type": "code",
   "execution_count": 21,
   "id": "88b3daff-c360-49d1-be88-10d4f32224c6",
   "metadata": {
    "tags": []
   },
   "outputs": [
    {
     "data": {
      "text/html": [
       "\n",
       "<style>\n",
       "  #altair-viz-f5b31961d9e54a9cbba098884d4250d5.vega-embed {\n",
       "    width: 100%;\n",
       "    display: flex;\n",
       "  }\n",
       "\n",
       "  #altair-viz-f5b31961d9e54a9cbba098884d4250d5.vega-embed details,\n",
       "  #altair-viz-f5b31961d9e54a9cbba098884d4250d5.vega-embed details summary {\n",
       "    position: relative;\n",
       "  }\n",
       "</style>\n",
       "<div id=\"altair-viz-f5b31961d9e54a9cbba098884d4250d5\"></div>\n",
       "<script type=\"text/javascript\">\n",
       "  var VEGA_DEBUG = (typeof VEGA_DEBUG == \"undefined\") ? {} : VEGA_DEBUG;\n",
       "  (function(spec, embedOpt){\n",
       "    let outputDiv = document.currentScript.previousElementSibling;\n",
       "    if (outputDiv.id !== \"altair-viz-f5b31961d9e54a9cbba098884d4250d5\") {\n",
       "      outputDiv = document.getElementById(\"altair-viz-f5b31961d9e54a9cbba098884d4250d5\");\n",
       "    }\n",
       "    const paths = {\n",
       "      \"vega\": \"https://cdn.jsdelivr.net/npm/vega@5?noext\",\n",
       "      \"vega-lib\": \"https://cdn.jsdelivr.net/npm/vega-lib?noext\",\n",
       "      \"vega-lite\": \"https://cdn.jsdelivr.net/npm/vega-lite@5.14.1?noext\",\n",
       "      \"vega-embed\": \"https://cdn.jsdelivr.net/npm/vega-embed@6?noext\",\n",
       "    };\n",
       "\n",
       "    function maybeLoadScript(lib, version) {\n",
       "      var key = `${lib.replace(\"-\", \"\")}_version`;\n",
       "      return (VEGA_DEBUG[key] == version) ?\n",
       "        Promise.resolve(paths[lib]) :\n",
       "        new Promise(function(resolve, reject) {\n",
       "          var s = document.createElement('script');\n",
       "          document.getElementsByTagName(\"head\")[0].appendChild(s);\n",
       "          s.async = true;\n",
       "          s.onload = () => {\n",
       "            VEGA_DEBUG[key] = version;\n",
       "            return resolve(paths[lib]);\n",
       "          };\n",
       "          s.onerror = () => reject(`Error loading script: ${paths[lib]}`);\n",
       "          s.src = paths[lib];\n",
       "        });\n",
       "    }\n",
       "\n",
       "    function showError(err) {\n",
       "      outputDiv.innerHTML = `<div class=\"error\" style=\"color:red;\">${err}</div>`;\n",
       "      throw err;\n",
       "    }\n",
       "\n",
       "    function displayChart(vegaEmbed) {\n",
       "      vegaEmbed(outputDiv, spec, embedOpt)\n",
       "        .catch(err => showError(`Javascript Error: ${err.message}<br>This usually means there's a typo in your chart specification. See the javascript console for the full traceback.`));\n",
       "    }\n",
       "\n",
       "    if(typeof define === \"function\" && define.amd) {\n",
       "      requirejs.config({paths});\n",
       "      require([\"vega-embed\"], displayChart, err => showError(`Error loading script: ${err.message}`));\n",
       "    } else {\n",
       "      maybeLoadScript(\"vega\", \"5\")\n",
       "        .then(() => maybeLoadScript(\"vega-lite\", \"5.14.1\"))\n",
       "        .then(() => maybeLoadScript(\"vega-embed\", \"6\"))\n",
       "        .catch(showError)\n",
       "        .then(() => displayChart(vegaEmbed));\n",
       "    }\n",
       "  })({\"config\": {\"view\": {\"continuousWidth\": 300, \"continuousHeight\": 300}}, \"data\": {\"name\": \"data-00bdb24f3ad017911215f6b88a39dcb9\"}, \"mark\": {\"type\": \"bar\"}, \"encoding\": {\"x\": {\"field\": \"hsize\", \"type\": \"quantitative\"}, \"y\": {\"aggregate\": \"count\", \"type\": \"quantitative\"}}, \"$schema\": \"https://vega.github.io/schema/vega-lite/v5.14.1.json\", \"datasets\": {\"data-00bdb24f3ad017911215f6b88a39dcb9\": [{\"hsize\": 11}, {\"hsize\": 14}, {\"hsize\": 10}, {\"hsize\": 12}, {\"hsize\": 12}, {\"hsize\": 19}, {\"hsize\": 14}, {\"hsize\": 19}, {\"hsize\": 15}, {\"hsize\": 9}, {\"hsize\": 9}, {\"hsize\": 11}, {\"hsize\": 12}, {\"hsize\": 15}, {\"hsize\": 15}, {\"hsize\": 16}, {\"hsize\": 14}, {\"hsize\": 6}, {\"hsize\": 14}, {\"hsize\": 11}, {\"hsize\": 18}, {\"hsize\": 16}, {\"hsize\": 16}, {\"hsize\": 16}, {\"hsize\": 4}, {\"hsize\": 10}, {\"hsize\": 14}, {\"hsize\": 17}, {\"hsize\": 12}, {\"hsize\": 13}, {\"hsize\": 15}, {\"hsize\": 12}, {\"hsize\": 13}, {\"hsize\": 8}, {\"hsize\": 15}, {\"hsize\": 10}, {\"hsize\": 11}, {\"hsize\": 10}, {\"hsize\": 13}, {\"hsize\": 12}, {\"hsize\": 13}, {\"hsize\": 10}, {\"hsize\": 12}, {\"hsize\": 17}, {\"hsize\": 12}, {\"hsize\": 14}, {\"hsize\": 13}, {\"hsize\": 9}, {\"hsize\": 11}, {\"hsize\": 11}, {\"hsize\": 17}, {\"hsize\": 10}, {\"hsize\": 13}, {\"hsize\": 21}, {\"hsize\": 13}, {\"hsize\": 13}, {\"hsize\": 8}, {\"hsize\": 10}, {\"hsize\": 11}, {\"hsize\": 14}, {\"hsize\": 13}, {\"hsize\": 8}, {\"hsize\": 13}, {\"hsize\": 14}, {\"hsize\": 15}, {\"hsize\": 14}, {\"hsize\": 14}, {\"hsize\": 7}, {\"hsize\": 12}, {\"hsize\": 14}, {\"hsize\": 16}, {\"hsize\": 11}, {\"hsize\": 12}, {\"hsize\": 14}, {\"hsize\": 9}, {\"hsize\": 13}, {\"hsize\": 6}, {\"hsize\": 21}, {\"hsize\": 20}, {\"hsize\": 11}, {\"hsize\": 13}, {\"hsize\": 16}, {\"hsize\": 22}, {\"hsize\": 10}, {\"hsize\": 12}, {\"hsize\": 9}, {\"hsize\": 15}, {\"hsize\": 12}, {\"hsize\": 14}, {\"hsize\": 17}, {\"hsize\": 10}, {\"hsize\": 10}, {\"hsize\": 13}, {\"hsize\": 10}, {\"hsize\": 17}, {\"hsize\": 8}, {\"hsize\": 12}, {\"hsize\": 8}, {\"hsize\": 15}, {\"hsize\": 7}, {\"hsize\": 12}, {\"hsize\": 17}, {\"hsize\": 15}, {\"hsize\": 16}, {\"hsize\": 12}, {\"hsize\": 12}, {\"hsize\": 19}, {\"hsize\": 10}, {\"hsize\": 9}, {\"hsize\": 7}, {\"hsize\": 15}, {\"hsize\": 15}, {\"hsize\": 13}, {\"hsize\": 9}, {\"hsize\": 14}, {\"hsize\": 12}, {\"hsize\": 15}, {\"hsize\": 15}, {\"hsize\": 18}, {\"hsize\": 16}, {\"hsize\": 13}, {\"hsize\": 9}, {\"hsize\": 11}, {\"hsize\": 6}, {\"hsize\": 14}, {\"hsize\": 12}, {\"hsize\": 10}, {\"hsize\": 14}, {\"hsize\": 12}, {\"hsize\": 11}, {\"hsize\": 19}, {\"hsize\": 9}, {\"hsize\": 11}, {\"hsize\": 12}, {\"hsize\": 11}, {\"hsize\": 12}, {\"hsize\": 12}, {\"hsize\": 14}, {\"hsize\": 8}, {\"hsize\": 17}, {\"hsize\": 7}, {\"hsize\": 8}, {\"hsize\": 11}, {\"hsize\": 19}, {\"hsize\": 13}, {\"hsize\": 10}, {\"hsize\": 12}, {\"hsize\": 10}, {\"hsize\": 8}, {\"hsize\": 11}, {\"hsize\": 16}, {\"hsize\": 18}, {\"hsize\": 10}, {\"hsize\": 12}, {\"hsize\": 7}, {\"hsize\": 14}, {\"hsize\": 10}, {\"hsize\": 13}, {\"hsize\": 9}, {\"hsize\": 12}, {\"hsize\": 10}, {\"hsize\": 4}, {\"hsize\": 9}, {\"hsize\": 14}, {\"hsize\": 9}, {\"hsize\": 9}, {\"hsize\": 13}, {\"hsize\": 8}, {\"hsize\": 13}, {\"hsize\": 18}, {\"hsize\": 9}, {\"hsize\": 8}, {\"hsize\": 18}, {\"hsize\": 14}, {\"hsize\": 12}, {\"hsize\": 16}, {\"hsize\": 9}, {\"hsize\": 15}, {\"hsize\": 10}, {\"hsize\": 17}, {\"hsize\": 13}, {\"hsize\": 8}, {\"hsize\": 20}, {\"hsize\": 14}, {\"hsize\": 5}, {\"hsize\": 13}, {\"hsize\": 8}, {\"hsize\": 15}, {\"hsize\": 5}, {\"hsize\": 11}, {\"hsize\": 11}, {\"hsize\": 13}, {\"hsize\": 6}, {\"hsize\": 9}, {\"hsize\": 9}, {\"hsize\": 15}, {\"hsize\": 11}, {\"hsize\": 14}, {\"hsize\": 16}, {\"hsize\": 16}, {\"hsize\": 14}, {\"hsize\": 8}, {\"hsize\": 9}, {\"hsize\": 8}, {\"hsize\": 15}, {\"hsize\": 11}, {\"hsize\": 13}, {\"hsize\": 9}, {\"hsize\": 11}, {\"hsize\": 10}, {\"hsize\": 13}, {\"hsize\": 17}, {\"hsize\": 12}, {\"hsize\": 18}, {\"hsize\": 11}, {\"hsize\": 10}, {\"hsize\": 15}, {\"hsize\": 10}, {\"hsize\": 17}, {\"hsize\": 15}, {\"hsize\": 11}, {\"hsize\": 10}, {\"hsize\": 12}, {\"hsize\": 13}, {\"hsize\": 17}, {\"hsize\": 12}, {\"hsize\": 13}, {\"hsize\": 14}, {\"hsize\": 14}, {\"hsize\": 17}, {\"hsize\": 7}, {\"hsize\": 10}, {\"hsize\": 11}, {\"hsize\": 13}, {\"hsize\": 10}, {\"hsize\": 19}, {\"hsize\": 11}, {\"hsize\": 13}, {\"hsize\": 12}, {\"hsize\": 9}, {\"hsize\": 5}, {\"hsize\": 9}, {\"hsize\": 13}, {\"hsize\": 11}, {\"hsize\": 9}, {\"hsize\": 20}, {\"hsize\": 16}, {\"hsize\": 12}, {\"hsize\": 14}, {\"hsize\": 18}]}}, {\"mode\": \"vega-lite\"});\n",
       "</script>"
      ],
      "text/plain": [
       "alt.Chart(...)"
      ]
     },
     "execution_count": 21,
     "metadata": {},
     "output_type": "execute_result"
    }
   ],
   "source": [
    "alt.Chart(hsizes_df).mark_bar().encode(\n",
    "    alt.X(\"hsize:Q\"),\n",
    "    y='count()',\n",
    ")"
   ]
  },
  {
   "cell_type": "markdown",
   "id": "56b6d95c-2d72-4744-a8d9-aea68f0c0dc0",
   "metadata": {
    "tags": []
   },
   "source": [
    "## Hyperedge Sim"
   ]
  },
  {
   "cell_type": "code",
   "execution_count": 22,
   "id": "d52e1106-d174-4b7a-84d5-9c52327938d2",
   "metadata": {},
   "outputs": [],
   "source": [
    "df_sim = pd.DataFrame(columns=[\"count\", \"simNumber\"], dtype=int)\n",
    "for i in range(N_sim):\n",
    "    gen = Generator(N, N_edges, N_coms, p, q, community_array, sampling_strat)\n",
    "    gen.run()\n",
    "    hsizes = dict(gen.hyperedge_sizes()).values()\n",
    "    hsizes_df = pd.DataFrame(hsizes, columns=[\"hsize\"])\n",
    "\n",
    "    countdf = hsizes_df.groupby(['hsize'])['hsize'].count()\n",
    "    countdf = countdf.to_frame().rename(columns={\"hsize\": \"count\"})\n",
    "    countdf[\"simNumber\"] = i\n",
    "    \n",
    "    df_sim = pd.concat([df_sim, countdf])"
   ]
  },
  {
   "cell_type": "code",
   "execution_count": 23,
   "id": "bda2bf55-5fc7-4b59-9372-2631a378a5f0",
   "metadata": {},
   "outputs": [],
   "source": [
    "df_sim = df_sim.reset_index(names=\"hsize\")"
   ]
  },
  {
   "cell_type": "code",
   "execution_count": 24,
   "id": "884e67fa-e42d-4e68-9183-9a6426ed7aee",
   "metadata": {},
   "outputs": [
    {
     "data": {
      "text/html": [
       "<div>\n",
       "<style scoped>\n",
       "    .dataframe tbody tr th:only-of-type {\n",
       "        vertical-align: middle;\n",
       "    }\n",
       "\n",
       "    .dataframe tbody tr th {\n",
       "        vertical-align: top;\n",
       "    }\n",
       "\n",
       "    .dataframe thead th {\n",
       "        text-align: right;\n",
       "    }\n",
       "</style>\n",
       "<table border=\"1\" class=\"dataframe\">\n",
       "  <thead>\n",
       "    <tr style=\"text-align: right;\">\n",
       "      <th></th>\n",
       "      <th>hsize</th>\n",
       "      <th>count</th>\n",
       "      <th>simNumber</th>\n",
       "    </tr>\n",
       "  </thead>\n",
       "  <tbody>\n",
       "    <tr>\n",
       "      <th>0</th>\n",
       "      <td>4</td>\n",
       "      <td>2</td>\n",
       "      <td>0</td>\n",
       "    </tr>\n",
       "    <tr>\n",
       "      <th>1</th>\n",
       "      <td>5</td>\n",
       "      <td>3</td>\n",
       "      <td>0</td>\n",
       "    </tr>\n",
       "    <tr>\n",
       "      <th>2</th>\n",
       "      <td>6</td>\n",
       "      <td>3</td>\n",
       "      <td>0</td>\n",
       "    </tr>\n",
       "    <tr>\n",
       "      <th>3</th>\n",
       "      <td>7</td>\n",
       "      <td>9</td>\n",
       "      <td>0</td>\n",
       "    </tr>\n",
       "    <tr>\n",
       "      <th>4</th>\n",
       "      <td>8</td>\n",
       "      <td>10</td>\n",
       "      <td>0</td>\n",
       "    </tr>\n",
       "  </tbody>\n",
       "</table>\n",
       "</div>"
      ],
      "text/plain": [
       "   hsize  count  simNumber\n",
       "0      4      2          0\n",
       "1      5      3          0\n",
       "2      6      3          0\n",
       "3      7      9          0\n",
       "4      8     10          0"
      ]
     },
     "execution_count": 24,
     "metadata": {},
     "output_type": "execute_result"
    }
   ],
   "source": [
    "df_sim.head()"
   ]
  },
  {
   "cell_type": "code",
   "execution_count": 25,
   "id": "edd8cc06-adfc-4d02-acd8-ab5d8dba1073",
   "metadata": {},
   "outputs": [],
   "source": [
    "bars = alt.Chart(df_sim).mark_bar(color=COLOR).encode(\n",
    "    alt.X(\"hsize:Q\", scale=alt.Scale(domain=[0, 25]), title=\"Hyperedge Size\"),\n",
    "    alt.Y(\"mean(count):Q\"),\n",
    ")\n",
    "\n",
    "error = alt.Chart(df_sim).mark_errorbar(extent=\"ci\", rule=True).encode(\n",
    "    x=alt.X(\"hsize:Q\", scale=alt.Scale(domain=[0, 25])),\n",
    "    y=alt.Y(\n",
    "        \"count:Q\",\n",
    "        scale=alt.Scale(zero=False),\n",
    "        title=\"Absolute Frequency\"\n",
    "    ),\n",
    ")"
   ]
  },
  {
   "cell_type": "code",
   "execution_count": 26,
   "id": "4ead9432-7487-43ef-9f04-ecfea155625a",
   "metadata": {},
   "outputs": [
    {
     "data": {
      "text/html": [
       "\n",
       "<style>\n",
       "  #altair-viz-99de134af3da40568688cbc058027ba8.vega-embed {\n",
       "    width: 100%;\n",
       "    display: flex;\n",
       "  }\n",
       "\n",
       "  #altair-viz-99de134af3da40568688cbc058027ba8.vega-embed details,\n",
       "  #altair-viz-99de134af3da40568688cbc058027ba8.vega-embed details summary {\n",
       "    position: relative;\n",
       "  }\n",
       "</style>\n",
       "<div id=\"altair-viz-99de134af3da40568688cbc058027ba8\"></div>\n",
       "<script type=\"text/javascript\">\n",
       "  var VEGA_DEBUG = (typeof VEGA_DEBUG == \"undefined\") ? {} : VEGA_DEBUG;\n",
       "  (function(spec, embedOpt){\n",
       "    let outputDiv = document.currentScript.previousElementSibling;\n",
       "    if (outputDiv.id !== \"altair-viz-99de134af3da40568688cbc058027ba8\") {\n",
       "      outputDiv = document.getElementById(\"altair-viz-99de134af3da40568688cbc058027ba8\");\n",
       "    }\n",
       "    const paths = {\n",
       "      \"vega\": \"https://cdn.jsdelivr.net/npm/vega@5?noext\",\n",
       "      \"vega-lib\": \"https://cdn.jsdelivr.net/npm/vega-lib?noext\",\n",
       "      \"vega-lite\": \"https://cdn.jsdelivr.net/npm/vega-lite@5.14.1?noext\",\n",
       "      \"vega-embed\": \"https://cdn.jsdelivr.net/npm/vega-embed@6?noext\",\n",
       "    };\n",
       "\n",
       "    function maybeLoadScript(lib, version) {\n",
       "      var key = `${lib.replace(\"-\", \"\")}_version`;\n",
       "      return (VEGA_DEBUG[key] == version) ?\n",
       "        Promise.resolve(paths[lib]) :\n",
       "        new Promise(function(resolve, reject) {\n",
       "          var s = document.createElement('script');\n",
       "          document.getElementsByTagName(\"head\")[0].appendChild(s);\n",
       "          s.async = true;\n",
       "          s.onload = () => {\n",
       "            VEGA_DEBUG[key] = version;\n",
       "            return resolve(paths[lib]);\n",
       "          };\n",
       "          s.onerror = () => reject(`Error loading script: ${paths[lib]}`);\n",
       "          s.src = paths[lib];\n",
       "        });\n",
       "    }\n",
       "\n",
       "    function showError(err) {\n",
       "      outputDiv.innerHTML = `<div class=\"error\" style=\"color:red;\">${err}</div>`;\n",
       "      throw err;\n",
       "    }\n",
       "\n",
       "    function displayChart(vegaEmbed) {\n",
       "      vegaEmbed(outputDiv, spec, embedOpt)\n",
       "        .catch(err => showError(`Javascript Error: ${err.message}<br>This usually means there's a typo in your chart specification. See the javascript console for the full traceback.`));\n",
       "    }\n",
       "\n",
       "    if(typeof define === \"function\" && define.amd) {\n",
       "      requirejs.config({paths});\n",
       "      require([\"vega-embed\"], displayChart, err => showError(`Error loading script: ${err.message}`));\n",
       "    } else {\n",
       "      maybeLoadScript(\"vega\", \"5\")\n",
       "        .then(() => maybeLoadScript(\"vega-lite\", \"5.14.1\"))\n",
       "        .then(() => maybeLoadScript(\"vega-embed\", \"6\"))\n",
       "        .catch(showError)\n",
       "        .then(() => displayChart(vegaEmbed));\n",
       "    }\n",
       "  })({\"config\": {\"view\": {\"continuousWidth\": 300, \"continuousHeight\": 300}}, \"layer\": [{\"mark\": {\"type\": \"bar\", \"color\": \"#99d8c9\"}, \"encoding\": {\"x\": {\"field\": \"hsize\", \"scale\": {\"domain\": [0, 25]}, \"title\": \"Hyperedge Size\", \"type\": \"quantitative\"}, \"y\": {\"aggregate\": \"mean\", \"field\": \"count\", \"type\": \"quantitative\"}}}, {\"mark\": {\"type\": \"errorbar\", \"extent\": \"ci\", \"rule\": true}, \"encoding\": {\"x\": {\"field\": \"hsize\", \"scale\": {\"domain\": [0, 25]}, \"type\": \"quantitative\"}, \"y\": {\"field\": \"count\", \"scale\": {\"zero\": false}, \"title\": \"Absolute Frequency\", \"type\": \"quantitative\"}}}], \"data\": {\"name\": \"data-2e4496e86613faa8e55501616ee4b7bf\"}, \"$schema\": \"https://vega.github.io/schema/vega-lite/v5.14.1.json\", \"datasets\": {\"data-2e4496e86613faa8e55501616ee4b7bf\": [{\"hsize\": 4, \"count\": 2, \"simNumber\": 0}, {\"hsize\": 5, \"count\": 3, \"simNumber\": 0}, {\"hsize\": 6, \"count\": 3, \"simNumber\": 0}, {\"hsize\": 7, \"count\": 9, \"simNumber\": 0}, {\"hsize\": 8, \"count\": 10, \"simNumber\": 0}, {\"hsize\": 9, \"count\": 20, \"simNumber\": 0}, {\"hsize\": 10, \"count\": 17, \"simNumber\": 0}, {\"hsize\": 11, \"count\": 38, \"simNumber\": 0}, {\"hsize\": 12, \"count\": 32, \"simNumber\": 0}, {\"hsize\": 13, \"count\": 25, \"simNumber\": 0}, {\"hsize\": 14, \"count\": 28, \"simNumber\": 0}, {\"hsize\": 15, \"count\": 21, \"simNumber\": 0}, {\"hsize\": 16, \"count\": 14, \"simNumber\": 0}, {\"hsize\": 17, \"count\": 10, \"simNumber\": 0}, {\"hsize\": 18, \"count\": 11, \"simNumber\": 0}, {\"hsize\": 19, \"count\": 1, \"simNumber\": 0}, {\"hsize\": 20, \"count\": 4, \"simNumber\": 0}, {\"hsize\": 22, \"count\": 2, \"simNumber\": 0}, {\"hsize\": 3, \"count\": 2, \"simNumber\": 1}, {\"hsize\": 5, \"count\": 1, \"simNumber\": 1}, {\"hsize\": 6, \"count\": 4, \"simNumber\": 1}, {\"hsize\": 7, \"count\": 2, \"simNumber\": 1}, {\"hsize\": 8, \"count\": 13, \"simNumber\": 1}, {\"hsize\": 9, \"count\": 26, \"simNumber\": 1}, {\"hsize\": 10, \"count\": 27, \"simNumber\": 1}, {\"hsize\": 11, \"count\": 20, \"simNumber\": 1}, {\"hsize\": 12, \"count\": 29, \"simNumber\": 1}, {\"hsize\": 13, \"count\": 36, \"simNumber\": 1}, {\"hsize\": 14, \"count\": 30, \"simNumber\": 1}, {\"hsize\": 15, \"count\": 16, \"simNumber\": 1}, {\"hsize\": 16, \"count\": 18, \"simNumber\": 1}, {\"hsize\": 17, \"count\": 10, \"simNumber\": 1}, {\"hsize\": 18, \"count\": 6, \"simNumber\": 1}, {\"hsize\": 19, \"count\": 5, \"simNumber\": 1}, {\"hsize\": 20, \"count\": 1, \"simNumber\": 1}, {\"hsize\": 22, \"count\": 2, \"simNumber\": 1}, {\"hsize\": 23, \"count\": 1, \"simNumber\": 1}, {\"hsize\": 26, \"count\": 1, \"simNumber\": 1}, {\"hsize\": 4, \"count\": 1, \"simNumber\": 2}, {\"hsize\": 5, \"count\": 2, \"simNumber\": 2}, {\"hsize\": 6, \"count\": 5, \"simNumber\": 2}, {\"hsize\": 7, \"count\": 7, \"simNumber\": 2}, {\"hsize\": 8, \"count\": 10, \"simNumber\": 2}, {\"hsize\": 9, \"count\": 18, \"simNumber\": 2}, {\"hsize\": 10, \"count\": 31, \"simNumber\": 2}, {\"hsize\": 11, \"count\": 33, \"simNumber\": 2}, {\"hsize\": 12, \"count\": 31, \"simNumber\": 2}, {\"hsize\": 13, \"count\": 24, \"simNumber\": 2}, {\"hsize\": 14, \"count\": 25, \"simNumber\": 2}, {\"hsize\": 15, \"count\": 23, \"simNumber\": 2}, {\"hsize\": 16, \"count\": 13, \"simNumber\": 2}, {\"hsize\": 17, \"count\": 15, \"simNumber\": 2}, {\"hsize\": 18, \"count\": 3, \"simNumber\": 2}, {\"hsize\": 19, \"count\": 5, \"simNumber\": 2}, {\"hsize\": 20, \"count\": 4, \"simNumber\": 2}, {\"hsize\": 5, \"count\": 1, \"simNumber\": 3}, {\"hsize\": 6, \"count\": 4, \"simNumber\": 3}, {\"hsize\": 7, \"count\": 9, \"simNumber\": 3}, {\"hsize\": 8, \"count\": 11, \"simNumber\": 3}, {\"hsize\": 9, \"count\": 25, \"simNumber\": 3}, {\"hsize\": 10, \"count\": 22, \"simNumber\": 3}, {\"hsize\": 11, \"count\": 28, \"simNumber\": 3}, {\"hsize\": 12, \"count\": 28, \"simNumber\": 3}, {\"hsize\": 13, \"count\": 34, \"simNumber\": 3}, {\"hsize\": 14, \"count\": 20, \"simNumber\": 3}, {\"hsize\": 15, \"count\": 20, \"simNumber\": 3}, {\"hsize\": 16, \"count\": 23, \"simNumber\": 3}, {\"hsize\": 17, \"count\": 14, \"simNumber\": 3}, {\"hsize\": 18, \"count\": 2, \"simNumber\": 3}, {\"hsize\": 19, \"count\": 6, \"simNumber\": 3}, {\"hsize\": 20, \"count\": 1, \"simNumber\": 3}, {\"hsize\": 21, \"count\": 2, \"simNumber\": 3}, {\"hsize\": 4, \"count\": 1, \"simNumber\": 4}, {\"hsize\": 5, \"count\": 4, \"simNumber\": 4}, {\"hsize\": 6, \"count\": 1, \"simNumber\": 4}, {\"hsize\": 7, \"count\": 11, \"simNumber\": 4}, {\"hsize\": 8, \"count\": 10, \"simNumber\": 4}, {\"hsize\": 9, \"count\": 20, \"simNumber\": 4}, {\"hsize\": 10, \"count\": 21, \"simNumber\": 4}, {\"hsize\": 11, \"count\": 30, \"simNumber\": 4}, {\"hsize\": 12, \"count\": 27, \"simNumber\": 4}, {\"hsize\": 13, \"count\": 34, \"simNumber\": 4}, {\"hsize\": 14, \"count\": 22, \"simNumber\": 4}, {\"hsize\": 15, \"count\": 24, \"simNumber\": 4}, {\"hsize\": 16, \"count\": 18, \"simNumber\": 4}, {\"hsize\": 17, \"count\": 9, \"simNumber\": 4}, {\"hsize\": 18, \"count\": 8, \"simNumber\": 4}, {\"hsize\": 19, \"count\": 4, \"simNumber\": 4}, {\"hsize\": 20, \"count\": 2, \"simNumber\": 4}, {\"hsize\": 21, \"count\": 1, \"simNumber\": 4}, {\"hsize\": 22, \"count\": 3, \"simNumber\": 4}, {\"hsize\": 3, \"count\": 1, \"simNumber\": 5}, {\"hsize\": 4, \"count\": 1, \"simNumber\": 5}, {\"hsize\": 5, \"count\": 4, \"simNumber\": 5}, {\"hsize\": 7, \"count\": 5, \"simNumber\": 5}, {\"hsize\": 8, \"count\": 16, \"simNumber\": 5}, {\"hsize\": 9, \"count\": 19, \"simNumber\": 5}, {\"hsize\": 10, \"count\": 14, \"simNumber\": 5}, {\"hsize\": 11, \"count\": 35, \"simNumber\": 5}, {\"hsize\": 12, \"count\": 33, \"simNumber\": 5}, {\"hsize\": 13, \"count\": 32, \"simNumber\": 5}, {\"hsize\": 14, \"count\": 27, \"simNumber\": 5}, {\"hsize\": 15, \"count\": 21, \"simNumber\": 5}, {\"hsize\": 16, \"count\": 16, \"simNumber\": 5}, {\"hsize\": 17, \"count\": 9, \"simNumber\": 5}, {\"hsize\": 18, \"count\": 12, \"simNumber\": 5}, {\"hsize\": 19, \"count\": 1, \"simNumber\": 5}, {\"hsize\": 20, \"count\": 1, \"simNumber\": 5}, {\"hsize\": 21, \"count\": 1, \"simNumber\": 5}, {\"hsize\": 24, \"count\": 2, \"simNumber\": 5}, {\"hsize\": 4, \"count\": 2, \"simNumber\": 6}, {\"hsize\": 5, \"count\": 2, \"simNumber\": 6}, {\"hsize\": 6, \"count\": 4, \"simNumber\": 6}, {\"hsize\": 7, \"count\": 5, \"simNumber\": 6}, {\"hsize\": 8, \"count\": 12, \"simNumber\": 6}, {\"hsize\": 9, \"count\": 16, \"simNumber\": 6}, {\"hsize\": 10, \"count\": 28, \"simNumber\": 6}, {\"hsize\": 11, \"count\": 29, \"simNumber\": 6}, {\"hsize\": 12, \"count\": 27, \"simNumber\": 6}, {\"hsize\": 13, \"count\": 26, \"simNumber\": 6}, {\"hsize\": 14, \"count\": 27, \"simNumber\": 6}, {\"hsize\": 15, \"count\": 29, \"simNumber\": 6}, {\"hsize\": 16, \"count\": 15, \"simNumber\": 6}, {\"hsize\": 17, \"count\": 8, \"simNumber\": 6}, {\"hsize\": 18, \"count\": 7, \"simNumber\": 6}, {\"hsize\": 19, \"count\": 5, \"simNumber\": 6}, {\"hsize\": 20, \"count\": 5, \"simNumber\": 6}, {\"hsize\": 21, \"count\": 2, \"simNumber\": 6}, {\"hsize\": 26, \"count\": 1, \"simNumber\": 6}, {\"hsize\": 5, \"count\": 2, \"simNumber\": 7}, {\"hsize\": 6, \"count\": 3, \"simNumber\": 7}, {\"hsize\": 7, \"count\": 11, \"simNumber\": 7}, {\"hsize\": 8, \"count\": 8, \"simNumber\": 7}, {\"hsize\": 9, \"count\": 15, \"simNumber\": 7}, {\"hsize\": 10, \"count\": 33, \"simNumber\": 7}, {\"hsize\": 11, \"count\": 35, \"simNumber\": 7}, {\"hsize\": 12, \"count\": 25, \"simNumber\": 7}, {\"hsize\": 13, \"count\": 26, \"simNumber\": 7}, {\"hsize\": 14, \"count\": 27, \"simNumber\": 7}, {\"hsize\": 15, \"count\": 24, \"simNumber\": 7}, {\"hsize\": 16, \"count\": 15, \"simNumber\": 7}, {\"hsize\": 17, \"count\": 7, \"simNumber\": 7}, {\"hsize\": 18, \"count\": 8, \"simNumber\": 7}, {\"hsize\": 19, \"count\": 6, \"simNumber\": 7}, {\"hsize\": 21, \"count\": 2, \"simNumber\": 7}, {\"hsize\": 22, \"count\": 2, \"simNumber\": 7}, {\"hsize\": 27, \"count\": 1, \"simNumber\": 7}, {\"hsize\": 4, \"count\": 1, \"simNumber\": 8}, {\"hsize\": 5, \"count\": 1, \"simNumber\": 8}, {\"hsize\": 6, \"count\": 5, \"simNumber\": 8}, {\"hsize\": 7, \"count\": 7, \"simNumber\": 8}, {\"hsize\": 8, \"count\": 14, \"simNumber\": 8}, {\"hsize\": 9, \"count\": 20, \"simNumber\": 8}, {\"hsize\": 10, \"count\": 14, \"simNumber\": 8}, {\"hsize\": 11, \"count\": 28, \"simNumber\": 8}, {\"hsize\": 12, \"count\": 26, \"simNumber\": 8}, {\"hsize\": 13, \"count\": 30, \"simNumber\": 8}, {\"hsize\": 14, \"count\": 27, \"simNumber\": 8}, {\"hsize\": 15, \"count\": 28, \"simNumber\": 8}, {\"hsize\": 16, \"count\": 14, \"simNumber\": 8}, {\"hsize\": 17, \"count\": 17, \"simNumber\": 8}, {\"hsize\": 18, \"count\": 10, \"simNumber\": 8}, {\"hsize\": 19, \"count\": 3, \"simNumber\": 8}, {\"hsize\": 20, \"count\": 5, \"simNumber\": 8}, {\"hsize\": 4, \"count\": 2, \"simNumber\": 9}, {\"hsize\": 5, \"count\": 3, \"simNumber\": 9}, {\"hsize\": 6, \"count\": 5, \"simNumber\": 9}, {\"hsize\": 7, \"count\": 10, \"simNumber\": 9}, {\"hsize\": 8, \"count\": 8, \"simNumber\": 9}, {\"hsize\": 9, \"count\": 22, \"simNumber\": 9}, {\"hsize\": 10, \"count\": 27, \"simNumber\": 9}, {\"hsize\": 11, \"count\": 25, \"simNumber\": 9}, {\"hsize\": 12, \"count\": 22, \"simNumber\": 9}, {\"hsize\": 13, \"count\": 30, \"simNumber\": 9}, {\"hsize\": 14, \"count\": 27, \"simNumber\": 9}, {\"hsize\": 15, \"count\": 19, \"simNumber\": 9}, {\"hsize\": 16, \"count\": 14, \"simNumber\": 9}, {\"hsize\": 17, \"count\": 17, \"simNumber\": 9}, {\"hsize\": 18, \"count\": 9, \"simNumber\": 9}, {\"hsize\": 19, \"count\": 2, \"simNumber\": 9}, {\"hsize\": 20, \"count\": 4, \"simNumber\": 9}, {\"hsize\": 22, \"count\": 2, \"simNumber\": 9}, {\"hsize\": 23, \"count\": 1, \"simNumber\": 9}, {\"hsize\": 25, \"count\": 1, \"simNumber\": 9}, {\"hsize\": 5, \"count\": 1, \"simNumber\": 10}, {\"hsize\": 6, \"count\": 3, \"simNumber\": 10}, {\"hsize\": 7, \"count\": 12, \"simNumber\": 10}, {\"hsize\": 8, \"count\": 18, \"simNumber\": 10}, {\"hsize\": 9, \"count\": 14, \"simNumber\": 10}, {\"hsize\": 10, \"count\": 23, \"simNumber\": 10}, {\"hsize\": 11, \"count\": 35, \"simNumber\": 10}, {\"hsize\": 12, \"count\": 33, \"simNumber\": 10}, {\"hsize\": 13, \"count\": 24, \"simNumber\": 10}, {\"hsize\": 14, \"count\": 28, \"simNumber\": 10}, {\"hsize\": 15, \"count\": 17, \"simNumber\": 10}, {\"hsize\": 16, \"count\": 15, \"simNumber\": 10}, {\"hsize\": 17, \"count\": 12, \"simNumber\": 10}, {\"hsize\": 18, \"count\": 9, \"simNumber\": 10}, {\"hsize\": 19, \"count\": 2, \"simNumber\": 10}, {\"hsize\": 20, \"count\": 3, \"simNumber\": 10}, {\"hsize\": 22, \"count\": 1, \"simNumber\": 10}, {\"hsize\": 2, \"count\": 1, \"simNumber\": 11}, {\"hsize\": 3, \"count\": 1, \"simNumber\": 11}, {\"hsize\": 4, \"count\": 1, \"simNumber\": 11}, {\"hsize\": 5, \"count\": 1, \"simNumber\": 11}, {\"hsize\": 6, \"count\": 4, \"simNumber\": 11}, {\"hsize\": 7, \"count\": 8, \"simNumber\": 11}, {\"hsize\": 8, \"count\": 19, \"simNumber\": 11}, {\"hsize\": 9, \"count\": 23, \"simNumber\": 11}, {\"hsize\": 10, \"count\": 27, \"simNumber\": 11}, {\"hsize\": 11, \"count\": 20, \"simNumber\": 11}, {\"hsize\": 12, \"count\": 27, \"simNumber\": 11}, {\"hsize\": 13, \"count\": 22, \"simNumber\": 11}, {\"hsize\": 14, \"count\": 31, \"simNumber\": 11}, {\"hsize\": 15, \"count\": 25, \"simNumber\": 11}, {\"hsize\": 16, \"count\": 16, \"simNumber\": 11}, {\"hsize\": 17, \"count\": 7, \"simNumber\": 11}, {\"hsize\": 18, \"count\": 7, \"simNumber\": 11}, {\"hsize\": 19, \"count\": 5, \"simNumber\": 11}, {\"hsize\": 20, \"count\": 4, \"simNumber\": 11}, {\"hsize\": 21, \"count\": 1, \"simNumber\": 11}, {\"hsize\": 5, \"count\": 1, \"simNumber\": 12}, {\"hsize\": 6, \"count\": 3, \"simNumber\": 12}, {\"hsize\": 7, \"count\": 6, \"simNumber\": 12}, {\"hsize\": 8, \"count\": 11, \"simNumber\": 12}, {\"hsize\": 9, \"count\": 20, \"simNumber\": 12}, {\"hsize\": 10, \"count\": 31, \"simNumber\": 12}, {\"hsize\": 11, \"count\": 30, \"simNumber\": 12}, {\"hsize\": 12, \"count\": 22, \"simNumber\": 12}, {\"hsize\": 13, \"count\": 40, \"simNumber\": 12}, {\"hsize\": 14, \"count\": 23, \"simNumber\": 12}, {\"hsize\": 15, \"count\": 23, \"simNumber\": 12}, {\"hsize\": 16, \"count\": 14, \"simNumber\": 12}, {\"hsize\": 17, \"count\": 11, \"simNumber\": 12}, {\"hsize\": 18, \"count\": 10, \"simNumber\": 12}, {\"hsize\": 19, \"count\": 1, \"simNumber\": 12}, {\"hsize\": 20, \"count\": 2, \"simNumber\": 12}, {\"hsize\": 22, \"count\": 1, \"simNumber\": 12}, {\"hsize\": 24, \"count\": 1, \"simNumber\": 12}, {\"hsize\": 5, \"count\": 2, \"simNumber\": 13}, {\"hsize\": 6, \"count\": 2, \"simNumber\": 13}, {\"hsize\": 7, \"count\": 11, \"simNumber\": 13}, {\"hsize\": 8, \"count\": 9, \"simNumber\": 13}, {\"hsize\": 9, \"count\": 21, \"simNumber\": 13}, {\"hsize\": 10, \"count\": 25, \"simNumber\": 13}, {\"hsize\": 11, \"count\": 28, \"simNumber\": 13}, {\"hsize\": 12, \"count\": 33, \"simNumber\": 13}, {\"hsize\": 13, \"count\": 31, \"simNumber\": 13}, {\"hsize\": 14, \"count\": 31, \"simNumber\": 13}, {\"hsize\": 15, \"count\": 23, \"simNumber\": 13}, {\"hsize\": 16, \"count\": 15, \"simNumber\": 13}, {\"hsize\": 17, \"count\": 6, \"simNumber\": 13}, {\"hsize\": 18, \"count\": 5, \"simNumber\": 13}, {\"hsize\": 19, \"count\": 3, \"simNumber\": 13}, {\"hsize\": 20, \"count\": 3, \"simNumber\": 13}, {\"hsize\": 21, \"count\": 1, \"simNumber\": 13}, {\"hsize\": 26, \"count\": 1, \"simNumber\": 13}, {\"hsize\": 5, \"count\": 3, \"simNumber\": 14}, {\"hsize\": 6, \"count\": 5, \"simNumber\": 14}, {\"hsize\": 7, \"count\": 11, \"simNumber\": 14}, {\"hsize\": 8, \"count\": 15, \"simNumber\": 14}, {\"hsize\": 9, \"count\": 22, \"simNumber\": 14}, {\"hsize\": 10, \"count\": 31, \"simNumber\": 14}, {\"hsize\": 11, \"count\": 24, \"simNumber\": 14}, {\"hsize\": 12, \"count\": 31, \"simNumber\": 14}, {\"hsize\": 13, \"count\": 22, \"simNumber\": 14}, {\"hsize\": 14, \"count\": 26, \"simNumber\": 14}, {\"hsize\": 15, \"count\": 18, \"simNumber\": 14}, {\"hsize\": 16, \"count\": 17, \"simNumber\": 14}, {\"hsize\": 17, \"count\": 13, \"simNumber\": 14}, {\"hsize\": 18, \"count\": 5, \"simNumber\": 14}, {\"hsize\": 19, \"count\": 5, \"simNumber\": 14}, {\"hsize\": 20, \"count\": 2, \"simNumber\": 14}, {\"hsize\": 4, \"count\": 3, \"simNumber\": 15}, {\"hsize\": 5, \"count\": 2, \"simNumber\": 15}, {\"hsize\": 6, \"count\": 2, \"simNumber\": 15}, {\"hsize\": 7, \"count\": 8, \"simNumber\": 15}, {\"hsize\": 8, \"count\": 25, \"simNumber\": 15}, {\"hsize\": 9, \"count\": 27, \"simNumber\": 15}, {\"hsize\": 10, \"count\": 17, \"simNumber\": 15}, {\"hsize\": 11, \"count\": 24, \"simNumber\": 15}, {\"hsize\": 12, \"count\": 33, \"simNumber\": 15}, {\"hsize\": 13, \"count\": 29, \"simNumber\": 15}, {\"hsize\": 14, \"count\": 18, \"simNumber\": 15}, {\"hsize\": 15, \"count\": 20, \"simNumber\": 15}, {\"hsize\": 16, \"count\": 18, \"simNumber\": 15}, {\"hsize\": 17, \"count\": 10, \"simNumber\": 15}, {\"hsize\": 18, \"count\": 7, \"simNumber\": 15}, {\"hsize\": 19, \"count\": 5, \"simNumber\": 15}, {\"hsize\": 20, \"count\": 2, \"simNumber\": 15}, {\"hsize\": 5, \"count\": 1, \"simNumber\": 16}, {\"hsize\": 6, \"count\": 6, \"simNumber\": 16}, {\"hsize\": 7, \"count\": 9, \"simNumber\": 16}, {\"hsize\": 8, \"count\": 14, \"simNumber\": 16}, {\"hsize\": 9, \"count\": 18, \"simNumber\": 16}, {\"hsize\": 10, \"count\": 28, \"simNumber\": 16}, {\"hsize\": 11, \"count\": 25, \"simNumber\": 16}, {\"hsize\": 12, \"count\": 37, \"simNumber\": 16}, {\"hsize\": 13, \"count\": 23, \"simNumber\": 16}, {\"hsize\": 14, \"count\": 21, \"simNumber\": 16}, {\"hsize\": 15, \"count\": 23, \"simNumber\": 16}, {\"hsize\": 16, \"count\": 15, \"simNumber\": 16}, {\"hsize\": 17, \"count\": 8, \"simNumber\": 16}, {\"hsize\": 18, \"count\": 8, \"simNumber\": 16}, {\"hsize\": 19, \"count\": 5, \"simNumber\": 16}, {\"hsize\": 20, \"count\": 3, \"simNumber\": 16}, {\"hsize\": 21, \"count\": 2, \"simNumber\": 16}, {\"hsize\": 22, \"count\": 4, \"simNumber\": 16}, {\"hsize\": 3, \"count\": 1, \"simNumber\": 17}, {\"hsize\": 4, \"count\": 2, \"simNumber\": 17}, {\"hsize\": 6, \"count\": 1, \"simNumber\": 17}, {\"hsize\": 7, \"count\": 10, \"simNumber\": 17}, {\"hsize\": 8, \"count\": 7, \"simNumber\": 17}, {\"hsize\": 9, \"count\": 15, \"simNumber\": 17}, {\"hsize\": 10, \"count\": 16, \"simNumber\": 17}, {\"hsize\": 11, \"count\": 34, \"simNumber\": 17}, {\"hsize\": 12, \"count\": 33, \"simNumber\": 17}, {\"hsize\": 13, \"count\": 30, \"simNumber\": 17}, {\"hsize\": 14, \"count\": 25, \"simNumber\": 17}, {\"hsize\": 15, \"count\": 28, \"simNumber\": 17}, {\"hsize\": 16, \"count\": 13, \"simNumber\": 17}, {\"hsize\": 17, \"count\": 15, \"simNumber\": 17}, {\"hsize\": 18, \"count\": 10, \"simNumber\": 17}, {\"hsize\": 19, \"count\": 5, \"simNumber\": 17}, {\"hsize\": 20, \"count\": 1, \"simNumber\": 17}, {\"hsize\": 21, \"count\": 2, \"simNumber\": 17}, {\"hsize\": 22, \"count\": 2, \"simNumber\": 17}, {\"hsize\": 5, \"count\": 1, \"simNumber\": 18}, {\"hsize\": 6, \"count\": 4, \"simNumber\": 18}, {\"hsize\": 7, \"count\": 9, \"simNumber\": 18}, {\"hsize\": 8, \"count\": 12, \"simNumber\": 18}, {\"hsize\": 9, \"count\": 26, \"simNumber\": 18}, {\"hsize\": 10, \"count\": 24, \"simNumber\": 18}, {\"hsize\": 11, \"count\": 31, \"simNumber\": 18}, {\"hsize\": 12, \"count\": 33, \"simNumber\": 18}, {\"hsize\": 13, \"count\": 20, \"simNumber\": 18}, {\"hsize\": 14, \"count\": 25, \"simNumber\": 18}, {\"hsize\": 15, \"count\": 23, \"simNumber\": 18}, {\"hsize\": 16, \"count\": 16, \"simNumber\": 18}, {\"hsize\": 17, \"count\": 10, \"simNumber\": 18}, {\"hsize\": 18, \"count\": 5, \"simNumber\": 18}, {\"hsize\": 19, \"count\": 4, \"simNumber\": 18}, {\"hsize\": 20, \"count\": 4, \"simNumber\": 18}, {\"hsize\": 21, \"count\": 2, \"simNumber\": 18}, {\"hsize\": 23, \"count\": 1, \"simNumber\": 18}, {\"hsize\": 4, \"count\": 1, \"simNumber\": 19}, {\"hsize\": 5, \"count\": 3, \"simNumber\": 19}, {\"hsize\": 6, \"count\": 4, \"simNumber\": 19}, {\"hsize\": 7, \"count\": 10, \"simNumber\": 19}, {\"hsize\": 8, \"count\": 13, \"simNumber\": 19}, {\"hsize\": 9, \"count\": 12, \"simNumber\": 19}, {\"hsize\": 10, \"count\": 28, \"simNumber\": 19}, {\"hsize\": 11, \"count\": 34, \"simNumber\": 19}, {\"hsize\": 12, \"count\": 34, \"simNumber\": 19}, {\"hsize\": 13, \"count\": 20, \"simNumber\": 19}, {\"hsize\": 14, \"count\": 27, \"simNumber\": 19}, {\"hsize\": 15, \"count\": 20, \"simNumber\": 19}, {\"hsize\": 16, \"count\": 11, \"simNumber\": 19}, {\"hsize\": 17, \"count\": 9, \"simNumber\": 19}, {\"hsize\": 18, \"count\": 6, \"simNumber\": 19}, {\"hsize\": 19, \"count\": 12, \"simNumber\": 19}, {\"hsize\": 20, \"count\": 2, \"simNumber\": 19}, {\"hsize\": 21, \"count\": 2, \"simNumber\": 19}, {\"hsize\": 22, \"count\": 2, \"simNumber\": 19}]}}, {\"mode\": \"vega-lite\"});\n",
       "</script>"
      ],
      "text/plain": [
       "alt.LayerChart(...)"
      ]
     },
     "execution_count": 26,
     "metadata": {},
     "output_type": "execute_result"
    }
   ],
   "source": [
    "bars + error"
   ]
  },
  {
   "cell_type": "markdown",
   "id": "3577318a-4ce0-4889-bc9a-579727c27a62",
   "metadata": {},
   "source": [
    "# p effectif tests"
   ]
  },
  {
   "cell_type": "code",
   "execution_count": 27,
   "id": "ac47401a-e0cc-42ec-80c1-bdf86179cfc6",
   "metadata": {},
   "outputs": [],
   "source": [
    "# Bounds of n and p effectif\n",
    "bounds = [(N / 2, N), (q, p)]\n",
    "dist = stats.binom\n",
    "res = stats.fit(dist, list(degrees), bounds)"
   ]
  },
  {
   "cell_type": "code",
   "execution_count": 28,
   "id": "41a1a815-62bb-466f-8e57-f55c6202fcd3",
   "metadata": {},
   "outputs": [
    {
     "data": {
      "text/plain": [
       "  params: FitParams(n=268.0, p=0.023119397440310774, loc=0.0)\n",
       " success: True\n",
       " message: 'Optimization terminated successfully.'"
      ]
     },
     "execution_count": 28,
     "metadata": {},
     "output_type": "execute_result"
    }
   ],
   "source": [
    "res"
   ]
  },
  {
   "cell_type": "code",
   "execution_count": 29,
   "id": "9d1a7f6b-f9bd-453d-92c2-80c6e44dd608",
   "metadata": {},
   "outputs": [
    {
     "data": {
      "text/plain": [
       "0.023119397440310774"
      ]
     },
     "execution_count": 29,
     "metadata": {},
     "output_type": "execute_result"
    }
   ],
   "source": [
    "res.params[1]"
   ]
  },
  {
   "cell_type": "code",
   "execution_count": 30,
   "id": "a97a8648-9a1c-4438-99fc-6551e00557e2",
   "metadata": {},
   "outputs": [
    {
     "data": {
      "text/plain": [
       "0.04"
      ]
     },
     "execution_count": 30,
     "metadata": {},
     "output_type": "execute_result"
    }
   ],
   "source": [
    "p"
   ]
  },
  {
   "cell_type": "markdown",
   "id": "837e2f3f-71b2-4a26-923a-b67b091b6afc",
   "metadata": {},
   "source": [
    "# Fraction Dist"
   ]
  },
  {
   "cell_type": "code",
   "execution_count": 31,
   "id": "45d82bbc-e047-49fd-9821-414bd4c94f8a",
   "metadata": {},
   "outputs": [],
   "source": [
    "# Faire pareil sur 100/1000 réseaux\n",
    "# Accumuler la liste des degrées/hsize\n",
    "# Une value de p/q => plusieurs simulations => faire le fit la dessus"
   ]
  },
  {
   "cell_type": "code",
   "execution_count": 32,
   "id": "a618dba0-c59f-4193-ad68-7ab13a538a60",
   "metadata": {},
   "outputs": [],
   "source": [
    "p_init = 30 / N\n",
    "q_init = 30 / N"
   ]
  },
  {
   "cell_type": "code",
   "execution_count": 33,
   "id": "afe99831-cabe-49e1-820e-64e6915df881",
   "metadata": {},
   "outputs": [
    {
     "data": {
      "text/plain": [
       "0.06"
      ]
     },
     "execution_count": 33,
     "metadata": {},
     "output_type": "execute_result"
    }
   ],
   "source": [
    "q_init"
   ]
  },
  {
   "cell_type": "code",
   "execution_count": 34,
   "id": "cfb6896c-a3e1-41d1-aed5-998f5b5dc869",
   "metadata": {
    "tags": []
   },
   "outputs": [
    {
     "name": "stdout",
     "output_type": "stream",
     "text": [
      "0 0.06 0.06\n",
      "PEFF  0.06 0.06\n",
      "NEFF  250.0 500.0\n",
      "1 0.06 0.057\n",
      "PEFF  0.06 0.06\n",
      "NEFF  250.0 500.0\n",
      "2 0.06 0.054\n",
      "PEFF  0.05946773661976095 0.059587873742437784\n",
      "NEFF  248.0 495.0\n",
      "3 0.06 0.051\n",
      "PEFF  0.05999159155433155 0.05722644772206266\n",
      "NEFF  238.0 499.0\n",
      "4 0.06 0.048\n",
      "PEFF  0.05607999521166034 0.05953290355708806\n",
      "NEFF  250.0 471.0\n",
      "5 0.06 0.045\n",
      "PEFF  0.05701265333180108 0.059126153267975955\n",
      "NEFF  237.0 457.0\n",
      "6 0.06 0.042\n",
      "PEFF  0.05347153969013295 0.0562136702044775\n",
      "NEFF  246.0 468.0\n",
      "7 0.06 0.039\n",
      "PEFF  0.05939251994400712 0.05124999551255383\n",
      "NEFF  214.0 496.0\n",
      "8 0.06 0.036\n",
      "PEFF  0.05951428072512708 0.051116559282496726\n",
      "NEFF  210.0 489.0\n",
      "9 0.06 0.033\n",
      "PEFF  0.0491012096829753 0.04940121696435402\n",
      "NEFF  247.0 491.0\n",
      "10 0.06 0.03\n",
      "PEFF  0.059624364869775355 0.0559333294355681\n",
      "NEFF  197.0 420.0\n",
      "11 0.06 0.027\n",
      "PEFF  0.058822911745319825 0.05403827257237071\n",
      "NEFF  192.0 418.0\n",
      "12 0.06 0.024\n",
      "PEFF  0.04575832889312079 0.05192434539288237\n",
      "NEFF  240.0 423.0\n",
      "13 0.06 0.021\n",
      "PEFF  0.04177418855923958 0.055698919723075085\n",
      "NEFF  248.0 372.0\n",
      "14 0.06 0.018\n",
      "PEFF  0.05463829298821175 0.05787041768953651\n",
      "NEFF  188.0 355.0\n",
      "15 0.06 0.015\n",
      "PEFF  0.05954216357715737 0.05883332716012621\n",
      "NEFF  166.0 336.0\n",
      "16 0.06 0.012\n",
      "PEFF  0.0409004253119175 0.04747738190568038\n",
      "NEFF  231.0 398.0\n",
      "17 0.06 0.009\n",
      "PEFF  0.05785986757305381 0.05032686483659002\n",
      "NEFF  157.0 361.0\n",
      "18 0.06 0.006\n",
      "PEFF  0.046021271607311516 0.04033565938286536\n",
      "NEFF  188.0 429.0\n",
      "19 0.06 0.003\n",
      "PEFF  0.036835550554391853 0.05657337392554093\n",
      "NEFF  225.0 293.0\n",
      "20 0.06 0.0\n",
      "PEFF  0.03704716485317474 0.05235999504644215\n",
      "NEFF  212.0 300.0\n"
     ]
    }
   ],
   "source": [
    "p = p_init\n",
    "q = q_init \n",
    "\n",
    "df_sim = pd.DataFrame(columns=[\"sim\", \"type\", \"count\"], dtype=int)\n",
    "df_fraction = pd.DataFrame(columns=[\"sim\", \"count\", \"fraction0\"], dtype=int)\n",
    "df_peff = pd.DataFrame(columns=[\"peff\", \"p\", \"q\", \"q_frac\"], dtype=int)\n",
    "\n",
    "increment = 0.05\n",
    "N_sim = int(1 / increment) + 1\n",
    "q_frac_order = []\n",
    "N_graphs = 10\n",
    "\n",
    "for i in range(N_sim):\n",
    "    q = round(q_init - (p * increment * i), 4)\n",
    "    print(i, p, q)\n",
    "    \n",
    "    for \n",
    "    gen = Generator(N, N_edges, N_coms, p, q, community_array, sampling_strat)\n",
    "    gen.run()\n",
    "    comp = gen.hyperedges_types()\n",
    "    n_pure = comp.count(\"pure\")\n",
    "    n_mixed = comp.count(\"mixed\")\n",
    "    \n",
    "    q_frac = f\"{round(1 - (increment * (i)), 3)}p\"\n",
    "    q_frac_order.append(q_frac)\n",
    "    \n",
    "    df = pd.DataFrame({\"sim\": [i, i], \"q\": [q_frac, q_frac], \"type\": [\"pure\", \"mixed\"], \"count\": [n_pure, n_mixed]})\n",
    "    df_sim = pd.concat([df_sim, df])\n",
    "    \n",
    "#     For fraction distribution of mixed edges\n",
    "    comp = gen.mixed_he_fraction_to_count()\n",
    "    for fraction, count in comp.items():\n",
    "        df = pd.DataFrame({\"sim\": [i], \"q\": [q_frac], \"count\": [count], \"fraction0\": fraction})\n",
    "        df_fraction = pd.concat([df_fraction, df])\n",
    "        \n",
    "    # for peffectif computation\n",
    "    degrees = dict(gen.degrees()).values()\n",
    "    hsizes = dict(gen.hyperedge_sizes()).values()\n",
    "    \n",
    "    # Distrib of degree\n",
    "    # Bounds of n and p effectif\n",
    "    # bounds = [(N_edges, N_edges), (q, p)]\n",
    "    bounds = [(0, N_edges), (q, p)]\n",
    "    \n",
    "    dist = stats.binom\n",
    "    res = stats.fit(dist, list(degrees), bounds)\n",
    "    peff = res.params[1]\n",
    "    df = pd.DataFrame({\"peff\": [peff], \"p\": [p], \"q\": [q], \"q_frac\": [q_frac]})\n",
    "    df_peff = pd.concat([df_peff, df])\n",
    "    neff_degree = res.params[0]\n",
    "    \n",
    "    # Distrib of hsizes\n",
    "    bounds = [(N / 2, N), (q, p)]\n",
    "    dist = stats.binom\n",
    "    res = stats.fit(dist, list(hsizes), bounds)\n",
    "    peffhsize = res.params[1]\n",
    "    neff_hsize = res.params[0]\n",
    "    \n",
    "    print(\"PEFF \", peff, peffhsize)\n",
    "    print(\"NEFF \", neff_degree, neff_hsize)    "
   ]
  },
  {
   "cell_type": "code",
   "execution_count": 35,
   "id": "2a44a6f3-a5d0-4d69-aff5-dda178ebd807",
   "metadata": {
    "tags": []
   },
   "outputs": [
    {
     "data": {
      "text/html": [
       "<div>\n",
       "<style scoped>\n",
       "    .dataframe tbody tr th:only-of-type {\n",
       "        vertical-align: middle;\n",
       "    }\n",
       "\n",
       "    .dataframe tbody tr th {\n",
       "        vertical-align: top;\n",
       "    }\n",
       "\n",
       "    .dataframe thead th {\n",
       "        text-align: right;\n",
       "    }\n",
       "</style>\n",
       "<table border=\"1\" class=\"dataframe\">\n",
       "  <thead>\n",
       "    <tr style=\"text-align: right;\">\n",
       "      <th></th>\n",
       "      <th>sim</th>\n",
       "      <th>count</th>\n",
       "      <th>fraction0</th>\n",
       "      <th>q</th>\n",
       "    </tr>\n",
       "  </thead>\n",
       "  <tbody>\n",
       "    <tr>\n",
       "      <th>0</th>\n",
       "      <td>0</td>\n",
       "      <td>4</td>\n",
       "      <td>37.931</td>\n",
       "      <td>1.0p</td>\n",
       "    </tr>\n",
       "    <tr>\n",
       "      <th>0</th>\n",
       "      <td>0</td>\n",
       "      <td>1</td>\n",
       "      <td>38.889</td>\n",
       "      <td>1.0p</td>\n",
       "    </tr>\n",
       "    <tr>\n",
       "      <th>0</th>\n",
       "      <td>0</td>\n",
       "      <td>1</td>\n",
       "      <td>39.394</td>\n",
       "      <td>1.0p</td>\n",
       "    </tr>\n",
       "    <tr>\n",
       "      <th>0</th>\n",
       "      <td>0</td>\n",
       "      <td>3</td>\n",
       "      <td>40.741</td>\n",
       "      <td>1.0p</td>\n",
       "    </tr>\n",
       "    <tr>\n",
       "      <th>0</th>\n",
       "      <td>0</td>\n",
       "      <td>2</td>\n",
       "      <td>41.935</td>\n",
       "      <td>1.0p</td>\n",
       "    </tr>\n",
       "    <tr>\n",
       "      <th>...</th>\n",
       "      <td>...</td>\n",
       "      <td>...</td>\n",
       "      <td>...</td>\n",
       "      <td>...</td>\n",
       "    </tr>\n",
       "    <tr>\n",
       "      <th>0</th>\n",
       "      <td>19</td>\n",
       "      <td>1</td>\n",
       "      <td>43.750</td>\n",
       "      <td>0.05p</td>\n",
       "    </tr>\n",
       "    <tr>\n",
       "      <th>0</th>\n",
       "      <td>19</td>\n",
       "      <td>1</td>\n",
       "      <td>50.000</td>\n",
       "      <td>0.05p</td>\n",
       "    </tr>\n",
       "    <tr>\n",
       "      <th>0</th>\n",
       "      <td>19</td>\n",
       "      <td>1</td>\n",
       "      <td>28.571</td>\n",
       "      <td>0.05p</td>\n",
       "    </tr>\n",
       "    <tr>\n",
       "      <th>0</th>\n",
       "      <td>20</td>\n",
       "      <td>135</td>\n",
       "      <td>100.000</td>\n",
       "      <td>0.0p</td>\n",
       "    </tr>\n",
       "    <tr>\n",
       "      <th>0</th>\n",
       "      <td>20</td>\n",
       "      <td>115</td>\n",
       "      <td>0.000</td>\n",
       "      <td>0.0p</td>\n",
       "    </tr>\n",
       "  </tbody>\n",
       "</table>\n",
       "<p>2480 rows × 4 columns</p>\n",
       "</div>"
      ],
      "text/plain": [
       "    sim  count  fraction0      q\n",
       "0     0      4     37.931   1.0p\n",
       "0     0      1     38.889   1.0p\n",
       "0     0      1     39.394   1.0p\n",
       "0     0      3     40.741   1.0p\n",
       "0     0      2     41.935   1.0p\n",
       "..  ...    ...        ...    ...\n",
       "0    19      1     43.750  0.05p\n",
       "0    19      1     50.000  0.05p\n",
       "0    19      1     28.571  0.05p\n",
       "0    20    135    100.000   0.0p\n",
       "0    20    115      0.000   0.0p\n",
       "\n",
       "[2480 rows x 4 columns]"
      ]
     },
     "execution_count": 35,
     "metadata": {},
     "output_type": "execute_result"
    }
   ],
   "source": [
    "df_fraction"
   ]
  },
  {
   "cell_type": "code",
   "execution_count": 36,
   "id": "e154f7c2-75cf-4ea2-8a9a-79c728216767",
   "metadata": {},
   "outputs": [
    {
     "data": {
      "text/html": [
       "\n",
       "<style>\n",
       "  #altair-viz-b43cd84635a24462ab1876101e2802fd.vega-embed {\n",
       "    width: 100%;\n",
       "    display: flex;\n",
       "  }\n",
       "\n",
       "  #altair-viz-b43cd84635a24462ab1876101e2802fd.vega-embed details,\n",
       "  #altair-viz-b43cd84635a24462ab1876101e2802fd.vega-embed details summary {\n",
       "    position: relative;\n",
       "  }\n",
       "</style>\n",
       "<div id=\"altair-viz-b43cd84635a24462ab1876101e2802fd\"></div>\n",
       "<script type=\"text/javascript\">\n",
       "  var VEGA_DEBUG = (typeof VEGA_DEBUG == \"undefined\") ? {} : VEGA_DEBUG;\n",
       "  (function(spec, embedOpt){\n",
       "    let outputDiv = document.currentScript.previousElementSibling;\n",
       "    if (outputDiv.id !== \"altair-viz-b43cd84635a24462ab1876101e2802fd\") {\n",
       "      outputDiv = document.getElementById(\"altair-viz-b43cd84635a24462ab1876101e2802fd\");\n",
       "    }\n",
       "    const paths = {\n",
       "      \"vega\": \"https://cdn.jsdelivr.net/npm/vega@5?noext\",\n",
       "      \"vega-lib\": \"https://cdn.jsdelivr.net/npm/vega-lib?noext\",\n",
       "      \"vega-lite\": \"https://cdn.jsdelivr.net/npm/vega-lite@5.14.1?noext\",\n",
       "      \"vega-embed\": \"https://cdn.jsdelivr.net/npm/vega-embed@6?noext\",\n",
       "    };\n",
       "\n",
       "    function maybeLoadScript(lib, version) {\n",
       "      var key = `${lib.replace(\"-\", \"\")}_version`;\n",
       "      return (VEGA_DEBUG[key] == version) ?\n",
       "        Promise.resolve(paths[lib]) :\n",
       "        new Promise(function(resolve, reject) {\n",
       "          var s = document.createElement('script');\n",
       "          document.getElementsByTagName(\"head\")[0].appendChild(s);\n",
       "          s.async = true;\n",
       "          s.onload = () => {\n",
       "            VEGA_DEBUG[key] = version;\n",
       "            return resolve(paths[lib]);\n",
       "          };\n",
       "          s.onerror = () => reject(`Error loading script: ${paths[lib]}`);\n",
       "          s.src = paths[lib];\n",
       "        });\n",
       "    }\n",
       "\n",
       "    function showError(err) {\n",
       "      outputDiv.innerHTML = `<div class=\"error\" style=\"color:red;\">${err}</div>`;\n",
       "      throw err;\n",
       "    }\n",
       "\n",
       "    function displayChart(vegaEmbed) {\n",
       "      vegaEmbed(outputDiv, spec, embedOpt)\n",
       "        .catch(err => showError(`Javascript Error: ${err.message}<br>This usually means there's a typo in your chart specification. See the javascript console for the full traceback.`));\n",
       "    }\n",
       "\n",
       "    if(typeof define === \"function\" && define.amd) {\n",
       "      requirejs.config({paths});\n",
       "      require([\"vega-embed\"], displayChart, err => showError(`Error loading script: ${err.message}`));\n",
       "    } else {\n",
       "      maybeLoadScript(\"vega\", \"5\")\n",
       "        .then(() => maybeLoadScript(\"vega-lite\", \"5.14.1\"))\n",
       "        .then(() => maybeLoadScript(\"vega-embed\", \"6\"))\n",
       "        .catch(showError)\n",
       "        .then(() => displayChart(vegaEmbed));\n",
       "    }\n",
       "  })({\"config\": {\"view\": {\"continuousWidth\": 300, \"continuousHeight\": 300}}, \"data\": {\"name\": \"data-0a44072cefca3be8c2e6652b352cc2c5\"}, \"mark\": {\"type\": \"bar\"}, \"encoding\": {\"color\": {\"field\": \"type\", \"scale\": {\"domain\": [\"mixed\", \"pure\"], \"range\": [\"#9ebcda\", \"#e0ecf4\"]}, \"type\": \"nominal\"}, \"x\": {\"field\": \"q\", \"sort\": [\"1.0p\", \"0.95p\", \"0.9p\", \"0.85p\", \"0.8p\", \"0.75p\", \"0.7p\", \"0.65p\", \"0.6p\", \"0.55p\", \"0.5p\", \"0.45p\", \"0.4p\", \"0.35p\", \"0.3p\", \"0.25p\", \"0.2p\", \"0.15p\", \"0.1p\", \"0.05p\", \"0.0p\"], \"type\": \"ordinal\"}, \"y\": {\"field\": \"count\", \"title\": \"Number of hyperedges\", \"type\": \"quantitative\"}}, \"height\": 300, \"width\": 800, \"$schema\": \"https://vega.github.io/schema/vega-lite/v5.14.1.json\", \"datasets\": {\"data-0a44072cefca3be8c2e6652b352cc2c5\": [{\"sim\": 0, \"type\": \"pure\", \"count\": 0, \"q\": \"1.0p\"}, {\"sim\": 0, \"type\": \"mixed\", \"count\": 250, \"q\": \"1.0p\"}, {\"sim\": 1, \"type\": \"pure\", \"count\": 0, \"q\": \"0.95p\"}, {\"sim\": 1, \"type\": \"mixed\", \"count\": 250, \"q\": \"0.95p\"}, {\"sim\": 2, \"type\": \"pure\", \"count\": 0, \"q\": \"0.9p\"}, {\"sim\": 2, \"type\": \"mixed\", \"count\": 250, \"q\": \"0.9p\"}, {\"sim\": 3, \"type\": \"pure\", \"count\": 0, \"q\": \"0.85p\"}, {\"sim\": 3, \"type\": \"mixed\", \"count\": 250, \"q\": \"0.85p\"}, {\"sim\": 4, \"type\": \"pure\", \"count\": 0, \"q\": \"0.8p\"}, {\"sim\": 4, \"type\": \"mixed\", \"count\": 250, \"q\": \"0.8p\"}, {\"sim\": 5, \"type\": \"pure\", \"count\": 0, \"q\": \"0.75p\"}, {\"sim\": 5, \"type\": \"mixed\", \"count\": 250, \"q\": \"0.75p\"}, {\"sim\": 6, \"type\": \"pure\", \"count\": 0, \"q\": \"0.7p\"}, {\"sim\": 6, \"type\": \"mixed\", \"count\": 250, \"q\": \"0.7p\"}, {\"sim\": 7, \"type\": \"pure\", \"count\": 0, \"q\": \"0.65p\"}, {\"sim\": 7, \"type\": \"mixed\", \"count\": 250, \"q\": \"0.65p\"}, {\"sim\": 8, \"type\": \"pure\", \"count\": 0, \"q\": \"0.6p\"}, {\"sim\": 8, \"type\": \"mixed\", \"count\": 250, \"q\": \"0.6p\"}, {\"sim\": 9, \"type\": \"pure\", \"count\": 0, \"q\": \"0.55p\"}, {\"sim\": 9, \"type\": \"mixed\", \"count\": 250, \"q\": \"0.55p\"}, {\"sim\": 10, \"type\": \"pure\", \"count\": 0, \"q\": \"0.5p\"}, {\"sim\": 10, \"type\": \"mixed\", \"count\": 250, \"q\": \"0.5p\"}, {\"sim\": 11, \"type\": \"pure\", \"count\": 1, \"q\": \"0.45p\"}, {\"sim\": 11, \"type\": \"mixed\", \"count\": 249, \"q\": \"0.45p\"}, {\"sim\": 12, \"type\": \"pure\", \"count\": 2, \"q\": \"0.4p\"}, {\"sim\": 12, \"type\": \"mixed\", \"count\": 248, \"q\": \"0.4p\"}, {\"sim\": 13, \"type\": \"pure\", \"count\": 2, \"q\": \"0.35p\"}, {\"sim\": 13, \"type\": \"mixed\", \"count\": 248, \"q\": \"0.35p\"}, {\"sim\": 14, \"type\": \"pure\", \"count\": 1, \"q\": \"0.3p\"}, {\"sim\": 14, \"type\": \"mixed\", \"count\": 249, \"q\": \"0.3p\"}, {\"sim\": 15, \"type\": \"pure\", \"count\": 11, \"q\": \"0.25p\"}, {\"sim\": 15, \"type\": \"mixed\", \"count\": 239, \"q\": \"0.25p\"}, {\"sim\": 16, \"type\": \"pure\", \"count\": 14, \"q\": \"0.2p\"}, {\"sim\": 16, \"type\": \"mixed\", \"count\": 236, \"q\": \"0.2p\"}, {\"sim\": 17, \"type\": \"pure\", \"count\": 29, \"q\": \"0.15p\"}, {\"sim\": 17, \"type\": \"mixed\", \"count\": 221, \"q\": \"0.15p\"}, {\"sim\": 18, \"type\": \"pure\", \"count\": 61, \"q\": \"0.1p\"}, {\"sim\": 18, \"type\": \"mixed\", \"count\": 189, \"q\": \"0.1p\"}, {\"sim\": 19, \"type\": \"pure\", \"count\": 110, \"q\": \"0.05p\"}, {\"sim\": 19, \"type\": \"mixed\", \"count\": 140, \"q\": \"0.05p\"}, {\"sim\": 20, \"type\": \"pure\", \"count\": 250, \"q\": \"0.0p\"}, {\"sim\": 20, \"type\": \"mixed\", \"count\": 0, \"q\": \"0.0p\"}]}}, {\"mode\": \"vega-lite\"});\n",
       "</script>"
      ],
      "text/plain": [
       "alt.Chart(...)"
      ]
     },
     "execution_count": 36,
     "metadata": {},
     "output_type": "execute_result"
    }
   ],
   "source": [
    "alt.Chart(df_sim).mark_bar().encode(\n",
    "    x=alt.X('q:O', sort=q_frac_order),\n",
    "    y=alt.Y('count', title=\"Number of hyperedges\"),\n",
    "    color=alt.Color('type', \n",
    "    scale = alt.Scale(domain=['mixed', \"pure\"], range=['#9ebcda', '#e0ecf4']))\n",
    ").properties(\n",
    "    width=800,\n",
    "    height=300\n",
    ")"
   ]
  },
  {
   "cell_type": "code",
   "execution_count": 37,
   "id": "0425d7a2-4088-42e2-9f41-fbbc19cae541",
   "metadata": {},
   "outputs": [
    {
     "data": {
      "text/html": [
       "\n",
       "<style>\n",
       "  #altair-viz-a46686ed8d7444219ec4345a7fdc4555.vega-embed {\n",
       "    width: 100%;\n",
       "    display: flex;\n",
       "  }\n",
       "\n",
       "  #altair-viz-a46686ed8d7444219ec4345a7fdc4555.vega-embed details,\n",
       "  #altair-viz-a46686ed8d7444219ec4345a7fdc4555.vega-embed details summary {\n",
       "    position: relative;\n",
       "  }\n",
       "</style>\n",
       "<div id=\"altair-viz-a46686ed8d7444219ec4345a7fdc4555\"></div>\n",
       "<script type=\"text/javascript\">\n",
       "  var VEGA_DEBUG = (typeof VEGA_DEBUG == \"undefined\") ? {} : VEGA_DEBUG;\n",
       "  (function(spec, embedOpt){\n",
       "    let outputDiv = document.currentScript.previousElementSibling;\n",
       "    if (outputDiv.id !== \"altair-viz-a46686ed8d7444219ec4345a7fdc4555\") {\n",
       "      outputDiv = document.getElementById(\"altair-viz-a46686ed8d7444219ec4345a7fdc4555\");\n",
       "    }\n",
       "    const paths = {\n",
       "      \"vega\": \"https://cdn.jsdelivr.net/npm/vega@5?noext\",\n",
       "      \"vega-lib\": \"https://cdn.jsdelivr.net/npm/vega-lib?noext\",\n",
       "      \"vega-lite\": \"https://cdn.jsdelivr.net/npm/vega-lite@5.14.1?noext\",\n",
       "      \"vega-embed\": \"https://cdn.jsdelivr.net/npm/vega-embed@6?noext\",\n",
       "    };\n",
       "\n",
       "    function maybeLoadScript(lib, version) {\n",
       "      var key = `${lib.replace(\"-\", \"\")}_version`;\n",
       "      return (VEGA_DEBUG[key] == version) ?\n",
       "        Promise.resolve(paths[lib]) :\n",
       "        new Promise(function(resolve, reject) {\n",
       "          var s = document.createElement('script');\n",
       "          document.getElementsByTagName(\"head\")[0].appendChild(s);\n",
       "          s.async = true;\n",
       "          s.onload = () => {\n",
       "            VEGA_DEBUG[key] = version;\n",
       "            return resolve(paths[lib]);\n",
       "          };\n",
       "          s.onerror = () => reject(`Error loading script: ${paths[lib]}`);\n",
       "          s.src = paths[lib];\n",
       "        });\n",
       "    }\n",
       "\n",
       "    function showError(err) {\n",
       "      outputDiv.innerHTML = `<div class=\"error\" style=\"color:red;\">${err}</div>`;\n",
       "      throw err;\n",
       "    }\n",
       "\n",
       "    function displayChart(vegaEmbed) {\n",
       "      vegaEmbed(outputDiv, spec, embedOpt)\n",
       "        .catch(err => showError(`Javascript Error: ${err.message}<br>This usually means there's a typo in your chart specification. See the javascript console for the full traceback.`));\n",
       "    }\n",
       "\n",
       "    if(typeof define === \"function\" && define.amd) {\n",
       "      requirejs.config({paths});\n",
       "      require([\"vega-embed\"], displayChart, err => showError(`Error loading script: ${err.message}`));\n",
       "    } else {\n",
       "      maybeLoadScript(\"vega\", \"5\")\n",
       "        .then(() => maybeLoadScript(\"vega-lite\", \"5.14.1\"))\n",
       "        .then(() => maybeLoadScript(\"vega-embed\", \"6\"))\n",
       "        .catch(showError)\n",
       "        .then(() => displayChart(vegaEmbed));\n",
       "    }\n",
       "  })({\"config\": {\"view\": {\"continuousWidth\": 300, \"continuousHeight\": 300}}, \"data\": {\"name\": \"data-a6ca5ab9236177ee10cb8ebe64f788b8\"}, \"mark\": {\"type\": \"bar\"}, \"encoding\": {\"color\": {\"field\": \"fraction0\", \"scale\": {\"scheme\": \"lightgreyteal\"}, \"type\": \"quantitative\"}, \"order\": {\"field\": \"fraction0\", \"sort\": \"descending\", \"type\": \"quantitative\"}, \"x\": {\"field\": \"q\", \"sort\": [\"1.0p\", \"0.95p\", \"0.9p\", \"0.85p\", \"0.8p\", \"0.75p\", \"0.7p\", \"0.65p\", \"0.6p\", \"0.55p\", \"0.5p\", \"0.45p\", \"0.4p\", \"0.35p\", \"0.3p\", \"0.25p\", \"0.2p\", \"0.15p\", \"0.1p\", \"0.05p\", \"0.0p\"], \"type\": \"ordinal\"}, \"y\": {\"field\": \"count\", \"type\": \"quantitative\"}}, \"height\": 300, \"width\": 800, \"$schema\": \"https://vega.github.io/schema/vega-lite/v5.14.1.json\", \"datasets\": {\"data-a6ca5ab9236177ee10cb8ebe64f788b8\": [{\"sim\": 0, \"count\": 4, \"fraction0\": 37.931, \"q\": \"1.0p\"}, {\"sim\": 0, \"count\": 1, \"fraction0\": 38.889, \"q\": \"1.0p\"}, {\"sim\": 0, \"count\": 1, \"fraction0\": 39.394, \"q\": \"1.0p\"}, {\"sim\": 0, \"count\": 3, \"fraction0\": 40.741, \"q\": \"1.0p\"}, {\"sim\": 0, \"count\": 2, \"fraction0\": 41.935, \"q\": \"1.0p\"}, {\"sim\": 0, \"count\": 1, \"fraction0\": 61.538, \"q\": \"1.0p\"}, {\"sim\": 0, \"count\": 2, \"fraction0\": 41.176, \"q\": \"1.0p\"}, {\"sim\": 0, \"count\": 3, \"fraction0\": 51.852, \"q\": \"1.0p\"}, {\"sim\": 0, \"count\": 2, \"fraction0\": 44.0, \"q\": \"1.0p\"}, {\"sim\": 0, \"count\": 1, \"fraction0\": 64.865, \"q\": \"1.0p\"}, {\"sim\": 0, \"count\": 4, \"fraction0\": 53.571, \"q\": \"1.0p\"}, {\"sim\": 0, \"count\": 1, \"fraction0\": 63.636, \"q\": \"1.0p\"}, {\"sim\": 0, \"count\": 3, \"fraction0\": 59.259, \"q\": \"1.0p\"}, {\"sim\": 0, \"count\": 5, \"fraction0\": 44.444, \"q\": \"1.0p\"}, {\"sim\": 0, \"count\": 3, \"fraction0\": 37.5, \"q\": \"1.0p\"}, {\"sim\": 0, \"count\": 3, \"fraction0\": 48.276, \"q\": \"1.0p\"}, {\"sim\": 0, \"count\": 3, \"fraction0\": 45.0, \"q\": \"1.0p\"}, {\"sim\": 0, \"count\": 5, \"fraction0\": 60.0, \"q\": \"1.0p\"}, {\"sim\": 0, \"count\": 18, \"fraction0\": 50.0, \"q\": \"1.0p\"}, {\"sim\": 0, \"count\": 3, \"fraction0\": 61.111, \"q\": \"1.0p\"}, {\"sim\": 0, \"count\": 3, \"fraction0\": 53.488, \"q\": \"1.0p\"}, {\"sim\": 0, \"count\": 2, \"fraction0\": 58.065, \"q\": \"1.0p\"}, {\"sim\": 0, \"count\": 2, \"fraction0\": 36.842, \"q\": \"1.0p\"}, {\"sim\": 0, \"count\": 4, \"fraction0\": 55.172, \"q\": \"1.0p\"}, {\"sim\": 0, \"count\": 3, \"fraction0\": 48.0, \"q\": \"1.0p\"}, {\"sim\": 0, \"count\": 3, \"fraction0\": 61.29, \"q\": \"1.0p\"}, {\"sim\": 0, \"count\": 3, \"fraction0\": 58.333, \"q\": \"1.0p\"}, {\"sim\": 0, \"count\": 1, \"fraction0\": 38.71, \"q\": \"1.0p\"}, {\"sim\": 0, \"count\": 1, \"fraction0\": 37.037, \"q\": \"1.0p\"}, {\"sim\": 0, \"count\": 1, \"fraction0\": 66.667, \"q\": \"1.0p\"}, {\"sim\": 0, \"count\": 2, \"fraction0\": 51.351, \"q\": \"1.0p\"}, {\"sim\": 0, \"count\": 2, \"fraction0\": 55.556, \"q\": \"1.0p\"}, {\"sim\": 0, \"count\": 1, \"fraction0\": 38.462, \"q\": \"1.0p\"}, {\"sim\": 0, \"count\": 2, \"fraction0\": 63.333, \"q\": \"1.0p\"}, {\"sim\": 0, \"count\": 2, \"fraction0\": 36.364, \"q\": \"1.0p\"}, {\"sim\": 0, \"count\": 1, \"fraction0\": 51.282, \"q\": \"1.0p\"}, {\"sim\": 0, \"count\": 3, \"fraction0\": 62.857, \"q\": \"1.0p\"}, {\"sim\": 0, \"count\": 2, \"fraction0\": 57.143, \"q\": \"1.0p\"}, {\"sim\": 0, \"count\": 5, \"fraction0\": 52.941, \"q\": \"1.0p\"}, {\"sim\": 0, \"count\": 3, \"fraction0\": 56.25, \"q\": \"1.0p\"}, {\"sim\": 0, \"count\": 2, \"fraction0\": 55.263, \"q\": \"1.0p\"}, {\"sim\": 0, \"count\": 1, \"fraction0\": 44.118, \"q\": \"1.0p\"}, {\"sim\": 0, \"count\": 1, \"fraction0\": 46.154, \"q\": \"1.0p\"}, {\"sim\": 0, \"count\": 2, \"fraction0\": 45.161, \"q\": \"1.0p\"}, {\"sim\": 0, \"count\": 3, \"fraction0\": 37.143, \"q\": \"1.0p\"}, {\"sim\": 0, \"count\": 1, \"fraction0\": 41.667, \"q\": \"1.0p\"}, {\"sim\": 0, \"count\": 2, \"fraction0\": 59.375, \"q\": \"1.0p\"}, {\"sim\": 0, \"count\": 2, \"fraction0\": 43.333, \"q\": \"1.0p\"}, {\"sim\": 0, \"count\": 5, \"fraction0\": 45.455, \"q\": \"1.0p\"}, {\"sim\": 0, \"count\": 3, \"fraction0\": 44.828, \"q\": \"1.0p\"}, {\"sim\": 0, \"count\": 1, \"fraction0\": 68.75, \"q\": \"1.0p\"}, {\"sim\": 0, \"count\": 1, \"fraction0\": 59.184, \"q\": \"1.0p\"}, {\"sim\": 0, \"count\": 1, \"fraction0\": 43.59, \"q\": \"1.0p\"}, {\"sim\": 0, \"count\": 3, \"fraction0\": 33.333, \"q\": \"1.0p\"}, {\"sim\": 0, \"count\": 3, \"fraction0\": 45.833, \"q\": \"1.0p\"}, {\"sim\": 0, \"count\": 2, \"fraction0\": 35.484, \"q\": \"1.0p\"}, {\"sim\": 0, \"count\": 2, \"fraction0\": 55.882, \"q\": \"1.0p\"}, {\"sim\": 0, \"count\": 1, \"fraction0\": 48.485, \"q\": \"1.0p\"}, {\"sim\": 0, \"count\": 2, \"fraction0\": 51.613, \"q\": \"1.0p\"}, {\"sim\": 0, \"count\": 1, \"fraction0\": 59.524, \"q\": \"1.0p\"}, {\"sim\": 0, \"count\": 4, \"fraction0\": 48.387, \"q\": \"1.0p\"}, {\"sim\": 0, \"count\": 2, \"fraction0\": 54.167, \"q\": \"1.0p\"}, {\"sim\": 0, \"count\": 1, \"fraction0\": 47.826, \"q\": \"1.0p\"}, {\"sim\": 0, \"count\": 4, \"fraction0\": 40.625, \"q\": \"1.0p\"}, {\"sim\": 0, \"count\": 2, \"fraction0\": 54.054, \"q\": \"1.0p\"}, {\"sim\": 0, \"count\": 1, \"fraction0\": 64.516, \"q\": \"1.0p\"}, {\"sim\": 0, \"count\": 1, \"fraction0\": 40.0, \"q\": \"1.0p\"}, {\"sim\": 0, \"count\": 5, \"fraction0\": 39.286, \"q\": \"1.0p\"}, {\"sim\": 0, \"count\": 4, \"fraction0\": 54.839, \"q\": \"1.0p\"}, {\"sim\": 0, \"count\": 3, \"fraction0\": 48.571, \"q\": \"1.0p\"}, {\"sim\": 0, \"count\": 3, \"fraction0\": 53.846, \"q\": \"1.0p\"}, {\"sim\": 0, \"count\": 1, \"fraction0\": 72.0, \"q\": \"1.0p\"}, {\"sim\": 0, \"count\": 1, \"fraction0\": 31.034, \"q\": \"1.0p\"}, {\"sim\": 0, \"count\": 1, \"fraction0\": 41.026, \"q\": \"1.0p\"}, {\"sim\": 0, \"count\": 2, \"fraction0\": 52.5, \"q\": \"1.0p\"}, {\"sim\": 0, \"count\": 1, \"fraction0\": 53.333, \"q\": \"1.0p\"}, {\"sim\": 0, \"count\": 1, \"fraction0\": 42.308, \"q\": \"1.0p\"}, {\"sim\": 0, \"count\": 1, \"fraction0\": 57.576, \"q\": \"1.0p\"}, {\"sim\": 0, \"count\": 1, \"fraction0\": 39.13, \"q\": \"1.0p\"}, {\"sim\": 0, \"count\": 1, \"fraction0\": 51.429, \"q\": \"1.0p\"}, {\"sim\": 0, \"count\": 4, \"fraction0\": 46.875, \"q\": \"1.0p\"}, {\"sim\": 0, \"count\": 4, \"fraction0\": 42.857, \"q\": \"1.0p\"}, {\"sim\": 0, \"count\": 1, \"fraction0\": 51.724, \"q\": \"1.0p\"}, {\"sim\": 0, \"count\": 1, \"fraction0\": 51.515, \"q\": \"1.0p\"}, {\"sim\": 0, \"count\": 2, \"fraction0\": 43.478, \"q\": \"1.0p\"}, {\"sim\": 0, \"count\": 2, \"fraction0\": 38.235, \"q\": \"1.0p\"}, {\"sim\": 0, \"count\": 2, \"fraction0\": 58.621, \"q\": \"1.0p\"}, {\"sim\": 0, \"count\": 1, \"fraction0\": 45.946, \"q\": \"1.0p\"}, {\"sim\": 0, \"count\": 1, \"fraction0\": 56.667, \"q\": \"1.0p\"}, {\"sim\": 0, \"count\": 2, \"fraction0\": 65.217, \"q\": \"1.0p\"}, {\"sim\": 0, \"count\": 2, \"fraction0\": 60.714, \"q\": \"1.0p\"}, {\"sim\": 0, \"count\": 1, \"fraction0\": 36.667, \"q\": \"1.0p\"}, {\"sim\": 0, \"count\": 2, \"fraction0\": 46.429, \"q\": \"1.0p\"}, {\"sim\": 0, \"count\": 1, \"fraction0\": 68.182, \"q\": \"1.0p\"}, {\"sim\": 0, \"count\": 2, \"fraction0\": 48.148, \"q\": \"1.0p\"}, {\"sim\": 0, \"count\": 1, \"fraction0\": 60.417, \"q\": \"1.0p\"}, {\"sim\": 0, \"count\": 1, \"fraction0\": 32.353, \"q\": \"1.0p\"}, {\"sim\": 0, \"count\": 1, \"fraction0\": 47.222, \"q\": \"1.0p\"}, {\"sim\": 0, \"count\": 1, \"fraction0\": 32.258, \"q\": \"1.0p\"}, {\"sim\": 0, \"count\": 3, \"fraction0\": 62.5, \"q\": \"1.0p\"}, {\"sim\": 0, \"count\": 1, \"fraction0\": 64.286, \"q\": \"1.0p\"}, {\"sim\": 0, \"count\": 2, \"fraction0\": 42.424, \"q\": \"1.0p\"}, {\"sim\": 0, \"count\": 3, \"fraction0\": 57.692, \"q\": \"1.0p\"}, {\"sim\": 0, \"count\": 1, \"fraction0\": 56.0, \"q\": \"1.0p\"}, {\"sim\": 0, \"count\": 3, \"fraction0\": 54.545, \"q\": \"1.0p\"}, {\"sim\": 0, \"count\": 1, \"fraction0\": 60.606, \"q\": \"1.0p\"}, {\"sim\": 0, \"count\": 1, \"fraction0\": 46.341, \"q\": \"1.0p\"}, {\"sim\": 0, \"count\": 1, \"fraction0\": 52.381, \"q\": \"1.0p\"}, {\"sim\": 0, \"count\": 1, \"fraction0\": 31.429, \"q\": \"1.0p\"}, {\"sim\": 0, \"count\": 2, \"fraction0\": 41.379, \"q\": \"1.0p\"}, {\"sim\": 0, \"count\": 1, \"fraction0\": 46.667, \"q\": \"1.0p\"}, {\"sim\": 0, \"count\": 1, \"fraction0\": 53.659, \"q\": \"1.0p\"}, {\"sim\": 0, \"count\": 1, \"fraction0\": 52.0, \"q\": \"1.0p\"}, {\"sim\": 0, \"count\": 1, \"fraction0\": 35.135, \"q\": \"1.0p\"}, {\"sim\": 0, \"count\": 1, \"fraction0\": 39.024, \"q\": \"1.0p\"}, {\"sim\": 0, \"count\": 1, \"fraction0\": 68.0, \"q\": \"1.0p\"}, {\"sim\": 1, \"count\": 3, \"fraction0\": 48.485, \"q\": \"0.95p\"}, {\"sim\": 1, \"count\": 4, \"fraction0\": 44.828, \"q\": \"0.95p\"}, {\"sim\": 1, \"count\": 3, \"fraction0\": 54.839, \"q\": \"0.95p\"}, {\"sim\": 1, \"count\": 1, \"fraction0\": 70.27, \"q\": \"0.95p\"}, {\"sim\": 1, \"count\": 2, \"fraction0\": 31.034, \"q\": \"0.95p\"}, {\"sim\": 1, \"count\": 5, \"fraction0\": 44.444, \"q\": \"0.95p\"}, {\"sim\": 1, \"count\": 4, \"fraction0\": 56.25, \"q\": \"0.95p\"}, {\"sim\": 1, \"count\": 1, \"fraction0\": 46.667, \"q\": \"0.95p\"}, {\"sim\": 1, \"count\": 1, \"fraction0\": 52.174, \"q\": \"0.95p\"}, {\"sim\": 1, \"count\": 1, \"fraction0\": 35.484, \"q\": \"0.95p\"}, {\"sim\": 1, \"count\": 21, \"fraction0\": 50.0, \"q\": \"0.95p\"}, {\"sim\": 1, \"count\": 2, \"fraction0\": 53.571, \"q\": \"0.95p\"}, {\"sim\": 1, \"count\": 4, \"fraction0\": 47.059, \"q\": \"0.95p\"}, {\"sim\": 1, \"count\": 2, \"fraction0\": 63.636, \"q\": \"0.95p\"}, {\"sim\": 1, \"count\": 2, \"fraction0\": 43.75, \"q\": \"0.95p\"}, {\"sim\": 1, \"count\": 3, \"fraction0\": 53.333, \"q\": \"0.95p\"}, {\"sim\": 1, \"count\": 1, \"fraction0\": 53.061, \"q\": \"0.95p\"}, {\"sim\": 1, \"count\": 1, \"fraction0\": 65.0, \"q\": \"0.95p\"}, {\"sim\": 1, \"count\": 4, \"fraction0\": 53.125, \"q\": \"0.95p\"}, {\"sim\": 1, \"count\": 1, \"fraction0\": 41.026, \"q\": \"0.95p\"}, {\"sim\": 1, \"count\": 2, \"fraction0\": 42.424, \"q\": \"0.95p\"}, {\"sim\": 1, \"count\": 1, \"fraction0\": 30.769, \"q\": \"0.95p\"}, {\"sim\": 1, \"count\": 2, \"fraction0\": 46.154, \"q\": \"0.95p\"}, {\"sim\": 1, \"count\": 1, \"fraction0\": 39.286, \"q\": \"0.95p\"}, {\"sim\": 1, \"count\": 3, \"fraction0\": 48.148, \"q\": \"0.95p\"}, {\"sim\": 1, \"count\": 5, \"fraction0\": 41.935, \"q\": \"0.95p\"}, {\"sim\": 1, \"count\": 2, \"fraction0\": 38.235, \"q\": \"0.95p\"}, {\"sim\": 1, \"count\": 7, \"fraction0\": 42.857, \"q\": \"0.95p\"}, {\"sim\": 1, \"count\": 3, \"fraction0\": 43.333, \"q\": \"0.95p\"}, {\"sim\": 1, \"count\": 3, \"fraction0\": 57.692, \"q\": \"0.95p\"}, {\"sim\": 1, \"count\": 4, \"fraction0\": 62.5, \"q\": \"0.95p\"}, {\"sim\": 1, \"count\": 5, \"fraction0\": 41.176, \"q\": \"0.95p\"}, {\"sim\": 1, \"count\": 4, \"fraction0\": 48.571, \"q\": \"0.95p\"}, {\"sim\": 1, \"count\": 3, \"fraction0\": 59.259, \"q\": \"0.95p\"}, {\"sim\": 1, \"count\": 3, \"fraction0\": 60.0, \"q\": \"0.95p\"}, {\"sim\": 1, \"count\": 1, \"fraction0\": 25.641, \"q\": \"0.95p\"}, {\"sim\": 1, \"count\": 4, \"fraction0\": 51.515, \"q\": \"0.95p\"}, {\"sim\": 1, \"count\": 1, \"fraction0\": 52.381, \"q\": \"0.95p\"}, {\"sim\": 1, \"count\": 4, \"fraction0\": 40.0, \"q\": \"0.95p\"}, {\"sim\": 1, \"count\": 2, \"fraction0\": 66.667, \"q\": \"0.95p\"}, {\"sim\": 1, \"count\": 2, \"fraction0\": 61.29, \"q\": \"0.95p\"}, {\"sim\": 1, \"count\": 1, \"fraction0\": 17.857, \"q\": \"0.95p\"}, {\"sim\": 1, \"count\": 1, \"fraction0\": 62.069, \"q\": \"0.95p\"}, {\"sim\": 1, \"count\": 5, \"fraction0\": 54.545, \"q\": \"0.95p\"}, {\"sim\": 1, \"count\": 1, \"fraction0\": 70.588, \"q\": \"0.95p\"}, {\"sim\": 1, \"count\": 2, \"fraction0\": 54.167, \"q\": \"0.95p\"}, {\"sim\": 1, \"count\": 1, \"fraction0\": 45.833, \"q\": \"0.95p\"}, {\"sim\": 1, \"count\": 2, \"fraction0\": 45.714, \"q\": \"0.95p\"}, {\"sim\": 1, \"count\": 1, \"fraction0\": 58.621, \"q\": \"0.95p\"}, {\"sim\": 1, \"count\": 1, \"fraction0\": 59.375, \"q\": \"0.95p\"}, {\"sim\": 1, \"count\": 3, \"fraction0\": 58.065, \"q\": \"0.95p\"}, {\"sim\": 1, \"count\": 1, \"fraction0\": 38.889, \"q\": \"0.95p\"}, {\"sim\": 1, \"count\": 1, \"fraction0\": 32.353, \"q\": \"0.95p\"}, {\"sim\": 1, \"count\": 4, \"fraction0\": 56.0, \"q\": \"0.95p\"}, {\"sim\": 1, \"count\": 2, \"fraction0\": 55.556, \"q\": \"0.95p\"}, {\"sim\": 1, \"count\": 3, \"fraction0\": 58.333, \"q\": \"0.95p\"}, {\"sim\": 1, \"count\": 1, \"fraction0\": 68.182, \"q\": \"0.95p\"}, {\"sim\": 1, \"count\": 2, \"fraction0\": 33.333, \"q\": \"0.95p\"}, {\"sim\": 1, \"count\": 2, \"fraction0\": 48.0, \"q\": \"0.95p\"}, {\"sim\": 1, \"count\": 3, \"fraction0\": 40.741, \"q\": \"0.95p\"}, {\"sim\": 1, \"count\": 2, \"fraction0\": 46.429, \"q\": \"0.95p\"}, {\"sim\": 1, \"count\": 3, \"fraction0\": 55.172, \"q\": \"0.95p\"}, {\"sim\": 1, \"count\": 2, \"fraction0\": 61.905, \"q\": \"0.95p\"}, {\"sim\": 1, \"count\": 1, \"fraction0\": 32.258, \"q\": \"0.95p\"}, {\"sim\": 1, \"count\": 1, \"fraction0\": 39.394, \"q\": \"0.95p\"}, {\"sim\": 1, \"count\": 1, \"fraction0\": 61.538, \"q\": \"0.95p\"}, {\"sim\": 1, \"count\": 1, \"fraction0\": 64.706, \"q\": \"0.95p\"}, {\"sim\": 1, \"count\": 1, \"fraction0\": 34.615, \"q\": \"0.95p\"}, {\"sim\": 1, \"count\": 2, \"fraction0\": 45.455, \"q\": \"0.95p\"}, {\"sim\": 1, \"count\": 2, \"fraction0\": 47.619, \"q\": \"0.95p\"}, {\"sim\": 1, \"count\": 1, \"fraction0\": 40.909, \"q\": \"0.95p\"}, {\"sim\": 1, \"count\": 1, \"fraction0\": 30.0, \"q\": \"0.95p\"}, {\"sim\": 1, \"count\": 1, \"fraction0\": 56.098, \"q\": \"0.95p\"}, {\"sim\": 1, \"count\": 1, \"fraction0\": 51.429, \"q\": \"0.95p\"}, {\"sim\": 1, \"count\": 1, \"fraction0\": 34.375, \"q\": \"0.95p\"}, {\"sim\": 1, \"count\": 2, \"fraction0\": 56.667, \"q\": \"0.95p\"}, {\"sim\": 1, \"count\": 1, \"fraction0\": 60.87, \"q\": \"0.95p\"}, {\"sim\": 1, \"count\": 2, \"fraction0\": 51.351, \"q\": \"0.95p\"}, {\"sim\": 1, \"count\": 1, \"fraction0\": 43.243, \"q\": \"0.95p\"}, {\"sim\": 1, \"count\": 1, \"fraction0\": 69.565, \"q\": \"0.95p\"}, {\"sim\": 1, \"count\": 3, \"fraction0\": 51.852, \"q\": \"0.95p\"}, {\"sim\": 1, \"count\": 2, \"fraction0\": 57.143, \"q\": \"0.95p\"}, {\"sim\": 1, \"count\": 1, \"fraction0\": 55.882, \"q\": \"0.95p\"}, {\"sim\": 1, \"count\": 1, \"fraction0\": 48.387, \"q\": \"0.95p\"}, {\"sim\": 1, \"count\": 3, \"fraction0\": 52.941, \"q\": \"0.95p\"}, {\"sim\": 1, \"count\": 2, \"fraction0\": 41.667, \"q\": \"0.95p\"}, {\"sim\": 1, \"count\": 1, \"fraction0\": 62.857, \"q\": \"0.95p\"}, {\"sim\": 1, \"count\": 2, \"fraction0\": 46.875, \"q\": \"0.95p\"}, {\"sim\": 1, \"count\": 1, \"fraction0\": 70.0, \"q\": \"0.95p\"}, {\"sim\": 1, \"count\": 2, \"fraction0\": 40.625, \"q\": \"0.95p\"}, {\"sim\": 1, \"count\": 3, \"fraction0\": 47.826, \"q\": \"0.95p\"}, {\"sim\": 1, \"count\": 1, \"fraction0\": 61.765, \"q\": \"0.95p\"}, {\"sim\": 1, \"count\": 1, \"fraction0\": 43.182, \"q\": \"0.95p\"}, {\"sim\": 1, \"count\": 2, \"fraction0\": 68.75, \"q\": \"0.95p\"}, {\"sim\": 1, \"count\": 2, \"fraction0\": 51.724, \"q\": \"0.95p\"}, {\"sim\": 1, \"count\": 2, \"fraction0\": 32.0, \"q\": \"0.95p\"}, {\"sim\": 1, \"count\": 1, \"fraction0\": 60.526, \"q\": \"0.95p\"}, {\"sim\": 1, \"count\": 1, \"fraction0\": 46.512, \"q\": \"0.95p\"}, {\"sim\": 1, \"count\": 2, \"fraction0\": 37.931, \"q\": \"0.95p\"}, {\"sim\": 1, \"count\": 1, \"fraction0\": 71.429, \"q\": \"0.95p\"}, {\"sim\": 1, \"count\": 1, \"fraction0\": 36.364, \"q\": \"0.95p\"}, {\"sim\": 1, \"count\": 2, \"fraction0\": 35.714, \"q\": \"0.95p\"}, {\"sim\": 1, \"count\": 1, \"fraction0\": 56.41, \"q\": \"0.95p\"}, {\"sim\": 1, \"count\": 1, \"fraction0\": 62.162, \"q\": \"0.95p\"}, {\"sim\": 1, \"count\": 1, \"fraction0\": 45.161, \"q\": \"0.95p\"}, {\"sim\": 1, \"count\": 1, \"fraction0\": 48.276, \"q\": \"0.95p\"}, {\"sim\": 1, \"count\": 1, \"fraction0\": 52.778, \"q\": \"0.95p\"}, {\"sim\": 1, \"count\": 1, \"fraction0\": 44.118, \"q\": \"0.95p\"}, {\"sim\": 1, \"count\": 1, \"fraction0\": 53.846, \"q\": \"0.95p\"}, {\"sim\": 1, \"count\": 1, \"fraction0\": 59.459, \"q\": \"0.95p\"}, {\"sim\": 1, \"count\": 1, \"fraction0\": 44.0, \"q\": \"0.95p\"}, {\"sim\": 1, \"count\": 1, \"fraction0\": 54.286, \"q\": \"0.95p\"}, {\"sim\": 1, \"count\": 1, \"fraction0\": 63.889, \"q\": \"0.95p\"}, {\"sim\": 1, \"count\": 1, \"fraction0\": 34.211, \"q\": \"0.95p\"}, {\"sim\": 1, \"count\": 1, \"fraction0\": 47.5, \"q\": \"0.95p\"}, {\"sim\": 1, \"count\": 1, \"fraction0\": 43.902, \"q\": \"0.95p\"}, {\"sim\": 1, \"count\": 1, \"fraction0\": 26.923, \"q\": \"0.95p\"}, {\"sim\": 1, \"count\": 2, \"fraction0\": 34.483, \"q\": \"0.95p\"}, {\"sim\": 1, \"count\": 1, \"fraction0\": 65.517, \"q\": \"0.95p\"}, {\"sim\": 1, \"count\": 1, \"fraction0\": 54.054, \"q\": \"0.95p\"}, {\"sim\": 1, \"count\": 1, \"fraction0\": 41.379, \"q\": \"0.95p\"}, {\"sim\": 2, \"count\": 1, \"fraction0\": 31.818, \"q\": \"0.9p\"}, {\"sim\": 2, \"count\": 7, \"fraction0\": 57.692, \"q\": \"0.9p\"}, {\"sim\": 2, \"count\": 7, \"fraction0\": 54.545, \"q\": \"0.9p\"}, {\"sim\": 2, \"count\": 2, \"fraction0\": 56.25, \"q\": \"0.9p\"}, {\"sim\": 2, \"count\": 1, \"fraction0\": 67.742, \"q\": \"0.9p\"}, {\"sim\": 2, \"count\": 1, \"fraction0\": 38.889, \"q\": \"0.9p\"}, {\"sim\": 2, \"count\": 1, \"fraction0\": 69.231, \"q\": \"0.9p\"}, {\"sim\": 2, \"count\": 5, \"fraction0\": 55.172, \"q\": \"0.9p\"}, {\"sim\": 2, \"count\": 4, \"fraction0\": 54.167, \"q\": \"0.9p\"}, {\"sim\": 2, \"count\": 20, \"fraction0\": 50.0, \"q\": \"0.9p\"}, {\"sim\": 2, \"count\": 1, \"fraction0\": 26.087, \"q\": \"0.9p\"}, {\"sim\": 2, \"count\": 1, \"fraction0\": 75.758, \"q\": \"0.9p\"}, {\"sim\": 2, \"count\": 1, \"fraction0\": 57.576, \"q\": \"0.9p\"}, {\"sim\": 2, \"count\": 2, \"fraction0\": 45.161, \"q\": \"0.9p\"}, {\"sim\": 2, \"count\": 4, \"fraction0\": 42.308, \"q\": \"0.9p\"}, {\"sim\": 2, \"count\": 5, \"fraction0\": 40.0, \"q\": \"0.9p\"}, {\"sim\": 2, \"count\": 2, \"fraction0\": 44.444, \"q\": \"0.9p\"}, {\"sim\": 2, \"count\": 1, \"fraction0\": 32.143, \"q\": \"0.9p\"}, {\"sim\": 2, \"count\": 2, \"fraction0\": 45.455, \"q\": \"0.9p\"}, {\"sim\": 2, \"count\": 3, \"fraction0\": 44.118, \"q\": \"0.9p\"}, {\"sim\": 2, \"count\": 2, \"fraction0\": 43.75, \"q\": \"0.9p\"}, {\"sim\": 2, \"count\": 5, \"fraction0\": 35.714, \"q\": \"0.9p\"}, {\"sim\": 2, \"count\": 2, \"fraction0\": 45.0, \"q\": \"0.9p\"}, {\"sim\": 2, \"count\": 5, \"fraction0\": 33.333, \"q\": \"0.9p\"}, {\"sim\": 2, \"count\": 3, \"fraction0\": 62.5, \"q\": \"0.9p\"}, {\"sim\": 2, \"count\": 1, \"fraction0\": 51.22, \"q\": \"0.9p\"}, {\"sim\": 2, \"count\": 6, \"fraction0\": 48.276, \"q\": \"0.9p\"}, {\"sim\": 2, \"count\": 2, \"fraction0\": 45.833, \"q\": \"0.9p\"}, {\"sim\": 2, \"count\": 3, \"fraction0\": 51.351, \"q\": \"0.9p\"}, {\"sim\": 2, \"count\": 1, \"fraction0\": 27.778, \"q\": \"0.9p\"}, {\"sim\": 2, \"count\": 3, \"fraction0\": 52.632, \"q\": \"0.9p\"}, {\"sim\": 2, \"count\": 2, \"fraction0\": 34.783, \"q\": \"0.9p\"}, {\"sim\": 2, \"count\": 4, \"fraction0\": 53.571, \"q\": \"0.9p\"}, {\"sim\": 2, \"count\": 5, \"fraction0\": 66.667, \"q\": \"0.9p\"}, {\"sim\": 2, \"count\": 2, \"fraction0\": 60.0, \"q\": \"0.9p\"}, {\"sim\": 2, \"count\": 1, \"fraction0\": 72.222, \"q\": \"0.9p\"}, {\"sim\": 2, \"count\": 1, \"fraction0\": 75.0, \"q\": \"0.9p\"}, {\"sim\": 2, \"count\": 1, \"fraction0\": 48.148, \"q\": \"0.9p\"}, {\"sim\": 2, \"count\": 2, \"fraction0\": 62.069, \"q\": \"0.9p\"}, {\"sim\": 2, \"count\": 2, \"fraction0\": 38.462, \"q\": \"0.9p\"}, {\"sim\": 2, \"count\": 2, \"fraction0\": 55.556, \"q\": \"0.9p\"}, {\"sim\": 2, \"count\": 1, \"fraction0\": 37.838, \"q\": \"0.9p\"}, {\"sim\": 2, \"count\": 2, \"fraction0\": 48.571, \"q\": \"0.9p\"}, {\"sim\": 2, \"count\": 4, \"fraction0\": 58.065, \"q\": \"0.9p\"}, {\"sim\": 2, \"count\": 3, \"fraction0\": 59.375, \"q\": \"0.9p\"}, {\"sim\": 2, \"count\": 1, \"fraction0\": 60.606, \"q\": \"0.9p\"}, {\"sim\": 2, \"count\": 1, \"fraction0\": 37.037, \"q\": \"0.9p\"}, {\"sim\": 2, \"count\": 3, \"fraction0\": 55.882, \"q\": \"0.9p\"}, {\"sim\": 2, \"count\": 1, \"fraction0\": 64.286, \"q\": \"0.9p\"}, {\"sim\": 2, \"count\": 2, \"fraction0\": 47.222, \"q\": \"0.9p\"}, {\"sim\": 2, \"count\": 3, \"fraction0\": 42.857, \"q\": \"0.9p\"}, {\"sim\": 2, \"count\": 1, \"fraction0\": 43.333, \"q\": \"0.9p\"}, {\"sim\": 2, \"count\": 2, \"fraction0\": 65.385, \"q\": \"0.9p\"}, {\"sim\": 2, \"count\": 1, \"fraction0\": 32.258, \"q\": \"0.9p\"}, {\"sim\": 2, \"count\": 5, \"fraction0\": 57.143, \"q\": \"0.9p\"}, {\"sim\": 2, \"count\": 2, \"fraction0\": 47.059, \"q\": \"0.9p\"}, {\"sim\": 2, \"count\": 3, \"fraction0\": 53.846, \"q\": \"0.9p\"}, {\"sim\": 2, \"count\": 1, \"fraction0\": 36.364, \"q\": \"0.9p\"}, {\"sim\": 2, \"count\": 1, \"fraction0\": 41.379, \"q\": \"0.9p\"}, {\"sim\": 2, \"count\": 1, \"fraction0\": 65.517, \"q\": \"0.9p\"}, {\"sim\": 2, \"count\": 4, \"fraction0\": 46.429, \"q\": \"0.9p\"}, {\"sim\": 2, \"count\": 3, \"fraction0\": 52.381, \"q\": \"0.9p\"}, {\"sim\": 2, \"count\": 3, \"fraction0\": 56.667, \"q\": \"0.9p\"}, {\"sim\": 2, \"count\": 2, \"fraction0\": 45.714, \"q\": \"0.9p\"}, {\"sim\": 2, \"count\": 1, \"fraction0\": 46.154, \"q\": \"0.9p\"}, {\"sim\": 2, \"count\": 2, \"fraction0\": 59.259, \"q\": \"0.9p\"}, {\"sim\": 2, \"count\": 1, \"fraction0\": 56.41, \"q\": \"0.9p\"}, {\"sim\": 2, \"count\": 1, \"fraction0\": 70.968, \"q\": \"0.9p\"}, {\"sim\": 2, \"count\": 1, \"fraction0\": 37.931, \"q\": \"0.9p\"}, {\"sim\": 2, \"count\": 1, \"fraction0\": 40.625, \"q\": \"0.9p\"}, {\"sim\": 2, \"count\": 1, \"fraction0\": 51.852, \"q\": \"0.9p\"}, {\"sim\": 2, \"count\": 1, \"fraction0\": 52.5, \"q\": \"0.9p\"}, {\"sim\": 2, \"count\": 1, \"fraction0\": 48.0, \"q\": \"0.9p\"}, {\"sim\": 2, \"count\": 1, \"fraction0\": 68.182, \"q\": \"0.9p\"}, {\"sim\": 2, \"count\": 1, \"fraction0\": 30.769, \"q\": \"0.9p\"}, {\"sim\": 2, \"count\": 1, \"fraction0\": 35.484, \"q\": \"0.9p\"}, {\"sim\": 2, \"count\": 3, \"fraction0\": 47.826, \"q\": \"0.9p\"}, {\"sim\": 2, \"count\": 2, \"fraction0\": 39.394, \"q\": \"0.9p\"}, {\"sim\": 2, \"count\": 2, \"fraction0\": 44.0, \"q\": \"0.9p\"}, {\"sim\": 2, \"count\": 1, \"fraction0\": 26.923, \"q\": \"0.9p\"}, {\"sim\": 2, \"count\": 2, \"fraction0\": 39.474, \"q\": \"0.9p\"}, {\"sim\": 2, \"count\": 1, \"fraction0\": 36.842, \"q\": \"0.9p\"}, {\"sim\": 2, \"count\": 2, \"fraction0\": 42.424, \"q\": \"0.9p\"}, {\"sim\": 2, \"count\": 1, \"fraction0\": 56.0, \"q\": \"0.9p\"}, {\"sim\": 2, \"count\": 2, \"fraction0\": 54.839, \"q\": \"0.9p\"}, {\"sim\": 2, \"count\": 1, \"fraction0\": 56.522, \"q\": \"0.9p\"}, {\"sim\": 2, \"count\": 2, \"fraction0\": 63.333, \"q\": \"0.9p\"}, {\"sim\": 2, \"count\": 4, \"fraction0\": 52.0, \"q\": \"0.9p\"}, {\"sim\": 2, \"count\": 1, \"fraction0\": 61.538, \"q\": \"0.9p\"}, {\"sim\": 2, \"count\": 4, \"fraction0\": 51.515, \"q\": \"0.9p\"}, {\"sim\": 2, \"count\": 1, \"fraction0\": 68.0, \"q\": \"0.9p\"}, {\"sim\": 2, \"count\": 3, \"fraction0\": 41.935, \"q\": \"0.9p\"}, {\"sim\": 2, \"count\": 1, \"fraction0\": 40.909, \"q\": \"0.9p\"}, {\"sim\": 2, \"count\": 3, \"fraction0\": 58.621, \"q\": \"0.9p\"}, {\"sim\": 2, \"count\": 1, \"fraction0\": 43.59, \"q\": \"0.9p\"}, {\"sim\": 2, \"count\": 1, \"fraction0\": 44.828, \"q\": \"0.9p\"}, {\"sim\": 2, \"count\": 1, \"fraction0\": 43.478, \"q\": \"0.9p\"}, {\"sim\": 2, \"count\": 1, \"fraction0\": 46.667, \"q\": \"0.9p\"}, {\"sim\": 2, \"count\": 1, \"fraction0\": 45.946, \"q\": \"0.9p\"}, {\"sim\": 2, \"count\": 1, \"fraction0\": 38.235, \"q\": \"0.9p\"}, {\"sim\": 2, \"count\": 1, \"fraction0\": 25.0, \"q\": \"0.9p\"}, {\"sim\": 2, \"count\": 2, \"fraction0\": 51.613, \"q\": \"0.9p\"}, {\"sim\": 2, \"count\": 2, \"fraction0\": 53.125, \"q\": \"0.9p\"}, {\"sim\": 2, \"count\": 1, \"fraction0\": 38.71, \"q\": \"0.9p\"}, {\"sim\": 2, \"count\": 1, \"fraction0\": 29.032, \"q\": \"0.9p\"}, {\"sim\": 2, \"count\": 1, \"fraction0\": 34.375, \"q\": \"0.9p\"}, {\"sim\": 2, \"count\": 1, \"fraction0\": 63.636, \"q\": \"0.9p\"}, {\"sim\": 2, \"count\": 1, \"fraction0\": 46.341, \"q\": \"0.9p\"}, {\"sim\": 2, \"count\": 1, \"fraction0\": 58.333, \"q\": \"0.9p\"}, {\"sim\": 2, \"count\": 1, \"fraction0\": 47.619, \"q\": \"0.9p\"}, {\"sim\": 2, \"count\": 1, \"fraction0\": 72.0, \"q\": \"0.9p\"}, {\"sim\": 2, \"count\": 1, \"fraction0\": 11.538, \"q\": \"0.9p\"}, {\"sim\": 2, \"count\": 1, \"fraction0\": 61.765, \"q\": \"0.9p\"}, {\"sim\": 2, \"count\": 1, \"fraction0\": 60.714, \"q\": \"0.9p\"}, {\"sim\": 2, \"count\": 1, \"fraction0\": 58.824, \"q\": \"0.9p\"}, {\"sim\": 2, \"count\": 1, \"fraction0\": 74.074, \"q\": \"0.9p\"}, {\"sim\": 2, \"count\": 1, \"fraction0\": 26.667, \"q\": \"0.9p\"}, {\"sim\": 3, \"count\": 4, \"fraction0\": 48.276, \"q\": \"0.85p\"}, {\"sim\": 3, \"count\": 1, \"fraction0\": 41.176, \"q\": \"0.85p\"}, {\"sim\": 3, \"count\": 2, \"fraction0\": 56.25, \"q\": \"0.85p\"}, {\"sim\": 3, \"count\": 3, \"fraction0\": 54.545, \"q\": \"0.85p\"}, {\"sim\": 3, \"count\": 1, \"fraction0\": 40.741, \"q\": \"0.85p\"}, {\"sim\": 3, \"count\": 2, \"fraction0\": 51.429, \"q\": \"0.85p\"}, {\"sim\": 3, \"count\": 2, \"fraction0\": 54.167, \"q\": \"0.85p\"}, {\"sim\": 3, \"count\": 2, \"fraction0\": 30.769, \"q\": \"0.85p\"}, {\"sim\": 3, \"count\": 2, \"fraction0\": 36.0, \"q\": \"0.85p\"}, {\"sim\": 3, \"count\": 2, \"fraction0\": 42.424, \"q\": \"0.85p\"}, {\"sim\": 3, \"count\": 5, \"fraction0\": 38.462, \"q\": \"0.85p\"}, {\"sim\": 3, \"count\": 2, \"fraction0\": 45.833, \"q\": \"0.85p\"}, {\"sim\": 3, \"count\": 2, \"fraction0\": 40.625, \"q\": \"0.85p\"}, {\"sim\": 3, \"count\": 19, \"fraction0\": 50.0, \"q\": \"0.85p\"}, {\"sim\": 3, \"count\": 8, \"fraction0\": 56.0, \"q\": \"0.85p\"}, {\"sim\": 3, \"count\": 1, \"fraction0\": 51.064, \"q\": \"0.85p\"}, {\"sim\": 3, \"count\": 1, \"fraction0\": 47.059, \"q\": \"0.85p\"}, {\"sim\": 3, \"count\": 1, \"fraction0\": 67.857, \"q\": \"0.85p\"}, {\"sim\": 3, \"count\": 2, \"fraction0\": 28.571, \"q\": \"0.85p\"}, {\"sim\": 3, \"count\": 5, \"fraction0\": 47.826, \"q\": \"0.85p\"}, {\"sim\": 3, \"count\": 2, \"fraction0\": 44.828, \"q\": \"0.85p\"}, {\"sim\": 3, \"count\": 1, \"fraction0\": 73.529, \"q\": \"0.85p\"}, {\"sim\": 3, \"count\": 3, \"fraction0\": 55.172, \"q\": \"0.85p\"}, {\"sim\": 3, \"count\": 3, \"fraction0\": 53.571, \"q\": \"0.85p\"}, {\"sim\": 3, \"count\": 1, \"fraction0\": 70.27, \"q\": \"0.85p\"}, {\"sim\": 3, \"count\": 3, \"fraction0\": 66.667, \"q\": \"0.85p\"}, {\"sim\": 3, \"count\": 7, \"fraction0\": 58.065, \"q\": \"0.85p\"}, {\"sim\": 3, \"count\": 2, \"fraction0\": 48.0, \"q\": \"0.85p\"}, {\"sim\": 3, \"count\": 3, \"fraction0\": 48.148, \"q\": \"0.85p\"}, {\"sim\": 3, \"count\": 1, \"fraction0\": 64.0, \"q\": \"0.85p\"}, {\"sim\": 3, \"count\": 1, \"fraction0\": 65.385, \"q\": \"0.85p\"}, {\"sim\": 3, \"count\": 1, \"fraction0\": 59.091, \"q\": \"0.85p\"}, {\"sim\": 3, \"count\": 1, \"fraction0\": 52.381, \"q\": \"0.85p\"}, {\"sim\": 3, \"count\": 3, \"fraction0\": 46.667, \"q\": \"0.85p\"}, {\"sim\": 3, \"count\": 1, \"fraction0\": 52.174, \"q\": \"0.85p\"}, {\"sim\": 3, \"count\": 5, \"fraction0\": 37.5, \"q\": \"0.85p\"}, {\"sim\": 3, \"count\": 2, \"fraction0\": 44.444, \"q\": \"0.85p\"}, {\"sim\": 3, \"count\": 2, \"fraction0\": 43.333, \"q\": \"0.85p\"}, {\"sim\": 3, \"count\": 5, \"fraction0\": 46.429, \"q\": \"0.85p\"}, {\"sim\": 3, \"count\": 3, \"fraction0\": 40.0, \"q\": \"0.85p\"}, {\"sim\": 3, \"count\": 3, \"fraction0\": 57.692, \"q\": \"0.85p\"}, {\"sim\": 3, \"count\": 2, \"fraction0\": 59.375, \"q\": \"0.85p\"}, {\"sim\": 3, \"count\": 4, \"fraction0\": 48.387, \"q\": \"0.85p\"}, {\"sim\": 3, \"count\": 3, \"fraction0\": 33.333, \"q\": \"0.85p\"}, {\"sim\": 3, \"count\": 4, \"fraction0\": 43.75, \"q\": \"0.85p\"}, {\"sim\": 3, \"count\": 1, \"fraction0\": 27.273, \"q\": \"0.85p\"}, {\"sim\": 3, \"count\": 1, \"fraction0\": 47.619, \"q\": \"0.85p\"}, {\"sim\": 3, \"count\": 4, \"fraction0\": 58.621, \"q\": \"0.85p\"}, {\"sim\": 3, \"count\": 1, \"fraction0\": 44.737, \"q\": \"0.85p\"}, {\"sim\": 3, \"count\": 2, \"fraction0\": 55.556, \"q\": \"0.85p\"}, {\"sim\": 3, \"count\": 3, \"fraction0\": 52.941, \"q\": \"0.85p\"}, {\"sim\": 3, \"count\": 2, \"fraction0\": 65.517, \"q\": \"0.85p\"}, {\"sim\": 3, \"count\": 2, \"fraction0\": 52.0, \"q\": \"0.85p\"}, {\"sim\": 3, \"count\": 1, \"fraction0\": 61.905, \"q\": \"0.85p\"}, {\"sim\": 3, \"count\": 1, \"fraction0\": 40.541, \"q\": \"0.85p\"}, {\"sim\": 3, \"count\": 2, \"fraction0\": 57.576, \"q\": \"0.85p\"}, {\"sim\": 3, \"count\": 1, \"fraction0\": 51.282, \"q\": \"0.85p\"}, {\"sim\": 3, \"count\": 3, \"fraction0\": 59.259, \"q\": \"0.85p\"}, {\"sim\": 3, \"count\": 4, \"fraction0\": 42.857, \"q\": \"0.85p\"}, {\"sim\": 3, \"count\": 2, \"fraction0\": 54.839, \"q\": \"0.85p\"}, {\"sim\": 3, \"count\": 2, \"fraction0\": 39.286, \"q\": \"0.85p\"}, {\"sim\": 3, \"count\": 1, \"fraction0\": 56.098, \"q\": \"0.85p\"}, {\"sim\": 3, \"count\": 2, \"fraction0\": 46.875, \"q\": \"0.85p\"}, {\"sim\": 3, \"count\": 2, \"fraction0\": 56.757, \"q\": \"0.85p\"}, {\"sim\": 3, \"count\": 1, \"fraction0\": 35.556, \"q\": \"0.85p\"}, {\"sim\": 3, \"count\": 1, \"fraction0\": 32.0, \"q\": \"0.85p\"}, {\"sim\": 3, \"count\": 2, \"fraction0\": 32.143, \"q\": \"0.85p\"}, {\"sim\": 3, \"count\": 1, \"fraction0\": 73.333, \"q\": \"0.85p\"}, {\"sim\": 3, \"count\": 1, \"fraction0\": 34.615, \"q\": \"0.85p\"}, {\"sim\": 3, \"count\": 1, \"fraction0\": 70.833, \"q\": \"0.85p\"}, {\"sim\": 3, \"count\": 1, \"fraction0\": 56.522, \"q\": \"0.85p\"}, {\"sim\": 3, \"count\": 1, \"fraction0\": 25.0, \"q\": \"0.85p\"}, {\"sim\": 3, \"count\": 1, \"fraction0\": 52.632, \"q\": \"0.85p\"}, {\"sim\": 3, \"count\": 1, \"fraction0\": 70.968, \"q\": \"0.85p\"}, {\"sim\": 3, \"count\": 1, \"fraction0\": 61.111, \"q\": \"0.85p\"}, {\"sim\": 3, \"count\": 1, \"fraction0\": 58.333, \"q\": \"0.85p\"}, {\"sim\": 3, \"count\": 2, \"fraction0\": 39.13, \"q\": \"0.85p\"}, {\"sim\": 3, \"count\": 1, \"fraction0\": 70.0, \"q\": \"0.85p\"}, {\"sim\": 3, \"count\": 1, \"fraction0\": 68.75, \"q\": \"0.85p\"}, {\"sim\": 3, \"count\": 1, \"fraction0\": 72.727, \"q\": \"0.85p\"}, {\"sim\": 3, \"count\": 1, \"fraction0\": 86.667, \"q\": \"0.85p\"}, {\"sim\": 3, \"count\": 1, \"fraction0\": 42.308, \"q\": \"0.85p\"}, {\"sim\": 3, \"count\": 1, \"fraction0\": 53.125, \"q\": \"0.85p\"}, {\"sim\": 3, \"count\": 1, \"fraction0\": 41.667, \"q\": \"0.85p\"}, {\"sim\": 3, \"count\": 1, \"fraction0\": 60.714, \"q\": \"0.85p\"}, {\"sim\": 3, \"count\": 1, \"fraction0\": 36.585, \"q\": \"0.85p\"}, {\"sim\": 3, \"count\": 5, \"fraction0\": 51.852, \"q\": \"0.85p\"}, {\"sim\": 3, \"count\": 1, \"fraction0\": 51.515, \"q\": \"0.85p\"}, {\"sim\": 3, \"count\": 1, \"fraction0\": 64.286, \"q\": \"0.85p\"}, {\"sim\": 3, \"count\": 1, \"fraction0\": 79.31, \"q\": \"0.85p\"}, {\"sim\": 3, \"count\": 1, \"fraction0\": 61.765, \"q\": \"0.85p\"}, {\"sim\": 3, \"count\": 2, \"fraction0\": 53.846, \"q\": \"0.85p\"}, {\"sim\": 3, \"count\": 1, \"fraction0\": 72.0, \"q\": \"0.85p\"}, {\"sim\": 3, \"count\": 1, \"fraction0\": 36.667, \"q\": \"0.85p\"}, {\"sim\": 3, \"count\": 1, \"fraction0\": 29.032, \"q\": \"0.85p\"}, {\"sim\": 3, \"count\": 1, \"fraction0\": 30.0, \"q\": \"0.85p\"}, {\"sim\": 3, \"count\": 1, \"fraction0\": 25.806, \"q\": \"0.85p\"}, {\"sim\": 3, \"count\": 1, \"fraction0\": 56.667, \"q\": \"0.85p\"}, {\"sim\": 3, \"count\": 3, \"fraction0\": 60.0, \"q\": \"0.85p\"}, {\"sim\": 3, \"count\": 2, \"fraction0\": 57.143, \"q\": \"0.85p\"}, {\"sim\": 3, \"count\": 1, \"fraction0\": 34.483, \"q\": \"0.85p\"}, {\"sim\": 3, \"count\": 1, \"fraction0\": 45.0, \"q\": \"0.85p\"}, {\"sim\": 3, \"count\": 2, \"fraction0\": 61.538, \"q\": \"0.85p\"}, {\"sim\": 3, \"count\": 1, \"fraction0\": 37.037, \"q\": \"0.85p\"}, {\"sim\": 3, \"count\": 2, \"fraction0\": 43.243, \"q\": \"0.85p\"}, {\"sim\": 3, \"count\": 1, \"fraction0\": 26.471, \"q\": \"0.85p\"}, {\"sim\": 3, \"count\": 1, \"fraction0\": 51.613, \"q\": \"0.85p\"}, {\"sim\": 3, \"count\": 1, \"fraction0\": 48.718, \"q\": \"0.85p\"}, {\"sim\": 3, \"count\": 1, \"fraction0\": 36.364, \"q\": \"0.85p\"}, {\"sim\": 3, \"count\": 1, \"fraction0\": 40.909, \"q\": \"0.85p\"}, {\"sim\": 3, \"count\": 3, \"fraction0\": 46.154, \"q\": \"0.85p\"}, {\"sim\": 3, \"count\": 1, \"fraction0\": 17.857, \"q\": \"0.85p\"}, {\"sim\": 3, \"count\": 1, \"fraction0\": 31.579, \"q\": \"0.85p\"}, {\"sim\": 3, \"count\": 1, \"fraction0\": 38.095, \"q\": \"0.85p\"}, {\"sim\": 3, \"count\": 1, \"fraction0\": 44.118, \"q\": \"0.85p\"}, {\"sim\": 3, \"count\": 1, \"fraction0\": 52.778, \"q\": \"0.85p\"}, {\"sim\": 3, \"count\": 3, \"fraction0\": 45.455, \"q\": \"0.85p\"}, {\"sim\": 3, \"count\": 2, \"fraction0\": 23.529, \"q\": \"0.85p\"}, {\"sim\": 3, \"count\": 1, \"fraction0\": 59.459, \"q\": \"0.85p\"}, {\"sim\": 3, \"count\": 1, \"fraction0\": 29.63, \"q\": \"0.85p\"}, {\"sim\": 3, \"count\": 1, \"fraction0\": 57.895, \"q\": \"0.85p\"}, {\"sim\": 3, \"count\": 1, \"fraction0\": 60.87, \"q\": \"0.85p\"}, {\"sim\": 3, \"count\": 2, \"fraction0\": 41.379, \"q\": \"0.85p\"}, {\"sim\": 3, \"count\": 1, \"fraction0\": 60.526, \"q\": \"0.85p\"}, {\"sim\": 3, \"count\": 1, \"fraction0\": 44.0, \"q\": \"0.85p\"}, {\"sim\": 3, \"count\": 1, \"fraction0\": 45.946, \"q\": \"0.85p\"}, {\"sim\": 4, \"count\": 4, \"fraction0\": 55.556, \"q\": \"0.8p\"}, {\"sim\": 4, \"count\": 3, \"fraction0\": 42.857, \"q\": \"0.8p\"}, {\"sim\": 4, \"count\": 1, \"fraction0\": 52.5, \"q\": \"0.8p\"}, {\"sim\": 4, \"count\": 1, \"fraction0\": 32.143, \"q\": \"0.8p\"}, {\"sim\": 4, \"count\": 2, \"fraction0\": 52.0, \"q\": \"0.8p\"}, {\"sim\": 4, \"count\": 1, \"fraction0\": 62.5, \"q\": \"0.8p\"}, {\"sim\": 4, \"count\": 6, \"fraction0\": 54.545, \"q\": \"0.8p\"}, {\"sim\": 4, \"count\": 10, \"fraction0\": 40.0, \"q\": \"0.8p\"}, {\"sim\": 4, \"count\": 3, \"fraction0\": 41.379, \"q\": \"0.8p\"}, {\"sim\": 4, \"count\": 4, \"fraction0\": 46.154, \"q\": \"0.8p\"}, {\"sim\": 4, \"count\": 12, \"fraction0\": 50.0, \"q\": \"0.8p\"}, {\"sim\": 4, \"count\": 1, \"fraction0\": 35.135, \"q\": \"0.8p\"}, {\"sim\": 4, \"count\": 5, \"fraction0\": 54.167, \"q\": \"0.8p\"}, {\"sim\": 4, \"count\": 6, \"fraction0\": 48.276, \"q\": \"0.8p\"}, {\"sim\": 4, \"count\": 2, \"fraction0\": 47.826, \"q\": \"0.8p\"}, {\"sim\": 4, \"count\": 1, \"fraction0\": 74.074, \"q\": \"0.8p\"}, {\"sim\": 4, \"count\": 2, \"fraction0\": 40.741, \"q\": \"0.8p\"}, {\"sim\": 4, \"count\": 3, \"fraction0\": 37.5, \"q\": \"0.8p\"}, {\"sim\": 4, \"count\": 1, \"fraction0\": 34.483, \"q\": \"0.8p\"}, {\"sim\": 4, \"count\": 2, \"fraction0\": 46.667, \"q\": \"0.8p\"}, {\"sim\": 4, \"count\": 1, \"fraction0\": 37.037, \"q\": \"0.8p\"}, {\"sim\": 4, \"count\": 3, \"fraction0\": 60.0, \"q\": \"0.8p\"}, {\"sim\": 4, \"count\": 1, \"fraction0\": 68.182, \"q\": \"0.8p\"}, {\"sim\": 4, \"count\": 3, \"fraction0\": 38.71, \"q\": \"0.8p\"}, {\"sim\": 4, \"count\": 1, \"fraction0\": 71.875, \"q\": \"0.8p\"}, {\"sim\": 4, \"count\": 4, \"fraction0\": 51.724, \"q\": \"0.8p\"}, {\"sim\": 4, \"count\": 1, \"fraction0\": 67.857, \"q\": \"0.8p\"}, {\"sim\": 4, \"count\": 3, \"fraction0\": 48.485, \"q\": \"0.8p\"}, {\"sim\": 4, \"count\": 2, \"fraction0\": 53.846, \"q\": \"0.8p\"}, {\"sim\": 4, \"count\": 3, \"fraction0\": 33.333, \"q\": \"0.8p\"}, {\"sim\": 4, \"count\": 2, \"fraction0\": 48.387, \"q\": \"0.8p\"}, {\"sim\": 4, \"count\": 1, \"fraction0\": 31.034, \"q\": \"0.8p\"}, {\"sim\": 4, \"count\": 2, \"fraction0\": 54.839, \"q\": \"0.8p\"}, {\"sim\": 4, \"count\": 1, \"fraction0\": 24.242, \"q\": \"0.8p\"}, {\"sim\": 4, \"count\": 3, \"fraction0\": 60.714, \"q\": \"0.8p\"}, {\"sim\": 4, \"count\": 1, \"fraction0\": 58.621, \"q\": \"0.8p\"}, {\"sim\": 4, \"count\": 3, \"fraction0\": 61.538, \"q\": \"0.8p\"}, {\"sim\": 4, \"count\": 1, \"fraction0\": 52.632, \"q\": \"0.8p\"}, {\"sim\": 4, \"count\": 1, \"fraction0\": 31.818, \"q\": \"0.8p\"}, {\"sim\": 4, \"count\": 2, \"fraction0\": 36.667, \"q\": \"0.8p\"}, {\"sim\": 4, \"count\": 3, \"fraction0\": 62.069, \"q\": \"0.8p\"}, {\"sim\": 4, \"count\": 3, \"fraction0\": 41.935, \"q\": \"0.8p\"}, {\"sim\": 4, \"count\": 2, \"fraction0\": 61.765, \"q\": \"0.8p\"}, {\"sim\": 4, \"count\": 2, \"fraction0\": 51.613, \"q\": \"0.8p\"}, {\"sim\": 4, \"count\": 1, \"fraction0\": 65.385, \"q\": \"0.8p\"}, {\"sim\": 4, \"count\": 3, \"fraction0\": 52.174, \"q\": \"0.8p\"}, {\"sim\": 4, \"count\": 4, \"fraction0\": 57.143, \"q\": \"0.8p\"}, {\"sim\": 4, \"count\": 3, \"fraction0\": 59.091, \"q\": \"0.8p\"}, {\"sim\": 4, \"count\": 6, \"fraction0\": 46.429, \"q\": \"0.8p\"}, {\"sim\": 4, \"count\": 2, \"fraction0\": 46.875, \"q\": \"0.8p\"}, {\"sim\": 4, \"count\": 1, \"fraction0\": 30.303, \"q\": \"0.8p\"}, {\"sim\": 4, \"count\": 2, \"fraction0\": 45.833, \"q\": \"0.8p\"}, {\"sim\": 4, \"count\": 3, \"fraction0\": 53.125, \"q\": \"0.8p\"}, {\"sim\": 4, \"count\": 1, \"fraction0\": 39.286, \"q\": \"0.8p\"}, {\"sim\": 4, \"count\": 1, \"fraction0\": 48.78, \"q\": \"0.8p\"}, {\"sim\": 4, \"count\": 1, \"fraction0\": 58.824, \"q\": \"0.8p\"}, {\"sim\": 4, \"count\": 1, \"fraction0\": 63.636, \"q\": \"0.8p\"}, {\"sim\": 4, \"count\": 2, \"fraction0\": 59.259, \"q\": \"0.8p\"}, {\"sim\": 4, \"count\": 2, \"fraction0\": 55.172, \"q\": \"0.8p\"}, {\"sim\": 4, \"count\": 3, \"fraction0\": 41.667, \"q\": \"0.8p\"}, {\"sim\": 4, \"count\": 1, \"fraction0\": 35.484, \"q\": \"0.8p\"}, {\"sim\": 4, \"count\": 4, \"fraction0\": 51.852, \"q\": \"0.8p\"}, {\"sim\": 4, \"count\": 3, \"fraction0\": 44.828, \"q\": \"0.8p\"}, {\"sim\": 4, \"count\": 1, \"fraction0\": 53.333, \"q\": \"0.8p\"}, {\"sim\": 4, \"count\": 1, \"fraction0\": 71.429, \"q\": \"0.8p\"}, {\"sim\": 4, \"count\": 2, \"fraction0\": 72.727, \"q\": \"0.8p\"}, {\"sim\": 4, \"count\": 1, \"fraction0\": 35.0, \"q\": \"0.8p\"}, {\"sim\": 4, \"count\": 1, \"fraction0\": 47.619, \"q\": \"0.8p\"}, {\"sim\": 4, \"count\": 1, \"fraction0\": 40.541, \"q\": \"0.8p\"}, {\"sim\": 4, \"count\": 1, \"fraction0\": 47.059, \"q\": \"0.8p\"}, {\"sim\": 4, \"count\": 2, \"fraction0\": 43.75, \"q\": \"0.8p\"}, {\"sim\": 4, \"count\": 2, \"fraction0\": 64.286, \"q\": \"0.8p\"}, {\"sim\": 4, \"count\": 4, \"fraction0\": 61.29, \"q\": \"0.8p\"}, {\"sim\": 4, \"count\": 1, \"fraction0\": 65.517, \"q\": \"0.8p\"}, {\"sim\": 4, \"count\": 1, \"fraction0\": 59.459, \"q\": \"0.8p\"}, {\"sim\": 4, \"count\": 2, \"fraction0\": 57.692, \"q\": \"0.8p\"}, {\"sim\": 4, \"count\": 2, \"fraction0\": 36.364, \"q\": \"0.8p\"}, {\"sim\": 4, \"count\": 1, \"fraction0\": 26.923, \"q\": \"0.8p\"}, {\"sim\": 4, \"count\": 3, \"fraction0\": 40.625, \"q\": \"0.8p\"}, {\"sim\": 4, \"count\": 2, \"fraction0\": 28.0, \"q\": \"0.8p\"}, {\"sim\": 4, \"count\": 1, \"fraction0\": 65.625, \"q\": \"0.8p\"}, {\"sim\": 4, \"count\": 1, \"fraction0\": 48.0, \"q\": \"0.8p\"}, {\"sim\": 4, \"count\": 1, \"fraction0\": 55.882, \"q\": \"0.8p\"}, {\"sim\": 4, \"count\": 1, \"fraction0\": 32.0, \"q\": \"0.8p\"}, {\"sim\": 4, \"count\": 1, \"fraction0\": 44.0, \"q\": \"0.8p\"}, {\"sim\": 4, \"count\": 4, \"fraction0\": 38.462, \"q\": \"0.8p\"}, {\"sim\": 4, \"count\": 1, \"fraction0\": 38.095, \"q\": \"0.8p\"}, {\"sim\": 4, \"count\": 1, \"fraction0\": 43.333, \"q\": \"0.8p\"}, {\"sim\": 4, \"count\": 1, \"fraction0\": 51.282, \"q\": \"0.8p\"}, {\"sim\": 4, \"count\": 1, \"fraction0\": 53.571, \"q\": \"0.8p\"}, {\"sim\": 4, \"count\": 2, \"fraction0\": 51.515, \"q\": \"0.8p\"}, {\"sim\": 4, \"count\": 1, \"fraction0\": 56.0, \"q\": \"0.8p\"}, {\"sim\": 4, \"count\": 2, \"fraction0\": 66.667, \"q\": \"0.8p\"}, {\"sim\": 4, \"count\": 1, \"fraction0\": 28.571, \"q\": \"0.8p\"}, {\"sim\": 4, \"count\": 2, \"fraction0\": 64.0, \"q\": \"0.8p\"}, {\"sim\": 4, \"count\": 2, \"fraction0\": 60.606, \"q\": \"0.8p\"}, {\"sim\": 4, \"count\": 1, \"fraction0\": 68.421, \"q\": \"0.8p\"}, {\"sim\": 4, \"count\": 1, \"fraction0\": 63.158, \"q\": \"0.8p\"}, {\"sim\": 4, \"count\": 1, \"fraction0\": 32.258, \"q\": \"0.8p\"}, {\"sim\": 4, \"count\": 1, \"fraction0\": 39.394, \"q\": \"0.8p\"}, {\"sim\": 4, \"count\": 1, \"fraction0\": 37.931, \"q\": \"0.8p\"}, {\"sim\": 4, \"count\": 2, \"fraction0\": 52.381, \"q\": \"0.8p\"}, {\"sim\": 4, \"count\": 1, \"fraction0\": 47.368, \"q\": \"0.8p\"}, {\"sim\": 4, \"count\": 2, \"fraction0\": 45.455, \"q\": \"0.8p\"}, {\"sim\": 4, \"count\": 1, \"fraction0\": 57.895, \"q\": \"0.8p\"}, {\"sim\": 4, \"count\": 1, \"fraction0\": 55.0, \"q\": \"0.8p\"}, {\"sim\": 4, \"count\": 1, \"fraction0\": 63.889, \"q\": \"0.8p\"}, {\"sim\": 4, \"count\": 1, \"fraction0\": 20.833, \"q\": \"0.8p\"}, {\"sim\": 4, \"count\": 1, \"fraction0\": 55.263, \"q\": \"0.8p\"}, {\"sim\": 4, \"count\": 1, \"fraction0\": 58.333, \"q\": \"0.8p\"}, {\"sim\": 4, \"count\": 2, \"fraction0\": 53.488, \"q\": \"0.8p\"}, {\"sim\": 4, \"count\": 2, \"fraction0\": 44.444, \"q\": \"0.8p\"}, {\"sim\": 4, \"count\": 1, \"fraction0\": 56.25, \"q\": \"0.8p\"}, {\"sim\": 4, \"count\": 1, \"fraction0\": 42.308, \"q\": \"0.8p\"}, {\"sim\": 4, \"count\": 2, \"fraction0\": 56.667, \"q\": \"0.8p\"}, {\"sim\": 4, \"count\": 1, \"fraction0\": 69.565, \"q\": \"0.8p\"}, {\"sim\": 4, \"count\": 1, \"fraction0\": 64.706, \"q\": \"0.8p\"}, {\"sim\": 4, \"count\": 1, \"fraction0\": 60.87, \"q\": \"0.8p\"}, {\"sim\": 4, \"count\": 1, \"fraction0\": 61.905, \"q\": \"0.8p\"}, {\"sim\": 4, \"count\": 1, \"fraction0\": 35.294, \"q\": \"0.8p\"}, {\"sim\": 4, \"count\": 1, \"fraction0\": 41.026, \"q\": \"0.8p\"}, {\"sim\": 4, \"count\": 1, \"fraction0\": 68.0, \"q\": \"0.8p\"}, {\"sim\": 4, \"count\": 1, \"fraction0\": 39.13, \"q\": \"0.8p\"}, {\"sim\": 4, \"count\": 1, \"fraction0\": 48.649, \"q\": \"0.8p\"}, {\"sim\": 4, \"count\": 1, \"fraction0\": 56.522, \"q\": \"0.8p\"}, {\"sim\": 4, \"count\": 1, \"fraction0\": 57.576, \"q\": \"0.8p\"}, {\"sim\": 4, \"count\": 1, \"fraction0\": 52.941, \"q\": \"0.8p\"}, {\"sim\": 5, \"count\": 1, \"fraction0\": 82.609, \"q\": \"0.75p\"}, {\"sim\": 5, \"count\": 1, \"fraction0\": 53.125, \"q\": \"0.75p\"}, {\"sim\": 5, \"count\": 3, \"fraction0\": 52.174, \"q\": \"0.75p\"}, {\"sim\": 5, \"count\": 1, \"fraction0\": 56.25, \"q\": \"0.75p\"}, {\"sim\": 5, \"count\": 5, \"fraction0\": 53.846, \"q\": \"0.75p\"}, {\"sim\": 5, \"count\": 2, \"fraction0\": 45.455, \"q\": \"0.75p\"}, {\"sim\": 5, \"count\": 3, \"fraction0\": 47.826, \"q\": \"0.75p\"}, {\"sim\": 5, \"count\": 24, \"fraction0\": 50.0, \"q\": \"0.75p\"}, {\"sim\": 5, \"count\": 1, \"fraction0\": 55.172, \"q\": \"0.75p\"}, {\"sim\": 5, \"count\": 2, \"fraction0\": 55.556, \"q\": \"0.75p\"}, {\"sim\": 5, \"count\": 3, \"fraction0\": 57.692, \"q\": \"0.75p\"}, {\"sim\": 5, \"count\": 4, \"fraction0\": 56.0, \"q\": \"0.75p\"}, {\"sim\": 5, \"count\": 1, \"fraction0\": 85.714, \"q\": \"0.75p\"}, {\"sim\": 5, \"count\": 1, \"fraction0\": 52.941, \"q\": \"0.75p\"}, {\"sim\": 5, \"count\": 1, \"fraction0\": 54.286, \"q\": \"0.75p\"}, {\"sim\": 5, \"count\": 4, \"fraction0\": 48.276, \"q\": \"0.75p\"}, {\"sim\": 5, \"count\": 1, \"fraction0\": 19.231, \"q\": \"0.75p\"}, {\"sim\": 5, \"count\": 1, \"fraction0\": 65.517, \"q\": \"0.75p\"}, {\"sim\": 5, \"count\": 3, \"fraction0\": 62.963, \"q\": \"0.75p\"}, {\"sim\": 5, \"count\": 2, \"fraction0\": 64.286, \"q\": \"0.75p\"}, {\"sim\": 5, \"count\": 1, \"fraction0\": 28.125, \"q\": \"0.75p\"}, {\"sim\": 5, \"count\": 1, \"fraction0\": 46.429, \"q\": \"0.75p\"}, {\"sim\": 5, \"count\": 5, \"fraction0\": 57.143, \"q\": \"0.75p\"}, {\"sim\": 5, \"count\": 5, \"fraction0\": 37.5, \"q\": \"0.75p\"}, {\"sim\": 5, \"count\": 3, \"fraction0\": 51.515, \"q\": \"0.75p\"}, {\"sim\": 5, \"count\": 2, \"fraction0\": 61.538, \"q\": \"0.75p\"}, {\"sim\": 5, \"count\": 1, \"fraction0\": 65.714, \"q\": \"0.75p\"}, {\"sim\": 5, \"count\": 4, \"fraction0\": 52.0, \"q\": \"0.75p\"}, {\"sim\": 5, \"count\": 1, \"fraction0\": 20.588, \"q\": \"0.75p\"}, {\"sim\": 5, \"count\": 1, \"fraction0\": 25.0, \"q\": \"0.75p\"}, {\"sim\": 5, \"count\": 1, \"fraction0\": 58.621, \"q\": \"0.75p\"}, {\"sim\": 5, \"count\": 1, \"fraction0\": 40.909, \"q\": \"0.75p\"}, {\"sim\": 5, \"count\": 3, \"fraction0\": 38.462, \"q\": \"0.75p\"}, {\"sim\": 5, \"count\": 1, \"fraction0\": 52.632, \"q\": \"0.75p\"}, {\"sim\": 5, \"count\": 1, \"fraction0\": 70.0, \"q\": \"0.75p\"}, {\"sim\": 5, \"count\": 1, \"fraction0\": 85.185, \"q\": \"0.75p\"}, {\"sim\": 5, \"count\": 3, \"fraction0\": 36.364, \"q\": \"0.75p\"}, {\"sim\": 5, \"count\": 6, \"fraction0\": 60.0, \"q\": \"0.75p\"}, {\"sim\": 5, \"count\": 2, \"fraction0\": 52.381, \"q\": \"0.75p\"}, {\"sim\": 5, \"count\": 1, \"fraction0\": 20.0, \"q\": \"0.75p\"}, {\"sim\": 5, \"count\": 3, \"fraction0\": 41.379, \"q\": \"0.75p\"}, {\"sim\": 5, \"count\": 1, \"fraction0\": 39.394, \"q\": \"0.75p\"}, {\"sim\": 5, \"count\": 4, \"fraction0\": 46.154, \"q\": \"0.75p\"}, {\"sim\": 5, \"count\": 4, \"fraction0\": 59.375, \"q\": \"0.75p\"}, {\"sim\": 5, \"count\": 3, \"fraction0\": 47.368, \"q\": \"0.75p\"}, {\"sim\": 5, \"count\": 1, \"fraction0\": 42.424, \"q\": \"0.75p\"}, {\"sim\": 5, \"count\": 1, \"fraction0\": 53.659, \"q\": \"0.75p\"}, {\"sim\": 5, \"count\": 1, \"fraction0\": 56.667, \"q\": \"0.75p\"}, {\"sim\": 5, \"count\": 3, \"fraction0\": 40.0, \"q\": \"0.75p\"}, {\"sim\": 5, \"count\": 3, \"fraction0\": 44.444, \"q\": \"0.75p\"}, {\"sim\": 5, \"count\": 1, \"fraction0\": 51.613, \"q\": \"0.75p\"}, {\"sim\": 5, \"count\": 2, \"fraction0\": 58.333, \"q\": \"0.75p\"}, {\"sim\": 5, \"count\": 2, \"fraction0\": 42.857, \"q\": \"0.75p\"}, {\"sim\": 5, \"count\": 1, \"fraction0\": 27.586, \"q\": \"0.75p\"}, {\"sim\": 5, \"count\": 1, \"fraction0\": 45.714, \"q\": \"0.75p\"}, {\"sim\": 5, \"count\": 3, \"fraction0\": 56.522, \"q\": \"0.75p\"}, {\"sim\": 5, \"count\": 2, \"fraction0\": 51.852, \"q\": \"0.75p\"}, {\"sim\": 5, \"count\": 2, \"fraction0\": 46.875, \"q\": \"0.75p\"}, {\"sim\": 5, \"count\": 1, \"fraction0\": 57.576, \"q\": \"0.75p\"}, {\"sim\": 5, \"count\": 1, \"fraction0\": 67.647, \"q\": \"0.75p\"}, {\"sim\": 5, \"count\": 4, \"fraction0\": 60.714, \"q\": \"0.75p\"}, {\"sim\": 5, \"count\": 1, \"fraction0\": 60.87, \"q\": \"0.75p\"}, {\"sim\": 5, \"count\": 2, \"fraction0\": 64.0, \"q\": \"0.75p\"}, {\"sim\": 5, \"count\": 3, \"fraction0\": 33.333, \"q\": \"0.75p\"}, {\"sim\": 5, \"count\": 2, \"fraction0\": 59.259, \"q\": \"0.75p\"}, {\"sim\": 5, \"count\": 2, \"fraction0\": 28.571, \"q\": \"0.75p\"}, {\"sim\": 5, \"count\": 2, \"fraction0\": 54.545, \"q\": \"0.75p\"}, {\"sim\": 5, \"count\": 1, \"fraction0\": 64.706, \"q\": \"0.75p\"}, {\"sim\": 5, \"count\": 3, \"fraction0\": 39.286, \"q\": \"0.75p\"}, {\"sim\": 5, \"count\": 2, \"fraction0\": 65.625, \"q\": \"0.75p\"}, {\"sim\": 5, \"count\": 2, \"fraction0\": 55.0, \"q\": \"0.75p\"}, {\"sim\": 5, \"count\": 1, \"fraction0\": 69.565, \"q\": \"0.75p\"}, {\"sim\": 5, \"count\": 1, \"fraction0\": 51.429, \"q\": \"0.75p\"}, {\"sim\": 5, \"count\": 5, \"fraction0\": 59.091, \"q\": \"0.75p\"}, {\"sim\": 5, \"count\": 1, \"fraction0\": 32.258, \"q\": \"0.75p\"}, {\"sim\": 5, \"count\": 2, \"fraction0\": 58.065, \"q\": \"0.75p\"}, {\"sim\": 5, \"count\": 2, \"fraction0\": 51.724, \"q\": \"0.75p\"}, {\"sim\": 5, \"count\": 1, \"fraction0\": 71.429, \"q\": \"0.75p\"}, {\"sim\": 5, \"count\": 5, \"fraction0\": 53.333, \"q\": \"0.75p\"}, {\"sim\": 5, \"count\": 4, \"fraction0\": 66.667, \"q\": \"0.75p\"}, {\"sim\": 5, \"count\": 3, \"fraction0\": 75.0, \"q\": \"0.75p\"}, {\"sim\": 5, \"count\": 1, \"fraction0\": 18.182, \"q\": \"0.75p\"}, {\"sim\": 5, \"count\": 1, \"fraction0\": 53.571, \"q\": \"0.75p\"}, {\"sim\": 5, \"count\": 2, \"fraction0\": 32.0, \"q\": \"0.75p\"}, {\"sim\": 5, \"count\": 2, \"fraction0\": 62.069, \"q\": \"0.75p\"}, {\"sim\": 5, \"count\": 1, \"fraction0\": 30.303, \"q\": \"0.75p\"}, {\"sim\": 5, \"count\": 1, \"fraction0\": 21.739, \"q\": \"0.75p\"}, {\"sim\": 5, \"count\": 1, \"fraction0\": 62.5, \"q\": \"0.75p\"}, {\"sim\": 5, \"count\": 1, \"fraction0\": 36.842, \"q\": \"0.75p\"}, {\"sim\": 5, \"count\": 4, \"fraction0\": 63.636, \"q\": \"0.75p\"}, {\"sim\": 5, \"count\": 1, \"fraction0\": 54.839, \"q\": \"0.75p\"}, {\"sim\": 5, \"count\": 1, \"fraction0\": 21.875, \"q\": \"0.75p\"}, {\"sim\": 5, \"count\": 4, \"fraction0\": 46.667, \"q\": \"0.75p\"}, {\"sim\": 5, \"count\": 1, \"fraction0\": 42.308, \"q\": \"0.75p\"}, {\"sim\": 5, \"count\": 1, \"fraction0\": 26.316, \"q\": \"0.75p\"}, {\"sim\": 5, \"count\": 1, \"fraction0\": 31.034, \"q\": \"0.75p\"}, {\"sim\": 5, \"count\": 1, \"fraction0\": 29.167, \"q\": \"0.75p\"}, {\"sim\": 5, \"count\": 1, \"fraction0\": 34.615, \"q\": \"0.75p\"}, {\"sim\": 5, \"count\": 1, \"fraction0\": 34.483, \"q\": \"0.75p\"}, {\"sim\": 5, \"count\": 1, \"fraction0\": 37.037, \"q\": \"0.75p\"}, {\"sim\": 5, \"count\": 1, \"fraction0\": 44.828, \"q\": \"0.75p\"}, {\"sim\": 5, \"count\": 1, \"fraction0\": 30.769, \"q\": \"0.75p\"}, {\"sim\": 5, \"count\": 1, \"fraction0\": 38.095, \"q\": \"0.75p\"}, {\"sim\": 5, \"count\": 1, \"fraction0\": 60.606, \"q\": \"0.75p\"}, {\"sim\": 5, \"count\": 1, \"fraction0\": 76.923, \"q\": \"0.75p\"}, {\"sim\": 5, \"count\": 1, \"fraction0\": 47.619, \"q\": \"0.75p\"}, {\"sim\": 5, \"count\": 1, \"fraction0\": 74.074, \"q\": \"0.75p\"}, {\"sim\": 5, \"count\": 1, \"fraction0\": 36.667, \"q\": \"0.75p\"}, {\"sim\": 5, \"count\": 2, \"fraction0\": 48.0, \"q\": \"0.75p\"}, {\"sim\": 5, \"count\": 1, \"fraction0\": 35.714, \"q\": \"0.75p\"}, {\"sim\": 5, \"count\": 1, \"fraction0\": 70.968, \"q\": \"0.75p\"}, {\"sim\": 5, \"count\": 1, \"fraction0\": 48.148, \"q\": \"0.75p\"}, {\"sim\": 5, \"count\": 1, \"fraction0\": 69.231, \"q\": \"0.75p\"}, {\"sim\": 5, \"count\": 2, \"fraction0\": 36.0, \"q\": \"0.75p\"}, {\"sim\": 5, \"count\": 1, \"fraction0\": 61.905, \"q\": \"0.75p\"}, {\"sim\": 5, \"count\": 1, \"fraction0\": 48.649, \"q\": \"0.75p\"}, {\"sim\": 5, \"count\": 1, \"fraction0\": 51.351, \"q\": \"0.75p\"}, {\"sim\": 5, \"count\": 1, \"fraction0\": 48.387, \"q\": \"0.75p\"}, {\"sim\": 5, \"count\": 1, \"fraction0\": 72.222, \"q\": \"0.75p\"}, {\"sim\": 5, \"count\": 1, \"fraction0\": 69.697, \"q\": \"0.75p\"}, {\"sim\": 5, \"count\": 1, \"fraction0\": 52.778, \"q\": \"0.75p\"}, {\"sim\": 5, \"count\": 1, \"fraction0\": 43.478, \"q\": \"0.75p\"}, {\"sim\": 5, \"count\": 1, \"fraction0\": 67.857, \"q\": \"0.75p\"}, {\"sim\": 5, \"count\": 1, \"fraction0\": 29.412, \"q\": \"0.75p\"}, {\"sim\": 6, \"count\": 9, \"fraction0\": 33.333, \"q\": \"0.7p\"}, {\"sim\": 6, \"count\": 16, \"fraction0\": 50.0, \"q\": \"0.7p\"}, {\"sim\": 6, \"count\": 2, \"fraction0\": 52.381, \"q\": \"0.7p\"}, {\"sim\": 6, \"count\": 4, \"fraction0\": 55.556, \"q\": \"0.7p\"}, {\"sim\": 6, \"count\": 6, \"fraction0\": 40.0, \"q\": \"0.7p\"}, {\"sim\": 6, \"count\": 2, \"fraction0\": 47.368, \"q\": \"0.7p\"}, {\"sim\": 6, \"count\": 3, \"fraction0\": 51.613, \"q\": \"0.7p\"}, {\"sim\": 6, \"count\": 2, \"fraction0\": 64.286, \"q\": \"0.7p\"}, {\"sim\": 6, \"count\": 5, \"fraction0\": 60.0, \"q\": \"0.7p\"}, {\"sim\": 6, \"count\": 10, \"fraction0\": 42.857, \"q\": \"0.7p\"}, {\"sim\": 6, \"count\": 1, \"fraction0\": 36.0, \"q\": \"0.7p\"}, {\"sim\": 6, \"count\": 3, \"fraction0\": 52.174, \"q\": \"0.7p\"}, {\"sim\": 6, \"count\": 2, \"fraction0\": 45.714, \"q\": \"0.7p\"}, {\"sim\": 6, \"count\": 6, \"fraction0\": 42.308, \"q\": \"0.7p\"}, {\"sim\": 6, \"count\": 2, \"fraction0\": 41.667, \"q\": \"0.7p\"}, {\"sim\": 6, \"count\": 2, \"fraction0\": 37.931, \"q\": \"0.7p\"}, {\"sim\": 6, \"count\": 5, \"fraction0\": 44.444, \"q\": \"0.7p\"}, {\"sim\": 6, \"count\": 2, \"fraction0\": 64.516, \"q\": \"0.7p\"}, {\"sim\": 6, \"count\": 2, \"fraction0\": 59.375, \"q\": \"0.7p\"}, {\"sim\": 6, \"count\": 2, \"fraction0\": 56.0, \"q\": \"0.7p\"}, {\"sim\": 6, \"count\": 3, \"fraction0\": 39.13, \"q\": \"0.7p\"}, {\"sim\": 6, \"count\": 1, \"fraction0\": 45.0, \"q\": \"0.7p\"}, {\"sim\": 6, \"count\": 3, \"fraction0\": 45.455, \"q\": \"0.7p\"}, {\"sim\": 6, \"count\": 1, \"fraction0\": 44.0, \"q\": \"0.7p\"}, {\"sim\": 6, \"count\": 2, \"fraction0\": 38.462, \"q\": \"0.7p\"}, {\"sim\": 6, \"count\": 1, \"fraction0\": 38.889, \"q\": \"0.7p\"}, {\"sim\": 6, \"count\": 1, \"fraction0\": 43.478, \"q\": \"0.7p\"}, {\"sim\": 6, \"count\": 6, \"fraction0\": 55.0, \"q\": \"0.7p\"}, {\"sim\": 6, \"count\": 2, \"fraction0\": 34.783, \"q\": \"0.7p\"}, {\"sim\": 6, \"count\": 1, \"fraction0\": 75.0, \"q\": \"0.7p\"}, {\"sim\": 6, \"count\": 2, \"fraction0\": 38.71, \"q\": \"0.7p\"}, {\"sim\": 6, \"count\": 5, \"fraction0\": 47.826, \"q\": \"0.7p\"}, {\"sim\": 6, \"count\": 4, \"fraction0\": 45.161, \"q\": \"0.7p\"}, {\"sim\": 6, \"count\": 2, \"fraction0\": 28.571, \"q\": \"0.7p\"}, {\"sim\": 6, \"count\": 1, \"fraction0\": 47.5, \"q\": \"0.7p\"}, {\"sim\": 6, \"count\": 2, \"fraction0\": 62.963, \"q\": \"0.7p\"}, {\"sim\": 6, \"count\": 1, \"fraction0\": 36.364, \"q\": \"0.7p\"}, {\"sim\": 6, \"count\": 1, \"fraction0\": 38.095, \"q\": \"0.7p\"}, {\"sim\": 6, \"count\": 1, \"fraction0\": 52.632, \"q\": \"0.7p\"}, {\"sim\": 6, \"count\": 2, \"fraction0\": 47.619, \"q\": \"0.7p\"}, {\"sim\": 6, \"count\": 3, \"fraction0\": 58.333, \"q\": \"0.7p\"}, {\"sim\": 6, \"count\": 3, \"fraction0\": 45.833, \"q\": \"0.7p\"}, {\"sim\": 6, \"count\": 3, \"fraction0\": 46.667, \"q\": \"0.7p\"}, {\"sim\": 6, \"count\": 1, \"fraction0\": 40.741, \"q\": \"0.7p\"}, {\"sim\": 6, \"count\": 2, \"fraction0\": 68.182, \"q\": \"0.7p\"}, {\"sim\": 6, \"count\": 2, \"fraction0\": 39.286, \"q\": \"0.7p\"}, {\"sim\": 6, \"count\": 1, \"fraction0\": 42.105, \"q\": \"0.7p\"}, {\"sim\": 6, \"count\": 1, \"fraction0\": 69.697, \"q\": \"0.7p\"}, {\"sim\": 6, \"count\": 1, \"fraction0\": 32.353, \"q\": \"0.7p\"}, {\"sim\": 6, \"count\": 1, \"fraction0\": 60.714, \"q\": \"0.7p\"}, {\"sim\": 6, \"count\": 2, \"fraction0\": 29.63, \"q\": \"0.7p\"}, {\"sim\": 6, \"count\": 5, \"fraction0\": 66.667, \"q\": \"0.7p\"}, {\"sim\": 6, \"count\": 2, \"fraction0\": 48.0, \"q\": \"0.7p\"}, {\"sim\": 6, \"count\": 1, \"fraction0\": 41.176, \"q\": \"0.7p\"}, {\"sim\": 6, \"count\": 1, \"fraction0\": 62.069, \"q\": \"0.7p\"}, {\"sim\": 6, \"count\": 1, \"fraction0\": 57.895, \"q\": \"0.7p\"}, {\"sim\": 6, \"count\": 2, \"fraction0\": 53.125, \"q\": \"0.7p\"}, {\"sim\": 6, \"count\": 3, \"fraction0\": 53.333, \"q\": \"0.7p\"}, {\"sim\": 6, \"count\": 1, \"fraction0\": 68.966, \"q\": \"0.7p\"}, {\"sim\": 6, \"count\": 2, \"fraction0\": 48.276, \"q\": \"0.7p\"}, {\"sim\": 6, \"count\": 2, \"fraction0\": 46.154, \"q\": \"0.7p\"}, {\"sim\": 6, \"count\": 1, \"fraction0\": 29.412, \"q\": \"0.7p\"}, {\"sim\": 6, \"count\": 1, \"fraction0\": 68.0, \"q\": \"0.7p\"}, {\"sim\": 6, \"count\": 1, \"fraction0\": 30.769, \"q\": \"0.7p\"}, {\"sim\": 6, \"count\": 2, \"fraction0\": 62.5, \"q\": \"0.7p\"}, {\"sim\": 6, \"count\": 2, \"fraction0\": 53.846, \"q\": \"0.7p\"}, {\"sim\": 6, \"count\": 2, \"fraction0\": 58.621, \"q\": \"0.7p\"}, {\"sim\": 6, \"count\": 1, \"fraction0\": 37.037, \"q\": \"0.7p\"}, {\"sim\": 6, \"count\": 1, \"fraction0\": 59.091, \"q\": \"0.7p\"}, {\"sim\": 6, \"count\": 2, \"fraction0\": 26.923, \"q\": \"0.7p\"}, {\"sim\": 6, \"count\": 4, \"fraction0\": 46.875, \"q\": \"0.7p\"}, {\"sim\": 6, \"count\": 1, \"fraction0\": 40.909, \"q\": \"0.7p\"}, {\"sim\": 6, \"count\": 1, \"fraction0\": 23.077, \"q\": \"0.7p\"}, {\"sim\": 6, \"count\": 2, \"fraction0\": 30.435, \"q\": \"0.7p\"}, {\"sim\": 6, \"count\": 2, \"fraction0\": 48.387, \"q\": \"0.7p\"}, {\"sim\": 6, \"count\": 2, \"fraction0\": 65.517, \"q\": \"0.7p\"}, {\"sim\": 6, \"count\": 1, \"fraction0\": 30.0, \"q\": \"0.7p\"}, {\"sim\": 6, \"count\": 1, \"fraction0\": 41.935, \"q\": \"0.7p\"}, {\"sim\": 6, \"count\": 2, \"fraction0\": 55.172, \"q\": \"0.7p\"}, {\"sim\": 6, \"count\": 2, \"fraction0\": 41.379, \"q\": \"0.7p\"}, {\"sim\": 6, \"count\": 1, \"fraction0\": 63.158, \"q\": \"0.7p\"}, {\"sim\": 6, \"count\": 1, \"fraction0\": 54.167, \"q\": \"0.7p\"}, {\"sim\": 6, \"count\": 1, \"fraction0\": 51.724, \"q\": \"0.7p\"}, {\"sim\": 6, \"count\": 6, \"fraction0\": 57.143, \"q\": \"0.7p\"}, {\"sim\": 6, \"count\": 2, \"fraction0\": 47.059, \"q\": \"0.7p\"}, {\"sim\": 6, \"count\": 1, \"fraction0\": 73.913, \"q\": \"0.7p\"}, {\"sim\": 6, \"count\": 1, \"fraction0\": 60.87, \"q\": \"0.7p\"}, {\"sim\": 6, \"count\": 1, \"fraction0\": 56.667, \"q\": \"0.7p\"}, {\"sim\": 6, \"count\": 1, \"fraction0\": 54.054, \"q\": \"0.7p\"}, {\"sim\": 6, \"count\": 2, \"fraction0\": 43.75, \"q\": \"0.7p\"}, {\"sim\": 6, \"count\": 1, \"fraction0\": 35.714, \"q\": \"0.7p\"}, {\"sim\": 6, \"count\": 1, \"fraction0\": 42.424, \"q\": \"0.7p\"}, {\"sim\": 6, \"count\": 1, \"fraction0\": 69.565, \"q\": \"0.7p\"}, {\"sim\": 6, \"count\": 1, \"fraction0\": 67.742, \"q\": \"0.7p\"}, {\"sim\": 6, \"count\": 1, \"fraction0\": 32.258, \"q\": \"0.7p\"}, {\"sim\": 6, \"count\": 2, \"fraction0\": 71.429, \"q\": \"0.7p\"}, {\"sim\": 6, \"count\": 2, \"fraction0\": 51.852, \"q\": \"0.7p\"}, {\"sim\": 6, \"count\": 2, \"fraction0\": 25.0, \"q\": \"0.7p\"}, {\"sim\": 6, \"count\": 1, \"fraction0\": 58.824, \"q\": \"0.7p\"}, {\"sim\": 6, \"count\": 2, \"fraction0\": 52.0, \"q\": \"0.7p\"}, {\"sim\": 6, \"count\": 1, \"fraction0\": 38.235, \"q\": \"0.7p\"}, {\"sim\": 6, \"count\": 1, \"fraction0\": 70.833, \"q\": \"0.7p\"}, {\"sim\": 6, \"count\": 3, \"fraction0\": 44.828, \"q\": \"0.7p\"}, {\"sim\": 6, \"count\": 1, \"fraction0\": 34.615, \"q\": \"0.7p\"}, {\"sim\": 6, \"count\": 1, \"fraction0\": 51.515, \"q\": \"0.7p\"}, {\"sim\": 6, \"count\": 1, \"fraction0\": 47.222, \"q\": \"0.7p\"}, {\"sim\": 6, \"count\": 1, \"fraction0\": 24.242, \"q\": \"0.7p\"}, {\"sim\": 6, \"count\": 1, \"fraction0\": 31.818, \"q\": \"0.7p\"}, {\"sim\": 6, \"count\": 2, \"fraction0\": 63.333, \"q\": \"0.7p\"}, {\"sim\": 6, \"count\": 1, \"fraction0\": 57.576, \"q\": \"0.7p\"}, {\"sim\": 6, \"count\": 1, \"fraction0\": 52.941, \"q\": \"0.7p\"}, {\"sim\": 6, \"count\": 1, \"fraction0\": 56.25, \"q\": \"0.7p\"}, {\"sim\": 6, \"count\": 1, \"fraction0\": 39.394, \"q\": \"0.7p\"}, {\"sim\": 6, \"count\": 2, \"fraction0\": 56.522, \"q\": \"0.7p\"}, {\"sim\": 6, \"count\": 1, \"fraction0\": 48.148, \"q\": \"0.7p\"}, {\"sim\": 6, \"count\": 1, \"fraction0\": 40.625, \"q\": \"0.7p\"}, {\"sim\": 7, \"count\": 2, \"fraction0\": 66.667, \"q\": \"0.65p\"}, {\"sim\": 7, \"count\": 2, \"fraction0\": 31.579, \"q\": \"0.65p\"}, {\"sim\": 7, \"count\": 3, \"fraction0\": 54.167, \"q\": \"0.65p\"}, {\"sim\": 7, \"count\": 3, \"fraction0\": 54.545, \"q\": \"0.65p\"}, {\"sim\": 7, \"count\": 4, \"fraction0\": 55.556, \"q\": \"0.65p\"}, {\"sim\": 7, \"count\": 4, \"fraction0\": 60.0, \"q\": \"0.65p\"}, {\"sim\": 7, \"count\": 2, \"fraction0\": 30.0, \"q\": \"0.65p\"}, {\"sim\": 7, \"count\": 1, \"fraction0\": 76.0, \"q\": \"0.65p\"}, {\"sim\": 7, \"count\": 2, \"fraction0\": 62.963, \"q\": \"0.65p\"}, {\"sim\": 7, \"count\": 27, \"fraction0\": 50.0, \"q\": \"0.65p\"}, {\"sim\": 7, \"count\": 1, \"fraction0\": 80.0, \"q\": \"0.65p\"}, {\"sim\": 7, \"count\": 2, \"fraction0\": 29.63, \"q\": \"0.65p\"}, {\"sim\": 7, \"count\": 3, \"fraction0\": 37.5, \"q\": \"0.65p\"}, {\"sim\": 7, \"count\": 5, \"fraction0\": 52.0, \"q\": \"0.65p\"}, {\"sim\": 7, \"count\": 6, \"fraction0\": 53.333, \"q\": \"0.65p\"}, {\"sim\": 7, \"count\": 1, \"fraction0\": 72.414, \"q\": \"0.65p\"}, {\"sim\": 7, \"count\": 1, \"fraction0\": 38.462, \"q\": \"0.65p\"}, {\"sim\": 7, \"count\": 3, \"fraction0\": 41.667, \"q\": \"0.65p\"}, {\"sim\": 7, \"count\": 2, \"fraction0\": 42.105, \"q\": \"0.65p\"}, {\"sim\": 7, \"count\": 3, \"fraction0\": 38.095, \"q\": \"0.65p\"}, {\"sim\": 7, \"count\": 2, \"fraction0\": 52.381, \"q\": \"0.65p\"}, {\"sim\": 7, \"count\": 3, \"fraction0\": 42.308, \"q\": \"0.65p\"}, {\"sim\": 7, \"count\": 1, \"fraction0\": 51.515, \"q\": \"0.65p\"}, {\"sim\": 7, \"count\": 2, \"fraction0\": 53.125, \"q\": \"0.65p\"}, {\"sim\": 7, \"count\": 1, \"fraction0\": 41.176, \"q\": \"0.65p\"}, {\"sim\": 7, \"count\": 1, \"fraction0\": 48.485, \"q\": \"0.65p\"}, {\"sim\": 7, \"count\": 1, \"fraction0\": 36.0, \"q\": \"0.65p\"}, {\"sim\": 7, \"count\": 1, \"fraction0\": 64.706, \"q\": \"0.65p\"}, {\"sim\": 7, \"count\": 3, \"fraction0\": 64.286, \"q\": \"0.65p\"}, {\"sim\": 7, \"count\": 1, \"fraction0\": 55.0, \"q\": \"0.65p\"}, {\"sim\": 7, \"count\": 3, \"fraction0\": 44.0, \"q\": \"0.65p\"}, {\"sim\": 7, \"count\": 3, \"fraction0\": 39.286, \"q\": \"0.65p\"}, {\"sim\": 7, \"count\": 2, \"fraction0\": 45.833, \"q\": \"0.65p\"}, {\"sim\": 7, \"count\": 2, \"fraction0\": 64.0, \"q\": \"0.65p\"}, {\"sim\": 7, \"count\": 8, \"fraction0\": 42.857, \"q\": \"0.65p\"}, {\"sim\": 7, \"count\": 1, \"fraction0\": 63.636, \"q\": \"0.65p\"}, {\"sim\": 7, \"count\": 1, \"fraction0\": 37.931, \"q\": \"0.65p\"}, {\"sim\": 7, \"count\": 3, \"fraction0\": 54.839, \"q\": \"0.65p\"}, {\"sim\": 7, \"count\": 2, \"fraction0\": 35.294, \"q\": \"0.65p\"}, {\"sim\": 7, \"count\": 1, \"fraction0\": 18.182, \"q\": \"0.65p\"}, {\"sim\": 7, \"count\": 1, \"fraction0\": 25.0, \"q\": \"0.65p\"}, {\"sim\": 7, \"count\": 1, \"fraction0\": 60.87, \"q\": \"0.65p\"}, {\"sim\": 7, \"count\": 1, \"fraction0\": 69.231, \"q\": \"0.65p\"}, {\"sim\": 7, \"count\": 1, \"fraction0\": 43.333, \"q\": \"0.65p\"}, {\"sim\": 7, \"count\": 6, \"fraction0\": 53.846, \"q\": \"0.65p\"}, {\"sim\": 7, \"count\": 1, \"fraction0\": 57.895, \"q\": \"0.65p\"}, {\"sim\": 7, \"count\": 3, \"fraction0\": 46.154, \"q\": \"0.65p\"}, {\"sim\": 7, \"count\": 2, \"fraction0\": 56.0, \"q\": \"0.65p\"}, {\"sim\": 7, \"count\": 3, \"fraction0\": 48.148, \"q\": \"0.65p\"}, {\"sim\": 7, \"count\": 1, \"fraction0\": 62.069, \"q\": \"0.65p\"}, {\"sim\": 7, \"count\": 6, \"fraction0\": 33.333, \"q\": \"0.65p\"}, {\"sim\": 7, \"count\": 1, \"fraction0\": 38.889, \"q\": \"0.65p\"}, {\"sim\": 7, \"count\": 1, \"fraction0\": 55.263, \"q\": \"0.65p\"}, {\"sim\": 7, \"count\": 2, \"fraction0\": 31.818, \"q\": \"0.65p\"}, {\"sim\": 7, \"count\": 3, \"fraction0\": 46.875, \"q\": \"0.65p\"}, {\"sim\": 7, \"count\": 2, \"fraction0\": 27.586, \"q\": \"0.65p\"}, {\"sim\": 7, \"count\": 2, \"fraction0\": 59.259, \"q\": \"0.65p\"}, {\"sim\": 7, \"count\": 1, \"fraction0\": 84.211, \"q\": \"0.65p\"}, {\"sim\": 7, \"count\": 1, \"fraction0\": 52.941, \"q\": \"0.65p\"}, {\"sim\": 7, \"count\": 1, \"fraction0\": 30.303, \"q\": \"0.65p\"}, {\"sim\": 7, \"count\": 1, \"fraction0\": 35.0, \"q\": \"0.65p\"}, {\"sim\": 7, \"count\": 3, \"fraction0\": 65.217, \"q\": \"0.65p\"}, {\"sim\": 7, \"count\": 1, \"fraction0\": 36.667, \"q\": \"0.65p\"}, {\"sim\": 7, \"count\": 1, \"fraction0\": 78.571, \"q\": \"0.65p\"}, {\"sim\": 7, \"count\": 2, \"fraction0\": 46.429, \"q\": \"0.65p\"}, {\"sim\": 7, \"count\": 1, \"fraction0\": 57.692, \"q\": \"0.65p\"}, {\"sim\": 7, \"count\": 2, \"fraction0\": 70.588, \"q\": \"0.65p\"}, {\"sim\": 7, \"count\": 1, \"fraction0\": 52.632, \"q\": \"0.65p\"}, {\"sim\": 7, \"count\": 3, \"fraction0\": 53.571, \"q\": \"0.65p\"}, {\"sim\": 7, \"count\": 1, \"fraction0\": 45.455, \"q\": \"0.65p\"}, {\"sim\": 7, \"count\": 2, \"fraction0\": 43.478, \"q\": \"0.65p\"}, {\"sim\": 7, \"count\": 1, \"fraction0\": 20.0, \"q\": \"0.65p\"}, {\"sim\": 7, \"count\": 3, \"fraction0\": 51.852, \"q\": \"0.65p\"}, {\"sim\": 7, \"count\": 1, \"fraction0\": 56.25, \"q\": \"0.65p\"}, {\"sim\": 7, \"count\": 1, \"fraction0\": 68.0, \"q\": \"0.65p\"}, {\"sim\": 7, \"count\": 3, \"fraction0\": 47.826, \"q\": \"0.65p\"}, {\"sim\": 7, \"count\": 2, \"fraction0\": 59.091, \"q\": \"0.65p\"}, {\"sim\": 7, \"count\": 2, \"fraction0\": 45.0, \"q\": \"0.65p\"}, {\"sim\": 7, \"count\": 2, \"fraction0\": 68.182, \"q\": \"0.65p\"}, {\"sim\": 7, \"count\": 4, \"fraction0\": 57.143, \"q\": \"0.65p\"}, {\"sim\": 7, \"count\": 1, \"fraction0\": 26.316, \"q\": \"0.65p\"}, {\"sim\": 7, \"count\": 2, \"fraction0\": 45.161, \"q\": \"0.65p\"}, {\"sim\": 7, \"count\": 1, \"fraction0\": 73.333, \"q\": \"0.65p\"}, {\"sim\": 7, \"count\": 1, \"fraction0\": 26.923, \"q\": \"0.65p\"}, {\"sim\": 7, \"count\": 2, \"fraction0\": 44.444, \"q\": \"0.65p\"}, {\"sim\": 7, \"count\": 2, \"fraction0\": 62.5, \"q\": \"0.65p\"}, {\"sim\": 7, \"count\": 4, \"fraction0\": 40.741, \"q\": \"0.65p\"}, {\"sim\": 7, \"count\": 1, \"fraction0\": 46.667, \"q\": \"0.65p\"}, {\"sim\": 7, \"count\": 2, \"fraction0\": 61.111, \"q\": \"0.65p\"}, {\"sim\": 7, \"count\": 1, \"fraction0\": 58.065, \"q\": \"0.65p\"}, {\"sim\": 7, \"count\": 1, \"fraction0\": 28.0, \"q\": \"0.65p\"}, {\"sim\": 7, \"count\": 1, \"fraction0\": 63.889, \"q\": \"0.65p\"}, {\"sim\": 7, \"count\": 1, \"fraction0\": 34.615, \"q\": \"0.65p\"}, {\"sim\": 7, \"count\": 2, \"fraction0\": 45.714, \"q\": \"0.65p\"}, {\"sim\": 7, \"count\": 1, \"fraction0\": 38.235, \"q\": \"0.65p\"}, {\"sim\": 7, \"count\": 1, \"fraction0\": 56.667, \"q\": \"0.65p\"}, {\"sim\": 7, \"count\": 1, \"fraction0\": 40.0, \"q\": \"0.65p\"}, {\"sim\": 7, \"count\": 1, \"fraction0\": 65.0, \"q\": \"0.65p\"}, {\"sim\": 7, \"count\": 1, \"fraction0\": 79.412, \"q\": \"0.65p\"}, {\"sim\": 7, \"count\": 1, \"fraction0\": 42.424, \"q\": \"0.65p\"}, {\"sim\": 7, \"count\": 1, \"fraction0\": 34.783, \"q\": \"0.65p\"}, {\"sim\": 7, \"count\": 1, \"fraction0\": 41.379, \"q\": \"0.65p\"}, {\"sim\": 7, \"count\": 2, \"fraction0\": 52.174, \"q\": \"0.65p\"}, {\"sim\": 7, \"count\": 1, \"fraction0\": 30.435, \"q\": \"0.65p\"}, {\"sim\": 7, \"count\": 1, \"fraction0\": 48.0, \"q\": \"0.65p\"}, {\"sim\": 7, \"count\": 1, \"fraction0\": 70.833, \"q\": \"0.65p\"}, {\"sim\": 7, \"count\": 1, \"fraction0\": 73.684, \"q\": \"0.65p\"}, {\"sim\": 7, \"count\": 2, \"fraction0\": 51.613, \"q\": \"0.65p\"}, {\"sim\": 7, \"count\": 1, \"fraction0\": 44.828, \"q\": \"0.65p\"}, {\"sim\": 7, \"count\": 1, \"fraction0\": 27.273, \"q\": \"0.65p\"}, {\"sim\": 7, \"count\": 1, \"fraction0\": 60.606, \"q\": \"0.65p\"}, {\"sim\": 7, \"count\": 2, \"fraction0\": 47.059, \"q\": \"0.65p\"}, {\"sim\": 7, \"count\": 1, \"fraction0\": 39.13, \"q\": \"0.65p\"}, {\"sim\": 7, \"count\": 1, \"fraction0\": 61.29, \"q\": \"0.65p\"}, {\"sim\": 7, \"count\": 1, \"fraction0\": 48.387, \"q\": \"0.65p\"}, {\"sim\": 7, \"count\": 1, \"fraction0\": 61.905, \"q\": \"0.65p\"}, {\"sim\": 7, \"count\": 1, \"fraction0\": 15.789, \"q\": \"0.65p\"}, {\"sim\": 7, \"count\": 1, \"fraction0\": 36.842, \"q\": \"0.65p\"}, {\"sim\": 7, \"count\": 1, \"fraction0\": 58.621, \"q\": \"0.65p\"}, {\"sim\": 7, \"count\": 1, \"fraction0\": 72.222, \"q\": \"0.65p\"}, {\"sim\": 7, \"count\": 1, \"fraction0\": 34.483, \"q\": \"0.65p\"}, {\"sim\": 7, \"count\": 1, \"fraction0\": 63.158, \"q\": \"0.65p\"}, {\"sim\": 7, \"count\": 1, \"fraction0\": 44.118, \"q\": \"0.65p\"}, {\"sim\": 8, \"count\": 2, \"fraction0\": 26.923, \"q\": \"0.6p\"}, {\"sim\": 8, \"count\": 1, \"fraction0\": 61.29, \"q\": \"0.6p\"}, {\"sim\": 8, \"count\": 1, \"fraction0\": 29.412, \"q\": \"0.6p\"}, {\"sim\": 8, \"count\": 1, \"fraction0\": 38.235, \"q\": \"0.6p\"}, {\"sim\": 8, \"count\": 2, \"fraction0\": 63.333, \"q\": \"0.6p\"}, {\"sim\": 8, \"count\": 5, \"fraction0\": 42.857, \"q\": \"0.6p\"}, {\"sim\": 8, \"count\": 1, \"fraction0\": 30.435, \"q\": \"0.6p\"}, {\"sim\": 8, \"count\": 1, \"fraction0\": 51.22, \"q\": \"0.6p\"}, {\"sim\": 8, \"count\": 5, \"fraction0\": 54.545, \"q\": \"0.6p\"}, {\"sim\": 8, \"count\": 1, \"fraction0\": 37.931, \"q\": \"0.6p\"}, {\"sim\": 8, \"count\": 2, \"fraction0\": 39.286, \"q\": \"0.6p\"}, {\"sim\": 8, \"count\": 5, \"fraction0\": 60.0, \"q\": \"0.6p\"}, {\"sim\": 8, \"count\": 15, \"fraction0\": 50.0, \"q\": \"0.6p\"}, {\"sim\": 8, \"count\": 1, \"fraction0\": 51.515, \"q\": \"0.6p\"}, {\"sim\": 8, \"count\": 7, \"fraction0\": 44.444, \"q\": \"0.6p\"}, {\"sim\": 8, \"count\": 1, \"fraction0\": 34.483, \"q\": \"0.6p\"}, {\"sim\": 8, \"count\": 1, \"fraction0\": 53.571, \"q\": \"0.6p\"}, {\"sim\": 8, \"count\": 3, \"fraction0\": 57.576, \"q\": \"0.6p\"}, {\"sim\": 8, \"count\": 4, \"fraction0\": 47.826, \"q\": \"0.6p\"}, {\"sim\": 8, \"count\": 4, \"fraction0\": 40.0, \"q\": \"0.6p\"}, {\"sim\": 8, \"count\": 3, \"fraction0\": 60.714, \"q\": \"0.6p\"}, {\"sim\": 8, \"count\": 4, \"fraction0\": 37.5, \"q\": \"0.6p\"}, {\"sim\": 8, \"count\": 2, \"fraction0\": 38.095, \"q\": \"0.6p\"}, {\"sim\": 8, \"count\": 2, \"fraction0\": 52.381, \"q\": \"0.6p\"}, {\"sim\": 8, \"count\": 3, \"fraction0\": 47.059, \"q\": \"0.6p\"}, {\"sim\": 8, \"count\": 1, \"fraction0\": 42.105, \"q\": \"0.6p\"}, {\"sim\": 8, \"count\": 2, \"fraction0\": 52.941, \"q\": \"0.6p\"}, {\"sim\": 8, \"count\": 2, \"fraction0\": 58.333, \"q\": \"0.6p\"}, {\"sim\": 8, \"count\": 2, \"fraction0\": 59.259, \"q\": \"0.6p\"}, {\"sim\": 8, \"count\": 4, \"fraction0\": 48.387, \"q\": \"0.6p\"}, {\"sim\": 8, \"count\": 2, \"fraction0\": 52.174, \"q\": \"0.6p\"}, {\"sim\": 8, \"count\": 1, \"fraction0\": 34.615, \"q\": \"0.6p\"}, {\"sim\": 8, \"count\": 1, \"fraction0\": 34.375, \"q\": \"0.6p\"}, {\"sim\": 8, \"count\": 5, \"fraction0\": 66.667, \"q\": \"0.6p\"}, {\"sim\": 8, \"count\": 3, \"fraction0\": 44.0, \"q\": \"0.6p\"}, {\"sim\": 8, \"count\": 1, \"fraction0\": 71.429, \"q\": \"0.6p\"}, {\"sim\": 8, \"count\": 4, \"fraction0\": 45.455, \"q\": \"0.6p\"}, {\"sim\": 8, \"count\": 1, \"fraction0\": 55.0, \"q\": \"0.6p\"}, {\"sim\": 8, \"count\": 3, \"fraction0\": 42.308, \"q\": \"0.6p\"}, {\"sim\": 8, \"count\": 1, \"fraction0\": 75.0, \"q\": \"0.6p\"}, {\"sim\": 8, \"count\": 2, \"fraction0\": 56.522, \"q\": \"0.6p\"}, {\"sim\": 8, \"count\": 3, \"fraction0\": 70.37, \"q\": \"0.6p\"}, {\"sim\": 8, \"count\": 2, \"fraction0\": 24.0, \"q\": \"0.6p\"}, {\"sim\": 8, \"count\": 1, \"fraction0\": 41.379, \"q\": \"0.6p\"}, {\"sim\": 8, \"count\": 4, \"fraction0\": 41.667, \"q\": \"0.6p\"}, {\"sim\": 8, \"count\": 1, \"fraction0\": 58.974, \"q\": \"0.6p\"}, {\"sim\": 8, \"count\": 1, \"fraction0\": 36.667, \"q\": \"0.6p\"}, {\"sim\": 8, \"count\": 1, \"fraction0\": 21.212, \"q\": \"0.6p\"}, {\"sim\": 8, \"count\": 3, \"fraction0\": 48.148, \"q\": \"0.6p\"}, {\"sim\": 8, \"count\": 1, \"fraction0\": 20.69, \"q\": \"0.6p\"}, {\"sim\": 8, \"count\": 2, \"fraction0\": 40.909, \"q\": \"0.6p\"}, {\"sim\": 8, \"count\": 2, \"fraction0\": 57.692, \"q\": \"0.6p\"}, {\"sim\": 8, \"count\": 1, \"fraction0\": 22.581, \"q\": \"0.6p\"}, {\"sim\": 8, \"count\": 4, \"fraction0\": 56.0, \"q\": \"0.6p\"}, {\"sim\": 8, \"count\": 2, \"fraction0\": 69.231, \"q\": \"0.6p\"}, {\"sim\": 8, \"count\": 4, \"fraction0\": 58.065, \"q\": \"0.6p\"}, {\"sim\": 8, \"count\": 1, \"fraction0\": 27.273, \"q\": \"0.6p\"}, {\"sim\": 8, \"count\": 3, \"fraction0\": 51.852, \"q\": \"0.6p\"}, {\"sim\": 8, \"count\": 2, \"fraction0\": 78.261, \"q\": \"0.6p\"}, {\"sim\": 8, \"count\": 3, \"fraction0\": 45.0, \"q\": \"0.6p\"}, {\"sim\": 8, \"count\": 3, \"fraction0\": 48.276, \"q\": \"0.6p\"}, {\"sim\": 8, \"count\": 1, \"fraction0\": 30.0, \"q\": \"0.6p\"}, {\"sim\": 8, \"count\": 1, \"fraction0\": 43.333, \"q\": \"0.6p\"}, {\"sim\": 8, \"count\": 1, \"fraction0\": 45.714, \"q\": \"0.6p\"}, {\"sim\": 8, \"count\": 2, \"fraction0\": 55.172, \"q\": \"0.6p\"}, {\"sim\": 8, \"count\": 2, \"fraction0\": 38.462, \"q\": \"0.6p\"}, {\"sim\": 8, \"count\": 4, \"fraction0\": 57.143, \"q\": \"0.6p\"}, {\"sim\": 8, \"count\": 1, \"fraction0\": 46.154, \"q\": \"0.6p\"}, {\"sim\": 8, \"count\": 2, \"fraction0\": 59.091, \"q\": \"0.6p\"}, {\"sim\": 8, \"count\": 3, \"fraction0\": 48.0, \"q\": \"0.6p\"}, {\"sim\": 8, \"count\": 1, \"fraction0\": 75.862, \"q\": \"0.6p\"}, {\"sim\": 8, \"count\": 1, \"fraction0\": 21.739, \"q\": \"0.6p\"}, {\"sim\": 8, \"count\": 1, \"fraction0\": 65.385, \"q\": \"0.6p\"}, {\"sim\": 8, \"count\": 4, \"fraction0\": 52.0, \"q\": \"0.6p\"}, {\"sim\": 8, \"count\": 1, \"fraction0\": 45.161, \"q\": \"0.6p\"}, {\"sim\": 8, \"count\": 1, \"fraction0\": 88.0, \"q\": \"0.6p\"}, {\"sim\": 8, \"count\": 5, \"fraction0\": 43.478, \"q\": \"0.6p\"}, {\"sim\": 8, \"count\": 1, \"fraction0\": 64.286, \"q\": \"0.6p\"}, {\"sim\": 8, \"count\": 3, \"fraction0\": 53.846, \"q\": \"0.6p\"}, {\"sim\": 8, \"count\": 1, \"fraction0\": 60.87, \"q\": \"0.6p\"}, {\"sim\": 8, \"count\": 1, \"fraction0\": 43.75, \"q\": \"0.6p\"}, {\"sim\": 8, \"count\": 2, \"fraction0\": 31.25, \"q\": \"0.6p\"}, {\"sim\": 8, \"count\": 1, \"fraction0\": 16.667, \"q\": \"0.6p\"}, {\"sim\": 8, \"count\": 1, \"fraction0\": 70.0, \"q\": \"0.6p\"}, {\"sim\": 8, \"count\": 1, \"fraction0\": 72.0, \"q\": \"0.6p\"}, {\"sim\": 8, \"count\": 1, \"fraction0\": 32.143, \"q\": \"0.6p\"}, {\"sim\": 8, \"count\": 1, \"fraction0\": 58.537, \"q\": \"0.6p\"}, {\"sim\": 8, \"count\": 1, \"fraction0\": 61.111, \"q\": \"0.6p\"}, {\"sim\": 8, \"count\": 1, \"fraction0\": 55.556, \"q\": \"0.6p\"}, {\"sim\": 8, \"count\": 4, \"fraction0\": 33.333, \"q\": \"0.6p\"}, {\"sim\": 8, \"count\": 2, \"fraction0\": 40.741, \"q\": \"0.6p\"}, {\"sim\": 8, \"count\": 1, \"fraction0\": 47.368, \"q\": \"0.6p\"}, {\"sim\": 8, \"count\": 1, \"fraction0\": 81.818, \"q\": \"0.6p\"}, {\"sim\": 8, \"count\": 1, \"fraction0\": 86.957, \"q\": \"0.6p\"}, {\"sim\": 8, \"count\": 1, \"fraction0\": 46.429, \"q\": \"0.6p\"}, {\"sim\": 8, \"count\": 1, \"fraction0\": 62.5, \"q\": \"0.6p\"}, {\"sim\": 8, \"count\": 1, \"fraction0\": 84.0, \"q\": \"0.6p\"}, {\"sim\": 8, \"count\": 2, \"fraction0\": 63.158, \"q\": \"0.6p\"}, {\"sim\": 8, \"count\": 1, \"fraction0\": 31.579, \"q\": \"0.6p\"}, {\"sim\": 8, \"count\": 2, \"fraction0\": 44.828, \"q\": \"0.6p\"}, {\"sim\": 8, \"count\": 1, \"fraction0\": 56.25, \"q\": \"0.6p\"}, {\"sim\": 8, \"count\": 1, \"fraction0\": 39.13, \"q\": \"0.6p\"}, {\"sim\": 8, \"count\": 1, \"fraction0\": 52.632, \"q\": \"0.6p\"}, {\"sim\": 8, \"count\": 2, \"fraction0\": 58.824, \"q\": \"0.6p\"}, {\"sim\": 8, \"count\": 2, \"fraction0\": 38.889, \"q\": \"0.6p\"}, {\"sim\": 8, \"count\": 1, \"fraction0\": 70.588, \"q\": \"0.6p\"}, {\"sim\": 8, \"count\": 1, \"fraction0\": 76.19, \"q\": \"0.6p\"}, {\"sim\": 8, \"count\": 1, \"fraction0\": 48.485, \"q\": \"0.6p\"}, {\"sim\": 8, \"count\": 1, \"fraction0\": 29.167, \"q\": \"0.6p\"}, {\"sim\": 8, \"count\": 2, \"fraction0\": 51.613, \"q\": \"0.6p\"}, {\"sim\": 8, \"count\": 1, \"fraction0\": 46.875, \"q\": \"0.6p\"}, {\"sim\": 8, \"count\": 1, \"fraction0\": 76.923, \"q\": \"0.6p\"}, {\"sim\": 8, \"count\": 1, \"fraction0\": 34.783, \"q\": \"0.6p\"}, {\"sim\": 8, \"count\": 1, \"fraction0\": 62.963, \"q\": \"0.6p\"}, {\"sim\": 8, \"count\": 1, \"fraction0\": 54.167, \"q\": \"0.6p\"}, {\"sim\": 8, \"count\": 1, \"fraction0\": 45.833, \"q\": \"0.6p\"}, {\"sim\": 8, \"count\": 1, \"fraction0\": 13.636, \"q\": \"0.6p\"}, {\"sim\": 8, \"count\": 1, \"fraction0\": 82.353, \"q\": \"0.6p\"}, {\"sim\": 8, \"count\": 1, \"fraction0\": 62.069, \"q\": \"0.6p\"}, {\"sim\": 8, \"count\": 1, \"fraction0\": 64.706, \"q\": \"0.6p\"}, {\"sim\": 8, \"count\": 1, \"fraction0\": 26.316, \"q\": \"0.6p\"}, {\"sim\": 8, \"count\": 1, \"fraction0\": 28.125, \"q\": \"0.6p\"}, {\"sim\": 8, \"count\": 1, \"fraction0\": 73.684, \"q\": \"0.6p\"}, {\"sim\": 8, \"count\": 1, \"fraction0\": 35.484, \"q\": \"0.6p\"}, {\"sim\": 8, \"count\": 1, \"fraction0\": 28.0, \"q\": \"0.6p\"}, {\"sim\": 8, \"count\": 1, \"fraction0\": 36.0, \"q\": \"0.6p\"}, {\"sim\": 8, \"count\": 1, \"fraction0\": 41.176, \"q\": \"0.6p\"}, {\"sim\": 8, \"count\": 1, \"fraction0\": 70.833, \"q\": \"0.6p\"}, {\"sim\": 9, \"count\": 3, \"fraction0\": 55.556, \"q\": \"0.55p\"}, {\"sim\": 9, \"count\": 4, \"fraction0\": 52.174, \"q\": \"0.55p\"}, {\"sim\": 9, \"count\": 1, \"fraction0\": 57.895, \"q\": \"0.55p\"}, {\"sim\": 9, \"count\": 1, \"fraction0\": 35.0, \"q\": \"0.55p\"}, {\"sim\": 9, \"count\": 1, \"fraction0\": 38.71, \"q\": \"0.55p\"}, {\"sim\": 9, \"count\": 2, \"fraction0\": 67.742, \"q\": \"0.55p\"}, {\"sim\": 9, \"count\": 2, \"fraction0\": 52.0, \"q\": \"0.55p\"}, {\"sim\": 9, \"count\": 6, \"fraction0\": 33.333, \"q\": \"0.55p\"}, {\"sim\": 9, \"count\": 4, \"fraction0\": 54.545, \"q\": \"0.55p\"}, {\"sim\": 9, \"count\": 1, \"fraction0\": 34.783, \"q\": \"0.55p\"}, {\"sim\": 9, \"count\": 1, \"fraction0\": 84.0, \"q\": \"0.55p\"}, {\"sim\": 9, \"count\": 1, \"fraction0\": 67.647, \"q\": \"0.55p\"}, {\"sim\": 9, \"count\": 1, \"fraction0\": 46.667, \"q\": \"0.55p\"}, {\"sim\": 9, \"count\": 1, \"fraction0\": 68.0, \"q\": \"0.55p\"}, {\"sim\": 9, \"count\": 1, \"fraction0\": 44.0, \"q\": \"0.55p\"}, {\"sim\": 9, \"count\": 3, \"fraction0\": 47.059, \"q\": \"0.55p\"}, {\"sim\": 9, \"count\": 18, \"fraction0\": 50.0, \"q\": \"0.55p\"}, {\"sim\": 9, \"count\": 2, \"fraction0\": 44.828, \"q\": \"0.55p\"}, {\"sim\": 9, \"count\": 1, \"fraction0\": 78.125, \"q\": \"0.55p\"}, {\"sim\": 9, \"count\": 3, \"fraction0\": 78.571, \"q\": \"0.55p\"}, {\"sim\": 9, \"count\": 2, \"fraction0\": 53.125, \"q\": \"0.55p\"}, {\"sim\": 9, \"count\": 5, \"fraction0\": 45.0, \"q\": \"0.55p\"}, {\"sim\": 9, \"count\": 1, \"fraction0\": 54.839, \"q\": \"0.55p\"}, {\"sim\": 9, \"count\": 2, \"fraction0\": 77.778, \"q\": \"0.55p\"}, {\"sim\": 9, \"count\": 2, \"fraction0\": 57.143, \"q\": \"0.55p\"}, {\"sim\": 9, \"count\": 3, \"fraction0\": 31.818, \"q\": \"0.55p\"}, {\"sim\": 9, \"count\": 2, \"fraction0\": 46.154, \"q\": \"0.55p\"}, {\"sim\": 9, \"count\": 3, \"fraction0\": 58.333, \"q\": \"0.55p\"}, {\"sim\": 9, \"count\": 3, \"fraction0\": 42.857, \"q\": \"0.55p\"}, {\"sim\": 9, \"count\": 4, \"fraction0\": 53.846, \"q\": \"0.55p\"}, {\"sim\": 9, \"count\": 2, \"fraction0\": 51.852, \"q\": \"0.55p\"}, {\"sim\": 9, \"count\": 1, \"fraction0\": 62.857, \"q\": \"0.55p\"}, {\"sim\": 9, \"count\": 1, \"fraction0\": 53.333, \"q\": \"0.55p\"}, {\"sim\": 9, \"count\": 1, \"fraction0\": 47.826, \"q\": \"0.55p\"}, {\"sim\": 9, \"count\": 1, \"fraction0\": 63.158, \"q\": \"0.55p\"}, {\"sim\": 9, \"count\": 3, \"fraction0\": 48.276, \"q\": \"0.55p\"}, {\"sim\": 9, \"count\": 2, \"fraction0\": 40.0, \"q\": \"0.55p\"}, {\"sim\": 9, \"count\": 2, \"fraction0\": 56.0, \"q\": \"0.55p\"}, {\"sim\": 9, \"count\": 1, \"fraction0\": 40.909, \"q\": \"0.55p\"}, {\"sim\": 9, \"count\": 2, \"fraction0\": 54.167, \"q\": \"0.55p\"}, {\"sim\": 9, \"count\": 2, \"fraction0\": 70.0, \"q\": \"0.55p\"}, {\"sim\": 9, \"count\": 2, \"fraction0\": 65.0, \"q\": \"0.55p\"}, {\"sim\": 9, \"count\": 1, \"fraction0\": 30.435, \"q\": \"0.55p\"}, {\"sim\": 9, \"count\": 3, \"fraction0\": 45.455, \"q\": \"0.55p\"}, {\"sim\": 9, \"count\": 4, \"fraction0\": 75.0, \"q\": \"0.55p\"}, {\"sim\": 9, \"count\": 2, \"fraction0\": 65.217, \"q\": \"0.55p\"}, {\"sim\": 9, \"count\": 3, \"fraction0\": 66.667, \"q\": \"0.55p\"}, {\"sim\": 9, \"count\": 3, \"fraction0\": 63.636, \"q\": \"0.55p\"}, {\"sim\": 9, \"count\": 1, \"fraction0\": 26.087, \"q\": \"0.55p\"}, {\"sim\": 9, \"count\": 4, \"fraction0\": 44.444, \"q\": \"0.55p\"}, {\"sim\": 9, \"count\": 1, \"fraction0\": 45.161, \"q\": \"0.55p\"}, {\"sim\": 9, \"count\": 3, \"fraction0\": 52.381, \"q\": \"0.55p\"}, {\"sim\": 9, \"count\": 2, \"fraction0\": 38.462, \"q\": \"0.55p\"}, {\"sim\": 9, \"count\": 1, \"fraction0\": 68.421, \"q\": \"0.55p\"}, {\"sim\": 9, \"count\": 1, \"fraction0\": 11.765, \"q\": \"0.55p\"}, {\"sim\": 9, \"count\": 2, \"fraction0\": 70.833, \"q\": \"0.55p\"}, {\"sim\": 9, \"count\": 1, \"fraction0\": 22.222, \"q\": \"0.55p\"}, {\"sim\": 9, \"count\": 1, \"fraction0\": 72.222, \"q\": \"0.55p\"}, {\"sim\": 9, \"count\": 1, \"fraction0\": 48.936, \"q\": \"0.55p\"}, {\"sim\": 9, \"count\": 5, \"fraction0\": 37.5, \"q\": \"0.55p\"}, {\"sim\": 9, \"count\": 2, \"fraction0\": 64.0, \"q\": \"0.55p\"}, {\"sim\": 9, \"count\": 1, \"fraction0\": 86.957, \"q\": \"0.55p\"}, {\"sim\": 9, \"count\": 2, \"fraction0\": 38.889, \"q\": \"0.55p\"}, {\"sim\": 9, \"count\": 1, \"fraction0\": 34.375, \"q\": \"0.55p\"}, {\"sim\": 9, \"count\": 1, \"fraction0\": 20.0, \"q\": \"0.55p\"}, {\"sim\": 9, \"count\": 6, \"fraction0\": 48.0, \"q\": \"0.55p\"}, {\"sim\": 9, \"count\": 1, \"fraction0\": 52.941, \"q\": \"0.55p\"}, {\"sim\": 9, \"count\": 4, \"fraction0\": 43.478, \"q\": \"0.55p\"}, {\"sim\": 9, \"count\": 2, \"fraction0\": 41.379, \"q\": \"0.55p\"}, {\"sim\": 9, \"count\": 6, \"fraction0\": 60.0, \"q\": \"0.55p\"}, {\"sim\": 9, \"count\": 1, \"fraction0\": 25.0, \"q\": \"0.55p\"}, {\"sim\": 9, \"count\": 1, \"fraction0\": 63.333, \"q\": \"0.55p\"}, {\"sim\": 9, \"count\": 1, \"fraction0\": 94.118, \"q\": \"0.55p\"}, {\"sim\": 9, \"count\": 1, \"fraction0\": 27.778, \"q\": \"0.55p\"}, {\"sim\": 9, \"count\": 1, \"fraction0\": 56.25, \"q\": \"0.55p\"}, {\"sim\": 9, \"count\": 1, \"fraction0\": 62.963, \"q\": \"0.55p\"}, {\"sim\": 9, \"count\": 2, \"fraction0\": 55.172, \"q\": \"0.55p\"}, {\"sim\": 9, \"count\": 4, \"fraction0\": 47.368, \"q\": \"0.55p\"}, {\"sim\": 9, \"count\": 1, \"fraction0\": 57.692, \"q\": \"0.55p\"}, {\"sim\": 9, \"count\": 4, \"fraction0\": 73.913, \"q\": \"0.55p\"}, {\"sim\": 9, \"count\": 1, \"fraction0\": 31.034, \"q\": \"0.55p\"}, {\"sim\": 9, \"count\": 4, \"fraction0\": 41.667, \"q\": \"0.55p\"}, {\"sim\": 9, \"count\": 1, \"fraction0\": 14.286, \"q\": \"0.55p\"}, {\"sim\": 9, \"count\": 2, \"fraction0\": 67.857, \"q\": \"0.55p\"}, {\"sim\": 9, \"count\": 1, \"fraction0\": 57.576, \"q\": \"0.55p\"}, {\"sim\": 9, \"count\": 2, \"fraction0\": 61.905, \"q\": \"0.55p\"}, {\"sim\": 9, \"count\": 5, \"fraction0\": 45.833, \"q\": \"0.55p\"}, {\"sim\": 9, \"count\": 2, \"fraction0\": 85.0, \"q\": \"0.55p\"}, {\"sim\": 9, \"count\": 2, \"fraction0\": 64.286, \"q\": \"0.55p\"}, {\"sim\": 9, \"count\": 1, \"fraction0\": 39.13, \"q\": \"0.55p\"}, {\"sim\": 9, \"count\": 2, \"fraction0\": 73.684, \"q\": \"0.55p\"}, {\"sim\": 9, \"count\": 2, \"fraction0\": 76.471, \"q\": \"0.55p\"}, {\"sim\": 9, \"count\": 1, \"fraction0\": 27.273, \"q\": \"0.55p\"}, {\"sim\": 9, \"count\": 1, \"fraction0\": 42.308, \"q\": \"0.55p\"}, {\"sim\": 9, \"count\": 1, \"fraction0\": 41.176, \"q\": \"0.55p\"}, {\"sim\": 9, \"count\": 2, \"fraction0\": 68.75, \"q\": \"0.55p\"}, {\"sim\": 9, \"count\": 2, \"fraction0\": 48.148, \"q\": \"0.55p\"}, {\"sim\": 9, \"count\": 1, \"fraction0\": 59.091, \"q\": \"0.55p\"}, {\"sim\": 9, \"count\": 2, \"fraction0\": 73.077, \"q\": \"0.55p\"}, {\"sim\": 9, \"count\": 1, \"fraction0\": 58.621, \"q\": \"0.55p\"}, {\"sim\": 9, \"count\": 1, \"fraction0\": 36.667, \"q\": \"0.55p\"}, {\"sim\": 9, \"count\": 1, \"fraction0\": 69.565, \"q\": \"0.55p\"}, {\"sim\": 9, \"count\": 2, \"fraction0\": 28.571, \"q\": \"0.55p\"}, {\"sim\": 9, \"count\": 2, \"fraction0\": 36.0, \"q\": \"0.55p\"}, {\"sim\": 9, \"count\": 2, \"fraction0\": 65.385, \"q\": \"0.55p\"}, {\"sim\": 9, \"count\": 2, \"fraction0\": 46.875, \"q\": \"0.55p\"}, {\"sim\": 9, \"count\": 1, \"fraction0\": 32.143, \"q\": \"0.55p\"}, {\"sim\": 9, \"count\": 1, \"fraction0\": 32.432, \"q\": \"0.55p\"}, {\"sim\": 9, \"count\": 1, \"fraction0\": 61.111, \"q\": \"0.55p\"}, {\"sim\": 9, \"count\": 2, \"fraction0\": 60.87, \"q\": \"0.55p\"}, {\"sim\": 9, \"count\": 1, \"fraction0\": 39.286, \"q\": \"0.55p\"}, {\"sim\": 9, \"count\": 1, \"fraction0\": 69.231, \"q\": \"0.55p\"}, {\"sim\": 9, \"count\": 1, \"fraction0\": 30.769, \"q\": \"0.55p\"}, {\"sim\": 9, \"count\": 1, \"fraction0\": 34.615, \"q\": \"0.55p\"}, {\"sim\": 9, \"count\": 1, \"fraction0\": 61.538, \"q\": \"0.55p\"}, {\"sim\": 9, \"count\": 1, \"fraction0\": 35.714, \"q\": \"0.55p\"}, {\"sim\": 9, \"count\": 1, \"fraction0\": 68.182, \"q\": \"0.55p\"}, {\"sim\": 9, \"count\": 1, \"fraction0\": 59.259, \"q\": \"0.55p\"}, {\"sim\": 9, \"count\": 1, \"fraction0\": 37.931, \"q\": \"0.55p\"}, {\"sim\": 9, \"count\": 1, \"fraction0\": 30.0, \"q\": \"0.55p\"}, {\"sim\": 9, \"count\": 1, \"fraction0\": 64.865, \"q\": \"0.55p\"}, {\"sim\": 9, \"count\": 1, \"fraction0\": 31.579, \"q\": \"0.55p\"}, {\"sim\": 9, \"count\": 1, \"fraction0\": 65.625, \"q\": \"0.55p\"}, {\"sim\": 10, \"count\": 1, \"fraction0\": 38.235, \"q\": \"0.5p\"}, {\"sim\": 10, \"count\": 5, \"fraction0\": 25.0, \"q\": \"0.5p\"}, {\"sim\": 10, \"count\": 3, \"fraction0\": 38.71, \"q\": \"0.5p\"}, {\"sim\": 10, \"count\": 2, \"fraction0\": 28.0, \"q\": \"0.5p\"}, {\"sim\": 10, \"count\": 2, \"fraction0\": 46.429, \"q\": \"0.5p\"}, {\"sim\": 10, \"count\": 2, \"fraction0\": 38.889, \"q\": \"0.5p\"}, {\"sim\": 10, \"count\": 3, \"fraction0\": 47.826, \"q\": \"0.5p\"}, {\"sim\": 10, \"count\": 13, \"fraction0\": 50.0, \"q\": \"0.5p\"}, {\"sim\": 10, \"count\": 1, \"fraction0\": 69.565, \"q\": \"0.5p\"}, {\"sim\": 10, \"count\": 1, \"fraction0\": 68.182, \"q\": \"0.5p\"}, {\"sim\": 10, \"count\": 8, \"fraction0\": 66.667, \"q\": \"0.5p\"}, {\"sim\": 10, \"count\": 4, \"fraction0\": 57.143, \"q\": \"0.5p\"}, {\"sim\": 10, \"count\": 1, \"fraction0\": 55.0, \"q\": \"0.5p\"}, {\"sim\": 10, \"count\": 1, \"fraction0\": 44.0, \"q\": \"0.5p\"}, {\"sim\": 10, \"count\": 1, \"fraction0\": 38.462, \"q\": \"0.5p\"}, {\"sim\": 10, \"count\": 4, \"fraction0\": 42.105, \"q\": \"0.5p\"}, {\"sim\": 10, \"count\": 6, \"fraction0\": 47.368, \"q\": \"0.5p\"}, {\"sim\": 10, \"count\": 2, \"fraction0\": 37.931, \"q\": \"0.5p\"}, {\"sim\": 10, \"count\": 4, \"fraction0\": 40.909, \"q\": \"0.5p\"}, {\"sim\": 10, \"count\": 2, \"fraction0\": 52.632, \"q\": \"0.5p\"}, {\"sim\": 10, \"count\": 1, \"fraction0\": 22.727, \"q\": \"0.5p\"}, {\"sim\": 10, \"count\": 5, \"fraction0\": 53.846, \"q\": \"0.5p\"}, {\"sim\": 10, \"count\": 4, \"fraction0\": 53.571, \"q\": \"0.5p\"}, {\"sim\": 10, \"count\": 1, \"fraction0\": 67.647, \"q\": \"0.5p\"}, {\"sim\": 10, \"count\": 2, \"fraction0\": 45.0, \"q\": \"0.5p\"}, {\"sim\": 10, \"count\": 1, \"fraction0\": 36.667, \"q\": \"0.5p\"}, {\"sim\": 10, \"count\": 2, \"fraction0\": 42.857, \"q\": \"0.5p\"}, {\"sim\": 10, \"count\": 6, \"fraction0\": 45.455, \"q\": \"0.5p\"}, {\"sim\": 10, \"count\": 1, \"fraction0\": 46.667, \"q\": \"0.5p\"}, {\"sim\": 10, \"count\": 3, \"fraction0\": 60.87, \"q\": \"0.5p\"}, {\"sim\": 10, \"count\": 1, \"fraction0\": 16.667, \"q\": \"0.5p\"}, {\"sim\": 10, \"count\": 4, \"fraction0\": 57.692, \"q\": \"0.5p\"}, {\"sim\": 10, \"count\": 2, \"fraction0\": 65.217, \"q\": \"0.5p\"}, {\"sim\": 10, \"count\": 7, \"fraction0\": 33.333, \"q\": \"0.5p\"}, {\"sim\": 10, \"count\": 2, \"fraction0\": 62.5, \"q\": \"0.5p\"}, {\"sim\": 10, \"count\": 1, \"fraction0\": 31.25, \"q\": \"0.5p\"}, {\"sim\": 10, \"count\": 2, \"fraction0\": 76.19, \"q\": \"0.5p\"}, {\"sim\": 10, \"count\": 2, \"fraction0\": 78.261, \"q\": \"0.5p\"}, {\"sim\": 10, \"count\": 1, \"fraction0\": 61.538, \"q\": \"0.5p\"}, {\"sim\": 10, \"count\": 1, \"fraction0\": 15.0, \"q\": \"0.5p\"}, {\"sim\": 10, \"count\": 1, \"fraction0\": 12.5, \"q\": \"0.5p\"}, {\"sim\": 10, \"count\": 2, \"fraction0\": 78.947, \"q\": \"0.5p\"}, {\"sim\": 10, \"count\": 1, \"fraction0\": 13.889, \"q\": \"0.5p\"}, {\"sim\": 10, \"count\": 1, \"fraction0\": 68.421, \"q\": \"0.5p\"}, {\"sim\": 10, \"count\": 1, \"fraction0\": 36.842, \"q\": \"0.5p\"}, {\"sim\": 10, \"count\": 1, \"fraction0\": 70.588, \"q\": \"0.5p\"}, {\"sim\": 10, \"count\": 2, \"fraction0\": 44.828, \"q\": \"0.5p\"}, {\"sim\": 10, \"count\": 1, \"fraction0\": 61.29, \"q\": \"0.5p\"}, {\"sim\": 10, \"count\": 1, \"fraction0\": 27.273, \"q\": \"0.5p\"}, {\"sim\": 10, \"count\": 2, \"fraction0\": 59.259, \"q\": \"0.5p\"}, {\"sim\": 10, \"count\": 6, \"fraction0\": 44.444, \"q\": \"0.5p\"}, {\"sim\": 10, \"count\": 3, \"fraction0\": 30.435, \"q\": \"0.5p\"}, {\"sim\": 10, \"count\": 4, \"fraction0\": 63.636, \"q\": \"0.5p\"}, {\"sim\": 10, \"count\": 2, \"fraction0\": 30.769, \"q\": \"0.5p\"}, {\"sim\": 10, \"count\": 3, \"fraction0\": 29.63, \"q\": \"0.5p\"}, {\"sim\": 10, \"count\": 1, \"fraction0\": 19.231, \"q\": \"0.5p\"}, {\"sim\": 10, \"count\": 1, \"fraction0\": 36.0, \"q\": \"0.5p\"}, {\"sim\": 10, \"count\": 2, \"fraction0\": 52.941, \"q\": \"0.5p\"}, {\"sim\": 10, \"count\": 5, \"fraction0\": 59.091, \"q\": \"0.5p\"}, {\"sim\": 10, \"count\": 1, \"fraction0\": 54.167, \"q\": \"0.5p\"}, {\"sim\": 10, \"count\": 2, \"fraction0\": 52.174, \"q\": \"0.5p\"}, {\"sim\": 10, \"count\": 1, \"fraction0\": 52.0, \"q\": \"0.5p\"}, {\"sim\": 10, \"count\": 2, \"fraction0\": 46.875, \"q\": \"0.5p\"}, {\"sim\": 10, \"count\": 2, \"fraction0\": 32.0, \"q\": \"0.5p\"}, {\"sim\": 10, \"count\": 1, \"fraction0\": 20.0, \"q\": \"0.5p\"}, {\"sim\": 10, \"count\": 4, \"fraction0\": 40.0, \"q\": \"0.5p\"}, {\"sim\": 10, \"count\": 3, \"fraction0\": 45.833, \"q\": \"0.5p\"}, {\"sim\": 10, \"count\": 5, \"fraction0\": 40.741, \"q\": \"0.5p\"}, {\"sim\": 10, \"count\": 1, \"fraction0\": 64.286, \"q\": \"0.5p\"}, {\"sim\": 10, \"count\": 2, \"fraction0\": 71.429, \"q\": \"0.5p\"}, {\"sim\": 10, \"count\": 1, \"fraction0\": 70.37, \"q\": \"0.5p\"}, {\"sim\": 10, \"count\": 2, \"fraction0\": 43.478, \"q\": \"0.5p\"}, {\"sim\": 10, \"count\": 3, \"fraction0\": 51.852, \"q\": \"0.5p\"}, {\"sim\": 10, \"count\": 2, \"fraction0\": 72.0, \"q\": \"0.5p\"}, {\"sim\": 10, \"count\": 1, \"fraction0\": 89.286, \"q\": \"0.5p\"}, {\"sim\": 10, \"count\": 1, \"fraction0\": 36.364, \"q\": \"0.5p\"}, {\"sim\": 10, \"count\": 2, \"fraction0\": 22.222, \"q\": \"0.5p\"}, {\"sim\": 10, \"count\": 1, \"fraction0\": 48.0, \"q\": \"0.5p\"}, {\"sim\": 10, \"count\": 1, \"fraction0\": 75.0, \"q\": \"0.5p\"}, {\"sim\": 10, \"count\": 1, \"fraction0\": 37.037, \"q\": \"0.5p\"}, {\"sim\": 10, \"count\": 1, \"fraction0\": 45.161, \"q\": \"0.5p\"}, {\"sim\": 10, \"count\": 1, \"fraction0\": 48.276, \"q\": \"0.5p\"}, {\"sim\": 10, \"count\": 1, \"fraction0\": 80.0, \"q\": \"0.5p\"}, {\"sim\": 10, \"count\": 1, \"fraction0\": 85.0, \"q\": \"0.5p\"}, {\"sim\": 10, \"count\": 1, \"fraction0\": 76.0, \"q\": \"0.5p\"}, {\"sim\": 10, \"count\": 1, \"fraction0\": 23.077, \"q\": \"0.5p\"}, {\"sim\": 10, \"count\": 1, \"fraction0\": 25.806, \"q\": \"0.5p\"}, {\"sim\": 10, \"count\": 1, \"fraction0\": 32.353, \"q\": \"0.5p\"}, {\"sim\": 10, \"count\": 1, \"fraction0\": 31.818, \"q\": \"0.5p\"}, {\"sim\": 10, \"count\": 1, \"fraction0\": 72.727, \"q\": \"0.5p\"}, {\"sim\": 10, \"count\": 1, \"fraction0\": 39.286, \"q\": \"0.5p\"}, {\"sim\": 10, \"count\": 1, \"fraction0\": 90.476, \"q\": \"0.5p\"}, {\"sim\": 10, \"count\": 1, \"fraction0\": 81.818, \"q\": \"0.5p\"}, {\"sim\": 10, \"count\": 1, \"fraction0\": 21.429, \"q\": \"0.5p\"}, {\"sim\": 10, \"count\": 3, \"fraction0\": 60.0, \"q\": \"0.5p\"}, {\"sim\": 10, \"count\": 1, \"fraction0\": 65.385, \"q\": \"0.5p\"}, {\"sim\": 10, \"count\": 1, \"fraction0\": 61.111, \"q\": \"0.5p\"}, {\"sim\": 10, \"count\": 2, \"fraction0\": 52.381, \"q\": \"0.5p\"}, {\"sim\": 10, \"count\": 2, \"fraction0\": 73.913, \"q\": \"0.5p\"}, {\"sim\": 10, \"count\": 1, \"fraction0\": 17.647, \"q\": \"0.5p\"}, {\"sim\": 10, \"count\": 2, \"fraction0\": 30.0, \"q\": \"0.5p\"}, {\"sim\": 10, \"count\": 1, \"fraction0\": 43.75, \"q\": \"0.5p\"}, {\"sim\": 10, \"count\": 2, \"fraction0\": 55.556, \"q\": \"0.5p\"}, {\"sim\": 10, \"count\": 1, \"fraction0\": 92.308, \"q\": \"0.5p\"}, {\"sim\": 10, \"count\": 3, \"fraction0\": 69.231, \"q\": \"0.5p\"}, {\"sim\": 10, \"count\": 2, \"fraction0\": 37.5, \"q\": \"0.5p\"}, {\"sim\": 10, \"count\": 1, \"fraction0\": 80.645, \"q\": \"0.5p\"}, {\"sim\": 10, \"count\": 1, \"fraction0\": 15.625, \"q\": \"0.5p\"}, {\"sim\": 10, \"count\": 2, \"fraction0\": 26.923, \"q\": \"0.5p\"}, {\"sim\": 10, \"count\": 1, \"fraction0\": 54.545, \"q\": \"0.5p\"}, {\"sim\": 10, \"count\": 1, \"fraction0\": 35.484, \"q\": \"0.5p\"}, {\"sim\": 10, \"count\": 1, \"fraction0\": 58.824, \"q\": \"0.5p\"}, {\"sim\": 10, \"count\": 2, \"fraction0\": 28.571, \"q\": \"0.5p\"}, {\"sim\": 10, \"count\": 1, \"fraction0\": 73.077, \"q\": \"0.5p\"}, {\"sim\": 10, \"count\": 1, \"fraction0\": 56.25, \"q\": \"0.5p\"}, {\"sim\": 10, \"count\": 1, \"fraction0\": 19.048, \"q\": \"0.5p\"}, {\"sim\": 10, \"count\": 1, \"fraction0\": 57.895, \"q\": \"0.5p\"}, {\"sim\": 10, \"count\": 1, \"fraction0\": 31.579, \"q\": \"0.5p\"}, {\"sim\": 10, \"count\": 1, \"fraction0\": 70.0, \"q\": \"0.5p\"}, {\"sim\": 10, \"count\": 1, \"fraction0\": 35.294, \"q\": \"0.5p\"}, {\"sim\": 10, \"count\": 1, \"fraction0\": 65.0, \"q\": \"0.5p\"}, {\"sim\": 10, \"count\": 1, \"fraction0\": 67.742, \"q\": \"0.5p\"}, {\"sim\": 10, \"count\": 1, \"fraction0\": 35.714, \"q\": \"0.5p\"}, {\"sim\": 10, \"count\": 1, \"fraction0\": 79.31, \"q\": \"0.5p\"}, {\"sim\": 10, \"count\": 1, \"fraction0\": 34.615, \"q\": \"0.5p\"}, {\"sim\": 11, \"count\": 3, \"fraction0\": 64.706, \"q\": \"0.45p\"}, {\"sim\": 11, \"count\": 2, \"fraction0\": 31.25, \"q\": \"0.45p\"}, {\"sim\": 11, \"count\": 3, \"fraction0\": 42.105, \"q\": \"0.45p\"}, {\"sim\": 11, \"count\": 2, \"fraction0\": 44.0, \"q\": \"0.45p\"}, {\"sim\": 11, \"count\": 3, \"fraction0\": 77.273, \"q\": \"0.45p\"}, {\"sim\": 11, \"count\": 2, \"fraction0\": 53.846, \"q\": \"0.45p\"}, {\"sim\": 11, \"count\": 7, \"fraction0\": 50.0, \"q\": \"0.45p\"}, {\"sim\": 11, \"count\": 3, \"fraction0\": 88.889, \"q\": \"0.45p\"}, {\"sim\": 11, \"count\": 2, \"fraction0\": 63.158, \"q\": \"0.45p\"}, {\"sim\": 11, \"count\": 5, \"fraction0\": 54.545, \"q\": \"0.45p\"}, {\"sim\": 11, \"count\": 1, \"fraction0\": 65.385, \"q\": \"0.45p\"}, {\"sim\": 11, \"count\": 4, \"fraction0\": 40.0, \"q\": \"0.45p\"}, {\"sim\": 11, \"count\": 2, \"fraction0\": 54.167, \"q\": \"0.45p\"}, {\"sim\": 11, \"count\": 2, \"fraction0\": 38.095, \"q\": \"0.45p\"}, {\"sim\": 11, \"count\": 3, \"fraction0\": 76.19, \"q\": \"0.45p\"}, {\"sim\": 11, \"count\": 1, \"fraction0\": 68.966, \"q\": \"0.45p\"}, {\"sim\": 11, \"count\": 1, \"fraction0\": 30.556, \"q\": \"0.45p\"}, {\"sim\": 11, \"count\": 5, \"fraction0\": 59.091, \"q\": \"0.45p\"}, {\"sim\": 11, \"count\": 2, \"fraction0\": 38.889, \"q\": \"0.45p\"}, {\"sim\": 11, \"count\": 4, \"fraction0\": 42.308, \"q\": \"0.45p\"}, {\"sim\": 11, \"count\": 6, \"fraction0\": 60.0, \"q\": \"0.45p\"}, {\"sim\": 11, \"count\": 5, \"fraction0\": 47.619, \"q\": \"0.45p\"}, {\"sim\": 11, \"count\": 1, \"fraction0\": 38.71, \"q\": \"0.45p\"}, {\"sim\": 11, \"count\": 1, \"fraction0\": 16.667, \"q\": \"0.45p\"}, {\"sim\": 11, \"count\": 3, \"fraction0\": 76.923, \"q\": \"0.45p\"}, {\"sim\": 11, \"count\": 3, \"fraction0\": 70.0, \"q\": \"0.45p\"}, {\"sim\": 11, \"count\": 3, \"fraction0\": 46.667, \"q\": \"0.45p\"}, {\"sim\": 11, \"count\": 2, \"fraction0\": 48.148, \"q\": \"0.45p\"}, {\"sim\": 11, \"count\": 2, \"fraction0\": 78.261, \"q\": \"0.45p\"}, {\"sim\": 11, \"count\": 4, \"fraction0\": 37.5, \"q\": \"0.45p\"}, {\"sim\": 11, \"count\": 1, \"fraction0\": 14.286, \"q\": \"0.45p\"}, {\"sim\": 11, \"count\": 6, \"fraction0\": 75.0, \"q\": \"0.45p\"}, {\"sim\": 11, \"count\": 5, \"fraction0\": 45.0, \"q\": \"0.45p\"}, {\"sim\": 11, \"count\": 3, \"fraction0\": 58.824, \"q\": \"0.45p\"}, {\"sim\": 11, \"count\": 2, \"fraction0\": 48.0, \"q\": \"0.45p\"}, {\"sim\": 11, \"count\": 2, \"fraction0\": 32.0, \"q\": \"0.45p\"}, {\"sim\": 11, \"count\": 1, \"fraction0\": 20.0, \"q\": \"0.45p\"}, {\"sim\": 11, \"count\": 2, \"fraction0\": 59.259, \"q\": \"0.45p\"}, {\"sim\": 11, \"count\": 1, \"fraction0\": 62.069, \"q\": \"0.45p\"}, {\"sim\": 11, \"count\": 1, \"fraction0\": 29.167, \"q\": \"0.45p\"}, {\"sim\": 11, \"count\": 1, \"fraction0\": 57.692, \"q\": \"0.45p\"}, {\"sim\": 11, \"count\": 1, \"fraction0\": 36.364, \"q\": \"0.45p\"}, {\"sim\": 11, \"count\": 1, \"fraction0\": 80.0, \"q\": \"0.45p\"}, {\"sim\": 11, \"count\": 1, \"fraction0\": 55.0, \"q\": \"0.45p\"}, {\"sim\": 11, \"count\": 1, \"fraction0\": 80.952, \"q\": \"0.45p\"}, {\"sim\": 11, \"count\": 2, \"fraction0\": 52.381, \"q\": \"0.45p\"}, {\"sim\": 11, \"count\": 3, \"fraction0\": 55.556, \"q\": \"0.45p\"}, {\"sim\": 11, \"count\": 2, \"fraction0\": 69.231, \"q\": \"0.45p\"}, {\"sim\": 11, \"count\": 1, \"fraction0\": 81.481, \"q\": \"0.45p\"}, {\"sim\": 11, \"count\": 3, \"fraction0\": 66.667, \"q\": \"0.45p\"}, {\"sim\": 11, \"count\": 1, \"fraction0\": 38.462, \"q\": \"0.45p\"}, {\"sim\": 11, \"count\": 2, \"fraction0\": 52.174, \"q\": \"0.45p\"}, {\"sim\": 11, \"count\": 1, \"fraction0\": 77.778, \"q\": \"0.45p\"}, {\"sim\": 11, \"count\": 1, \"fraction0\": 30.0, \"q\": \"0.45p\"}, {\"sim\": 11, \"count\": 3, \"fraction0\": 25.0, \"q\": \"0.45p\"}, {\"sim\": 11, \"count\": 1, \"fraction0\": 22.727, \"q\": \"0.45p\"}, {\"sim\": 11, \"count\": 3, \"fraction0\": 36.842, \"q\": \"0.45p\"}, {\"sim\": 11, \"count\": 2, \"fraction0\": 40.909, \"q\": \"0.45p\"}, {\"sim\": 11, \"count\": 1, \"fraction0\": 17.391, \"q\": \"0.45p\"}, {\"sim\": 11, \"count\": 1, \"fraction0\": 29.412, \"q\": \"0.45p\"}, {\"sim\": 11, \"count\": 2, \"fraction0\": 72.727, \"q\": \"0.45p\"}, {\"sim\": 11, \"count\": 1, \"fraction0\": 64.0, \"q\": \"0.45p\"}, {\"sim\": 11, \"count\": 6, \"fraction0\": 57.143, \"q\": \"0.45p\"}, {\"sim\": 11, \"count\": 1, \"fraction0\": 35.294, \"q\": \"0.45p\"}, {\"sim\": 11, \"count\": 2, \"fraction0\": 34.783, \"q\": \"0.45p\"}, {\"sim\": 11, \"count\": 1, \"fraction0\": 28.571, \"q\": \"0.45p\"}, {\"sim\": 11, \"count\": 1, \"fraction0\": 26.316, \"q\": \"0.45p\"}, {\"sim\": 11, \"count\": 1, \"fraction0\": 21.429, \"q\": \"0.45p\"}, {\"sim\": 11, \"count\": 1, \"fraction0\": 88.462, \"q\": \"0.45p\"}, {\"sim\": 11, \"count\": 1, \"fraction0\": 56.0, \"q\": \"0.45p\"}, {\"sim\": 11, \"count\": 2, \"fraction0\": 35.0, \"q\": \"0.45p\"}, {\"sim\": 11, \"count\": 1, \"fraction0\": 42.424, \"q\": \"0.45p\"}, {\"sim\": 11, \"count\": 1, \"fraction0\": 62.963, \"q\": \"0.45p\"}, {\"sim\": 11, \"count\": 1, \"fraction0\": 69.565, \"q\": \"0.45p\"}, {\"sim\": 11, \"count\": 1, \"fraction0\": 47.368, \"q\": \"0.45p\"}, {\"sim\": 11, \"count\": 1, \"fraction0\": 74.074, \"q\": \"0.45p\"}, {\"sim\": 11, \"count\": 2, \"fraction0\": 27.273, \"q\": \"0.45p\"}, {\"sim\": 11, \"count\": 3, \"fraction0\": 47.059, \"q\": \"0.45p\"}, {\"sim\": 11, \"count\": 1, \"fraction0\": 60.87, \"q\": \"0.45p\"}, {\"sim\": 11, \"count\": 1, \"fraction0\": 82.609, \"q\": \"0.45p\"}, {\"sim\": 11, \"count\": 2, \"fraction0\": 71.429, \"q\": \"0.45p\"}, {\"sim\": 11, \"count\": 1, \"fraction0\": 46.429, \"q\": \"0.45p\"}, {\"sim\": 11, \"count\": 7, \"fraction0\": 33.333, \"q\": \"0.45p\"}, {\"sim\": 11, \"count\": 1, \"fraction0\": 95.0, \"q\": \"0.45p\"}, {\"sim\": 11, \"count\": 3, \"fraction0\": 65.217, \"q\": \"0.45p\"}, {\"sim\": 11, \"count\": 3, \"fraction0\": 52.941, \"q\": \"0.45p\"}, {\"sim\": 11, \"count\": 1, \"fraction0\": 23.333, \"q\": \"0.45p\"}, {\"sim\": 11, \"count\": 1, \"fraction0\": 86.957, \"q\": \"0.45p\"}, {\"sim\": 11, \"count\": 2, \"fraction0\": 44.444, \"q\": \"0.45p\"}, {\"sim\": 11, \"count\": 1, \"fraction0\": 45.833, \"q\": \"0.45p\"}, {\"sim\": 11, \"count\": 1, \"fraction0\": 60.714, \"q\": \"0.45p\"}, {\"sim\": 11, \"count\": 1, \"fraction0\": 53.333, \"q\": \"0.45p\"}, {\"sim\": 11, \"count\": 1, \"fraction0\": 8.333, \"q\": \"0.45p\"}, {\"sim\": 11, \"count\": 1, \"fraction0\": 76.471, \"q\": \"0.45p\"}, {\"sim\": 11, \"count\": 1, \"fraction0\": 89.655, \"q\": \"0.45p\"}, {\"sim\": 11, \"count\": 1, \"fraction0\": 68.75, \"q\": \"0.45p\"}, {\"sim\": 11, \"count\": 1, \"fraction0\": 23.529, \"q\": \"0.45p\"}, {\"sim\": 11, \"count\": 3, \"fraction0\": 42.857, \"q\": \"0.45p\"}, {\"sim\": 11, \"count\": 1, \"fraction0\": 51.852, \"q\": \"0.45p\"}, {\"sim\": 11, \"count\": 2, \"fraction0\": 73.913, \"q\": \"0.45p\"}, {\"sim\": 11, \"count\": 1, \"fraction0\": 52.632, \"q\": \"0.45p\"}, {\"sim\": 11, \"count\": 1, \"fraction0\": 41.667, \"q\": \"0.45p\"}, {\"sim\": 11, \"count\": 1, \"fraction0\": 75.758, \"q\": \"0.45p\"}, {\"sim\": 11, \"count\": 1, \"fraction0\": 48.387, \"q\": \"0.45p\"}, {\"sim\": 11, \"count\": 2, \"fraction0\": 45.455, \"q\": \"0.45p\"}, {\"sim\": 11, \"count\": 1, \"fraction0\": 32.258, \"q\": \"0.45p\"}, {\"sim\": 11, \"count\": 2, \"fraction0\": 58.065, \"q\": \"0.45p\"}, {\"sim\": 11, \"count\": 1, \"fraction0\": 61.765, \"q\": \"0.45p\"}, {\"sim\": 11, \"count\": 1, \"fraction0\": 31.818, \"q\": \"0.45p\"}, {\"sim\": 11, \"count\": 1, \"fraction0\": 39.13, \"q\": \"0.45p\"}, {\"sim\": 11, \"count\": 1, \"fraction0\": 48.276, \"q\": \"0.45p\"}, {\"sim\": 11, \"count\": 1, \"fraction0\": 20.833, \"q\": \"0.45p\"}, {\"sim\": 11, \"count\": 1, \"fraction0\": 63.636, \"q\": \"0.45p\"}, {\"sim\": 11, \"count\": 2, \"fraction0\": 82.353, \"q\": \"0.45p\"}, {\"sim\": 11, \"count\": 1, \"fraction0\": 30.435, \"q\": \"0.45p\"}, {\"sim\": 11, \"count\": 1, \"fraction0\": 23.81, \"q\": \"0.45p\"}, {\"sim\": 11, \"count\": 1, \"fraction0\": 24.0, \"q\": \"0.45p\"}, {\"sim\": 11, \"count\": 1, \"fraction0\": 56.25, \"q\": \"0.45p\"}, {\"sim\": 11, \"count\": 1, \"fraction0\": 36.0, \"q\": \"0.45p\"}, {\"sim\": 11, \"count\": 1, \"fraction0\": 56.522, \"q\": \"0.45p\"}, {\"sim\": 11, \"count\": 1, \"fraction0\": 61.538, \"q\": \"0.45p\"}, {\"sim\": 11, \"count\": 1, \"fraction0\": 8.696, \"q\": \"0.45p\"}, {\"sim\": 11, \"count\": 1, \"fraction0\": 62.5, \"q\": \"0.45p\"}, {\"sim\": 11, \"count\": 1, \"fraction0\": 13.636, \"q\": \"0.45p\"}, {\"sim\": 11, \"count\": 1, \"fraction0\": 28.0, \"q\": \"0.45p\"}, {\"sim\": 11, \"count\": 1, \"fraction0\": 53.571, \"q\": \"0.45p\"}, {\"sim\": 11, \"count\": 1, \"fraction0\": 81.25, \"q\": \"0.45p\"}, {\"sim\": 11, \"count\": 1, \"fraction0\": 57.895, \"q\": \"0.45p\"}, {\"sim\": 11, \"count\": 1, \"fraction0\": 68.0, \"q\": \"0.45p\"}, {\"sim\": 11, \"count\": 2, \"fraction0\": 40.741, \"q\": \"0.45p\"}, {\"sim\": 11, \"count\": 1, \"fraction0\": 70.588, \"q\": \"0.45p\"}, {\"sim\": 11, \"count\": 1, \"fraction0\": 65.0, \"q\": \"0.45p\"}, {\"sim\": 11, \"count\": 1, \"fraction0\": 56.667, \"q\": \"0.45p\"}, {\"sim\": 11, \"count\": 1, \"fraction0\": 10.526, \"q\": \"0.45p\"}, {\"sim\": 11, \"count\": 1, \"fraction0\": 18.182, \"q\": \"0.45p\"}, {\"sim\": 11, \"count\": 1, \"fraction0\": 100.0, \"q\": \"0.45p\"}, {\"sim\": 11, \"count\": 1, \"fraction0\": 61.905, \"q\": \"0.45p\"}, {\"sim\": 12, \"count\": 1, \"fraction0\": 17.391, \"q\": \"0.4p\"}, {\"sim\": 12, \"count\": 3, \"fraction0\": 80.952, \"q\": \"0.4p\"}, {\"sim\": 12, \"count\": 4, \"fraction0\": 46.667, \"q\": \"0.4p\"}, {\"sim\": 12, \"count\": 12, \"fraction0\": 50.0, \"q\": \"0.4p\"}, {\"sim\": 12, \"count\": 2, \"fraction0\": 60.87, \"q\": \"0.4p\"}, {\"sim\": 12, \"count\": 4, \"fraction0\": 45.833, \"q\": \"0.4p\"}, {\"sim\": 12, \"count\": 1, \"fraction0\": 35.0, \"q\": \"0.4p\"}, {\"sim\": 12, \"count\": 3, \"fraction0\": 45.455, \"q\": \"0.4p\"}, {\"sim\": 12, \"count\": 2, \"fraction0\": 30.435, \"q\": \"0.4p\"}, {\"sim\": 12, \"count\": 2, \"fraction0\": 34.483, \"q\": \"0.4p\"}, {\"sim\": 12, \"count\": 2, \"fraction0\": 68.421, \"q\": \"0.4p\"}, {\"sim\": 12, \"count\": 3, \"fraction0\": 31.818, \"q\": \"0.4p\"}, {\"sim\": 12, \"count\": 2, \"fraction0\": 66.667, \"q\": \"0.4p\"}, {\"sim\": 12, \"count\": 1, \"fraction0\": 46.154, \"q\": \"0.4p\"}, {\"sim\": 12, \"count\": 1, \"fraction0\": 90.476, \"q\": \"0.4p\"}, {\"sim\": 12, \"count\": 5, \"fraction0\": 33.333, \"q\": \"0.4p\"}, {\"sim\": 12, \"count\": 4, \"fraction0\": 26.923, \"q\": \"0.4p\"}, {\"sim\": 12, \"count\": 3, \"fraction0\": 56.25, \"q\": \"0.4p\"}, {\"sim\": 12, \"count\": 1, \"fraction0\": 69.565, \"q\": \"0.4p\"}, {\"sim\": 12, \"count\": 3, \"fraction0\": 58.824, \"q\": \"0.4p\"}, {\"sim\": 12, \"count\": 1, \"fraction0\": 35.484, \"q\": \"0.4p\"}, {\"sim\": 12, \"count\": 1, \"fraction0\": 15.0, \"q\": \"0.4p\"}, {\"sim\": 12, \"count\": 1, \"fraction0\": 27.778, \"q\": \"0.4p\"}, {\"sim\": 12, \"count\": 4, \"fraction0\": 70.0, \"q\": \"0.4p\"}, {\"sim\": 12, \"count\": 3, \"fraction0\": 42.308, \"q\": \"0.4p\"}, {\"sim\": 12, \"count\": 2, \"fraction0\": 30.769, \"q\": \"0.4p\"}, {\"sim\": 12, \"count\": 1, \"fraction0\": 12.0, \"q\": \"0.4p\"}, {\"sim\": 12, \"count\": 1, \"fraction0\": 22.222, \"q\": \"0.4p\"}, {\"sim\": 12, \"count\": 3, \"fraction0\": 28.571, \"q\": \"0.4p\"}, {\"sim\": 12, \"count\": 1, \"fraction0\": 73.913, \"q\": \"0.4p\"}, {\"sim\": 12, \"count\": 4, \"fraction0\": 47.619, \"q\": \"0.4p\"}, {\"sim\": 12, \"count\": 1, \"fraction0\": 17.647, \"q\": \"0.4p\"}, {\"sim\": 12, \"count\": 3, \"fraction0\": 38.889, \"q\": \"0.4p\"}, {\"sim\": 12, \"count\": 2, \"fraction0\": 44.444, \"q\": \"0.4p\"}, {\"sim\": 12, \"count\": 2, \"fraction0\": 32.0, \"q\": \"0.4p\"}, {\"sim\": 12, \"count\": 1, \"fraction0\": 70.588, \"q\": \"0.4p\"}, {\"sim\": 12, \"count\": 6, \"fraction0\": 40.0, \"q\": \"0.4p\"}, {\"sim\": 12, \"count\": 5, \"fraction0\": 41.667, \"q\": \"0.4p\"}, {\"sim\": 12, \"count\": 1, \"fraction0\": 16.667, \"q\": \"0.4p\"}, {\"sim\": 12, \"count\": 2, \"fraction0\": 31.579, \"q\": \"0.4p\"}, {\"sim\": 12, \"count\": 1, \"fraction0\": 52.174, \"q\": \"0.4p\"}, {\"sim\": 12, \"count\": 2, \"fraction0\": 62.963, \"q\": \"0.4p\"}, {\"sim\": 12, \"count\": 1, \"fraction0\": 40.741, \"q\": \"0.4p\"}, {\"sim\": 12, \"count\": 2, \"fraction0\": 47.059, \"q\": \"0.4p\"}, {\"sim\": 12, \"count\": 1, \"fraction0\": 28.0, \"q\": \"0.4p\"}, {\"sim\": 12, \"count\": 2, \"fraction0\": 15.385, \"q\": \"0.4p\"}, {\"sim\": 12, \"count\": 1, \"fraction0\": 61.905, \"q\": \"0.4p\"}, {\"sim\": 12, \"count\": 1, \"fraction0\": 21.053, \"q\": \"0.4p\"}, {\"sim\": 12, \"count\": 2, \"fraction0\": 38.095, \"q\": \"0.4p\"}, {\"sim\": 12, \"count\": 1, \"fraction0\": 61.538, \"q\": \"0.4p\"}, {\"sim\": 12, \"count\": 2, \"fraction0\": 87.5, \"q\": \"0.4p\"}, {\"sim\": 12, \"count\": 2, \"fraction0\": 52.941, \"q\": \"0.4p\"}, {\"sim\": 12, \"count\": 1, \"fraction0\": 63.158, \"q\": \"0.4p\"}, {\"sim\": 12, \"count\": 2, \"fraction0\": 52.381, \"q\": \"0.4p\"}, {\"sim\": 12, \"count\": 3, \"fraction0\": 37.5, \"q\": \"0.4p\"}, {\"sim\": 12, \"count\": 3, \"fraction0\": 72.727, \"q\": \"0.4p\"}, {\"sim\": 12, \"count\": 4, \"fraction0\": 75.0, \"q\": \"0.4p\"}, {\"sim\": 12, \"count\": 1, \"fraction0\": 39.286, \"q\": \"0.4p\"}, {\"sim\": 12, \"count\": 2, \"fraction0\": 36.842, \"q\": \"0.4p\"}, {\"sim\": 12, \"count\": 1, \"fraction0\": 41.176, \"q\": \"0.4p\"}, {\"sim\": 12, \"count\": 2, \"fraction0\": 59.091, \"q\": \"0.4p\"}, {\"sim\": 12, \"count\": 3, \"fraction0\": 53.571, \"q\": \"0.4p\"}, {\"sim\": 12, \"count\": 3, \"fraction0\": 58.333, \"q\": \"0.4p\"}, {\"sim\": 12, \"count\": 2, \"fraction0\": 54.545, \"q\": \"0.4p\"}, {\"sim\": 12, \"count\": 3, \"fraction0\": 65.0, \"q\": \"0.4p\"}, {\"sim\": 12, \"count\": 1, \"fraction0\": 76.0, \"q\": \"0.4p\"}, {\"sim\": 12, \"count\": 2, \"fraction0\": 82.143, \"q\": \"0.4p\"}, {\"sim\": 12, \"count\": 1, \"fraction0\": 51.852, \"q\": \"0.4p\"}, {\"sim\": 12, \"count\": 1, \"fraction0\": 60.0, \"q\": \"0.4p\"}, {\"sim\": 12, \"count\": 2, \"fraction0\": 18.75, \"q\": \"0.4p\"}, {\"sim\": 12, \"count\": 1, \"fraction0\": 47.826, \"q\": \"0.4p\"}, {\"sim\": 12, \"count\": 1, \"fraction0\": 23.81, \"q\": \"0.4p\"}, {\"sim\": 12, \"count\": 2, \"fraction0\": 36.0, \"q\": \"0.4p\"}, {\"sim\": 12, \"count\": 1, \"fraction0\": 29.412, \"q\": \"0.4p\"}, {\"sim\": 12, \"count\": 1, \"fraction0\": 85.0, \"q\": \"0.4p\"}, {\"sim\": 12, \"count\": 2, \"fraction0\": 72.0, \"q\": \"0.4p\"}, {\"sim\": 12, \"count\": 1, \"fraction0\": 37.931, \"q\": \"0.4p\"}, {\"sim\": 12, \"count\": 1, \"fraction0\": 68.0, \"q\": \"0.4p\"}, {\"sim\": 12, \"count\": 1, \"fraction0\": 31.25, \"q\": \"0.4p\"}, {\"sim\": 12, \"count\": 1, \"fraction0\": 18.182, \"q\": \"0.4p\"}, {\"sim\": 12, \"count\": 1, \"fraction0\": 52.632, \"q\": \"0.4p\"}, {\"sim\": 12, \"count\": 2, \"fraction0\": 48.276, \"q\": \"0.4p\"}, {\"sim\": 12, \"count\": 2, \"fraction0\": 29.167, \"q\": \"0.4p\"}, {\"sim\": 12, \"count\": 1, \"fraction0\": 53.333, \"q\": \"0.4p\"}, {\"sim\": 12, \"count\": 2, \"fraction0\": 23.529, \"q\": \"0.4p\"}, {\"sim\": 12, \"count\": 2, \"fraction0\": 54.167, \"q\": \"0.4p\"}, {\"sim\": 12, \"count\": 1, \"fraction0\": 69.231, \"q\": \"0.4p\"}, {\"sim\": 12, \"count\": 1, \"fraction0\": 84.211, \"q\": \"0.4p\"}, {\"sim\": 12, \"count\": 1, \"fraction0\": 83.333, \"q\": \"0.4p\"}, {\"sim\": 12, \"count\": 2, \"fraction0\": 25.0, \"q\": \"0.4p\"}, {\"sim\": 12, \"count\": 1, \"fraction0\": 77.778, \"q\": \"0.4p\"}, {\"sim\": 12, \"count\": 1, \"fraction0\": 78.947, \"q\": \"0.4p\"}, {\"sim\": 12, \"count\": 2, \"fraction0\": 26.667, \"q\": \"0.4p\"}, {\"sim\": 12, \"count\": 1, \"fraction0\": 34.783, \"q\": \"0.4p\"}, {\"sim\": 12, \"count\": 3, \"fraction0\": 80.0, \"q\": \"0.4p\"}, {\"sim\": 12, \"count\": 1, \"fraction0\": 71.429, \"q\": \"0.4p\"}, {\"sim\": 12, \"count\": 2, \"fraction0\": 64.286, \"q\": \"0.4p\"}, {\"sim\": 12, \"count\": 1, \"fraction0\": 48.148, \"q\": \"0.4p\"}, {\"sim\": 12, \"count\": 1, \"fraction0\": 73.077, \"q\": \"0.4p\"}, {\"sim\": 12, \"count\": 2, \"fraction0\": 0.0, \"q\": \"0.4p\"}, {\"sim\": 12, \"count\": 1, \"fraction0\": 30.0, \"q\": \"0.4p\"}, {\"sim\": 12, \"count\": 1, \"fraction0\": 26.087, \"q\": \"0.4p\"}, {\"sim\": 12, \"count\": 1, \"fraction0\": 56.522, \"q\": \"0.4p\"}, {\"sim\": 12, \"count\": 1, \"fraction0\": 21.429, \"q\": \"0.4p\"}, {\"sim\": 12, \"count\": 1, \"fraction0\": 78.571, \"q\": \"0.4p\"}, {\"sim\": 12, \"count\": 1, \"fraction0\": 52.0, \"q\": \"0.4p\"}, {\"sim\": 12, \"count\": 1, \"fraction0\": 65.517, \"q\": \"0.4p\"}, {\"sim\": 12, \"count\": 1, \"fraction0\": 55.556, \"q\": \"0.4p\"}, {\"sim\": 12, \"count\": 4, \"fraction0\": 39.13, \"q\": \"0.4p\"}, {\"sim\": 12, \"count\": 1, \"fraction0\": 68.75, \"q\": \"0.4p\"}, {\"sim\": 12, \"count\": 1, \"fraction0\": 9.524, \"q\": \"0.4p\"}, {\"sim\": 12, \"count\": 1, \"fraction0\": 57.143, \"q\": \"0.4p\"}, {\"sim\": 12, \"count\": 4, \"fraction0\": 55.0, \"q\": \"0.4p\"}, {\"sim\": 12, \"count\": 1, \"fraction0\": 53.846, \"q\": \"0.4p\"}, {\"sim\": 12, \"count\": 2, \"fraction0\": 45.161, \"q\": \"0.4p\"}, {\"sim\": 12, \"count\": 1, \"fraction0\": 65.217, \"q\": \"0.4p\"}, {\"sim\": 12, \"count\": 1, \"fraction0\": 42.105, \"q\": \"0.4p\"}, {\"sim\": 12, \"count\": 1, \"fraction0\": 58.621, \"q\": \"0.4p\"}, {\"sim\": 12, \"count\": 1, \"fraction0\": 78.261, \"q\": \"0.4p\"}, {\"sim\": 12, \"count\": 2, \"fraction0\": 42.857, \"q\": \"0.4p\"}, {\"sim\": 12, \"count\": 1, \"fraction0\": 43.478, \"q\": \"0.4p\"}, {\"sim\": 12, \"count\": 1, \"fraction0\": 36.364, \"q\": \"0.4p\"}, {\"sim\": 12, \"count\": 2, \"fraction0\": 27.273, \"q\": \"0.4p\"}, {\"sim\": 12, \"count\": 2, \"fraction0\": 48.0, \"q\": \"0.4p\"}, {\"sim\": 12, \"count\": 1, \"fraction0\": 34.615, \"q\": \"0.4p\"}, {\"sim\": 12, \"count\": 1, \"fraction0\": 51.515, \"q\": \"0.4p\"}, {\"sim\": 12, \"count\": 2, \"fraction0\": 57.895, \"q\": \"0.4p\"}, {\"sim\": 12, \"count\": 1, \"fraction0\": 82.609, \"q\": \"0.4p\"}, {\"sim\": 12, \"count\": 1, \"fraction0\": 55.882, \"q\": \"0.4p\"}, {\"sim\": 12, \"count\": 1, \"fraction0\": 51.724, \"q\": \"0.4p\"}, {\"sim\": 12, \"count\": 1, \"fraction0\": 61.111, \"q\": \"0.4p\"}, {\"sim\": 12, \"count\": 1, \"fraction0\": 20.833, \"q\": \"0.4p\"}, {\"sim\": 12, \"count\": 1, \"fraction0\": 83.871, \"q\": \"0.4p\"}, {\"sim\": 12, \"count\": 1, \"fraction0\": 37.037, \"q\": \"0.4p\"}, {\"sim\": 12, \"count\": 1, \"fraction0\": 79.167, \"q\": \"0.4p\"}, {\"sim\": 12, \"count\": 1, \"fraction0\": 68.182, \"q\": \"0.4p\"}, {\"sim\": 12, \"count\": 1, \"fraction0\": 62.5, \"q\": \"0.4p\"}, {\"sim\": 12, \"count\": 1, \"fraction0\": 6.25, \"q\": \"0.4p\"}, {\"sim\": 13, \"count\": 2, \"fraction0\": 26.923, \"q\": \"0.35p\"}, {\"sim\": 13, \"count\": 8, \"fraction0\": 50.0, \"q\": \"0.35p\"}, {\"sim\": 13, \"count\": 5, \"fraction0\": 75.0, \"q\": \"0.35p\"}, {\"sim\": 13, \"count\": 1, \"fraction0\": 20.69, \"q\": \"0.35p\"}, {\"sim\": 13, \"count\": 1, \"fraction0\": 24.242, \"q\": \"0.35p\"}, {\"sim\": 13, \"count\": 1, \"fraction0\": 41.379, \"q\": \"0.35p\"}, {\"sim\": 13, \"count\": 1, \"fraction0\": 76.0, \"q\": \"0.35p\"}, {\"sim\": 13, \"count\": 3, \"fraction0\": 58.824, \"q\": \"0.35p\"}, {\"sim\": 13, \"count\": 5, \"fraction0\": 37.5, \"q\": \"0.35p\"}, {\"sim\": 13, \"count\": 1, \"fraction0\": 14.286, \"q\": \"0.35p\"}, {\"sim\": 13, \"count\": 3, \"fraction0\": 40.0, \"q\": \"0.35p\"}, {\"sim\": 13, \"count\": 2, \"fraction0\": 70.0, \"q\": \"0.35p\"}, {\"sim\": 13, \"count\": 3, \"fraction0\": 58.333, \"q\": \"0.35p\"}, {\"sim\": 13, \"count\": 2, \"fraction0\": 47.619, \"q\": \"0.35p\"}, {\"sim\": 13, \"count\": 3, \"fraction0\": 41.667, \"q\": \"0.35p\"}, {\"sim\": 13, \"count\": 1, \"fraction0\": 70.833, \"q\": \"0.35p\"}, {\"sim\": 13, \"count\": 4, \"fraction0\": 54.545, \"q\": \"0.35p\"}, {\"sim\": 13, \"count\": 1, \"fraction0\": 38.095, \"q\": \"0.35p\"}, {\"sim\": 13, \"count\": 2, \"fraction0\": 48.0, \"q\": \"0.35p\"}, {\"sim\": 13, \"count\": 1, \"fraction0\": 94.444, \"q\": \"0.35p\"}, {\"sim\": 13, \"count\": 1, \"fraction0\": 73.333, \"q\": \"0.35p\"}, {\"sim\": 13, \"count\": 2, \"fraction0\": 35.714, \"q\": \"0.35p\"}, {\"sim\": 13, \"count\": 1, \"fraction0\": 7.143, \"q\": \"0.35p\"}, {\"sim\": 13, \"count\": 4, \"fraction0\": 26.316, \"q\": \"0.35p\"}, {\"sim\": 13, \"count\": 5, \"fraction0\": 45.455, \"q\": \"0.35p\"}, {\"sim\": 13, \"count\": 1, \"fraction0\": 23.81, \"q\": \"0.35p\"}, {\"sim\": 13, \"count\": 1, \"fraction0\": 90.476, \"q\": \"0.35p\"}, {\"sim\": 13, \"count\": 1, \"fraction0\": 100.0, \"q\": \"0.35p\"}, {\"sim\": 13, \"count\": 3, \"fraction0\": 35.294, \"q\": \"0.35p\"}, {\"sim\": 13, \"count\": 5, \"fraction0\": 60.0, \"q\": \"0.35p\"}, {\"sim\": 13, \"count\": 2, \"fraction0\": 18.75, \"q\": \"0.35p\"}, {\"sim\": 13, \"count\": 1, \"fraction0\": 46.429, \"q\": \"0.35p\"}, {\"sim\": 13, \"count\": 4, \"fraction0\": 80.0, \"q\": \"0.35p\"}, {\"sim\": 13, \"count\": 1, \"fraction0\": 68.75, \"q\": \"0.35p\"}, {\"sim\": 13, \"count\": 2, \"fraction0\": 52.632, \"q\": \"0.35p\"}, {\"sim\": 13, \"count\": 2, \"fraction0\": 41.176, \"q\": \"0.35p\"}, {\"sim\": 13, \"count\": 1, \"fraction0\": 41.935, \"q\": \"0.35p\"}, {\"sim\": 13, \"count\": 1, \"fraction0\": 53.333, \"q\": \"0.35p\"}, {\"sim\": 13, \"count\": 1, \"fraction0\": 33.333, \"q\": \"0.35p\"}, {\"sim\": 13, \"count\": 2, \"fraction0\": 55.0, \"q\": \"0.35p\"}, {\"sim\": 13, \"count\": 1, \"fraction0\": 72.727, \"q\": \"0.35p\"}, {\"sim\": 13, \"count\": 1, \"fraction0\": 69.565, \"q\": \"0.35p\"}, {\"sim\": 13, \"count\": 2, \"fraction0\": 30.0, \"q\": \"0.35p\"}, {\"sim\": 13, \"count\": 1, \"fraction0\": 30.435, \"q\": \"0.35p\"}, {\"sim\": 13, \"count\": 1, \"fraction0\": 92.308, \"q\": \"0.35p\"}, {\"sim\": 13, \"count\": 2, \"fraction0\": 35.0, \"q\": \"0.35p\"}, {\"sim\": 13, \"count\": 1, \"fraction0\": 51.852, \"q\": \"0.35p\"}, {\"sim\": 13, \"count\": 2, \"fraction0\": 25.0, \"q\": \"0.35p\"}, {\"sim\": 13, \"count\": 2, \"fraction0\": 30.769, \"q\": \"0.35p\"}, {\"sim\": 13, \"count\": 1, \"fraction0\": 65.0, \"q\": \"0.35p\"}, {\"sim\": 13, \"count\": 2, \"fraction0\": 36.842, \"q\": \"0.35p\"}, {\"sim\": 13, \"count\": 4, \"fraction0\": 42.857, \"q\": \"0.35p\"}, {\"sim\": 13, \"count\": 1, \"fraction0\": 64.706, \"q\": \"0.35p\"}, {\"sim\": 13, \"count\": 4, \"fraction0\": 56.0, \"q\": \"0.35p\"}, {\"sim\": 13, \"count\": 2, \"fraction0\": 88.235, \"q\": \"0.35p\"}, {\"sim\": 13, \"count\": 3, \"fraction0\": 23.529, \"q\": \"0.35p\"}, {\"sim\": 13, \"count\": 4, \"fraction0\": 16.667, \"q\": \"0.35p\"}, {\"sim\": 13, \"count\": 1, \"fraction0\": 0.0, \"q\": \"0.35p\"}, {\"sim\": 13, \"count\": 2, \"fraction0\": 68.182, \"q\": \"0.35p\"}, {\"sim\": 13, \"count\": 2, \"fraction0\": 81.25, \"q\": \"0.35p\"}, {\"sim\": 13, \"count\": 2, \"fraction0\": 47.826, \"q\": \"0.35p\"}, {\"sim\": 13, \"count\": 1, \"fraction0\": 9.524, \"q\": \"0.35p\"}, {\"sim\": 13, \"count\": 3, \"fraction0\": 20.0, \"q\": \"0.35p\"}, {\"sim\": 13, \"count\": 4, \"fraction0\": 57.143, \"q\": \"0.35p\"}, {\"sim\": 13, \"count\": 1, \"fraction0\": 19.048, \"q\": \"0.35p\"}, {\"sim\": 13, \"count\": 1, \"fraction0\": 61.538, \"q\": \"0.35p\"}, {\"sim\": 13, \"count\": 2, \"fraction0\": 52.941, \"q\": \"0.35p\"}, {\"sim\": 13, \"count\": 1, \"fraction0\": 13.793, \"q\": \"0.35p\"}, {\"sim\": 13, \"count\": 3, \"fraction0\": 63.158, \"q\": \"0.35p\"}, {\"sim\": 13, \"count\": 2, \"fraction0\": 56.522, \"q\": \"0.35p\"}, {\"sim\": 13, \"count\": 2, \"fraction0\": 13.043, \"q\": \"0.35p\"}, {\"sim\": 13, \"count\": 5, \"fraction0\": 66.667, \"q\": \"0.35p\"}, {\"sim\": 13, \"count\": 1, \"fraction0\": 32.0, \"q\": \"0.35p\"}, {\"sim\": 13, \"count\": 2, \"fraction0\": 72.222, \"q\": \"0.35p\"}, {\"sim\": 13, \"count\": 4, \"fraction0\": 52.381, \"q\": \"0.35p\"}, {\"sim\": 13, \"count\": 2, \"fraction0\": 62.5, \"q\": \"0.35p\"}, {\"sim\": 13, \"count\": 3, \"fraction0\": 57.895, \"q\": \"0.35p\"}, {\"sim\": 13, \"count\": 1, \"fraction0\": 82.353, \"q\": \"0.35p\"}, {\"sim\": 13, \"count\": 5, \"fraction0\": 36.364, \"q\": \"0.35p\"}, {\"sim\": 13, \"count\": 1, \"fraction0\": 92.857, \"q\": \"0.35p\"}, {\"sim\": 13, \"count\": 2, \"fraction0\": 78.947, \"q\": \"0.35p\"}, {\"sim\": 13, \"count\": 1, \"fraction0\": 19.355, \"q\": \"0.35p\"}, {\"sim\": 13, \"count\": 1, \"fraction0\": 86.957, \"q\": \"0.35p\"}, {\"sim\": 13, \"count\": 4, \"fraction0\": 38.889, \"q\": \"0.35p\"}, {\"sim\": 13, \"count\": 3, \"fraction0\": 65.217, \"q\": \"0.35p\"}, {\"sim\": 13, \"count\": 1, \"fraction0\": 65.517, \"q\": \"0.35p\"}, {\"sim\": 13, \"count\": 2, \"fraction0\": 77.273, \"q\": \"0.35p\"}, {\"sim\": 13, \"count\": 3, \"fraction0\": 61.111, \"q\": \"0.35p\"}, {\"sim\": 13, \"count\": 1, \"fraction0\": 31.25, \"q\": \"0.35p\"}, {\"sim\": 13, \"count\": 1, \"fraction0\": 76.923, \"q\": \"0.35p\"}, {\"sim\": 13, \"count\": 1, \"fraction0\": 18.182, \"q\": \"0.35p\"}, {\"sim\": 13, \"count\": 1, \"fraction0\": 21.053, \"q\": \"0.35p\"}, {\"sim\": 13, \"count\": 2, \"fraction0\": 54.167, \"q\": \"0.35p\"}, {\"sim\": 13, \"count\": 2, \"fraction0\": 71.429, \"q\": \"0.35p\"}, {\"sim\": 13, \"count\": 2, \"fraction0\": 40.909, \"q\": \"0.35p\"}, {\"sim\": 13, \"count\": 1, \"fraction0\": 69.231, \"q\": \"0.35p\"}, {\"sim\": 13, \"count\": 1, \"fraction0\": 56.25, \"q\": \"0.35p\"}, {\"sim\": 13, \"count\": 1, \"fraction0\": 11.111, \"q\": \"0.35p\"}, {\"sim\": 13, \"count\": 1, \"fraction0\": 21.739, \"q\": \"0.35p\"}, {\"sim\": 13, \"count\": 1, \"fraction0\": 76.471, \"q\": \"0.35p\"}, {\"sim\": 13, \"count\": 2, \"fraction0\": 60.87, \"q\": \"0.35p\"}, {\"sim\": 13, \"count\": 2, \"fraction0\": 47.368, \"q\": \"0.35p\"}, {\"sim\": 13, \"count\": 1, \"fraction0\": 82.759, \"q\": \"0.35p\"}, {\"sim\": 13, \"count\": 2, \"fraction0\": 29.412, \"q\": \"0.35p\"}, {\"sim\": 13, \"count\": 1, \"fraction0\": 80.952, \"q\": \"0.35p\"}, {\"sim\": 13, \"count\": 1, \"fraction0\": 22.222, \"q\": \"0.35p\"}, {\"sim\": 13, \"count\": 1, \"fraction0\": 39.286, \"q\": \"0.35p\"}, {\"sim\": 13, \"count\": 1, \"fraction0\": 34.615, \"q\": \"0.35p\"}, {\"sim\": 13, \"count\": 2, \"fraction0\": 34.783, \"q\": \"0.35p\"}, {\"sim\": 13, \"count\": 1, \"fraction0\": 43.75, \"q\": \"0.35p\"}, {\"sim\": 13, \"count\": 1, \"fraction0\": 5.0, \"q\": \"0.35p\"}, {\"sim\": 13, \"count\": 1, \"fraction0\": 31.579, \"q\": \"0.35p\"}, {\"sim\": 13, \"count\": 1, \"fraction0\": 40.741, \"q\": \"0.35p\"}, {\"sim\": 13, \"count\": 1, \"fraction0\": 82.609, \"q\": \"0.35p\"}, {\"sim\": 13, \"count\": 1, \"fraction0\": 91.667, \"q\": \"0.35p\"}, {\"sim\": 13, \"count\": 1, \"fraction0\": 59.091, \"q\": \"0.35p\"}, {\"sim\": 13, \"count\": 1, \"fraction0\": 28.571, \"q\": \"0.35p\"}, {\"sim\": 13, \"count\": 1, \"fraction0\": 78.571, \"q\": \"0.35p\"}, {\"sim\": 13, \"count\": 1, \"fraction0\": 39.13, \"q\": \"0.35p\"}, {\"sim\": 13, \"count\": 1, \"fraction0\": 45.0, \"q\": \"0.35p\"}, {\"sim\": 13, \"count\": 1, \"fraction0\": 27.273, \"q\": \"0.35p\"}, {\"sim\": 13, \"count\": 1, \"fraction0\": 88.889, \"q\": \"0.35p\"}, {\"sim\": 13, \"count\": 1, \"fraction0\": 52.174, \"q\": \"0.35p\"}, {\"sim\": 13, \"count\": 1, \"fraction0\": 64.0, \"q\": \"0.35p\"}, {\"sim\": 13, \"count\": 1, \"fraction0\": 58.621, \"q\": \"0.35p\"}, {\"sim\": 13, \"count\": 1, \"fraction0\": 10.0, \"q\": \"0.35p\"}, {\"sim\": 13, \"count\": 1, \"fraction0\": 76.19, \"q\": \"0.35p\"}, {\"sim\": 13, \"count\": 1, \"fraction0\": 58.065, \"q\": \"0.35p\"}, {\"sim\": 13, \"count\": 1, \"fraction0\": 44.444, \"q\": \"0.35p\"}, {\"sim\": 13, \"count\": 1, \"fraction0\": 21.429, \"q\": \"0.35p\"}, {\"sim\": 13, \"count\": 1, \"fraction0\": 67.857, \"q\": \"0.35p\"}, {\"sim\": 13, \"count\": 2, \"fraction0\": 43.478, \"q\": \"0.35p\"}, {\"sim\": 13, \"count\": 1, \"fraction0\": 44.0, \"q\": \"0.35p\"}, {\"sim\": 13, \"count\": 1, \"fraction0\": 84.211, \"q\": \"0.35p\"}, {\"sim\": 13, \"count\": 1, \"fraction0\": 22.727, \"q\": \"0.35p\"}, {\"sim\": 13, \"count\": 1, \"fraction0\": 29.167, \"q\": \"0.35p\"}, {\"sim\": 13, \"count\": 1, \"fraction0\": 6.25, \"q\": \"0.35p\"}, {\"sim\": 14, \"count\": 2, \"fraction0\": 42.105, \"q\": \"0.3p\"}, {\"sim\": 14, \"count\": 3, \"fraction0\": 38.462, \"q\": \"0.3p\"}, {\"sim\": 14, \"count\": 3, \"fraction0\": 27.273, \"q\": \"0.3p\"}, {\"sim\": 14, \"count\": 1, \"fraction0\": 27.778, \"q\": \"0.3p\"}, {\"sim\": 14, \"count\": 1, \"fraction0\": 29.63, \"q\": \"0.3p\"}, {\"sim\": 14, \"count\": 4, \"fraction0\": 83.333, \"q\": \"0.3p\"}, {\"sim\": 14, \"count\": 5, \"fraction0\": 61.905, \"q\": \"0.3p\"}, {\"sim\": 14, \"count\": 1, \"fraction0\": 94.737, \"q\": \"0.3p\"}, {\"sim\": 14, \"count\": 3, \"fraction0\": 75.0, \"q\": \"0.3p\"}, {\"sim\": 14, \"count\": 1, \"fraction0\": 37.037, \"q\": \"0.3p\"}, {\"sim\": 14, \"count\": 1, \"fraction0\": 30.769, \"q\": \"0.3p\"}, {\"sim\": 14, \"count\": 3, \"fraction0\": 70.833, \"q\": \"0.3p\"}, {\"sim\": 14, \"count\": 2, \"fraction0\": 52.941, \"q\": \"0.3p\"}, {\"sim\": 14, \"count\": 3, \"fraction0\": 20.0, \"q\": \"0.3p\"}, {\"sim\": 14, \"count\": 1, \"fraction0\": 43.333, \"q\": \"0.3p\"}, {\"sim\": 14, \"count\": 2, \"fraction0\": 57.895, \"q\": \"0.3p\"}, {\"sim\": 14, \"count\": 2, \"fraction0\": 38.095, \"q\": \"0.3p\"}, {\"sim\": 14, \"count\": 2, \"fraction0\": 60.714, \"q\": \"0.3p\"}, {\"sim\": 14, \"count\": 3, \"fraction0\": 77.778, \"q\": \"0.3p\"}, {\"sim\": 14, \"count\": 5, \"fraction0\": 30.0, \"q\": \"0.3p\"}, {\"sim\": 14, \"count\": 1, \"fraction0\": 80.0, \"q\": \"0.3p\"}, {\"sim\": 14, \"count\": 6, \"fraction0\": 66.667, \"q\": \"0.3p\"}, {\"sim\": 14, \"count\": 2, \"fraction0\": 45.0, \"q\": \"0.3p\"}, {\"sim\": 14, \"count\": 1, \"fraction0\": 5.263, \"q\": \"0.3p\"}, {\"sim\": 14, \"count\": 2, \"fraction0\": 82.609, \"q\": \"0.3p\"}, {\"sim\": 14, \"count\": 4, \"fraction0\": 55.556, \"q\": \"0.3p\"}, {\"sim\": 14, \"count\": 2, \"fraction0\": 48.387, \"q\": \"0.3p\"}, {\"sim\": 14, \"count\": 1, \"fraction0\": 58.621, \"q\": \"0.3p\"}, {\"sim\": 14, \"count\": 3, \"fraction0\": 25.0, \"q\": \"0.3p\"}, {\"sim\": 14, \"count\": 1, \"fraction0\": 46.154, \"q\": \"0.3p\"}, {\"sim\": 14, \"count\": 4, \"fraction0\": 63.636, \"q\": \"0.3p\"}, {\"sim\": 14, \"count\": 3, \"fraction0\": 72.222, \"q\": \"0.3p\"}, {\"sim\": 14, \"count\": 1, \"fraction0\": 10.0, \"q\": \"0.3p\"}, {\"sim\": 14, \"count\": 2, \"fraction0\": 28.571, \"q\": \"0.3p\"}, {\"sim\": 14, \"count\": 3, \"fraction0\": 48.0, \"q\": \"0.3p\"}, {\"sim\": 14, \"count\": 2, \"fraction0\": 68.421, \"q\": \"0.3p\"}, {\"sim\": 14, \"count\": 2, \"fraction0\": 31.818, \"q\": \"0.3p\"}, {\"sim\": 14, \"count\": 3, \"fraction0\": 33.333, \"q\": \"0.3p\"}, {\"sim\": 14, \"count\": 1, \"fraction0\": 26.923, \"q\": \"0.3p\"}, {\"sim\": 14, \"count\": 1, \"fraction0\": 78.947, \"q\": \"0.3p\"}, {\"sim\": 14, \"count\": 2, \"fraction0\": 35.0, \"q\": \"0.3p\"}, {\"sim\": 14, \"count\": 8, \"fraction0\": 50.0, \"q\": \"0.3p\"}, {\"sim\": 14, \"count\": 3, \"fraction0\": 81.25, \"q\": \"0.3p\"}, {\"sim\": 14, \"count\": 2, \"fraction0\": 45.833, \"q\": \"0.3p\"}, {\"sim\": 14, \"count\": 1, \"fraction0\": 47.059, \"q\": \"0.3p\"}, {\"sim\": 14, \"count\": 1, \"fraction0\": 11.765, \"q\": \"0.3p\"}, {\"sim\": 14, \"count\": 1, \"fraction0\": 90.909, \"q\": \"0.3p\"}, {\"sim\": 14, \"count\": 4, \"fraction0\": 57.143, \"q\": \"0.3p\"}, {\"sim\": 14, \"count\": 2, \"fraction0\": 52.174, \"q\": \"0.3p\"}, {\"sim\": 14, \"count\": 1, \"fraction0\": 89.474, \"q\": \"0.3p\"}, {\"sim\": 14, \"count\": 2, \"fraction0\": 45.455, \"q\": \"0.3p\"}, {\"sim\": 14, \"count\": 1, \"fraction0\": 12.5, \"q\": \"0.3p\"}, {\"sim\": 14, \"count\": 3, \"fraction0\": 60.0, \"q\": \"0.3p\"}, {\"sim\": 14, \"count\": 1, \"fraction0\": 76.923, \"q\": \"0.3p\"}, {\"sim\": 14, \"count\": 1, \"fraction0\": 70.37, \"q\": \"0.3p\"}, {\"sim\": 14, \"count\": 1, \"fraction0\": 26.667, \"q\": \"0.3p\"}, {\"sim\": 14, \"count\": 2, \"fraction0\": 26.087, \"q\": \"0.3p\"}, {\"sim\": 14, \"count\": 1, \"fraction0\": 13.636, \"q\": \"0.3p\"}, {\"sim\": 14, \"count\": 1, \"fraction0\": 4.348, \"q\": \"0.3p\"}, {\"sim\": 14, \"count\": 2, \"fraction0\": 68.182, \"q\": \"0.3p\"}, {\"sim\": 14, \"count\": 2, \"fraction0\": 34.483, \"q\": \"0.3p\"}, {\"sim\": 14, \"count\": 1, \"fraction0\": 8.696, \"q\": \"0.3p\"}, {\"sim\": 14, \"count\": 2, \"fraction0\": 29.167, \"q\": \"0.3p\"}, {\"sim\": 14, \"count\": 1, \"fraction0\": 95.455, \"q\": \"0.3p\"}, {\"sim\": 14, \"count\": 2, \"fraction0\": 86.667, \"q\": \"0.3p\"}, {\"sim\": 14, \"count\": 2, \"fraction0\": 52.381, \"q\": \"0.3p\"}, {\"sim\": 14, \"count\": 3, \"fraction0\": 47.368, \"q\": \"0.3p\"}, {\"sim\": 14, \"count\": 2, \"fraction0\": 46.667, \"q\": \"0.3p\"}, {\"sim\": 14, \"count\": 3, \"fraction0\": 88.889, \"q\": \"0.3p\"}, {\"sim\": 14, \"count\": 1, \"fraction0\": 6.667, \"q\": \"0.3p\"}, {\"sim\": 14, \"count\": 2, \"fraction0\": 8.333, \"q\": \"0.3p\"}, {\"sim\": 14, \"count\": 3, \"fraction0\": 15.0, \"q\": \"0.3p\"}, {\"sim\": 14, \"count\": 2, \"fraction0\": 64.286, \"q\": \"0.3p\"}, {\"sim\": 14, \"count\": 2, \"fraction0\": 19.048, \"q\": \"0.3p\"}, {\"sim\": 14, \"count\": 1, \"fraction0\": 59.259, \"q\": \"0.3p\"}, {\"sim\": 14, \"count\": 2, \"fraction0\": 38.889, \"q\": \"0.3p\"}, {\"sim\": 14, \"count\": 2, \"fraction0\": 47.619, \"q\": \"0.3p\"}, {\"sim\": 14, \"count\": 1, \"fraction0\": 80.952, \"q\": \"0.3p\"}, {\"sim\": 14, \"count\": 2, \"fraction0\": 40.0, \"q\": \"0.3p\"}, {\"sim\": 14, \"count\": 2, \"fraction0\": 61.538, \"q\": \"0.3p\"}, {\"sim\": 14, \"count\": 2, \"fraction0\": 34.783, \"q\": \"0.3p\"}, {\"sim\": 14, \"count\": 1, \"fraction0\": 56.25, \"q\": \"0.3p\"}, {\"sim\": 14, \"count\": 1, \"fraction0\": 48.148, \"q\": \"0.3p\"}, {\"sim\": 14, \"count\": 1, \"fraction0\": 51.613, \"q\": \"0.3p\"}, {\"sim\": 14, \"count\": 1, \"fraction0\": 43.75, \"q\": \"0.3p\"}, {\"sim\": 14, \"count\": 5, \"fraction0\": 90.0, \"q\": \"0.3p\"}, {\"sim\": 14, \"count\": 1, \"fraction0\": 41.176, \"q\": \"0.3p\"}, {\"sim\": 14, \"count\": 4, \"fraction0\": 73.077, \"q\": \"0.3p\"}, {\"sim\": 14, \"count\": 1, \"fraction0\": 91.667, \"q\": \"0.3p\"}, {\"sim\": 14, \"count\": 1, \"fraction0\": 53.846, \"q\": \"0.3p\"}, {\"sim\": 14, \"count\": 2, \"fraction0\": 76.471, \"q\": \"0.3p\"}, {\"sim\": 14, \"count\": 2, \"fraction0\": 36.364, \"q\": \"0.3p\"}, {\"sim\": 14, \"count\": 1, \"fraction0\": 43.478, \"q\": \"0.3p\"}, {\"sim\": 14, \"count\": 2, \"fraction0\": 18.182, \"q\": \"0.3p\"}, {\"sim\": 14, \"count\": 1, \"fraction0\": 84.211, \"q\": \"0.3p\"}, {\"sim\": 14, \"count\": 2, \"fraction0\": 23.81, \"q\": \"0.3p\"}, {\"sim\": 14, \"count\": 1, \"fraction0\": 12.0, \"q\": \"0.3p\"}, {\"sim\": 14, \"count\": 1, \"fraction0\": 68.0, \"q\": \"0.3p\"}, {\"sim\": 14, \"count\": 1, \"fraction0\": 72.727, \"q\": \"0.3p\"}, {\"sim\": 14, \"count\": 1, \"fraction0\": 26.316, \"q\": \"0.3p\"}, {\"sim\": 14, \"count\": 2, \"fraction0\": 52.632, \"q\": \"0.3p\"}, {\"sim\": 14, \"count\": 2, \"fraction0\": 81.818, \"q\": \"0.3p\"}, {\"sim\": 14, \"count\": 4, \"fraction0\": 62.5, \"q\": \"0.3p\"}, {\"sim\": 14, \"count\": 1, \"fraction0\": 79.167, \"q\": \"0.3p\"}, {\"sim\": 14, \"count\": 1, \"fraction0\": 14.815, \"q\": \"0.3p\"}, {\"sim\": 14, \"count\": 1, \"fraction0\": 21.739, \"q\": \"0.3p\"}, {\"sim\": 14, \"count\": 1, \"fraction0\": 11.111, \"q\": \"0.3p\"}, {\"sim\": 14, \"count\": 2, \"fraction0\": 70.588, \"q\": \"0.3p\"}, {\"sim\": 14, \"count\": 2, \"fraction0\": 35.294, \"q\": \"0.3p\"}, {\"sim\": 14, \"count\": 1, \"fraction0\": 37.5, \"q\": \"0.3p\"}, {\"sim\": 14, \"count\": 3, \"fraction0\": 58.824, \"q\": \"0.3p\"}, {\"sim\": 14, \"count\": 1, \"fraction0\": 61.111, \"q\": \"0.3p\"}, {\"sim\": 14, \"count\": 1, \"fraction0\": 86.364, \"q\": \"0.3p\"}, {\"sim\": 14, \"count\": 2, \"fraction0\": 42.857, \"q\": \"0.3p\"}, {\"sim\": 14, \"count\": 1, \"fraction0\": 28.125, \"q\": \"0.3p\"}, {\"sim\": 14, \"count\": 2, \"fraction0\": 76.19, \"q\": \"0.3p\"}, {\"sim\": 14, \"count\": 3, \"fraction0\": 44.444, \"q\": \"0.3p\"}, {\"sim\": 14, \"count\": 1, \"fraction0\": 0.0, \"q\": \"0.3p\"}, {\"sim\": 14, \"count\": 1, \"fraction0\": 76.667, \"q\": \"0.3p\"}, {\"sim\": 14, \"count\": 1, \"fraction0\": 76.0, \"q\": \"0.3p\"}, {\"sim\": 14, \"count\": 1, \"fraction0\": 68.75, \"q\": \"0.3p\"}, {\"sim\": 14, \"count\": 1, \"fraction0\": 31.579, \"q\": \"0.3p\"}, {\"sim\": 14, \"count\": 1, \"fraction0\": 65.217, \"q\": \"0.3p\"}, {\"sim\": 14, \"count\": 1, \"fraction0\": 21.053, \"q\": \"0.3p\"}, {\"sim\": 14, \"count\": 1, \"fraction0\": 60.87, \"q\": \"0.3p\"}, {\"sim\": 14, \"count\": 1, \"fraction0\": 46.429, \"q\": \"0.3p\"}, {\"sim\": 14, \"count\": 1, \"fraction0\": 16.667, \"q\": \"0.3p\"}, {\"sim\": 14, \"count\": 1, \"fraction0\": 18.75, \"q\": \"0.3p\"}, {\"sim\": 14, \"count\": 2, \"fraction0\": 22.727, \"q\": \"0.3p\"}, {\"sim\": 14, \"count\": 1, \"fraction0\": 87.5, \"q\": \"0.3p\"}, {\"sim\": 14, \"count\": 1, \"fraction0\": 44.0, \"q\": \"0.3p\"}, {\"sim\": 14, \"count\": 1, \"fraction0\": 64.706, \"q\": \"0.3p\"}, {\"sim\": 14, \"count\": 1, \"fraction0\": 63.158, \"q\": \"0.3p\"}, {\"sim\": 15, \"count\": 2, \"fraction0\": 37.5, \"q\": \"0.25p\"}, {\"sim\": 15, \"count\": 3, \"fraction0\": 47.619, \"q\": \"0.25p\"}, {\"sim\": 15, \"count\": 4, \"fraction0\": 100.0, \"q\": \"0.25p\"}, {\"sim\": 15, \"count\": 4, \"fraction0\": 76.471, \"q\": \"0.25p\"}, {\"sim\": 15, \"count\": 6, \"fraction0\": 50.0, \"q\": \"0.25p\"}, {\"sim\": 15, \"count\": 4, \"fraction0\": 70.588, \"q\": \"0.25p\"}, {\"sim\": 15, \"count\": 1, \"fraction0\": 20.833, \"q\": \"0.25p\"}, {\"sim\": 15, \"count\": 1, \"fraction0\": 21.875, \"q\": \"0.25p\"}, {\"sim\": 15, \"count\": 7, \"fraction0\": 33.333, \"q\": \"0.25p\"}, {\"sim\": 15, \"count\": 6, \"fraction0\": 77.778, \"q\": \"0.25p\"}, {\"sim\": 15, \"count\": 2, \"fraction0\": 46.154, \"q\": \"0.25p\"}, {\"sim\": 15, \"count\": 2, \"fraction0\": 10.526, \"q\": \"0.25p\"}, {\"sim\": 15, \"count\": 4, \"fraction0\": 57.143, \"q\": \"0.25p\"}, {\"sim\": 15, \"count\": 1, \"fraction0\": 26.667, \"q\": \"0.25p\"}, {\"sim\": 15, \"count\": 4, \"fraction0\": 56.522, \"q\": \"0.25p\"}, {\"sim\": 15, \"count\": 3, \"fraction0\": 71.429, \"q\": \"0.25p\"}, {\"sim\": 15, \"count\": 1, \"fraction0\": 21.429, \"q\": \"0.25p\"}, {\"sim\": 15, \"count\": 7, \"fraction0\": 0.0, \"q\": \"0.25p\"}, {\"sim\": 15, \"count\": 3, \"fraction0\": 17.647, \"q\": \"0.25p\"}, {\"sim\": 15, \"count\": 3, \"fraction0\": 84.211, \"q\": \"0.25p\"}, {\"sim\": 15, \"count\": 2, \"fraction0\": 58.333, \"q\": \"0.25p\"}, {\"sim\": 15, \"count\": 1, \"fraction0\": 95.238, \"q\": \"0.25p\"}, {\"sim\": 15, \"count\": 2, \"fraction0\": 84.0, \"q\": \"0.25p\"}, {\"sim\": 15, \"count\": 4, \"fraction0\": 15.789, \"q\": \"0.25p\"}, {\"sim\": 15, \"count\": 1, \"fraction0\": 30.0, \"q\": \"0.25p\"}, {\"sim\": 15, \"count\": 4, \"fraction0\": 85.714, \"q\": \"0.25p\"}, {\"sim\": 15, \"count\": 1, \"fraction0\": 45.455, \"q\": \"0.25p\"}, {\"sim\": 15, \"count\": 1, \"fraction0\": 45.161, \"q\": \"0.25p\"}, {\"sim\": 15, \"count\": 1, \"fraction0\": 36.364, \"q\": \"0.25p\"}, {\"sim\": 15, \"count\": 1, \"fraction0\": 38.095, \"q\": \"0.25p\"}, {\"sim\": 15, \"count\": 5, \"fraction0\": 60.0, \"q\": \"0.25p\"}, {\"sim\": 15, \"count\": 2, \"fraction0\": 80.0, \"q\": \"0.25p\"}, {\"sim\": 15, \"count\": 3, \"fraction0\": 78.947, \"q\": \"0.25p\"}, {\"sim\": 15, \"count\": 2, \"fraction0\": 30.435, \"q\": \"0.25p\"}, {\"sim\": 15, \"count\": 2, \"fraction0\": 66.667, \"q\": \"0.25p\"}, {\"sim\": 15, \"count\": 1, \"fraction0\": 13.333, \"q\": \"0.25p\"}, {\"sim\": 15, \"count\": 1, \"fraction0\": 85.185, \"q\": \"0.25p\"}, {\"sim\": 15, \"count\": 2, \"fraction0\": 16.667, \"q\": \"0.25p\"}, {\"sim\": 15, \"count\": 4, \"fraction0\": 42.857, \"q\": \"0.25p\"}, {\"sim\": 15, \"count\": 2, \"fraction0\": 41.176, \"q\": \"0.25p\"}, {\"sim\": 15, \"count\": 3, \"fraction0\": 29.167, \"q\": \"0.25p\"}, {\"sim\": 15, \"count\": 4, \"fraction0\": 79.167, \"q\": \"0.25p\"}, {\"sim\": 15, \"count\": 1, \"fraction0\": 52.381, \"q\": \"0.25p\"}, {\"sim\": 15, \"count\": 4, \"fraction0\": 75.0, \"q\": \"0.25p\"}, {\"sim\": 15, \"count\": 5, \"fraction0\": 28.571, \"q\": \"0.25p\"}, {\"sim\": 15, \"count\": 2, \"fraction0\": 22.222, \"q\": \"0.25p\"}, {\"sim\": 15, \"count\": 2, \"fraction0\": 54.545, \"q\": \"0.25p\"}, {\"sim\": 15, \"count\": 5, \"fraction0\": 52.174, \"q\": \"0.25p\"}, {\"sim\": 15, \"count\": 3, \"fraction0\": 76.923, \"q\": \"0.25p\"}, {\"sim\": 15, \"count\": 4, \"fraction0\": 38.889, \"q\": \"0.25p\"}, {\"sim\": 15, \"count\": 1, \"fraction0\": 25.926, \"q\": \"0.25p\"}, {\"sim\": 15, \"count\": 2, \"fraction0\": 10.0, \"q\": \"0.25p\"}, {\"sim\": 15, \"count\": 2, \"fraction0\": 83.333, \"q\": \"0.25p\"}, {\"sim\": 15, \"count\": 1, \"fraction0\": 7.692, \"q\": \"0.25p\"}, {\"sim\": 15, \"count\": 2, \"fraction0\": 43.75, \"q\": \"0.25p\"}, {\"sim\": 15, \"count\": 1, \"fraction0\": 70.0, \"q\": \"0.25p\"}, {\"sim\": 15, \"count\": 2, \"fraction0\": 62.5, \"q\": \"0.25p\"}, {\"sim\": 15, \"count\": 1, \"fraction0\": 94.118, \"q\": \"0.25p\"}, {\"sim\": 15, \"count\": 2, \"fraction0\": 15.0, \"q\": \"0.25p\"}, {\"sim\": 15, \"count\": 1, \"fraction0\": 7.143, \"q\": \"0.25p\"}, {\"sim\": 15, \"count\": 1, \"fraction0\": 73.684, \"q\": \"0.25p\"}, {\"sim\": 15, \"count\": 1, \"fraction0\": 94.444, \"q\": \"0.25p\"}, {\"sim\": 15, \"count\": 1, \"fraction0\": 5.0, \"q\": \"0.25p\"}, {\"sim\": 15, \"count\": 1, \"fraction0\": 8.0, \"q\": \"0.25p\"}, {\"sim\": 15, \"count\": 1, \"fraction0\": 81.25, \"q\": \"0.25p\"}, {\"sim\": 15, \"count\": 1, \"fraction0\": 44.444, \"q\": \"0.25p\"}, {\"sim\": 15, \"count\": 2, \"fraction0\": 77.273, \"q\": \"0.25p\"}, {\"sim\": 15, \"count\": 2, \"fraction0\": 9.524, \"q\": \"0.25p\"}, {\"sim\": 15, \"count\": 2, \"fraction0\": 88.889, \"q\": \"0.25p\"}, {\"sim\": 15, \"count\": 1, \"fraction0\": 23.077, \"q\": \"0.25p\"}, {\"sim\": 15, \"count\": 1, \"fraction0\": 45.833, \"q\": \"0.25p\"}, {\"sim\": 15, \"count\": 2, \"fraction0\": 45.0, \"q\": \"0.25p\"}, {\"sim\": 15, \"count\": 1, \"fraction0\": 24.0, \"q\": \"0.25p\"}, {\"sim\": 15, \"count\": 3, \"fraction0\": 58.824, \"q\": \"0.25p\"}, {\"sim\": 15, \"count\": 1, \"fraction0\": 73.077, \"q\": \"0.25p\"}, {\"sim\": 15, \"count\": 3, \"fraction0\": 31.818, \"q\": \"0.25p\"}, {\"sim\": 15, \"count\": 3, \"fraction0\": 54.167, \"q\": \"0.25p\"}, {\"sim\": 15, \"count\": 1, \"fraction0\": 8.696, \"q\": \"0.25p\"}, {\"sim\": 15, \"count\": 1, \"fraction0\": 19.231, \"q\": \"0.25p\"}, {\"sim\": 15, \"count\": 1, \"fraction0\": 27.778, \"q\": \"0.25p\"}, {\"sim\": 15, \"count\": 1, \"fraction0\": 36.0, \"q\": \"0.25p\"}, {\"sim\": 15, \"count\": 1, \"fraction0\": 78.125, \"q\": \"0.25p\"}, {\"sim\": 15, \"count\": 2, \"fraction0\": 20.0, \"q\": \"0.25p\"}, {\"sim\": 15, \"count\": 1, \"fraction0\": 23.81, \"q\": \"0.25p\"}, {\"sim\": 15, \"count\": 1, \"fraction0\": 19.048, \"q\": \"0.25p\"}, {\"sim\": 15, \"count\": 1, \"fraction0\": 12.5, \"q\": \"0.25p\"}, {\"sim\": 15, \"count\": 1, \"fraction0\": 29.63, \"q\": \"0.25p\"}, {\"sim\": 15, \"count\": 2, \"fraction0\": 6.25, \"q\": \"0.25p\"}, {\"sim\": 15, \"count\": 1, \"fraction0\": 65.0, \"q\": \"0.25p\"}, {\"sim\": 15, \"count\": 1, \"fraction0\": 38.462, \"q\": \"0.25p\"}, {\"sim\": 15, \"count\": 2, \"fraction0\": 68.182, \"q\": \"0.25p\"}, {\"sim\": 15, \"count\": 1, \"fraction0\": 93.333, \"q\": \"0.25p\"}, {\"sim\": 15, \"count\": 4, \"fraction0\": 69.231, \"q\": \"0.25p\"}, {\"sim\": 15, \"count\": 2, \"fraction0\": 64.706, \"q\": \"0.25p\"}, {\"sim\": 15, \"count\": 1, \"fraction0\": 64.0, \"q\": \"0.25p\"}, {\"sim\": 15, \"count\": 1, \"fraction0\": 93.75, \"q\": \"0.25p\"}, {\"sim\": 15, \"count\": 1, \"fraction0\": 5.263, \"q\": \"0.25p\"}, {\"sim\": 15, \"count\": 1, \"fraction0\": 16.0, \"q\": \"0.25p\"}, {\"sim\": 15, \"count\": 1, \"fraction0\": 62.963, \"q\": \"0.25p\"}, {\"sim\": 15, \"count\": 2, \"fraction0\": 15.385, \"q\": \"0.25p\"}, {\"sim\": 15, \"count\": 1, \"fraction0\": 17.241, \"q\": \"0.25p\"}, {\"sim\": 15, \"count\": 1, \"fraction0\": 87.5, \"q\": \"0.25p\"}, {\"sim\": 15, \"count\": 3, \"fraction0\": 68.75, \"q\": \"0.25p\"}, {\"sim\": 15, \"count\": 1, \"fraction0\": 23.529, \"q\": \"0.25p\"}, {\"sim\": 15, \"count\": 1, \"fraction0\": 52.632, \"q\": \"0.25p\"}, {\"sim\": 15, \"count\": 2, \"fraction0\": 40.741, \"q\": \"0.25p\"}, {\"sim\": 15, \"count\": 1, \"fraction0\": 82.609, \"q\": \"0.25p\"}, {\"sim\": 15, \"count\": 1, \"fraction0\": 64.286, \"q\": \"0.25p\"}, {\"sim\": 15, \"count\": 1, \"fraction0\": 6.667, \"q\": \"0.25p\"}, {\"sim\": 15, \"count\": 1, \"fraction0\": 26.316, \"q\": \"0.25p\"}, {\"sim\": 15, \"count\": 2, \"fraction0\": 63.158, \"q\": \"0.25p\"}, {\"sim\": 15, \"count\": 1, \"fraction0\": 92.308, \"q\": \"0.25p\"}, {\"sim\": 15, \"count\": 2, \"fraction0\": 72.222, \"q\": \"0.25p\"}, {\"sim\": 15, \"count\": 1, \"fraction0\": 32.143, \"q\": \"0.25p\"}, {\"sim\": 15, \"count\": 2, \"fraction0\": 90.0, \"q\": \"0.25p\"}, {\"sim\": 15, \"count\": 2, \"fraction0\": 65.217, \"q\": \"0.25p\"}, {\"sim\": 15, \"count\": 1, \"fraction0\": 22.727, \"q\": \"0.25p\"}, {\"sim\": 15, \"count\": 2, \"fraction0\": 78.571, \"q\": \"0.25p\"}, {\"sim\": 15, \"count\": 1, \"fraction0\": 55.0, \"q\": \"0.25p\"}, {\"sim\": 15, \"count\": 1, \"fraction0\": 18.75, \"q\": \"0.25p\"}, {\"sim\": 15, \"count\": 1, \"fraction0\": 29.412, \"q\": \"0.25p\"}, {\"sim\": 15, \"count\": 1, \"fraction0\": 60.87, \"q\": \"0.25p\"}, {\"sim\": 15, \"count\": 1, \"fraction0\": 53.333, \"q\": \"0.25p\"}, {\"sim\": 15, \"count\": 1, \"fraction0\": 88.235, \"q\": \"0.25p\"}, {\"sim\": 15, \"count\": 1, \"fraction0\": 47.059, \"q\": \"0.25p\"}, {\"sim\": 15, \"count\": 1, \"fraction0\": 59.091, \"q\": \"0.25p\"}, {\"sim\": 16, \"count\": 4, \"fraction0\": 10.0, \"q\": \"0.2p\"}, {\"sim\": 16, \"count\": 3, \"fraction0\": 42.857, \"q\": \"0.2p\"}, {\"sim\": 16, \"count\": 1, \"fraction0\": 72.222, \"q\": \"0.2p\"}, {\"sim\": 16, \"count\": 2, \"fraction0\": 71.429, \"q\": \"0.2p\"}, {\"sim\": 16, \"count\": 3, \"fraction0\": 28.571, \"q\": \"0.2p\"}, {\"sim\": 16, \"count\": 2, \"fraction0\": 6.667, \"q\": \"0.2p\"}, {\"sim\": 16, \"count\": 2, \"fraction0\": 9.091, \"q\": \"0.2p\"}, {\"sim\": 16, \"count\": 2, \"fraction0\": 80.0, \"q\": \"0.2p\"}, {\"sim\": 16, \"count\": 1, \"fraction0\": 12.5, \"q\": \"0.2p\"}, {\"sim\": 16, \"count\": 7, \"fraction0\": 40.0, \"q\": \"0.2p\"}, {\"sim\": 16, \"count\": 8, \"fraction0\": 0.0, \"q\": \"0.2p\"}, {\"sim\": 16, \"count\": 5, \"fraction0\": 33.333, \"q\": \"0.2p\"}, {\"sim\": 16, \"count\": 2, \"fraction0\": 14.286, \"q\": \"0.2p\"}, {\"sim\": 16, \"count\": 5, \"fraction0\": 16.667, \"q\": \"0.2p\"}, {\"sim\": 16, \"count\": 1, \"fraction0\": 29.167, \"q\": \"0.2p\"}, {\"sim\": 16, \"count\": 1, \"fraction0\": 78.947, \"q\": \"0.2p\"}, {\"sim\": 16, \"count\": 2, \"fraction0\": 23.077, \"q\": \"0.2p\"}, {\"sim\": 16, \"count\": 10, \"fraction0\": 66.667, \"q\": \"0.2p\"}, {\"sim\": 16, \"count\": 3, \"fraction0\": 31.579, \"q\": \"0.2p\"}, {\"sim\": 16, \"count\": 4, \"fraction0\": 45.0, \"q\": \"0.2p\"}, {\"sim\": 16, \"count\": 1, \"fraction0\": 31.818, \"q\": \"0.2p\"}, {\"sim\": 16, \"count\": 2, \"fraction0\": 42.105, \"q\": \"0.2p\"}, {\"sim\": 16, \"count\": 10, \"fraction0\": 75.0, \"q\": \"0.2p\"}, {\"sim\": 16, \"count\": 3, \"fraction0\": 21.053, \"q\": \"0.2p\"}, {\"sim\": 16, \"count\": 5, \"fraction0\": 20.0, \"q\": \"0.2p\"}, {\"sim\": 16, \"count\": 2, \"fraction0\": 37.5, \"q\": \"0.2p\"}, {\"sim\": 16, \"count\": 1, \"fraction0\": 86.667, \"q\": \"0.2p\"}, {\"sim\": 16, \"count\": 2, \"fraction0\": 47.059, \"q\": \"0.2p\"}, {\"sim\": 16, \"count\": 1, \"fraction0\": 8.333, \"q\": \"0.2p\"}, {\"sim\": 16, \"count\": 2, \"fraction0\": 23.81, \"q\": \"0.2p\"}, {\"sim\": 16, \"count\": 1, \"fraction0\": 18.75, \"q\": \"0.2p\"}, {\"sim\": 16, \"count\": 2, \"fraction0\": 26.667, \"q\": \"0.2p\"}, {\"sim\": 16, \"count\": 1, \"fraction0\": 27.586, \"q\": \"0.2p\"}, {\"sim\": 16, \"count\": 1, \"fraction0\": 27.778, \"q\": \"0.2p\"}, {\"sim\": 16, \"count\": 2, \"fraction0\": 85.0, \"q\": \"0.2p\"}, {\"sim\": 16, \"count\": 1, \"fraction0\": 76.19, \"q\": \"0.2p\"}, {\"sim\": 16, \"count\": 1, \"fraction0\": 42.308, \"q\": \"0.2p\"}, {\"sim\": 16, \"count\": 1, \"fraction0\": 22.222, \"q\": \"0.2p\"}, {\"sim\": 16, \"count\": 1, \"fraction0\": 6.25, \"q\": \"0.2p\"}, {\"sim\": 16, \"count\": 6, \"fraction0\": 100.0, \"q\": \"0.2p\"}, {\"sim\": 16, \"count\": 1, \"fraction0\": 5.263, \"q\": \"0.2p\"}, {\"sim\": 16, \"count\": 2, \"fraction0\": 53.333, \"q\": \"0.2p\"}, {\"sim\": 16, \"count\": 2, \"fraction0\": 73.684, \"q\": \"0.2p\"}, {\"sim\": 16, \"count\": 1, \"fraction0\": 96.296, \"q\": \"0.2p\"}, {\"sim\": 16, \"count\": 1, \"fraction0\": 61.905, \"q\": \"0.2p\"}, {\"sim\": 16, \"count\": 1, \"fraction0\": 93.103, \"q\": \"0.2p\"}, {\"sim\": 16, \"count\": 2, \"fraction0\": 23.529, \"q\": \"0.2p\"}, {\"sim\": 16, \"count\": 1, \"fraction0\": 52.0, \"q\": \"0.2p\"}, {\"sim\": 16, \"count\": 2, \"fraction0\": 82.353, \"q\": \"0.2p\"}, {\"sim\": 16, \"count\": 1, \"fraction0\": 58.621, \"q\": \"0.2p\"}, {\"sim\": 16, \"count\": 1, \"fraction0\": 57.692, \"q\": \"0.2p\"}, {\"sim\": 16, \"count\": 1, \"fraction0\": 44.828, \"q\": \"0.2p\"}, {\"sim\": 16, \"count\": 2, \"fraction0\": 90.909, \"q\": \"0.2p\"}, {\"sim\": 16, \"count\": 1, \"fraction0\": 30.435, \"q\": \"0.2p\"}, {\"sim\": 16, \"count\": 2, \"fraction0\": 47.368, \"q\": \"0.2p\"}, {\"sim\": 16, \"count\": 3, \"fraction0\": 18.182, \"q\": \"0.2p\"}, {\"sim\": 16, \"count\": 2, \"fraction0\": 65.0, \"q\": \"0.2p\"}, {\"sim\": 16, \"count\": 2, \"fraction0\": 87.5, \"q\": \"0.2p\"}, {\"sim\": 16, \"count\": 1, \"fraction0\": 84.211, \"q\": \"0.2p\"}, {\"sim\": 16, \"count\": 3, \"fraction0\": 81.25, \"q\": \"0.2p\"}, {\"sim\": 16, \"count\": 1, \"fraction0\": 22.727, \"q\": \"0.2p\"}, {\"sim\": 16, \"count\": 1, \"fraction0\": 4.0, \"q\": \"0.2p\"}, {\"sim\": 16, \"count\": 2, \"fraction0\": 50.0, \"q\": \"0.2p\"}, {\"sim\": 16, \"count\": 1, \"fraction0\": 94.444, \"q\": \"0.2p\"}, {\"sim\": 16, \"count\": 1, \"fraction0\": 24.0, \"q\": \"0.2p\"}, {\"sim\": 16, \"count\": 2, \"fraction0\": 41.667, \"q\": \"0.2p\"}, {\"sim\": 16, \"count\": 3, \"fraction0\": 46.154, \"q\": \"0.2p\"}, {\"sim\": 16, \"count\": 1, \"fraction0\": 19.048, \"q\": \"0.2p\"}, {\"sim\": 16, \"count\": 1, \"fraction0\": 76.471, \"q\": \"0.2p\"}, {\"sim\": 16, \"count\": 3, \"fraction0\": 38.889, \"q\": \"0.2p\"}, {\"sim\": 16, \"count\": 1, \"fraction0\": 80.952, \"q\": \"0.2p\"}, {\"sim\": 16, \"count\": 2, \"fraction0\": 73.913, \"q\": \"0.2p\"}, {\"sim\": 16, \"count\": 1, \"fraction0\": 39.13, \"q\": \"0.2p\"}, {\"sim\": 16, \"count\": 1, \"fraction0\": 35.294, \"q\": \"0.2p\"}, {\"sim\": 16, \"count\": 1, \"fraction0\": 31.034, \"q\": \"0.2p\"}, {\"sim\": 16, \"count\": 1, \"fraction0\": 68.0, \"q\": \"0.2p\"}, {\"sim\": 16, \"count\": 3, \"fraction0\": 5.882, \"q\": \"0.2p\"}, {\"sim\": 16, \"count\": 1, \"fraction0\": 92.857, \"q\": \"0.2p\"}, {\"sim\": 16, \"count\": 1, \"fraction0\": 61.111, \"q\": \"0.2p\"}, {\"sim\": 16, \"count\": 2, \"fraction0\": 53.846, \"q\": \"0.2p\"}, {\"sim\": 16, \"count\": 2, \"fraction0\": 36.364, \"q\": \"0.2p\"}, {\"sim\": 16, \"count\": 2, \"fraction0\": 9.524, \"q\": \"0.2p\"}, {\"sim\": 16, \"count\": 2, \"fraction0\": 76.923, \"q\": \"0.2p\"}, {\"sim\": 16, \"count\": 1, \"fraction0\": 73.333, \"q\": \"0.2p\"}, {\"sim\": 16, \"count\": 2, \"fraction0\": 83.333, \"q\": \"0.2p\"}, {\"sim\": 16, \"count\": 2, \"fraction0\": 7.692, \"q\": \"0.2p\"}, {\"sim\": 16, \"count\": 2, \"fraction0\": 62.5, \"q\": \"0.2p\"}, {\"sim\": 16, \"count\": 1, \"fraction0\": 10.345, \"q\": \"0.2p\"}, {\"sim\": 16, \"count\": 1, \"fraction0\": 36.0, \"q\": \"0.2p\"}, {\"sim\": 16, \"count\": 1, \"fraction0\": 46.667, \"q\": \"0.2p\"}, {\"sim\": 16, \"count\": 1, \"fraction0\": 21.429, \"q\": \"0.2p\"}, {\"sim\": 16, \"count\": 2, \"fraction0\": 25.0, \"q\": \"0.2p\"}, {\"sim\": 16, \"count\": 2, \"fraction0\": 63.158, \"q\": \"0.2p\"}, {\"sim\": 16, \"count\": 1, \"fraction0\": 72.727, \"q\": \"0.2p\"}, {\"sim\": 16, \"count\": 2, \"fraction0\": 15.789, \"q\": \"0.2p\"}, {\"sim\": 16, \"count\": 2, \"fraction0\": 90.476, \"q\": \"0.2p\"}, {\"sim\": 16, \"count\": 1, \"fraction0\": 17.647, \"q\": \"0.2p\"}, {\"sim\": 16, \"count\": 1, \"fraction0\": 54.545, \"q\": \"0.2p\"}, {\"sim\": 16, \"count\": 1, \"fraction0\": 86.364, \"q\": \"0.2p\"}, {\"sim\": 16, \"count\": 2, \"fraction0\": 30.769, \"q\": \"0.2p\"}, {\"sim\": 16, \"count\": 1, \"fraction0\": 52.632, \"q\": \"0.2p\"}, {\"sim\": 16, \"count\": 1, \"fraction0\": 5.556, \"q\": \"0.2p\"}, {\"sim\": 16, \"count\": 1, \"fraction0\": 45.455, \"q\": \"0.2p\"}, {\"sim\": 16, \"count\": 1, \"fraction0\": 9.375, \"q\": \"0.2p\"}, {\"sim\": 16, \"count\": 1, \"fraction0\": 29.412, \"q\": \"0.2p\"}, {\"sim\": 16, \"count\": 1, \"fraction0\": 55.0, \"q\": \"0.2p\"}, {\"sim\": 16, \"count\": 1, \"fraction0\": 11.538, \"q\": \"0.2p\"}, {\"sim\": 16, \"count\": 1, \"fraction0\": 88.235, \"q\": \"0.2p\"}, {\"sim\": 16, \"count\": 1, \"fraction0\": 69.231, \"q\": \"0.2p\"}, {\"sim\": 16, \"count\": 1, \"fraction0\": 86.957, \"q\": \"0.2p\"}, {\"sim\": 16, \"count\": 1, \"fraction0\": 26.316, \"q\": \"0.2p\"}, {\"sim\": 16, \"count\": 1, \"fraction0\": 96.154, \"q\": \"0.2p\"}, {\"sim\": 16, \"count\": 1, \"fraction0\": 70.833, \"q\": \"0.2p\"}, {\"sim\": 16, \"count\": 1, \"fraction0\": 13.333, \"q\": \"0.2p\"}, {\"sim\": 16, \"count\": 1, \"fraction0\": 93.75, \"q\": \"0.2p\"}, {\"sim\": 16, \"count\": 2, \"fraction0\": 40.909, \"q\": \"0.2p\"}, {\"sim\": 16, \"count\": 1, \"fraction0\": 69.565, \"q\": \"0.2p\"}, {\"sim\": 16, \"count\": 1, \"fraction0\": 55.556, \"q\": \"0.2p\"}, {\"sim\": 16, \"count\": 1, \"fraction0\": 20.833, \"q\": \"0.2p\"}, {\"sim\": 16, \"count\": 1, \"fraction0\": 95.652, \"q\": \"0.2p\"}, {\"sim\": 16, \"count\": 1, \"fraction0\": 60.87, \"q\": \"0.2p\"}, {\"sim\": 16, \"count\": 1, \"fraction0\": 57.143, \"q\": \"0.2p\"}, {\"sim\": 16, \"count\": 1, \"fraction0\": 57.895, \"q\": \"0.2p\"}, {\"sim\": 16, \"count\": 2, \"fraction0\": 35.714, \"q\": \"0.2p\"}, {\"sim\": 16, \"count\": 2, \"fraction0\": 91.667, \"q\": \"0.2p\"}, {\"sim\": 16, \"count\": 1, \"fraction0\": 79.167, \"q\": \"0.2p\"}, {\"sim\": 16, \"count\": 1, \"fraction0\": 11.111, \"q\": \"0.2p\"}, {\"sim\": 16, \"count\": 1, \"fraction0\": 94.118, \"q\": \"0.2p\"}, {\"sim\": 16, \"count\": 1, \"fraction0\": 7.143, \"q\": \"0.2p\"}, {\"sim\": 16, \"count\": 1, \"fraction0\": 10.526, \"q\": \"0.2p\"}, {\"sim\": 16, \"count\": 1, \"fraction0\": 38.462, \"q\": \"0.2p\"}, {\"sim\": 16, \"count\": 1, \"fraction0\": 63.636, \"q\": \"0.2p\"}, {\"sim\": 16, \"count\": 1, \"fraction0\": 35.0, \"q\": \"0.2p\"}, {\"sim\": 16, \"count\": 2, \"fraction0\": 82.609, \"q\": \"0.2p\"}, {\"sim\": 16, \"count\": 1, \"fraction0\": 68.182, \"q\": \"0.2p\"}, {\"sim\": 16, \"count\": 1, \"fraction0\": 78.571, \"q\": \"0.2p\"}, {\"sim\": 16, \"count\": 1, \"fraction0\": 81.818, \"q\": \"0.2p\"}, {\"sim\": 16, \"count\": 1, \"fraction0\": 70.588, \"q\": \"0.2p\"}, {\"sim\": 16, \"count\": 1, \"fraction0\": 52.941, \"q\": \"0.2p\"}, {\"sim\": 17, \"count\": 1, \"fraction0\": 61.111, \"q\": \"0.15p\"}, {\"sim\": 17, \"count\": 1, \"fraction0\": 18.75, \"q\": \"0.15p\"}, {\"sim\": 17, \"count\": 3, \"fraction0\": 16.667, \"q\": \"0.15p\"}, {\"sim\": 17, \"count\": 2, \"fraction0\": 68.421, \"q\": \"0.15p\"}, {\"sim\": 17, \"count\": 2, \"fraction0\": 10.526, \"q\": \"0.15p\"}, {\"sim\": 17, \"count\": 2, \"fraction0\": 76.19, \"q\": \"0.15p\"}, {\"sim\": 17, \"count\": 3, \"fraction0\": 41.176, \"q\": \"0.15p\"}, {\"sim\": 17, \"count\": 17, \"fraction0\": 100.0, \"q\": \"0.15p\"}, {\"sim\": 17, \"count\": 4, \"fraction0\": 14.286, \"q\": \"0.15p\"}, {\"sim\": 17, \"count\": 2, \"fraction0\": 45.455, \"q\": \"0.15p\"}, {\"sim\": 17, \"count\": 5, \"fraction0\": 83.333, \"q\": \"0.15p\"}, {\"sim\": 17, \"count\": 3, \"fraction0\": 64.706, \"q\": \"0.15p\"}, {\"sim\": 17, \"count\": 2, \"fraction0\": 40.0, \"q\": \"0.15p\"}, {\"sim\": 17, \"count\": 2, \"fraction0\": 42.857, \"q\": \"0.15p\"}, {\"sim\": 17, \"count\": 2, \"fraction0\": 94.118, \"q\": \"0.15p\"}, {\"sim\": 17, \"count\": 2, \"fraction0\": 61.905, \"q\": \"0.15p\"}, {\"sim\": 17, \"count\": 1, \"fraction0\": 93.333, \"q\": \"0.15p\"}, {\"sim\": 17, \"count\": 1, \"fraction0\": 6.667, \"q\": \"0.15p\"}, {\"sim\": 17, \"count\": 2, \"fraction0\": 4.348, \"q\": \"0.15p\"}, {\"sim\": 17, \"count\": 12, \"fraction0\": 0.0, \"q\": \"0.15p\"}, {\"sim\": 17, \"count\": 4, \"fraction0\": 66.667, \"q\": \"0.15p\"}, {\"sim\": 17, \"count\": 8, \"fraction0\": 25.0, \"q\": \"0.15p\"}, {\"sim\": 17, \"count\": 2, \"fraction0\": 92.857, \"q\": \"0.15p\"}, {\"sim\": 17, \"count\": 1, \"fraction0\": 15.0, \"q\": \"0.15p\"}, {\"sim\": 17, \"count\": 3, \"fraction0\": 70.588, \"q\": \"0.15p\"}, {\"sim\": 17, \"count\": 1, \"fraction0\": 38.889, \"q\": \"0.15p\"}, {\"sim\": 17, \"count\": 2, \"fraction0\": 60.0, \"q\": \"0.15p\"}, {\"sim\": 17, \"count\": 4, \"fraction0\": 17.647, \"q\": \"0.15p\"}, {\"sim\": 17, \"count\": 1, \"fraction0\": 13.043, \"q\": \"0.15p\"}, {\"sim\": 17, \"count\": 1, \"fraction0\": 8.0, \"q\": \"0.15p\"}, {\"sim\": 17, \"count\": 2, \"fraction0\": 54.545, \"q\": \"0.15p\"}, {\"sim\": 17, \"count\": 1, \"fraction0\": 10.0, \"q\": \"0.15p\"}, {\"sim\": 17, \"count\": 1, \"fraction0\": 36.842, \"q\": \"0.15p\"}, {\"sim\": 17, \"count\": 1, \"fraction0\": 56.25, \"q\": \"0.15p\"}, {\"sim\": 17, \"count\": 2, \"fraction0\": 31.579, \"q\": \"0.15p\"}, {\"sim\": 17, \"count\": 4, \"fraction0\": 75.0, \"q\": \"0.15p\"}, {\"sim\": 17, \"count\": 2, \"fraction0\": 85.714, \"q\": \"0.15p\"}, {\"sim\": 17, \"count\": 1, \"fraction0\": 84.0, \"q\": \"0.15p\"}, {\"sim\": 17, \"count\": 2, \"fraction0\": 47.368, \"q\": \"0.15p\"}, {\"sim\": 17, \"count\": 1, \"fraction0\": 92.308, \"q\": \"0.15p\"}, {\"sim\": 17, \"count\": 1, \"fraction0\": 78.571, \"q\": \"0.15p\"}, {\"sim\": 17, \"count\": 2, \"fraction0\": 85.0, \"q\": \"0.15p\"}, {\"sim\": 17, \"count\": 2, \"fraction0\": 27.778, \"q\": \"0.15p\"}, {\"sim\": 17, \"count\": 2, \"fraction0\": 55.0, \"q\": \"0.15p\"}, {\"sim\": 17, \"count\": 2, \"fraction0\": 73.684, \"q\": \"0.15p\"}, {\"sim\": 17, \"count\": 1, \"fraction0\": 20.833, \"q\": \"0.15p\"}, {\"sim\": 17, \"count\": 3, \"fraction0\": 72.727, \"q\": \"0.15p\"}, {\"sim\": 17, \"count\": 3, \"fraction0\": 86.667, \"q\": \"0.15p\"}, {\"sim\": 17, \"count\": 4, \"fraction0\": 13.333, \"q\": \"0.15p\"}, {\"sim\": 17, \"count\": 2, \"fraction0\": 26.667, \"q\": \"0.15p\"}, {\"sim\": 17, \"count\": 1, \"fraction0\": 57.895, \"q\": \"0.15p\"}, {\"sim\": 17, \"count\": 6, \"fraction0\": 50.0, \"q\": \"0.15p\"}, {\"sim\": 17, \"count\": 1, \"fraction0\": 19.048, \"q\": \"0.15p\"}, {\"sim\": 17, \"count\": 1, \"fraction0\": 31.25, \"q\": \"0.15p\"}, {\"sim\": 17, \"count\": 2, \"fraction0\": 72.222, \"q\": \"0.15p\"}, {\"sim\": 17, \"count\": 1, \"fraction0\": 96.154, \"q\": \"0.15p\"}, {\"sim\": 17, \"count\": 3, \"fraction0\": 33.333, \"q\": \"0.15p\"}, {\"sim\": 17, \"count\": 2, \"fraction0\": 81.818, \"q\": \"0.15p\"}, {\"sim\": 17, \"count\": 3, \"fraction0\": 70.0, \"q\": \"0.15p\"}, {\"sim\": 17, \"count\": 2, \"fraction0\": 21.429, \"q\": \"0.15p\"}, {\"sim\": 17, \"count\": 1, \"fraction0\": 71.429, \"q\": \"0.15p\"}, {\"sim\": 17, \"count\": 3, \"fraction0\": 9.091, \"q\": \"0.15p\"}, {\"sim\": 17, \"count\": 3, \"fraction0\": 88.889, \"q\": \"0.15p\"}, {\"sim\": 17, \"count\": 1, \"fraction0\": 84.615, \"q\": \"0.15p\"}, {\"sim\": 17, \"count\": 1, \"fraction0\": 3.846, \"q\": \"0.15p\"}, {\"sim\": 17, \"count\": 2, \"fraction0\": 55.556, \"q\": \"0.15p\"}, {\"sim\": 17, \"count\": 2, \"fraction0\": 80.952, \"q\": \"0.15p\"}, {\"sim\": 17, \"count\": 2, \"fraction0\": 15.789, \"q\": \"0.15p\"}, {\"sim\": 17, \"count\": 1, \"fraction0\": 24.0, \"q\": \"0.15p\"}, {\"sim\": 17, \"count\": 1, \"fraction0\": 22.222, \"q\": \"0.15p\"}, {\"sim\": 17, \"count\": 1, \"fraction0\": 38.095, \"q\": \"0.15p\"}, {\"sim\": 17, \"count\": 1, \"fraction0\": 78.947, \"q\": \"0.15p\"}, {\"sim\": 17, \"count\": 2, \"fraction0\": 82.353, \"q\": \"0.15p\"}, {\"sim\": 17, \"count\": 2, \"fraction0\": 12.5, \"q\": \"0.15p\"}, {\"sim\": 17, \"count\": 2, \"fraction0\": 9.524, \"q\": \"0.15p\"}, {\"sim\": 17, \"count\": 1, \"fraction0\": 21.875, \"q\": \"0.15p\"}, {\"sim\": 17, \"count\": 1, \"fraction0\": 47.619, \"q\": \"0.15p\"}, {\"sim\": 17, \"count\": 4, \"fraction0\": 62.5, \"q\": \"0.15p\"}, {\"sim\": 17, \"count\": 2, \"fraction0\": 26.316, \"q\": \"0.15p\"}, {\"sim\": 17, \"count\": 1, \"fraction0\": 10.714, \"q\": \"0.15p\"}, {\"sim\": 17, \"count\": 1, \"fraction0\": 63.636, \"q\": \"0.15p\"}, {\"sim\": 17, \"count\": 1, \"fraction0\": 29.412, \"q\": \"0.15p\"}, {\"sim\": 17, \"count\": 2, \"fraction0\": 91.304, \"q\": \"0.15p\"}, {\"sim\": 17, \"count\": 1, \"fraction0\": 59.259, \"q\": \"0.15p\"}, {\"sim\": 17, \"count\": 1, \"fraction0\": 92.0, \"q\": \"0.15p\"}, {\"sim\": 17, \"count\": 2, \"fraction0\": 93.75, \"q\": \"0.15p\"}, {\"sim\": 17, \"count\": 1, \"fraction0\": 21.739, \"q\": \"0.15p\"}, {\"sim\": 17, \"count\": 1, \"fraction0\": 36.364, \"q\": \"0.15p\"}, {\"sim\": 17, \"count\": 4, \"fraction0\": 45.0, \"q\": \"0.15p\"}, {\"sim\": 17, \"count\": 1, \"fraction0\": 56.522, \"q\": \"0.15p\"}, {\"sim\": 17, \"count\": 1, \"fraction0\": 63.158, \"q\": \"0.15p\"}, {\"sim\": 17, \"count\": 2, \"fraction0\": 77.273, \"q\": \"0.15p\"}, {\"sim\": 17, \"count\": 1, \"fraction0\": 4.545, \"q\": \"0.15p\"}, {\"sim\": 17, \"count\": 1, \"fraction0\": 20.0, \"q\": \"0.15p\"}, {\"sim\": 17, \"count\": 1, \"fraction0\": 39.13, \"q\": \"0.15p\"}, {\"sim\": 17, \"count\": 1, \"fraction0\": 80.0, \"q\": \"0.15p\"}, {\"sim\": 17, \"count\": 1, \"fraction0\": 76.471, \"q\": \"0.15p\"}, {\"sim\": 17, \"count\": 1, \"fraction0\": 8.696, \"q\": \"0.15p\"}, {\"sim\": 17, \"count\": 2, \"fraction0\": 87.5, \"q\": \"0.15p\"}, {\"sim\": 17, \"count\": 2, \"fraction0\": 90.0, \"q\": \"0.15p\"}, {\"sim\": 17, \"count\": 2, \"fraction0\": 5.0, \"q\": \"0.15p\"}, {\"sim\": 17, \"count\": 1, \"fraction0\": 61.538, \"q\": \"0.15p\"}, {\"sim\": 17, \"count\": 2, \"fraction0\": 7.692, \"q\": \"0.15p\"}, {\"sim\": 17, \"count\": 2, \"fraction0\": 95.238, \"q\": \"0.15p\"}, {\"sim\": 17, \"count\": 1, \"fraction0\": 58.333, \"q\": \"0.15p\"}, {\"sim\": 17, \"count\": 1, \"fraction0\": 46.154, \"q\": \"0.15p\"}, {\"sim\": 17, \"count\": 2, \"fraction0\": 38.462, \"q\": \"0.15p\"}, {\"sim\": 17, \"count\": 1, \"fraction0\": 30.0, \"q\": \"0.15p\"}, {\"sim\": 17, \"count\": 1, \"fraction0\": 44.0, \"q\": \"0.15p\"}, {\"sim\": 17, \"count\": 2, \"fraction0\": 90.909, \"q\": \"0.15p\"}, {\"sim\": 17, \"count\": 1, \"fraction0\": 53.333, \"q\": \"0.15p\"}, {\"sim\": 17, \"count\": 1, \"fraction0\": 15.385, \"q\": \"0.15p\"}, {\"sim\": 17, \"count\": 1, \"fraction0\": 21.053, \"q\": \"0.15p\"}, {\"sim\": 17, \"count\": 1, \"fraction0\": 4.762, \"q\": \"0.15p\"}, {\"sim\": 17, \"count\": 1, \"fraction0\": 68.75, \"q\": \"0.15p\"}, {\"sim\": 17, \"count\": 2, \"fraction0\": 84.211, \"q\": \"0.15p\"}, {\"sim\": 17, \"count\": 1, \"fraction0\": 95.0, \"q\": \"0.15p\"}, {\"sim\": 17, \"count\": 1, \"fraction0\": 52.941, \"q\": \"0.15p\"}, {\"sim\": 17, \"count\": 1, \"fraction0\": 5.882, \"q\": \"0.15p\"}, {\"sim\": 17, \"count\": 1, \"fraction0\": 94.737, \"q\": \"0.15p\"}, {\"sim\": 17, \"count\": 1, \"fraction0\": 5.556, \"q\": \"0.15p\"}, {\"sim\": 17, \"count\": 1, \"fraction0\": 43.75, \"q\": \"0.15p\"}, {\"sim\": 17, \"count\": 1, \"fraction0\": 17.391, \"q\": \"0.15p\"}, {\"sim\": 17, \"count\": 1, \"fraction0\": 26.087, \"q\": \"0.15p\"}, {\"sim\": 17, \"count\": 1, \"fraction0\": 3.704, \"q\": \"0.15p\"}, {\"sim\": 18, \"count\": 1, \"fraction0\": 78.947, \"q\": \"0.1p\"}, {\"sim\": 18, \"count\": 5, \"fraction0\": 10.526, \"q\": \"0.1p\"}, {\"sim\": 18, \"count\": 4, \"fraction0\": 80.0, \"q\": \"0.1p\"}, {\"sim\": 18, \"count\": 34, \"fraction0\": 100.0, \"q\": \"0.1p\"}, {\"sim\": 18, \"count\": 27, \"fraction0\": 0.0, \"q\": \"0.1p\"}, {\"sim\": 18, \"count\": 1, \"fraction0\": 9.091, \"q\": \"0.1p\"}, {\"sim\": 18, \"count\": 5, \"fraction0\": 66.667, \"q\": \"0.1p\"}, {\"sim\": 18, \"count\": 3, \"fraction0\": 90.0, \"q\": \"0.1p\"}, {\"sim\": 18, \"count\": 3, \"fraction0\": 93.333, \"q\": \"0.1p\"}, {\"sim\": 18, \"count\": 2, \"fraction0\": 68.182, \"q\": \"0.1p\"}, {\"sim\": 18, \"count\": 1, \"fraction0\": 9.524, \"q\": \"0.1p\"}, {\"sim\": 18, \"count\": 2, \"fraction0\": 6.25, \"q\": \"0.1p\"}, {\"sim\": 18, \"count\": 2, \"fraction0\": 18.182, \"q\": \"0.1p\"}, {\"sim\": 18, \"count\": 3, \"fraction0\": 94.737, \"q\": \"0.1p\"}, {\"sim\": 18, \"count\": 2, \"fraction0\": 95.238, \"q\": \"0.1p\"}, {\"sim\": 18, \"count\": 4, \"fraction0\": 7.143, \"q\": \"0.1p\"}, {\"sim\": 18, \"count\": 1, \"fraction0\": 63.158, \"q\": \"0.1p\"}, {\"sim\": 18, \"count\": 1, \"fraction0\": 45.833, \"q\": \"0.1p\"}, {\"sim\": 18, \"count\": 1, \"fraction0\": 45.455, \"q\": \"0.1p\"}, {\"sim\": 18, \"count\": 2, \"fraction0\": 94.444, \"q\": \"0.1p\"}, {\"sim\": 18, \"count\": 2, \"fraction0\": 4.762, \"q\": \"0.1p\"}, {\"sim\": 18, \"count\": 1, \"fraction0\": 42.857, \"q\": \"0.1p\"}, {\"sim\": 18, \"count\": 1, \"fraction0\": 37.5, \"q\": \"0.1p\"}, {\"sim\": 18, \"count\": 2, \"fraction0\": 36.842, \"q\": \"0.1p\"}, {\"sim\": 18, \"count\": 1, \"fraction0\": 22.222, \"q\": \"0.1p\"}, {\"sim\": 18, \"count\": 1, \"fraction0\": 60.87, \"q\": \"0.1p\"}, {\"sim\": 18, \"count\": 4, \"fraction0\": 53.846, \"q\": \"0.1p\"}, {\"sim\": 18, \"count\": 2, \"fraction0\": 85.714, \"q\": \"0.1p\"}, {\"sim\": 18, \"count\": 2, \"fraction0\": 76.0, \"q\": \"0.1p\"}, {\"sim\": 18, \"count\": 1, \"fraction0\": 84.615, \"q\": \"0.1p\"}, {\"sim\": 18, \"count\": 1, \"fraction0\": 64.286, \"q\": \"0.1p\"}, {\"sim\": 18, \"count\": 3, \"fraction0\": 73.333, \"q\": \"0.1p\"}, {\"sim\": 18, \"count\": 1, \"fraction0\": 77.778, \"q\": \"0.1p\"}, {\"sim\": 18, \"count\": 1, \"fraction0\": 38.889, \"q\": \"0.1p\"}, {\"sim\": 18, \"count\": 1, \"fraction0\": 55.0, \"q\": \"0.1p\"}, {\"sim\": 18, \"count\": 2, \"fraction0\": 58.333, \"q\": \"0.1p\"}, {\"sim\": 18, \"count\": 4, \"fraction0\": 93.75, \"q\": \"0.1p\"}, {\"sim\": 18, \"count\": 3, \"fraction0\": 92.308, \"q\": \"0.1p\"}, {\"sim\": 18, \"count\": 2, \"fraction0\": 79.167, \"q\": \"0.1p\"}, {\"sim\": 18, \"count\": 5, \"fraction0\": 50.0, \"q\": \"0.1p\"}, {\"sim\": 18, \"count\": 3, \"fraction0\": 92.857, \"q\": \"0.1p\"}, {\"sim\": 18, \"count\": 1, \"fraction0\": 89.286, \"q\": \"0.1p\"}, {\"sim\": 18, \"count\": 1, \"fraction0\": 76.923, \"q\": \"0.1p\"}, {\"sim\": 18, \"count\": 3, \"fraction0\": 94.118, \"q\": \"0.1p\"}, {\"sim\": 18, \"count\": 2, \"fraction0\": 69.565, \"q\": \"0.1p\"}, {\"sim\": 18, \"count\": 5, \"fraction0\": 27.778, \"q\": \"0.1p\"}, {\"sim\": 18, \"count\": 1, \"fraction0\": 27.273, \"q\": \"0.1p\"}, {\"sim\": 18, \"count\": 1, \"fraction0\": 56.0, \"q\": \"0.1p\"}, {\"sim\": 18, \"count\": 1, \"fraction0\": 22.727, \"q\": \"0.1p\"}, {\"sim\": 18, \"count\": 2, \"fraction0\": 60.0, \"q\": \"0.1p\"}, {\"sim\": 18, \"count\": 2, \"fraction0\": 8.696, \"q\": \"0.1p\"}, {\"sim\": 18, \"count\": 2, \"fraction0\": 41.176, \"q\": \"0.1p\"}, {\"sim\": 18, \"count\": 2, \"fraction0\": 84.211, \"q\": \"0.1p\"}, {\"sim\": 18, \"count\": 2, \"fraction0\": 43.75, \"q\": \"0.1p\"}, {\"sim\": 18, \"count\": 1, \"fraction0\": 88.235, \"q\": \"0.1p\"}, {\"sim\": 18, \"count\": 1, \"fraction0\": 7.692, \"q\": \"0.1p\"}, {\"sim\": 18, \"count\": 1, \"fraction0\": 6.667, \"q\": \"0.1p\"}, {\"sim\": 18, \"count\": 1, \"fraction0\": 68.75, \"q\": \"0.1p\"}, {\"sim\": 18, \"count\": 1, \"fraction0\": 15.789, \"q\": \"0.1p\"}, {\"sim\": 18, \"count\": 1, \"fraction0\": 63.636, \"q\": \"0.1p\"}, {\"sim\": 18, \"count\": 2, \"fraction0\": 14.286, \"q\": \"0.1p\"}, {\"sim\": 18, \"count\": 1, \"fraction0\": 15.0, \"q\": \"0.1p\"}, {\"sim\": 18, \"count\": 1, \"fraction0\": 70.0, \"q\": \"0.1p\"}, {\"sim\": 18, \"count\": 2, \"fraction0\": 16.667, \"q\": \"0.1p\"}, {\"sim\": 18, \"count\": 1, \"fraction0\": 11.765, \"q\": \"0.1p\"}, {\"sim\": 18, \"count\": 1, \"fraction0\": 57.895, \"q\": \"0.1p\"}, {\"sim\": 18, \"count\": 1, \"fraction0\": 61.111, \"q\": \"0.1p\"}, {\"sim\": 18, \"count\": 1, \"fraction0\": 95.0, \"q\": \"0.1p\"}, {\"sim\": 18, \"count\": 1, \"fraction0\": 28.0, \"q\": \"0.1p\"}, {\"sim\": 18, \"count\": 1, \"fraction0\": 25.0, \"q\": \"0.1p\"}, {\"sim\": 18, \"count\": 1, \"fraction0\": 31.818, \"q\": \"0.1p\"}, {\"sim\": 18, \"count\": 3, \"fraction0\": 33.333, \"q\": \"0.1p\"}, {\"sim\": 18, \"count\": 2, \"fraction0\": 26.316, \"q\": \"0.1p\"}, {\"sim\": 18, \"count\": 3, \"fraction0\": 5.263, \"q\": \"0.1p\"}, {\"sim\": 18, \"count\": 2, \"fraction0\": 61.905, \"q\": \"0.1p\"}, {\"sim\": 18, \"count\": 2, \"fraction0\": 87.5, \"q\": \"0.1p\"}, {\"sim\": 18, \"count\": 3, \"fraction0\": 11.111, \"q\": \"0.1p\"}, {\"sim\": 18, \"count\": 1, \"fraction0\": 20.0, \"q\": \"0.1p\"}, {\"sim\": 18, \"count\": 3, \"fraction0\": 4.348, \"q\": \"0.1p\"}, {\"sim\": 18, \"count\": 1, \"fraction0\": 76.471, \"q\": \"0.1p\"}, {\"sim\": 18, \"count\": 1, \"fraction0\": 86.667, \"q\": \"0.1p\"}, {\"sim\": 18, \"count\": 1, \"fraction0\": 46.429, \"q\": \"0.1p\"}, {\"sim\": 18, \"count\": 1, \"fraction0\": 72.222, \"q\": \"0.1p\"}, {\"sim\": 18, \"count\": 2, \"fraction0\": 36.364, \"q\": \"0.1p\"}, {\"sim\": 18, \"count\": 1, \"fraction0\": 56.25, \"q\": \"0.1p\"}, {\"sim\": 18, \"count\": 1, \"fraction0\": 83.333, \"q\": \"0.1p\"}, {\"sim\": 18, \"count\": 2, \"fraction0\": 90.476, \"q\": \"0.1p\"}, {\"sim\": 18, \"count\": 2, \"fraction0\": 12.5, \"q\": \"0.1p\"}, {\"sim\": 18, \"count\": 1, \"fraction0\": 18.75, \"q\": \"0.1p\"}, {\"sim\": 18, \"count\": 1, \"fraction0\": 54.167, \"q\": \"0.1p\"}, {\"sim\": 18, \"count\": 1, \"fraction0\": 71.429, \"q\": \"0.1p\"}, {\"sim\": 18, \"count\": 2, \"fraction0\": 5.556, \"q\": \"0.1p\"}, {\"sim\": 18, \"count\": 1, \"fraction0\": 47.368, \"q\": \"0.1p\"}, {\"sim\": 18, \"count\": 2, \"fraction0\": 88.889, \"q\": \"0.1p\"}, {\"sim\": 18, \"count\": 1, \"fraction0\": 59.091, \"q\": \"0.1p\"}, {\"sim\": 18, \"count\": 1, \"fraction0\": 52.941, \"q\": \"0.1p\"}, {\"sim\": 18, \"count\": 1, \"fraction0\": 29.412, \"q\": \"0.1p\"}, {\"sim\": 18, \"count\": 1, \"fraction0\": 35.0, \"q\": \"0.1p\"}, {\"sim\": 18, \"count\": 1, \"fraction0\": 90.909, \"q\": \"0.1p\"}, {\"sim\": 18, \"count\": 1, \"fraction0\": 75.0, \"q\": \"0.1p\"}, {\"sim\": 18, \"count\": 1, \"fraction0\": 5.882, \"q\": \"0.1p\"}, {\"sim\": 18, \"count\": 1, \"fraction0\": 15.385, \"q\": \"0.1p\"}, {\"sim\": 18, \"count\": 1, \"fraction0\": 44.444, \"q\": \"0.1p\"}, {\"sim\": 18, \"count\": 1, \"fraction0\": 39.13, \"q\": \"0.1p\"}, {\"sim\": 18, \"count\": 1, \"fraction0\": 42.105, \"q\": \"0.1p\"}, {\"sim\": 18, \"count\": 1, \"fraction0\": 81.818, \"q\": \"0.1p\"}, {\"sim\": 18, \"count\": 1, \"fraction0\": 30.0, \"q\": \"0.1p\"}, {\"sim\": 18, \"count\": 1, \"fraction0\": 30.435, \"q\": \"0.1p\"}, {\"sim\": 18, \"count\": 1, \"fraction0\": 5.0, \"q\": \"0.1p\"}, {\"sim\": 18, \"count\": 1, \"fraction0\": 95.833, \"q\": \"0.1p\"}, {\"sim\": 18, \"count\": 1, \"fraction0\": 80.952, \"q\": \"0.1p\"}, {\"sim\": 18, \"count\": 1, \"fraction0\": 40.0, \"q\": \"0.1p\"}, {\"sim\": 18, \"count\": 1, \"fraction0\": 91.667, \"q\": \"0.1p\"}, {\"sim\": 18, \"count\": 1, \"fraction0\": 73.684, \"q\": \"0.1p\"}, {\"sim\": 19, \"count\": 1, \"fraction0\": 38.095, \"q\": \"0.05p\"}, {\"sim\": 19, \"count\": 1, \"fraction0\": 61.538, \"q\": \"0.05p\"}, {\"sim\": 19, \"count\": 59, \"fraction0\": 100.0, \"q\": \"0.05p\"}, {\"sim\": 19, \"count\": 1, \"fraction0\": 55.0, \"q\": \"0.05p\"}, {\"sim\": 19, \"count\": 3, \"fraction0\": 12.5, \"q\": \"0.05p\"}, {\"sim\": 19, \"count\": 1, \"fraction0\": 90.476, \"q\": \"0.05p\"}, {\"sim\": 19, \"count\": 51, \"fraction0\": 0.0, \"q\": \"0.05p\"}, {\"sim\": 19, \"count\": 5, \"fraction0\": 93.75, \"q\": \"0.05p\"}, {\"sim\": 19, \"count\": 1, \"fraction0\": 11.765, \"q\": \"0.05p\"}, {\"sim\": 19, \"count\": 2, \"fraction0\": 46.154, \"q\": \"0.05p\"}, {\"sim\": 19, \"count\": 5, \"fraction0\": 6.25, \"q\": \"0.05p\"}, {\"sim\": 19, \"count\": 2, \"fraction0\": 84.615, \"q\": \"0.05p\"}, {\"sim\": 19, \"count\": 4, \"fraction0\": 16.667, \"q\": \"0.05p\"}, {\"sim\": 19, \"count\": 1, \"fraction0\": 36.842, \"q\": \"0.05p\"}, {\"sim\": 19, \"count\": 3, \"fraction0\": 25.0, \"q\": \"0.05p\"}, {\"sim\": 19, \"count\": 2, \"fraction0\": 15.789, \"q\": \"0.05p\"}, {\"sim\": 19, \"count\": 2, \"fraction0\": 4.348, \"q\": \"0.05p\"}, {\"sim\": 19, \"count\": 2, \"fraction0\": 91.667, \"q\": \"0.05p\"}, {\"sim\": 19, \"count\": 4, \"fraction0\": 87.5, \"q\": \"0.05p\"}, {\"sim\": 19, \"count\": 2, \"fraction0\": 60.0, \"q\": \"0.05p\"}, {\"sim\": 19, \"count\": 3, \"fraction0\": 11.111, \"q\": \"0.05p\"}, {\"sim\": 19, \"count\": 4, \"fraction0\": 5.263, \"q\": \"0.05p\"}, {\"sim\": 19, \"count\": 1, \"fraction0\": 5.556, \"q\": \"0.05p\"}, {\"sim\": 19, \"count\": 2, \"fraction0\": 85.714, \"q\": \"0.05p\"}, {\"sim\": 19, \"count\": 2, \"fraction0\": 90.0, \"q\": \"0.05p\"}, {\"sim\": 19, \"count\": 1, \"fraction0\": 77.273, \"q\": \"0.05p\"}, {\"sim\": 19, \"count\": 3, \"fraction0\": 5.0, \"q\": \"0.05p\"}, {\"sim\": 19, \"count\": 1, \"fraction0\": 78.947, \"q\": \"0.05p\"}, {\"sim\": 19, \"count\": 1, \"fraction0\": 90.909, \"q\": \"0.05p\"}, {\"sim\": 19, \"count\": 1, \"fraction0\": 7.143, \"q\": \"0.05p\"}, {\"sim\": 19, \"count\": 1, \"fraction0\": 95.455, \"q\": \"0.05p\"}, {\"sim\": 19, \"count\": 1, \"fraction0\": 89.474, \"q\": \"0.05p\"}, {\"sim\": 19, \"count\": 1, \"fraction0\": 8.696, \"q\": \"0.05p\"}, {\"sim\": 19, \"count\": 1, \"fraction0\": 52.632, \"q\": \"0.05p\"}, {\"sim\": 19, \"count\": 2, \"fraction0\": 66.667, \"q\": \"0.05p\"}, {\"sim\": 19, \"count\": 1, \"fraction0\": 88.0, \"q\": \"0.05p\"}, {\"sim\": 19, \"count\": 1, \"fraction0\": 52.0, \"q\": \"0.05p\"}, {\"sim\": 19, \"count\": 3, \"fraction0\": 14.286, \"q\": \"0.05p\"}, {\"sim\": 19, \"count\": 3, \"fraction0\": 4.762, \"q\": \"0.05p\"}, {\"sim\": 19, \"count\": 1, \"fraction0\": 15.0, \"q\": \"0.05p\"}, {\"sim\": 19, \"count\": 4, \"fraction0\": 93.333, \"q\": \"0.05p\"}, {\"sim\": 19, \"count\": 3, \"fraction0\": 83.333, \"q\": \"0.05p\"}, {\"sim\": 19, \"count\": 1, \"fraction0\": 13.043, \"q\": \"0.05p\"}, {\"sim\": 19, \"count\": 1, \"fraction0\": 58.824, \"q\": \"0.05p\"}, {\"sim\": 19, \"count\": 1, \"fraction0\": 84.211, \"q\": \"0.05p\"}, {\"sim\": 19, \"count\": 1, \"fraction0\": 10.0, \"q\": \"0.05p\"}, {\"sim\": 19, \"count\": 1, \"fraction0\": 63.636, \"q\": \"0.05p\"}, {\"sim\": 19, \"count\": 1, \"fraction0\": 8.333, \"q\": \"0.05p\"}, {\"sim\": 19, \"count\": 2, \"fraction0\": 76.923, \"q\": \"0.05p\"}, {\"sim\": 19, \"count\": 2, \"fraction0\": 92.857, \"q\": \"0.05p\"}, {\"sim\": 19, \"count\": 1, \"fraction0\": 3.704, \"q\": \"0.05p\"}, {\"sim\": 19, \"count\": 1, \"fraction0\": 13.333, \"q\": \"0.05p\"}, {\"sim\": 19, \"count\": 1, \"fraction0\": 29.412, \"q\": \"0.05p\"}, {\"sim\": 19, \"count\": 2, \"fraction0\": 6.667, \"q\": \"0.05p\"}, {\"sim\": 19, \"count\": 1, \"fraction0\": 54.545, \"q\": \"0.05p\"}, {\"sim\": 19, \"count\": 2, \"fraction0\": 7.692, \"q\": \"0.05p\"}, {\"sim\": 19, \"count\": 3, \"fraction0\": 94.737, \"q\": \"0.05p\"}, {\"sim\": 19, \"count\": 1, \"fraction0\": 95.0, \"q\": \"0.05p\"}, {\"sim\": 19, \"count\": 2, \"fraction0\": 88.889, \"q\": \"0.05p\"}, {\"sim\": 19, \"count\": 2, \"fraction0\": 75.0, \"q\": \"0.05p\"}, {\"sim\": 19, \"count\": 1, \"fraction0\": 86.364, \"q\": \"0.05p\"}, {\"sim\": 19, \"count\": 3, \"fraction0\": 94.118, \"q\": \"0.05p\"}, {\"sim\": 19, \"count\": 3, \"fraction0\": 4.545, \"q\": \"0.05p\"}, {\"sim\": 19, \"count\": 2, \"fraction0\": 26.316, \"q\": \"0.05p\"}, {\"sim\": 19, \"count\": 3, \"fraction0\": 5.882, \"q\": \"0.05p\"}, {\"sim\": 19, \"count\": 1, \"fraction0\": 76.0, \"q\": \"0.05p\"}, {\"sim\": 19, \"count\": 1, \"fraction0\": 94.444, \"q\": \"0.05p\"}, {\"sim\": 19, \"count\": 1, \"fraction0\": 36.364, \"q\": \"0.05p\"}, {\"sim\": 19, \"count\": 1, \"fraction0\": 81.818, \"q\": \"0.05p\"}, {\"sim\": 19, \"count\": 2, \"fraction0\": 68.75, \"q\": \"0.05p\"}, {\"sim\": 19, \"count\": 1, \"fraction0\": 70.588, \"q\": \"0.05p\"}, {\"sim\": 19, \"count\": 1, \"fraction0\": 45.0, \"q\": \"0.05p\"}, {\"sim\": 19, \"count\": 1, \"fraction0\": 86.667, \"q\": \"0.05p\"}, {\"sim\": 19, \"count\": 1, \"fraction0\": 4.0, \"q\": \"0.05p\"}, {\"sim\": 19, \"count\": 1, \"fraction0\": 15.385, \"q\": \"0.05p\"}, {\"sim\": 19, \"count\": 1, \"fraction0\": 9.091, \"q\": \"0.05p\"}, {\"sim\": 19, \"count\": 1, \"fraction0\": 27.778, \"q\": \"0.05p\"}, {\"sim\": 19, \"count\": 1, \"fraction0\": 8.0, \"q\": \"0.05p\"}, {\"sim\": 19, \"count\": 1, \"fraction0\": 37.5, \"q\": \"0.05p\"}, {\"sim\": 19, \"count\": 1, \"fraction0\": 65.0, \"q\": \"0.05p\"}, {\"sim\": 19, \"count\": 1, \"fraction0\": 43.75, \"q\": \"0.05p\"}, {\"sim\": 19, \"count\": 1, \"fraction0\": 50.0, \"q\": \"0.05p\"}, {\"sim\": 19, \"count\": 1, \"fraction0\": 28.571, \"q\": \"0.05p\"}, {\"sim\": 20, \"count\": 135, \"fraction0\": 100.0, \"q\": \"0.0p\"}, {\"sim\": 20, \"count\": 115, \"fraction0\": 0.0, \"q\": \"0.0p\"}]}}, {\"mode\": \"vega-lite\"});\n",
       "</script>"
      ],
      "text/plain": [
       "alt.Chart(...)"
      ]
     },
     "execution_count": 37,
     "metadata": {},
     "output_type": "execute_result"
    }
   ],
   "source": [
    "alt.Chart(df_fraction).mark_bar().encode(\n",
    "    x=alt.X('q:O', sort=q_frac_order),\n",
    "    y=alt.Y('count'),\n",
    "    color=alt.Color('fraction0').scale(scheme=\"lightgreyteal\"),\n",
    "    order=alt.Order(\n",
    "      # Sort the segments of the bars by this field\n",
    "      'fraction0',\n",
    "      sort='descending'\n",
    "    )\n",
    "    # scale = alt.Scale(domain=['mixed', \"pure\"], range=['#9ebcda', '#e0ecf4']))\n",
    ").properties(\n",
    "    width=800,\n",
    "    height=300\n",
    ")"
   ]
  },
  {
   "cell_type": "code",
   "execution_count": 38,
   "id": "2c919374-893f-4143-9286-43dacd90d360",
   "metadata": {},
   "outputs": [],
   "source": [
    "# Tracer la meme chose avec des histogrammes (+ nouvelle quantité) (pour quelques valuers de q, une proche de 0, de p, et vers 0.4)\n",
    "# Regarder la fraction moyenne, variance (max(n1, n2) / n1 + n2), a moyenne sur l'ensemble des hyperliens. à tracer sur q\n",
    "\n",
    "# Calculer le GINI pour ncom = 4 ?"
   ]
  },
  {
   "cell_type": "code",
   "execution_count": 39,
   "id": "f58a39ba-f89c-4906-bf0d-1bd5a99c5f79",
   "metadata": {},
   "outputs": [],
   "source": [
    "points = alt.Chart(df_peff).mark_point().encode(\n",
    "    x=alt.X('q', sort=q_frac_order),\n",
    "    # x=alt.X('q', sort=q_frac_order, axis=alt.Axis(labelExpr=q_frac_order)),\n",
    "    y=alt.Y('peff', title=\"p_eff\"),\n",
    ").properties(\n",
    "    width=800,\n",
    "    height=300\n",
    ")"
   ]
  },
  {
   "cell_type": "code",
   "execution_count": 40,
   "id": "45b375da-2f25-4294-a2d1-fd1d798ce088",
   "metadata": {},
   "outputs": [],
   "source": [
    "regresssion = points.transform_regression('q', 'peff', method=\"poly\").mark_line(color=\"black\")"
   ]
  },
  {
   "cell_type": "code",
   "execution_count": 41,
   "id": "64c4a344-3d48-4a7a-ba48-d56835f494e3",
   "metadata": {},
   "outputs": [],
   "source": [
    "line = alt.Chart(pd.DataFrame({'y': [p]})).mark_rule().encode(y='y')"
   ]
  },
  {
   "cell_type": "code",
   "execution_count": 42,
   "id": "33eb8ac3-10c4-4301-9c59-fb6fef6d595e",
   "metadata": {},
   "outputs": [
    {
     "data": {
      "text/html": [
       "\n",
       "<style>\n",
       "  #altair-viz-783d302dd9c2421fa4b54a12e8a2ed3e.vega-embed {\n",
       "    width: 100%;\n",
       "    display: flex;\n",
       "  }\n",
       "\n",
       "  #altair-viz-783d302dd9c2421fa4b54a12e8a2ed3e.vega-embed details,\n",
       "  #altair-viz-783d302dd9c2421fa4b54a12e8a2ed3e.vega-embed details summary {\n",
       "    position: relative;\n",
       "  }\n",
       "</style>\n",
       "<div id=\"altair-viz-783d302dd9c2421fa4b54a12e8a2ed3e\"></div>\n",
       "<script type=\"text/javascript\">\n",
       "  var VEGA_DEBUG = (typeof VEGA_DEBUG == \"undefined\") ? {} : VEGA_DEBUG;\n",
       "  (function(spec, embedOpt){\n",
       "    let outputDiv = document.currentScript.previousElementSibling;\n",
       "    if (outputDiv.id !== \"altair-viz-783d302dd9c2421fa4b54a12e8a2ed3e\") {\n",
       "      outputDiv = document.getElementById(\"altair-viz-783d302dd9c2421fa4b54a12e8a2ed3e\");\n",
       "    }\n",
       "    const paths = {\n",
       "      \"vega\": \"https://cdn.jsdelivr.net/npm/vega@5?noext\",\n",
       "      \"vega-lib\": \"https://cdn.jsdelivr.net/npm/vega-lib?noext\",\n",
       "      \"vega-lite\": \"https://cdn.jsdelivr.net/npm/vega-lite@5.14.1?noext\",\n",
       "      \"vega-embed\": \"https://cdn.jsdelivr.net/npm/vega-embed@6?noext\",\n",
       "    };\n",
       "\n",
       "    function maybeLoadScript(lib, version) {\n",
       "      var key = `${lib.replace(\"-\", \"\")}_version`;\n",
       "      return (VEGA_DEBUG[key] == version) ?\n",
       "        Promise.resolve(paths[lib]) :\n",
       "        new Promise(function(resolve, reject) {\n",
       "          var s = document.createElement('script');\n",
       "          document.getElementsByTagName(\"head\")[0].appendChild(s);\n",
       "          s.async = true;\n",
       "          s.onload = () => {\n",
       "            VEGA_DEBUG[key] = version;\n",
       "            return resolve(paths[lib]);\n",
       "          };\n",
       "          s.onerror = () => reject(`Error loading script: ${paths[lib]}`);\n",
       "          s.src = paths[lib];\n",
       "        });\n",
       "    }\n",
       "\n",
       "    function showError(err) {\n",
       "      outputDiv.innerHTML = `<div class=\"error\" style=\"color:red;\">${err}</div>`;\n",
       "      throw err;\n",
       "    }\n",
       "\n",
       "    function displayChart(vegaEmbed) {\n",
       "      vegaEmbed(outputDiv, spec, embedOpt)\n",
       "        .catch(err => showError(`Javascript Error: ${err.message}<br>This usually means there's a typo in your chart specification. See the javascript console for the full traceback.`));\n",
       "    }\n",
       "\n",
       "    if(typeof define === \"function\" && define.amd) {\n",
       "      requirejs.config({paths});\n",
       "      require([\"vega-embed\"], displayChart, err => showError(`Error loading script: ${err.message}`));\n",
       "    } else {\n",
       "      maybeLoadScript(\"vega\", \"5\")\n",
       "        .then(() => maybeLoadScript(\"vega-lite\", \"5.14.1\"))\n",
       "        .then(() => maybeLoadScript(\"vega-embed\", \"6\"))\n",
       "        .catch(showError)\n",
       "        .then(() => displayChart(vegaEmbed));\n",
       "    }\n",
       "  })({\"config\": {\"view\": {\"continuousWidth\": 300, \"continuousHeight\": 300}}, \"layer\": [{\"data\": {\"name\": \"data-e8bb3bd593e8a282997e625070149cdd\"}, \"mark\": {\"type\": \"point\"}, \"encoding\": {\"x\": {\"field\": \"q\", \"sort\": [\"1.0p\", \"0.95p\", \"0.9p\", \"0.85p\", \"0.8p\", \"0.75p\", \"0.7p\", \"0.65p\", \"0.6p\", \"0.55p\", \"0.5p\", \"0.45p\", \"0.4p\", \"0.35p\", \"0.3p\", \"0.25p\", \"0.2p\", \"0.15p\", \"0.1p\", \"0.05p\", \"0.0p\"], \"type\": \"quantitative\"}, \"y\": {\"field\": \"peff\", \"title\": \"p_eff\", \"type\": \"quantitative\"}}}, {\"data\": {\"name\": \"data-9ba0be5c224f6e62be9b87f06c3730cf\"}, \"mark\": {\"type\": \"rule\"}, \"encoding\": {\"y\": {\"field\": \"y\", \"type\": \"quantitative\"}}}], \"height\": 300, \"width\": 800, \"$schema\": \"https://vega.github.io/schema/vega-lite/v5.14.1.json\", \"datasets\": {\"data-e8bb3bd593e8a282997e625070149cdd\": [{\"peff\": 0.06, \"p\": 0.06, \"q\": 0.06, \"q_frac\": \"1.0p\"}, {\"peff\": 0.06, \"p\": 0.06, \"q\": 0.057, \"q_frac\": \"0.95p\"}, {\"peff\": 0.05946773661976095, \"p\": 0.06, \"q\": 0.054, \"q_frac\": \"0.9p\"}, {\"peff\": 0.05999159155433155, \"p\": 0.06, \"q\": 0.051, \"q_frac\": \"0.85p\"}, {\"peff\": 0.05607999521166034, \"p\": 0.06, \"q\": 0.048, \"q_frac\": \"0.8p\"}, {\"peff\": 0.05701265333180108, \"p\": 0.06, \"q\": 0.045, \"q_frac\": \"0.75p\"}, {\"peff\": 0.05347153969013295, \"p\": 0.06, \"q\": 0.042, \"q_frac\": \"0.7p\"}, {\"peff\": 0.05939251994400712, \"p\": 0.06, \"q\": 0.039, \"q_frac\": \"0.65p\"}, {\"peff\": 0.05951428072512708, \"p\": 0.06, \"q\": 0.036, \"q_frac\": \"0.6p\"}, {\"peff\": 0.0491012096829753, \"p\": 0.06, \"q\": 0.033, \"q_frac\": \"0.55p\"}, {\"peff\": 0.059624364869775355, \"p\": 0.06, \"q\": 0.03, \"q_frac\": \"0.5p\"}, {\"peff\": 0.058822911745319825, \"p\": 0.06, \"q\": 0.027, \"q_frac\": \"0.45p\"}, {\"peff\": 0.04575832889312079, \"p\": 0.06, \"q\": 0.024, \"q_frac\": \"0.4p\"}, {\"peff\": 0.04177418855923958, \"p\": 0.06, \"q\": 0.021, \"q_frac\": \"0.35p\"}, {\"peff\": 0.05463829298821175, \"p\": 0.06, \"q\": 0.018, \"q_frac\": \"0.3p\"}, {\"peff\": 0.05954216357715737, \"p\": 0.06, \"q\": 0.015, \"q_frac\": \"0.25p\"}, {\"peff\": 0.0409004253119175, \"p\": 0.06, \"q\": 0.012, \"q_frac\": \"0.2p\"}, {\"peff\": 0.05785986757305381, \"p\": 0.06, \"q\": 0.009, \"q_frac\": \"0.15p\"}, {\"peff\": 0.046021271607311516, \"p\": 0.06, \"q\": 0.006, \"q_frac\": \"0.1p\"}, {\"peff\": 0.036835550554391853, \"p\": 0.06, \"q\": 0.003, \"q_frac\": \"0.05p\"}, {\"peff\": 0.03704716485317474, \"p\": 0.06, \"q\": 0.0, \"q_frac\": \"0.0p\"}], \"data-9ba0be5c224f6e62be9b87f06c3730cf\": [{\"y\": 0.06}]}}, {\"mode\": \"vega-lite\"});\n",
       "</script>"
      ],
      "text/plain": [
       "alt.LayerChart(...)"
      ]
     },
     "execution_count": 42,
     "metadata": {},
     "output_type": "execute_result"
    }
   ],
   "source": [
    "# points + regresssion + line\n",
    "# Pour plusieurs valeur de N\n",
    "points + line"
   ]
  },
  {
   "cell_type": "code",
   "execution_count": 43,
   "id": "b0fa8a66-2255-49ee-a646-4dbc03615332",
   "metadata": {},
   "outputs": [],
   "source": [
    "# Tracer peff / p, en fonction de q / p\n",
    "\n",
    "# Tracer Neff / N, en fonction de q / p\n",
    "# Tracer Eeff / N, en fonction de q / p\n",
    "\n",
    "\n",
    "# Plotter la distribution sous jacente pour certaines valeurs de q (à la milieu de la distrib, pour le plateau)\n",
    "# Essayer de visualiser l'erreur de peff et Neff"
   ]
  },
  {
   "cell_type": "code",
   "execution_count": null,
   "id": "d57401e1-ac52-464d-abf9-4b0e0a95040c",
   "metadata": {},
   "outputs": [],
   "source": []
  }
 ],
 "metadata": {
  "kernelspec": {
   "display_name": "Python 3 (ipykernel)",
   "language": "python",
   "name": "python3"
  },
  "language_info": {
   "codemirror_mode": {
    "name": "ipython",
    "version": 3
   },
   "file_extension": ".py",
   "mimetype": "text/x-python",
   "name": "python",
   "nbconvert_exporter": "python",
   "pygments_lexer": "ipython3",
   "version": "3.9.16"
  }
 },
 "nbformat": 4,
 "nbformat_minor": 5
}
